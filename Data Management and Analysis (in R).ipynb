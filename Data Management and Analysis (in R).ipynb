{
 "cells": [
  {
   "cell_type": "markdown",
   "metadata": {},
   "source": [
    "# Data Management and Analysis (in R)"
   ]
  },
  {
   "cell_type": "markdown",
   "metadata": {
    "slideshow": {
     "slide_type": "slide"
    }
   },
   "source": [
    "**M.Geo.336e: Digital Geoscience Seminar**"
   ]
  },
  {
   "cell_type": "markdown",
   "metadata": {},
   "source": [
    "**Anil Yildiz, Dr.sc.**"
   ]
  },
  {
   "cell_type": "markdown",
   "metadata": {},
   "source": [
    "<a href=\"mailto:anil.yildiz@uni-goettingen.de\">\n",
    "<img alt=\"ORCID logo\" src=\"https://cdn0.iconfinder.com/data/icons/small-n-flat/24/678088-enveloppe-letter-512.png\" width=\"16\" height=\"16\" /> anil.yildiz@uni-goettingen.de\n",
    "</a>\n",
    "<a href=\"https://www.anilyildiz.info\">\n",
    "<img alt=\"ORCID logo\" src=\"https://cdn0.iconfinder.com/data/icons/small-n-flat/24/678085-house-512.png\" width=\"16\" height=\"16\" /> anilyildiz.info\n",
    "</a>"
   ]
  },
  {
   "cell_type": "markdown",
   "metadata": {},
   "source": [
    "## Introduction"
   ]
  },
  {
   "cell_type": "markdown",
   "metadata": {},
   "source": [
    "<p>Download R 4.0.5 <a href=\"https://cran.r-project.org/\">\n",
    "<img alt=\"R logo\" src=\"https://www.r-project.org/logo/Rlogo.svg\" width=\"32\" height=\"32\" /></a></p>\n",
    "<p>Download RStudio <a href=\"https://www.rstudio.com/products/rstudio/download/#download\">\n",
    "<img alt=\"R logo\" src=\"https://www.rstudio.com/wp-content/uploads/2018/10/RStudio-Logo.svg\" width=64 /></a></p>"
   ]
  },
  {
   "cell_type": "markdown",
   "metadata": {},
   "source": [
    "## Basics"
   ]
  },
  {
   "cell_type": "markdown",
   "metadata": {},
   "source": [
    " <img src=\"https://ndownloader.figshare.com/files/27853281?private_link=56d4dd6c725ef9fcb979\" alt=\"Data formats in R\" width=\"600\" height=\"440\"> "
   ]
  },
  {
   "cell_type": "markdown",
   "metadata": {},
   "source": [
    "A *variable* contains one element. You can use the assign operator \"<-\" or equal sign \"=\" to assign an element to a variable."
   ]
  },
  {
   "cell_type": "code",
   "execution_count": 8,
   "metadata": {},
   "outputs": [
    {
     "data": {
      "text/html": [
       "1"
      ],
      "text/latex": [
       "1"
      ],
      "text/markdown": [
       "1"
      ],
      "text/plain": [
       "[1] 1"
      ]
     },
     "metadata": {},
     "output_type": "display_data"
    },
    {
     "data": {
      "text/html": [
       "'a'"
      ],
      "text/latex": [
       "'a'"
      ],
      "text/markdown": [
       "'a'"
      ],
      "text/plain": [
       "[1] \"a\""
      ]
     },
     "metadata": {},
     "output_type": "display_data"
    },
    {
     "data": {
      "text/html": [
       "TRUE"
      ],
      "text/latex": [
       "TRUE"
      ],
      "text/markdown": [
       "TRUE"
      ],
      "text/plain": [
       "[1] TRUE"
      ]
     },
     "metadata": {},
     "output_type": "display_data"
    }
   ],
   "source": [
    "var1 <- 1\n",
    "var2 = \"a\"\n",
    "var3 <- T\n",
    "var1\n",
    "var2\n",
    "var3"
   ]
  },
  {
   "cell_type": "markdown",
   "metadata": {},
   "source": [
    "A *vector* contains multiple elements in a single dimension. "
   ]
  },
  {
   "cell_type": "code",
   "execution_count": 9,
   "metadata": {},
   "outputs": [
    {
     "data": {
      "text/html": [
       "<ol class=list-inline>\n",
       "\t<li>'1'</li>\n",
       "\t<li>'a'</li>\n",
       "\t<li>'TRUE'</li>\n",
       "</ol>\n"
      ],
      "text/latex": [
       "\\begin{enumerate*}\n",
       "\\item '1'\n",
       "\\item 'a'\n",
       "\\item 'TRUE'\n",
       "\\end{enumerate*}\n"
      ],
      "text/markdown": [
       "1. '1'\n",
       "2. 'a'\n",
       "3. 'TRUE'\n",
       "\n",
       "\n"
      ],
      "text/plain": [
       "[1] \"1\"    \"a\"    \"TRUE\""
      ]
     },
     "metadata": {},
     "output_type": "display_data"
    },
    {
     "data": {
      "text/html": [
       "<ol class=list-inline>\n",
       "\t<li>1</li>\n",
       "\t<li>2</li>\n",
       "\t<li>3</li>\n",
       "</ol>\n"
      ],
      "text/latex": [
       "\\begin{enumerate*}\n",
       "\\item 1\n",
       "\\item 2\n",
       "\\item 3\n",
       "\\end{enumerate*}\n"
      ],
      "text/markdown": [
       "1. 1\n",
       "2. 2\n",
       "3. 3\n",
       "\n",
       "\n"
      ],
      "text/plain": [
       "[1] 1 2 3"
      ]
     },
     "metadata": {},
     "output_type": "display_data"
    }
   ],
   "source": [
    "vec1 <- c(var1,var2,var3)\n",
    "vec1\n",
    "vec2 <- c(1,2,3)\n",
    "vec2"
   ]
  },
  {
   "cell_type": "markdown",
   "metadata": {},
   "source": [
    "A *matrix* is a 2-dimensional data structure that contains multiple elements of a single type."
   ]
  },
  {
   "cell_type": "code",
   "execution_count": 10,
   "metadata": {},
   "outputs": [
    {
     "data": {
      "text/html": [
       "<table>\n",
       "<tbody>\n",
       "\t<tr><td>1</td><td>2</td><td>3</td></tr>\n",
       "\t<tr><td>4</td><td>5</td><td>6</td></tr>\n",
       "\t<tr><td>7</td><td>8</td><td>9</td></tr>\n",
       "</tbody>\n",
       "</table>\n"
      ],
      "text/latex": [
       "\\begin{tabular}{lll}\n",
       "\t 1 & 2 & 3\\\\\n",
       "\t 4 & 5 & 6\\\\\n",
       "\t 7 & 8 & 9\\\\\n",
       "\\end{tabular}\n"
      ],
      "text/markdown": [
       "\n",
       "| 1 | 2 | 3 |\n",
       "| 4 | 5 | 6 |\n",
       "| 7 | 8 | 9 |\n",
       "\n"
      ],
      "text/plain": [
       "     [,1] [,2] [,3]\n",
       "[1,] 1    2    3   \n",
       "[2,] 4    5    6   \n",
       "[3,] 7    8    9   "
      ]
     },
     "metadata": {},
     "output_type": "display_data"
    },
    {
     "data": {
      "text/html": [
       "<table>\n",
       "<tbody>\n",
       "\t<tr><td>a</td><td>b</td><td>c</td></tr>\n",
       "\t<tr><td>d</td><td>e</td><td>f</td></tr>\n",
       "\t<tr><td>g</td><td>h</td><td>i</td></tr>\n",
       "</tbody>\n",
       "</table>\n"
      ],
      "text/latex": [
       "\\begin{tabular}{lll}\n",
       "\t a & b & c\\\\\n",
       "\t d & e & f\\\\\n",
       "\t g & h & i\\\\\n",
       "\\end{tabular}\n"
      ],
      "text/markdown": [
       "\n",
       "| a | b | c |\n",
       "| d | e | f |\n",
       "| g | h | i |\n",
       "\n"
      ],
      "text/plain": [
       "     [,1] [,2] [,3]\n",
       "[1,] a    b    c   \n",
       "[2,] d    e    f   \n",
       "[3,] g    h    i   "
      ]
     },
     "metadata": {},
     "output_type": "display_data"
    }
   ],
   "source": [
    "mat1 <- matrix(seq(1,9,1),nrow=3,ncol=3,byrow=T)\n",
    "mat1\n",
    "mat2 <- matrix(letters[seq(1,9,1)],nrow=3,ncol=3,byrow=T)\n",
    "mat2"
   ]
  },
  {
   "cell_type": "markdown",
   "metadata": {},
   "source": [
    "A *data frame* is a 2-dimensional data structure that can contain multiple elements of various types."
   ]
  },
  {
   "cell_type": "code",
   "execution_count": 11,
   "metadata": {},
   "outputs": [
    {
     "data": {
      "text/html": [
       "<table>\n",
       "<thead><tr><th scope=col>col1</th><th scope=col>col2</th><th scope=col>col3</th></tr></thead>\n",
       "<tbody>\n",
       "\t<tr><td>1    </td><td>a    </td><td> TRUE</td></tr>\n",
       "\t<tr><td>4    </td><td>b    </td><td> TRUE</td></tr>\n",
       "\t<tr><td>7    </td><td>c    </td><td>FALSE</td></tr>\n",
       "</tbody>\n",
       "</table>\n"
      ],
      "text/latex": [
       "\\begin{tabular}{r|lll}\n",
       " col1 & col2 & col3\\\\\n",
       "\\hline\n",
       "\t 1     & a     &  TRUE\\\\\n",
       "\t 4     & b     &  TRUE\\\\\n",
       "\t 7     & c     & FALSE\\\\\n",
       "\\end{tabular}\n"
      ],
      "text/markdown": [
       "\n",
       "| col1 | col2 | col3 |\n",
       "|---|---|---|\n",
       "| 1     | a     |  TRUE |\n",
       "| 4     | b     |  TRUE |\n",
       "| 7     | c     | FALSE |\n",
       "\n"
      ],
      "text/plain": [
       "  col1 col2 col3 \n",
       "1 1    a     TRUE\n",
       "2 4    b     TRUE\n",
       "3 7    c    FALSE"
      ]
     },
     "metadata": {},
     "output_type": "display_data"
    },
    {
     "data": {
      "text/html": [
       "'numeric'"
      ],
      "text/latex": [
       "'numeric'"
      ],
      "text/markdown": [
       "'numeric'"
      ],
      "text/plain": [
       "[1] \"numeric\""
      ]
     },
     "metadata": {},
     "output_type": "display_data"
    },
    {
     "data": {
      "text/html": [
       "'factor'"
      ],
      "text/latex": [
       "'factor'"
      ],
      "text/markdown": [
       "'factor'"
      ],
      "text/plain": [
       "[1] \"factor\""
      ]
     },
     "metadata": {},
     "output_type": "display_data"
    },
    {
     "data": {
      "text/html": [
       "'logical'"
      ],
      "text/latex": [
       "'logical'"
      ],
      "text/markdown": [
       "'logical'"
      ],
      "text/plain": [
       "[1] \"logical\""
      ]
     },
     "metadata": {},
     "output_type": "display_data"
    }
   ],
   "source": [
    "df1 <- data.frame(col1=c(1,4,7),col2=c(\"a\",\"b\",\"c\"),col3=c(T,T,F))\n",
    "df1\n",
    "class(df1[,1])\n",
    "class(df1[,2])\n",
    "class(df1[,3])"
   ]
  },
  {
   "cell_type": "markdown",
   "metadata": {},
   "source": [
    "A *list* is a multi-dimensional data structure that can contain multiple structures of various types."
   ]
  },
  {
   "cell_type": "code",
   "execution_count": 12,
   "metadata": {},
   "outputs": [
    {
     "data": {
      "text/html": [
       "<dl>\n",
       "\t<dt>$l1</dt>\n",
       "\t\t<dd>1</dd>\n",
       "\t<dt>$l2</dt>\n",
       "\t\t<dd><ol class=list-inline>\n",
       "\t<li>'1'</li>\n",
       "\t<li>'a'</li>\n",
       "\t<li>'TRUE'</li>\n",
       "</ol>\n",
       "</dd>\n",
       "\t<dt>$l3</dt>\n",
       "\t\t<dd><table>\n",
       "<tbody>\n",
       "\t<tr><td>1</td><td>2</td><td>3</td></tr>\n",
       "\t<tr><td>4</td><td>5</td><td>6</td></tr>\n",
       "\t<tr><td>7</td><td>8</td><td>9</td></tr>\n",
       "</tbody>\n",
       "</table>\n",
       "</dd>\n",
       "\t<dt>$l4</dt>\n",
       "\t\t<dd><table>\n",
       "<thead><tr><th scope=col>col1</th><th scope=col>col2</th><th scope=col>col3</th></tr></thead>\n",
       "<tbody>\n",
       "\t<tr><td>1    </td><td>a    </td><td> TRUE</td></tr>\n",
       "\t<tr><td>4    </td><td>b    </td><td> TRUE</td></tr>\n",
       "\t<tr><td>7    </td><td>c    </td><td>FALSE</td></tr>\n",
       "</tbody>\n",
       "</table>\n",
       "</dd>\n",
       "</dl>\n"
      ],
      "text/latex": [
       "\\begin{description}\n",
       "\\item[\\$l1] 1\n",
       "\\item[\\$l2] \\begin{enumerate*}\n",
       "\\item '1'\n",
       "\\item 'a'\n",
       "\\item 'TRUE'\n",
       "\\end{enumerate*}\n",
       "\n",
       "\\item[\\$l3] \\begin{tabular}{lll}\n",
       "\t 1 & 2 & 3\\\\\n",
       "\t 4 & 5 & 6\\\\\n",
       "\t 7 & 8 & 9\\\\\n",
       "\\end{tabular}\n",
       "\n",
       "\\item[\\$l4] \\begin{tabular}{r|lll}\n",
       " col1 & col2 & col3\\\\\n",
       "\\hline\n",
       "\t 1     & a     &  TRUE\\\\\n",
       "\t 4     & b     &  TRUE\\\\\n",
       "\t 7     & c     & FALSE\\\\\n",
       "\\end{tabular}\n",
       "\n",
       "\\end{description}\n"
      ],
      "text/markdown": [
       "$l1\n",
       ":   1\n",
       "$l2\n",
       ":   1. '1'\n",
       "2. 'a'\n",
       "3. 'TRUE'\n",
       "\n",
       "\n",
       "\n",
       "$l3\n",
       ":   \n",
       "| 1 | 2 | 3 |\n",
       "| 4 | 5 | 6 |\n",
       "| 7 | 8 | 9 |\n",
       "\n",
       "\n",
       "$l4\n",
       ":   \n",
       "| col1 | col2 | col3 |\n",
       "|---|---|---|\n",
       "| 1     | a     |  TRUE |\n",
       "| 4     | b     |  TRUE |\n",
       "| 7     | c     | FALSE |\n",
       "\n",
       "\n",
       "\n",
       "\n"
      ],
      "text/plain": [
       "$l1\n",
       "[1] 1\n",
       "\n",
       "$l2\n",
       "[1] \"1\"    \"a\"    \"TRUE\"\n",
       "\n",
       "$l3\n",
       "     [,1] [,2] [,3]\n",
       "[1,]    1    2    3\n",
       "[2,]    4    5    6\n",
       "[3,]    7    8    9\n",
       "\n",
       "$l4\n",
       "  col1 col2  col3\n",
       "1    1    a  TRUE\n",
       "2    4    b  TRUE\n",
       "3    7    c FALSE\n"
      ]
     },
     "metadata": {},
     "output_type": "display_data"
    }
   ],
   "source": [
    "list1 <- list(l1=var1,l2=vec1,l3=mat1,l4=df1)\n",
    "list1"
   ]
  },
  {
   "cell_type": "markdown",
   "metadata": {},
   "source": [
    "## Importing data"
   ]
  },
  {
   "cell_type": "markdown",
   "metadata": {},
   "source": [
    "Accessing raw data of air temperature [°C] from Newcastle upon Tyne, UK."
   ]
  },
  {
   "cell_type": "code",
   "execution_count": 13,
   "metadata": {},
   "outputs": [],
   "source": [
    "data_link <- \"https://api.ngif.urbanobservatory.ac.uk/api/v2/sensors/timeseries/54780465-b11a-4d6c-8465-d82db47d69df/historic?startTime=2021-12-01T00:00:00.000Z&endTime=2021-12-17T00:00:00.000Z&outputAs=csv\""
   ]
  },
  {
   "cell_type": "markdown",
   "metadata": {},
   "source": [
    "Raw data is stored in a csv file. We realise that the first 9 rows of the file contains metadata. The tenth row contains the headers. Please check the documentation for the details of <a href=\"https://www.rdocumentation.org/packages/utils/versions/3.6.2/topics/read.table\">read.csv()</a> function. "
   ]
  },
  {
   "cell_type": "code",
   "execution_count": 69,
   "metadata": {},
   "outputs": [],
   "source": [
    "raw_data <- read.csv(data_link, skip = 9, header = T,\n",
    "    sep = \",\", stringsAsFactors = F)"
   ]
  },
  {
   "cell_type": "markdown",
   "metadata": {},
   "source": [
    "We can summarise the data to have a quick grasp of the parameters."
   ]
  },
  {
   "cell_type": "code",
   "execution_count": 15,
   "metadata": {},
   "outputs": [
    {
     "data": {
      "text/plain": [
       "                  time            value        duration...observation.window\n",
       " 2021-12-03 13:44:40:     1   Min.   : 1.800   Min.   :-20.930              \n",
       " 2021-12-03 13:44:50:     1   1st Qu.: 4.400   1st Qu.:-10.009              \n",
       " 2021-12-03 13:45:00:     1   Median : 5.500   Median :-10.000              \n",
       " 2021-12-03 13:45:10:     1   Mean   : 6.326   Mean   :-10.061              \n",
       " 2021-12-03 13:45:20:     1   3rd Qu.: 8.100   3rd Qu.: -9.992              \n",
       " 2021-12-03 13:45:30:     1   Max.   :13.200   Max.   : -8.007              \n",
       " (Other)            :108008                                                 "
      ]
     },
     "metadata": {},
     "output_type": "display_data"
    }
   ],
   "source": [
    "summary(raw_data)"
   ]
  },
  {
   "cell_type": "markdown",
   "metadata": {},
   "source": [
    "If we want to see the beginning and the end of the dataset, we can use <a href=\"https://www.rdocumentation.org/packages/utils/versions/3.6.2/topics/head\">head()</a> or <a href=\"https://www.rdocumentation.org/packages/rotations/versions/1.6.1/topics/tail\">tail()</a> functions. These functions show either the first or the last 6 rows of the dataset.\n",
    "\n"
   ]
  },
  {
   "cell_type": "code",
   "execution_count": 17,
   "metadata": {},
   "outputs": [
    {
     "data": {
      "text/html": [
       "<table>\n",
       "<thead><tr><th scope=col>time</th><th scope=col>value</th><th scope=col>duration...observation.window</th></tr></thead>\n",
       "<tbody>\n",
       "\t<tr><td>2021-12-16 15:25:10</td><td>9.9                </td><td>-10.004            </td></tr>\n",
       "\t<tr><td>2021-12-16 15:25:00</td><td>9.9                </td><td>-10.010            </td></tr>\n",
       "\t<tr><td>2021-12-16 15:24:50</td><td>9.9                </td><td> -9.992            </td></tr>\n",
       "\t<tr><td>2021-12-16 15:24:40</td><td>9.9                </td><td> -9.993            </td></tr>\n",
       "\t<tr><td>2021-12-16 15:24:30</td><td>9.9                </td><td>-10.004            </td></tr>\n",
       "\t<tr><td>2021-12-16 15:24:20</td><td>9.9                </td><td>-10.001            </td></tr>\n",
       "</tbody>\n",
       "</table>\n"
      ],
      "text/latex": [
       "\\begin{tabular}{r|lll}\n",
       " time & value & duration...observation.window\\\\\n",
       "\\hline\n",
       "\t 2021-12-16 15:25:10 & 9.9                 & -10.004            \\\\\n",
       "\t 2021-12-16 15:25:00 & 9.9                 & -10.010            \\\\\n",
       "\t 2021-12-16 15:24:50 & 9.9                 &  -9.992            \\\\\n",
       "\t 2021-12-16 15:24:40 & 9.9                 &  -9.993            \\\\\n",
       "\t 2021-12-16 15:24:30 & 9.9                 & -10.004            \\\\\n",
       "\t 2021-12-16 15:24:20 & 9.9                 & -10.001            \\\\\n",
       "\\end{tabular}\n"
      ],
      "text/markdown": [
       "\n",
       "| time | value | duration...observation.window |\n",
       "|---|---|---|\n",
       "| 2021-12-16 15:25:10 | 9.9                 | -10.004             |\n",
       "| 2021-12-16 15:25:00 | 9.9                 | -10.010             |\n",
       "| 2021-12-16 15:24:50 | 9.9                 |  -9.992             |\n",
       "| 2021-12-16 15:24:40 | 9.9                 |  -9.993             |\n",
       "| 2021-12-16 15:24:30 | 9.9                 | -10.004             |\n",
       "| 2021-12-16 15:24:20 | 9.9                 | -10.001             |\n",
       "\n"
      ],
      "text/plain": [
       "  time                value duration...observation.window\n",
       "1 2021-12-16 15:25:10 9.9   -10.004                      \n",
       "2 2021-12-16 15:25:00 9.9   -10.010                      \n",
       "3 2021-12-16 15:24:50 9.9    -9.992                      \n",
       "4 2021-12-16 15:24:40 9.9    -9.993                      \n",
       "5 2021-12-16 15:24:30 9.9   -10.004                      \n",
       "6 2021-12-16 15:24:20 9.9   -10.001                      "
      ]
     },
     "metadata": {},
     "output_type": "display_data"
    }
   ],
   "source": [
    "head(raw_data)"
   ]
  },
  {
   "cell_type": "code",
   "execution_count": 18,
   "metadata": {},
   "outputs": [
    {
     "data": {
      "text/html": [
       "<table>\n",
       "<thead><tr><th></th><th scope=col>time</th><th scope=col>value</th><th scope=col>duration...observation.window</th></tr></thead>\n",
       "<tbody>\n",
       "\t<tr><th scope=row>108009</th><td>2021-12-03 13:45:30</td><td>7.7                </td><td> -9.994            </td></tr>\n",
       "\t<tr><th scope=row>108010</th><td>2021-12-03 13:45:20</td><td>7.7                </td><td> -9.985            </td></tr>\n",
       "\t<tr><th scope=row>108011</th><td>2021-12-03 13:45:10</td><td>7.7                </td><td>-10.023            </td></tr>\n",
       "\t<tr><th scope=row>108012</th><td>2021-12-03 13:45:00</td><td>7.7                </td><td>-10.007            </td></tr>\n",
       "\t<tr><th scope=row>108013</th><td>2021-12-03 13:44:50</td><td>7.7                </td><td> -9.998            </td></tr>\n",
       "\t<tr><th scope=row>108014</th><td>2021-12-03 13:44:40</td><td>7.7                </td><td> -9.998            </td></tr>\n",
       "</tbody>\n",
       "</table>\n"
      ],
      "text/latex": [
       "\\begin{tabular}{r|lll}\n",
       "  & time & value & duration...observation.window\\\\\n",
       "\\hline\n",
       "\t108009 & 2021-12-03 13:45:30 & 7.7                 &  -9.994            \\\\\n",
       "\t108010 & 2021-12-03 13:45:20 & 7.7                 &  -9.985            \\\\\n",
       "\t108011 & 2021-12-03 13:45:10 & 7.7                 & -10.023            \\\\\n",
       "\t108012 & 2021-12-03 13:45:00 & 7.7                 & -10.007            \\\\\n",
       "\t108013 & 2021-12-03 13:44:50 & 7.7                 &  -9.998            \\\\\n",
       "\t108014 & 2021-12-03 13:44:40 & 7.7                 &  -9.998            \\\\\n",
       "\\end{tabular}\n"
      ],
      "text/markdown": [
       "\n",
       "| <!--/--> | time | value | duration...observation.window |\n",
       "|---|---|---|---|\n",
       "| 108009 | 2021-12-03 13:45:30 | 7.7                 |  -9.994             |\n",
       "| 108010 | 2021-12-03 13:45:20 | 7.7                 |  -9.985             |\n",
       "| 108011 | 2021-12-03 13:45:10 | 7.7                 | -10.023             |\n",
       "| 108012 | 2021-12-03 13:45:00 | 7.7                 | -10.007             |\n",
       "| 108013 | 2021-12-03 13:44:50 | 7.7                 |  -9.998             |\n",
       "| 108014 | 2021-12-03 13:44:40 | 7.7                 |  -9.998             |\n",
       "\n"
      ],
      "text/plain": [
       "       time                value duration...observation.window\n",
       "108009 2021-12-03 13:45:30 7.7    -9.994                      \n",
       "108010 2021-12-03 13:45:20 7.7    -9.985                      \n",
       "108011 2021-12-03 13:45:10 7.7   -10.023                      \n",
       "108012 2021-12-03 13:45:00 7.7   -10.007                      \n",
       "108013 2021-12-03 13:44:50 7.7    -9.998                      \n",
       "108014 2021-12-03 13:44:40 7.7    -9.998                      "
      ]
     },
     "metadata": {},
     "output_type": "display_data"
    }
   ],
   "source": [
    "tail(raw_data)"
   ]
  },
  {
   "cell_type": "markdown",
   "metadata": {},
   "source": [
    "You can choose the number of entries you would like to see by specifying it in the function."
   ]
  },
  {
   "cell_type": "code",
   "execution_count": 19,
   "metadata": {},
   "outputs": [
    {
     "data": {
      "text/html": [
       "<table>\n",
       "<thead><tr><th scope=col>time</th><th scope=col>value</th><th scope=col>duration...observation.window</th></tr></thead>\n",
       "<tbody>\n",
       "\t<tr><td>2021-12-16 15:25:10</td><td>9.9                </td><td>-10.004            </td></tr>\n",
       "</tbody>\n",
       "</table>\n"
      ],
      "text/latex": [
       "\\begin{tabular}{r|lll}\n",
       " time & value & duration...observation.window\\\\\n",
       "\\hline\n",
       "\t 2021-12-16 15:25:10 & 9.9                 & -10.004            \\\\\n",
       "\\end{tabular}\n"
      ],
      "text/markdown": [
       "\n",
       "| time | value | duration...observation.window |\n",
       "|---|---|---|\n",
       "| 2021-12-16 15:25:10 | 9.9                 | -10.004             |\n",
       "\n"
      ],
      "text/plain": [
       "  time                value duration...observation.window\n",
       "1 2021-12-16 15:25:10 9.9   -10.004                      "
      ]
     },
     "metadata": {},
     "output_type": "display_data"
    },
    {
     "data": {
      "text/html": [
       "<table>\n",
       "<thead><tr><th></th><th scope=col>time</th><th scope=col>value</th><th scope=col>duration...observation.window</th></tr></thead>\n",
       "<tbody>\n",
       "\t<tr><th scope=row>108014</th><td>2021-12-03 13:44:40</td><td>7.7                </td><td>-9.998             </td></tr>\n",
       "</tbody>\n",
       "</table>\n"
      ],
      "text/latex": [
       "\\begin{tabular}{r|lll}\n",
       "  & time & value & duration...observation.window\\\\\n",
       "\\hline\n",
       "\t108014 & 2021-12-03 13:44:40 & 7.7                 & -9.998             \\\\\n",
       "\\end{tabular}\n"
      ],
      "text/markdown": [
       "\n",
       "| <!--/--> | time | value | duration...observation.window |\n",
       "|---|---|---|---|\n",
       "| 108014 | 2021-12-03 13:44:40 | 7.7                 | -9.998              |\n",
       "\n"
      ],
      "text/plain": [
       "       time                value duration...observation.window\n",
       "108014 2021-12-03 13:44:40 7.7   -9.998                       "
      ]
     },
     "metadata": {},
     "output_type": "display_data"
    }
   ],
   "source": [
    "head(raw_data, 1)\n",
    "tail(raw_data, 1)"
   ]
  },
  {
   "cell_type": "markdown",
   "metadata": {},
   "source": [
    "You can also reach to the first or last entry simply by using the following code:"
   ]
  },
  {
   "cell_type": "code",
   "execution_count": 20,
   "metadata": {},
   "outputs": [
    {
     "data": {
      "text/html": [
       "<table>\n",
       "<thead><tr><th scope=col>time</th><th scope=col>value</th><th scope=col>duration...observation.window</th></tr></thead>\n",
       "<tbody>\n",
       "\t<tr><td>2021-12-16 15:25:10</td><td>9.9                </td><td>-10.004            </td></tr>\n",
       "</tbody>\n",
       "</table>\n"
      ],
      "text/latex": [
       "\\begin{tabular}{r|lll}\n",
       " time & value & duration...observation.window\\\\\n",
       "\\hline\n",
       "\t 2021-12-16 15:25:10 & 9.9                 & -10.004            \\\\\n",
       "\\end{tabular}\n"
      ],
      "text/markdown": [
       "\n",
       "| time | value | duration...observation.window |\n",
       "|---|---|---|\n",
       "| 2021-12-16 15:25:10 | 9.9                 | -10.004             |\n",
       "\n"
      ],
      "text/plain": [
       "  time                value duration...observation.window\n",
       "1 2021-12-16 15:25:10 9.9   -10.004                      "
      ]
     },
     "metadata": {},
     "output_type": "display_data"
    }
   ],
   "source": [
    "raw_data[1, ]"
   ]
  },
  {
   "cell_type": "code",
   "execution_count": 22,
   "metadata": {},
   "outputs": [
    {
     "data": {
      "text/html": [
       "108014"
      ],
      "text/latex": [
       "108014"
      ],
      "text/markdown": [
       "108014"
      ],
      "text/plain": [
       "[1] 108014"
      ]
     },
     "metadata": {},
     "output_type": "display_data"
    },
    {
     "data": {
      "text/html": [
       "<table>\n",
       "<thead><tr><th></th><th scope=col>time</th><th scope=col>value</th><th scope=col>duration...observation.window</th></tr></thead>\n",
       "<tbody>\n",
       "\t<tr><th scope=row>108014</th><td>2021-12-03 13:44:40</td><td>7.7                </td><td>-9.998             </td></tr>\n",
       "</tbody>\n",
       "</table>\n"
      ],
      "text/latex": [
       "\\begin{tabular}{r|lll}\n",
       "  & time & value & duration...observation.window\\\\\n",
       "\\hline\n",
       "\t108014 & 2021-12-03 13:44:40 & 7.7                 & -9.998             \\\\\n",
       "\\end{tabular}\n"
      ],
      "text/markdown": [
       "\n",
       "| <!--/--> | time | value | duration...observation.window |\n",
       "|---|---|---|---|\n",
       "| 108014 | 2021-12-03 13:44:40 | 7.7                 | -9.998              |\n",
       "\n"
      ],
      "text/plain": [
       "       time                value duration...observation.window\n",
       "108014 2021-12-03 13:44:40 7.7   -9.998                       "
      ]
     },
     "metadata": {},
     "output_type": "display_data"
    }
   ],
   "source": [
    "nrow(raw_data)\n",
    "raw_data[nrow(raw_data), ]"
   ]
  },
  {
   "cell_type": "markdown",
   "metadata": {},
   "source": [
    "Some other useful packages and functions to import data are <a href=\"https://www.rdocumentation.org/packages/base/versions/3.6.2/topics/list.files\">list.files()</a>, <a href=\"https://www.rdocumentation.org/packages/utils/versions/3.6.2/topics/choose.files\">choose.files()</a>, <a href=\"https://www.rdocumentation.org/packages/utils/versions/3.6.2/topics/read.table\">read.table()</a>, and <a href=\"https://www.rdocumentation.org/packages/xlsx/versions/0.6.5/topics/xlsx-package\">xlsx</a>.\n",
    "\n",
    "\n",
    "\n",
    "\n",
    "\n",
    "\n",
    "\n"
   ]
  },
  {
   "cell_type": "markdown",
   "metadata": {},
   "source": [
    "## Subsetting data"
   ]
  },
  {
   "cell_type": "markdown",
   "metadata": {},
   "source": [
    "<p style=\"font-size: 0.9rem;font-style: italic;\"><img style=\"display: block;\" src=\"https://live.staticflickr.com/5138/5416400167_8ef995cec3_w_d.jpg\" alt=\"Loblolly Pine\"><a href=\"https://www.flickr.com/photos/59160873@N08/5416400167\">\"Loblolly Pine\"</a><span> by <a href=\"https://www.flickr.com/photos/59160873@N08\">the-specious</a></span> is licensed under <a href=\"https://creativecommons.org/licenses/by/2.0/?ref=ccsearch&atype=html\" style=\"margin-right: 5px;\">CC BY 2.0</a><a href=\"https://creativecommons.org/licenses/by/2.0/?ref=ccsearch&atype=html\" target=\"_blank\" rel=\"noopener noreferrer\" style=\"display: inline-block;white-space: none;margin-top: 2px;margin-left: 3px;height: 22px !important;\"><img style=\"height: inherit;margin-right: 3px;display: inline-block;\" src=\"https://search.creativecommons.org/static/img/cc_icon.svg?image_id=ab2c4f3c-1481-4b1b-9574-72aaeee900d4\" /><img style=\"height: inherit;margin-right: 3px;display: inline-block;\" src=\"https://search.creativecommons.org/static/img/cc-by_icon.svg\" /></a></p>"
   ]
  },
  {
   "cell_type": "markdown",
   "metadata": {},
   "source": [
    "The following function displays the built-in datasets in R."
   ]
  },
  {
   "cell_type": "code",
   "execution_count": null,
   "metadata": {},
   "outputs": [
    {
     "data": {
      "text/html": [
       "<h3>Data sets</h3>\n",
       "<table>\n",
       "<caption>A data.frame: 104 × 3</caption>\n",
       "<thead>\n",
       "\t<tr><th scope=col>Package</th><th scope=col>Item</th><th scope=col>Title</th></tr>\n",
       "\t<tr><th scope=col>&lt;chr&gt;</th><th scope=col>&lt;chr&gt;</th><th scope=col>&lt;chr&gt;</th></tr>\n",
       "</thead>\n",
       "<tbody>\n",
       "\t<tr><td>datasets</td><td>AirPassengers         </td><td>Monthly Airline Passenger Numbers 1949-1960                    </td></tr>\n",
       "\t<tr><td>datasets</td><td>BJsales               </td><td>Sales Data with Leading Indicator                              </td></tr>\n",
       "\t<tr><td>datasets</td><td>BJsales.lead (BJsales)</td><td>Sales Data with Leading Indicator                              </td></tr>\n",
       "\t<tr><td>datasets</td><td>BOD                   </td><td>Biochemical Oxygen Demand                                      </td></tr>\n",
       "\t<tr><td>datasets</td><td>CO2                   </td><td>Carbon Dioxide Uptake in Grass Plants                          </td></tr>\n",
       "\t<tr><td>datasets</td><td>ChickWeight           </td><td>Weight versus age of chicks on different diets                 </td></tr>\n",
       "\t<tr><td>datasets</td><td>DNase                 </td><td>Elisa assay of DNase                                           </td></tr>\n",
       "\t<tr><td>datasets</td><td>EuStockMarkets        </td><td>Daily Closing Prices of Major European Stock Indices, 1991-1998</td></tr>\n",
       "\t<tr><td>datasets</td><td>Formaldehyde          </td><td>Determination of Formaldehyde                                  </td></tr>\n",
       "\t<tr><td>datasets</td><td>HairEyeColor          </td><td>Hair and Eye Color of Statistics Students                      </td></tr>\n",
       "\t<tr><td>datasets</td><td>Harman23.cor          </td><td>Harman Example 2.3                                             </td></tr>\n",
       "\t<tr><td>datasets</td><td>Harman74.cor          </td><td>Harman Example 7.4                                             </td></tr>\n",
       "\t<tr><td>datasets</td><td>Indometh              </td><td>Pharmacokinetics of Indomethacin                               </td></tr>\n",
       "\t<tr><td>datasets</td><td>InsectSprays          </td><td>Effectiveness of Insect Sprays                                 </td></tr>\n",
       "\t<tr><td>datasets</td><td><span style=white-space:pre-wrap>JohnsonJohnson        </span></td><td><span style=white-space:pre-wrap>Quarterly Earnings per Johnson &amp; Johnson Share                 </span></td></tr>\n",
       "\t<tr><td>datasets</td><td>LakeHuron             </td><td>Level of Lake Huron 1875-1972                                  </td></tr>\n",
       "\t<tr><td>datasets</td><td>LifeCycleSavings      </td><td>Intercountry Life-Cycle Savings Data                           </td></tr>\n",
       "\t<tr><td>datasets</td><td>Loblolly              </td><td>Growth of Loblolly pine trees                                  </td></tr>\n",
       "\t<tr><td>datasets</td><td>Nile                  </td><td>Flow of the River Nile                                         </td></tr>\n",
       "\t<tr><td>datasets</td><td>Orange                </td><td>Growth of Orange Trees                                         </td></tr>\n",
       "\t<tr><td>datasets</td><td>OrchardSprays         </td><td>Potency of Orchard Sprays                                      </td></tr>\n",
       "\t<tr><td>datasets</td><td>PlantGrowth           </td><td>Results from an Experiment on Plant Growth                     </td></tr>\n",
       "\t<tr><td>datasets</td><td>Puromycin             </td><td>Reaction Velocity of an Enzymatic Reaction                     </td></tr>\n",
       "\t<tr><td>datasets</td><td>Seatbelts             </td><td>Road Casualties in Great Britain 1969-84                       </td></tr>\n",
       "\t<tr><td>datasets</td><td>Theoph                </td><td>Pharmacokinetics of Theophylline                               </td></tr>\n",
       "\t<tr><td>datasets</td><td>Titanic               </td><td>Survival of passengers on the Titanic                          </td></tr>\n",
       "\t<tr><td>datasets</td><td>ToothGrowth           </td><td>The Effect of Vitamin C on Tooth Growth in Guinea Pigs         </td></tr>\n",
       "\t<tr><td>datasets</td><td>UCBAdmissions         </td><td>Student Admissions at UC Berkeley                              </td></tr>\n",
       "\t<tr><td>datasets</td><td>UKDriverDeaths        </td><td>Road Casualties in Great Britain 1969-84                       </td></tr>\n",
       "\t<tr><td>datasets</td><td>UKgas                 </td><td>UK Quarterly Gas Consumption                                   </td></tr>\n",
       "\t<tr><td>datasets</td><td>USAccDeaths           </td><td>Accidental Deaths in the US 1973-1978                          </td></tr>\n",
       "\t<tr><td>datasets</td><td>USArrests             </td><td>Violent Crime Rates by US State                                </td></tr>\n",
       "\t<tr><td>datasets</td><td>USJudgeRatings        </td><td>Lawyers' Ratings of State Judges in the US Superior Court      </td></tr>\n",
       "\t<tr><td>datasets</td><td>USPersonalExpenditure </td><td>Personal Expenditure Data                                      </td></tr>\n",
       "\t<tr><td>datasets</td><td>UScitiesD             </td><td>Distances Between European Cities and Between US Cities        </td></tr>\n",
       "\t<tr><td>datasets</td><td>VADeaths              </td><td>Death Rates in Virginia (1940)                                 </td></tr>\n",
       "\t<tr><td>datasets</td><td>WWWusage              </td><td>Internet Usage per Minute                                      </td></tr>\n",
       "\t<tr><td>datasets</td><td>WorldPhones           </td><td>The World's Telephones                                         </td></tr>\n",
       "\t<tr><td>datasets</td><td>ability.cov           </td><td>Ability and Intelligence Tests                                 </td></tr>\n",
       "\t<tr><td>datasets</td><td>airmiles              </td><td>Passenger Miles on Commercial US Airlines, 1937-1960           </td></tr>\n",
       "\t<tr><td>datasets</td><td>airquality            </td><td>New York Air Quality Measurements                              </td></tr>\n",
       "\t<tr><td>datasets</td><td>anscombe              </td><td>Anscombe's Quartet of 'Identical' Simple Linear Regressions    </td></tr>\n",
       "\t<tr><td>datasets</td><td>attenu                </td><td>The Joyner-Boore Attenuation Data                              </td></tr>\n",
       "\t<tr><td>datasets</td><td>attitude              </td><td>The Chatterjee-Price Attitude Data                             </td></tr>\n",
       "\t<tr><td>datasets</td><td>austres               </td><td>Quarterly Time Series of the Number of Australian Residents    </td></tr>\n",
       "\t<tr><td>datasets</td><td>beaver1 (beavers)     </td><td>Body Temperature Series of Two Beavers                         </td></tr>\n",
       "\t<tr><td>datasets</td><td>beaver2 (beavers)     </td><td>Body Temperature Series of Two Beavers                         </td></tr>\n",
       "\t<tr><td>datasets</td><td>cars                  </td><td>Speed and Stopping Distances of Cars                           </td></tr>\n",
       "\t<tr><td>datasets</td><td>chickwts              </td><td>Chicken Weights by Feed Type                                   </td></tr>\n",
       "\t<tr><td>datasets</td><td>co2                   </td><td>Mauna Loa Atmospheric CO2 Concentration                        </td></tr>\n",
       "\t<tr><td>datasets</td><td>crimtab               </td><td>Student's 3000 Criminals Data                                  </td></tr>\n",
       "\t<tr><td>datasets</td><td>discoveries           </td><td>Yearly Numbers of Important Discoveries                        </td></tr>\n",
       "\t<tr><td>datasets</td><td>esoph                 </td><td>Smoking, Alcohol and (O)esophageal Cancer                      </td></tr>\n",
       "\t<tr><td>datasets</td><td>euro                  </td><td>Conversion Rates of Euro Currencies                            </td></tr>\n",
       "\t<tr><td>datasets</td><td>euro.cross (euro)     </td><td>Conversion Rates of Euro Currencies                            </td></tr>\n",
       "\t<tr><td>datasets</td><td>eurodist              </td><td>Distances Between European Cities and Between US Cities        </td></tr>\n",
       "\t<tr><td>datasets</td><td>faithful              </td><td>Old Faithful Geyser Data                                       </td></tr>\n",
       "\t<tr><td>datasets</td><td>fdeaths (UKLungDeaths)</td><td>Monthly Deaths from Lung Diseases in the UK                    </td></tr>\n",
       "\t<tr><td>datasets</td><td>freeny                </td><td>Freeny's Revenue Data                                          </td></tr>\n",
       "\t<tr><td>datasets</td><td>freeny.x (freeny)     </td><td>Freeny's Revenue Data                                          </td></tr>\n",
       "\t<tr><td>datasets</td><td>freeny.y (freeny)     </td><td>Freeny's Revenue Data                                          </td></tr>\n",
       "\t<tr><td>datasets</td><td>infert                </td><td>Infertility after Spontaneous and Induced Abortion             </td></tr>\n",
       "\t<tr><td>datasets</td><td>iris                  </td><td>Edgar Anderson's Iris Data                                     </td></tr>\n",
       "\t<tr><td>datasets</td><td>iris3                 </td><td>Edgar Anderson's Iris Data                                     </td></tr>\n",
       "\t<tr><td>datasets</td><td>islands               </td><td>Areas of the World's Major Landmasses                          </td></tr>\n",
       "\t<tr><td>datasets</td><td>ldeaths (UKLungDeaths)</td><td>Monthly Deaths from Lung Diseases in the UK                    </td></tr>\n",
       "\t<tr><td>datasets</td><td>lh                    </td><td>Luteinizing Hormone in Blood Samples                           </td></tr>\n",
       "\t<tr><td>datasets</td><td>longley               </td><td>Longley's Economic Regression Data                             </td></tr>\n",
       "\t<tr><td>datasets</td><td>lynx                  </td><td>Annual Canadian Lynx trappings 1821-1934                       </td></tr>\n",
       "\t<tr><td>datasets</td><td>mdeaths (UKLungDeaths)</td><td>Monthly Deaths from Lung Diseases in the UK                    </td></tr>\n",
       "\t<tr><td>datasets</td><td>morley                </td><td>Michelson Speed of Light Data                                  </td></tr>\n",
       "\t<tr><td>datasets</td><td>mtcars                </td><td>Motor Trend Car Road Tests                                     </td></tr>\n",
       "\t<tr><td>datasets</td><td>nhtemp                </td><td>Average Yearly Temperatures in New Haven                       </td></tr>\n",
       "\t<tr><td>datasets</td><td>nottem                </td><td>Average Monthly Temperatures at Nottingham, 1920-1939          </td></tr>\n",
       "\t<tr><td>datasets</td><td>npk                   </td><td>Classical N, P, K Factorial Experiment                         </td></tr>\n",
       "\t<tr><td>datasets</td><td>occupationalStatus    </td><td>Occupational Status of Fathers and their Sons                  </td></tr>\n",
       "\t<tr><td>datasets</td><td>precip                </td><td>Annual Precipitation in US Cities                              </td></tr>\n",
       "\t<tr><td>datasets</td><td>presidents            </td><td>Quarterly Approval Ratings of US Presidents                    </td></tr>\n",
       "\t<tr><td>datasets</td><td>pressure              </td><td>Vapor Pressure of Mercury as a Function of Temperature         </td></tr>\n",
       "\t<tr><td>datasets</td><td>quakes                </td><td>Locations of Earthquakes off Fiji                              </td></tr>\n",
       "\t<tr><td>datasets</td><td>randu                 </td><td>Random Numbers from Congruential Generator RANDU               </td></tr>\n",
       "\t<tr><td>datasets</td><td>rivers                </td><td>Lengths of Major North American Rivers                         </td></tr>\n",
       "\t<tr><td>datasets</td><td>rock                  </td><td>Measurements on Petroleum Rock Samples                         </td></tr>\n",
       "\t<tr><td>datasets</td><td>sleep                 </td><td>Student's Sleep Data                                           </td></tr>\n",
       "\t<tr><td>datasets</td><td>stack.loss (stackloss)</td><td>Brownlee's Stack Loss Plant Data                               </td></tr>\n",
       "\t<tr><td>datasets</td><td>stack.x (stackloss)   </td><td>Brownlee's Stack Loss Plant Data                               </td></tr>\n",
       "\t<tr><td>datasets</td><td>stackloss             </td><td>Brownlee's Stack Loss Plant Data                               </td></tr>\n",
       "\t<tr><td>datasets</td><td>state.abb (state)     </td><td>US State Facts and Figures                                     </td></tr>\n",
       "\t<tr><td>datasets</td><td>state.area (state)    </td><td>US State Facts and Figures                                     </td></tr>\n",
       "\t<tr><td>datasets</td><td>state.center (state)  </td><td>US State Facts and Figures                                     </td></tr>\n",
       "\t<tr><td>datasets</td><td>state.division (state)</td><td>US State Facts and Figures                                     </td></tr>\n",
       "\t<tr><td>datasets</td><td>state.name (state)    </td><td>US State Facts and Figures                                     </td></tr>\n",
       "\t<tr><td>datasets</td><td>state.region (state)  </td><td>US State Facts and Figures                                     </td></tr>\n",
       "\t<tr><td>datasets</td><td>state.x77 (state)     </td><td>US State Facts and Figures                                     </td></tr>\n",
       "\t<tr><td>datasets</td><td>sunspot.month         </td><td>Monthly Sunspot Data, from 1749 to \"Present\"                   </td></tr>\n",
       "\t<tr><td>datasets</td><td>sunspot.year          </td><td>Yearly Sunspot Data, 1700-1988                                 </td></tr>\n",
       "\t<tr><td>datasets</td><td>sunspots              </td><td>Monthly Sunspot Numbers, 1749-1983                             </td></tr>\n",
       "\t<tr><td>datasets</td><td>swiss                 </td><td>Swiss Fertility and Socioeconomic Indicators (1888) Data       </td></tr>\n",
       "\t<tr><td>datasets</td><td>treering              </td><td>Yearly Treering Data, -6000-1979                               </td></tr>\n",
       "\t<tr><td>datasets</td><td>trees                 </td><td>Diameter, Height and Volume for Black Cherry Trees             </td></tr>\n",
       "\t<tr><td>datasets</td><td>uspop                 </td><td>Populations Recorded by the US Census                          </td></tr>\n",
       "\t<tr><td>datasets</td><td>volcano               </td><td>Topographic Information on Auckland's Maunga Whau Volcano      </td></tr>\n",
       "\t<tr><td>datasets</td><td>warpbreaks            </td><td>The Number of Breaks in Yarn during Weaving                    </td></tr>\n",
       "\t<tr><td>datasets</td><td>women                 </td><td>Average Heights and Weights for American Women                 </td></tr>\n",
       "</tbody>\n",
       "</table>\n",
       "\n",
       "<p>Use ‘data(package = .packages(all.available = TRUE))’\n",
       "to list the data sets in all *available* packages.</p>"
      ],
      "text/plain": [
       "Data sets in package ‘datasets’:\n",
       "\n",
       "AirPassengers           Monthly Airline Passenger Numbers 1949-1960\n",
       "BJsales                 Sales Data with Leading Indicator\n",
       "BJsales.lead (BJsales)\n",
       "                        Sales Data with Leading Indicator\n",
       "BOD                     Biochemical Oxygen Demand\n",
       "CO2                     Carbon Dioxide Uptake in Grass Plants\n",
       "ChickWeight             Weight versus age of chicks on different diets\n",
       "DNase                   Elisa assay of DNase\n",
       "EuStockMarkets          Daily Closing Prices of Major European Stock\n",
       "                        Indices, 1991-1998\n",
       "Formaldehyde            Determination of Formaldehyde\n",
       "HairEyeColor            Hair and Eye Color of Statistics Students\n",
       "Harman23.cor            Harman Example 2.3\n",
       "Harman74.cor            Harman Example 7.4\n",
       "Indometh                Pharmacokinetics of Indomethacin\n",
       "InsectSprays            Effectiveness of Insect Sprays\n",
       "JohnsonJohnson          Quarterly Earnings per Johnson & Johnson Share\n",
       "LakeHuron               Level of Lake Huron 1875-1972\n",
       "LifeCycleSavings        Intercountry Life-Cycle Savings Data\n",
       "Loblolly                Growth of Loblolly pine trees\n",
       "Nile                    Flow of the River Nile\n",
       "Orange                  Growth of Orange Trees\n",
       "OrchardSprays           Potency of Orchard Sprays\n",
       "PlantGrowth             Results from an Experiment on Plant Growth\n",
       "Puromycin               Reaction Velocity of an Enzymatic Reaction\n",
       "Seatbelts               Road Casualties in Great Britain 1969-84\n",
       "Theoph                  Pharmacokinetics of Theophylline\n",
       "Titanic                 Survival of passengers on the Titanic\n",
       "ToothGrowth             The Effect of Vitamin C on Tooth Growth in\n",
       "                        Guinea Pigs\n",
       "UCBAdmissions           Student Admissions at UC Berkeley\n",
       "UKDriverDeaths          Road Casualties in Great Britain 1969-84\n",
       "UKgas                   UK Quarterly Gas Consumption\n",
       "USAccDeaths             Accidental Deaths in the US 1973-1978\n",
       "USArrests               Violent Crime Rates by US State\n",
       "USJudgeRatings          Lawyers' Ratings of State Judges in the US\n",
       "                        Superior Court\n",
       "USPersonalExpenditure   Personal Expenditure Data\n",
       "UScitiesD               Distances Between European Cities and Between\n",
       "                        US Cities\n",
       "VADeaths                Death Rates in Virginia (1940)\n",
       "WWWusage                Internet Usage per Minute\n",
       "WorldPhones             The World's Telephones\n",
       "ability.cov             Ability and Intelligence Tests\n",
       "airmiles                Passenger Miles on Commercial US Airlines,\n",
       "                        1937-1960\n",
       "airquality              New York Air Quality Measurements\n",
       "anscombe                Anscombe's Quartet of 'Identical' Simple Linear\n",
       "                        Regressions\n",
       "attenu                  The Joyner-Boore Attenuation Data\n",
       "attitude                The Chatterjee-Price Attitude Data\n",
       "austres                 Quarterly Time Series of the Number of\n",
       "                        Australian Residents\n",
       "beaver1 (beavers)       Body Temperature Series of Two Beavers\n",
       "beaver2 (beavers)       Body Temperature Series of Two Beavers\n",
       "cars                    Speed and Stopping Distances of Cars\n",
       "chickwts                Chicken Weights by Feed Type\n",
       "co2                     Mauna Loa Atmospheric CO2 Concentration\n",
       "crimtab                 Student's 3000 Criminals Data\n",
       "discoveries             Yearly Numbers of Important Discoveries\n",
       "esoph                   Smoking, Alcohol and (O)esophageal Cancer\n",
       "euro                    Conversion Rates of Euro Currencies\n",
       "euro.cross (euro)       Conversion Rates of Euro Currencies\n",
       "eurodist                Distances Between European Cities and Between\n",
       "                        US Cities\n",
       "faithful                Old Faithful Geyser Data\n",
       "fdeaths (UKLungDeaths)\n",
       "                        Monthly Deaths from Lung Diseases in the UK\n",
       "freeny                  Freeny's Revenue Data\n",
       "freeny.x (freeny)       Freeny's Revenue Data\n",
       "freeny.y (freeny)       Freeny's Revenue Data\n",
       "infert                  Infertility after Spontaneous and Induced\n",
       "                        Abortion\n",
       "iris                    Edgar Anderson's Iris Data\n",
       "iris3                   Edgar Anderson's Iris Data\n",
       "islands                 Areas of the World's Major Landmasses\n",
       "ldeaths (UKLungDeaths)\n",
       "                        Monthly Deaths from Lung Diseases in the UK\n",
       "lh                      Luteinizing Hormone in Blood Samples\n",
       "longley                 Longley's Economic Regression Data\n",
       "lynx                    Annual Canadian Lynx trappings 1821-1934\n",
       "mdeaths (UKLungDeaths)\n",
       "                        Monthly Deaths from Lung Diseases in the UK\n",
       "morley                  Michelson Speed of Light Data\n",
       "mtcars                  Motor Trend Car Road Tests\n",
       "nhtemp                  Average Yearly Temperatures in New Haven\n",
       "nottem                  Average Monthly Temperatures at Nottingham,\n",
       "                        1920-1939\n",
       "npk                     Classical N, P, K Factorial Experiment\n",
       "occupationalStatus      Occupational Status of Fathers and their Sons\n",
       "precip                  Annual Precipitation in US Cities\n",
       "presidents              Quarterly Approval Ratings of US Presidents\n",
       "pressure                Vapor Pressure of Mercury as a Function of\n",
       "                        Temperature\n",
       "quakes                  Locations of Earthquakes off Fiji\n",
       "randu                   Random Numbers from Congruential Generator\n",
       "                        RANDU\n",
       "rivers                  Lengths of Major North American Rivers\n",
       "rock                    Measurements on Petroleum Rock Samples\n",
       "sleep                   Student's Sleep Data\n",
       "stack.loss (stackloss)\n",
       "                        Brownlee's Stack Loss Plant Data\n",
       "stack.x (stackloss)     Brownlee's Stack Loss Plant Data\n",
       "stackloss               Brownlee's Stack Loss Plant Data\n",
       "state.abb (state)       US State Facts and Figures\n",
       "state.area (state)      US State Facts and Figures\n",
       "state.center (state)    US State Facts and Figures\n",
       "state.division (state)\n",
       "                        US State Facts and Figures\n",
       "state.name (state)      US State Facts and Figures\n",
       "state.region (state)    US State Facts and Figures\n",
       "state.x77 (state)       US State Facts and Figures\n",
       "sunspot.month           Monthly Sunspot Data, from 1749 to \"Present\"\n",
       "sunspot.year            Yearly Sunspot Data, 1700-1988\n",
       "sunspots                Monthly Sunspot Numbers, 1749-1983\n",
       "swiss                   Swiss Fertility and Socioeconomic Indicators\n",
       "                        (1888) Data\n",
       "treering                Yearly Treering Data, -6000-1979\n",
       "trees                   Diameter, Height and Volume for Black Cherry\n",
       "                        Trees\n",
       "uspop                   Populations Recorded by the US Census\n",
       "volcano                 Topographic Information on Auckland's Maunga\n",
       "                        Whau Volcano\n",
       "warpbreaks              The Number of Breaks in Yarn during Weaving\n",
       "women                   Average Heights and Weights for American Women\n",
       "\n",
       "Use ‘data(package = .packages(all.available = TRUE))’\n",
       "to list the data sets in all *available* packages."
      ]
     },
     "metadata": {},
     "output_type": "display_data"
    }
   ],
   "source": [
    "data()"
   ]
  },
  {
   "cell_type": "code",
   "execution_count": null,
   "metadata": {},
   "outputs": [],
   "source": [
    "data(\"Loblolly\")"
   ]
  },
  {
   "cell_type": "code",
   "execution_count": null,
   "metadata": {},
   "outputs": [
    {
     "data": {
      "text/html": [
       "<table>\n",
       "<caption>A nfnGroupedData: 6 × 3</caption>\n",
       "<thead>\n",
       "\t<tr><th></th><th scope=col>height</th><th scope=col>age</th><th scope=col>Seed</th></tr>\n",
       "\t<tr><th></th><th scope=col>&lt;dbl&gt;</th><th scope=col>&lt;dbl&gt;</th><th scope=col>&lt;ord&gt;</th></tr>\n",
       "</thead>\n",
       "<tbody>\n",
       "\t<tr><th scope=row>1</th><td> 4.51</td><td> 3</td><td>301</td></tr>\n",
       "\t<tr><th scope=row>15</th><td>10.89</td><td> 5</td><td>301</td></tr>\n",
       "\t<tr><th scope=row>29</th><td>28.72</td><td>10</td><td>301</td></tr>\n",
       "\t<tr><th scope=row>43</th><td>41.74</td><td>15</td><td>301</td></tr>\n",
       "\t<tr><th scope=row>57</th><td>52.70</td><td>20</td><td>301</td></tr>\n",
       "\t<tr><th scope=row>71</th><td>60.92</td><td>25</td><td>301</td></tr>\n",
       "</tbody>\n",
       "</table>\n"
      ],
      "text/latex": [
       "A nfnGroupedData: 6 × 3\n",
       "\\begin{tabular}{r|lll}\n",
       "  & height & age & Seed\\\\\n",
       "  & <dbl> & <dbl> & <ord>\\\\\n",
       "\\hline\n",
       "\t1 &  4.51 &  3 & 301\\\\\n",
       "\t15 & 10.89 &  5 & 301\\\\\n",
       "\t29 & 28.72 & 10 & 301\\\\\n",
       "\t43 & 41.74 & 15 & 301\\\\\n",
       "\t57 & 52.70 & 20 & 301\\\\\n",
       "\t71 & 60.92 & 25 & 301\\\\\n",
       "\\end{tabular}\n"
      ],
      "text/markdown": [
       "\n",
       "A nfnGroupedData: 6 × 3\n",
       "\n",
       "| <!--/--> | height &lt;dbl&gt; | age &lt;dbl&gt; | Seed &lt;ord&gt; |\n",
       "|---|---|---|---|\n",
       "| 1 |  4.51 |  3 | 301 |\n",
       "| 15 | 10.89 |  5 | 301 |\n",
       "| 29 | 28.72 | 10 | 301 |\n",
       "| 43 | 41.74 | 15 | 301 |\n",
       "| 57 | 52.70 | 20 | 301 |\n",
       "| 71 | 60.92 | 25 | 301 |\n",
       "\n"
      ],
      "text/plain": [
       "   height age Seed\n",
       "1   4.51   3  301 \n",
       "15 10.89   5  301 \n",
       "29 28.72  10  301 \n",
       "43 41.74  15  301 \n",
       "57 52.70  20  301 \n",
       "71 60.92  25  301 "
      ]
     },
     "metadata": {},
     "output_type": "display_data"
    }
   ],
   "source": [
    "head(Loblolly)"
   ]
  },
  {
   "cell_type": "code",
   "execution_count": 24,
   "metadata": {},
   "outputs": [
    {
     "data": {
      "text/plain": [
       "     height           age            Seed   \n",
       " Min.   : 3.46   Min.   : 3.0   329    : 6  \n",
       " 1st Qu.:10.47   1st Qu.: 5.0   327    : 6  \n",
       " Median :34.00   Median :12.5   325    : 6  \n",
       " Mean   :32.36   Mean   :13.0   307    : 6  \n",
       " 3rd Qu.:51.36   3rd Qu.:20.0   331    : 6  \n",
       " Max.   :64.10   Max.   :25.0   311    : 6  \n",
       "                                (Other):48  "
      ]
     },
     "metadata": {},
     "output_type": "display_data"
    },
    {
     "data": {
      "text/html": [
       "<ol class=list-inline>\n",
       "\t<li>301</li>\n",
       "\t<li>303</li>\n",
       "\t<li>305</li>\n",
       "\t<li>307</li>\n",
       "\t<li>309</li>\n",
       "\t<li>311</li>\n",
       "\t<li>315</li>\n",
       "\t<li>319</li>\n",
       "\t<li>321</li>\n",
       "\t<li>323</li>\n",
       "\t<li>325</li>\n",
       "\t<li>327</li>\n",
       "\t<li>329</li>\n",
       "\t<li>331</li>\n",
       "</ol>\n",
       "\n",
       "<details>\n",
       "\t<summary style=display:list-item;cursor:pointer>\n",
       "\t\t<strong>Levels</strong>:\n",
       "\t</summary>\n",
       "\t<ol class=list-inline>\n",
       "\t\t<li>'329'</li>\n",
       "\t\t<li>'327'</li>\n",
       "\t\t<li>'325'</li>\n",
       "\t\t<li>'307'</li>\n",
       "\t\t<li>'331'</li>\n",
       "\t\t<li>'311'</li>\n",
       "\t\t<li>'315'</li>\n",
       "\t\t<li>'321'</li>\n",
       "\t\t<li>'319'</li>\n",
       "\t\t<li>'301'</li>\n",
       "\t\t<li>'323'</li>\n",
       "\t\t<li>'309'</li>\n",
       "\t\t<li>'303'</li>\n",
       "\t\t<li>'305'</li>\n",
       "\t</ol>\n",
       "</details>"
      ],
      "text/latex": [
       "\\begin{enumerate*}\n",
       "\\item 301\n",
       "\\item 303\n",
       "\\item 305\n",
       "\\item 307\n",
       "\\item 309\n",
       "\\item 311\n",
       "\\item 315\n",
       "\\item 319\n",
       "\\item 321\n",
       "\\item 323\n",
       "\\item 325\n",
       "\\item 327\n",
       "\\item 329\n",
       "\\item 331\n",
       "\\end{enumerate*}\n",
       "\n",
       "\\emph{Levels}: \\begin{enumerate*}\n",
       "\\item '329'\n",
       "\\item '327'\n",
       "\\item '325'\n",
       "\\item '307'\n",
       "\\item '331'\n",
       "\\item '311'\n",
       "\\item '315'\n",
       "\\item '321'\n",
       "\\item '319'\n",
       "\\item '301'\n",
       "\\item '323'\n",
       "\\item '309'\n",
       "\\item '303'\n",
       "\\item '305'\n",
       "\\end{enumerate*}\n"
      ],
      "text/markdown": [
       "1. 301\n",
       "2. 303\n",
       "3. 305\n",
       "4. 307\n",
       "5. 309\n",
       "6. 311\n",
       "7. 315\n",
       "8. 319\n",
       "9. 321\n",
       "10. 323\n",
       "11. 325\n",
       "12. 327\n",
       "13. 329\n",
       "14. 331\n",
       "\n",
       "\n",
       "\n",
       "**Levels**: 1. '329'\n",
       "2. '327'\n",
       "3. '325'\n",
       "4. '307'\n",
       "5. '331'\n",
       "6. '311'\n",
       "7. '315'\n",
       "8. '321'\n",
       "9. '319'\n",
       "10. '301'\n",
       "11. '323'\n",
       "12. '309'\n",
       "13. '303'\n",
       "14. '305'\n",
       "\n",
       "\n"
      ],
      "text/plain": [
       " [1] 301 303 305 307 309 311 315 319 321 323 325 327 329 331\n",
       "14 Levels: 329 < 327 < 325 < 307 < 331 < 311 < 315 < 321 < 319 < ... < 305"
      ]
     },
     "metadata": {},
     "output_type": "display_data"
    },
    {
     "data": {
      "text/html": [
       "<table>\n",
       "<thead><tr><th></th><th scope=col>height</th><th scope=col>age</th><th scope=col>Seed</th></tr></thead>\n",
       "<tbody>\n",
       "\t<tr><th scope=row>1</th><td> 4.51</td><td> 3   </td><td>301  </td></tr>\n",
       "\t<tr><th scope=row>15</th><td>10.89</td><td> 5   </td><td>301  </td></tr>\n",
       "\t<tr><th scope=row>29</th><td>28.72</td><td>10   </td><td>301  </td></tr>\n",
       "\t<tr><th scope=row>43</th><td>41.74</td><td>15   </td><td>301  </td></tr>\n",
       "\t<tr><th scope=row>57</th><td>52.70</td><td>20   </td><td>301  </td></tr>\n",
       "\t<tr><th scope=row>71</th><td>60.92</td><td>25   </td><td>301  </td></tr>\n",
       "</tbody>\n",
       "</table>\n"
      ],
      "text/latex": [
       "\\begin{tabular}{r|lll}\n",
       "  & height & age & Seed\\\\\n",
       "\\hline\n",
       "\t1 &  4.51 &  3    & 301  \\\\\n",
       "\t15 & 10.89 &  5    & 301  \\\\\n",
       "\t29 & 28.72 & 10    & 301  \\\\\n",
       "\t43 & 41.74 & 15    & 301  \\\\\n",
       "\t57 & 52.70 & 20    & 301  \\\\\n",
       "\t71 & 60.92 & 25    & 301  \\\\\n",
       "\\end{tabular}\n"
      ],
      "text/markdown": [
       "\n",
       "| <!--/--> | height | age | Seed |\n",
       "|---|---|---|---|\n",
       "| 1 |  4.51 |  3    | 301   |\n",
       "| 15 | 10.89 |  5    | 301   |\n",
       "| 29 | 28.72 | 10    | 301   |\n",
       "| 43 | 41.74 | 15    | 301   |\n",
       "| 57 | 52.70 | 20    | 301   |\n",
       "| 71 | 60.92 | 25    | 301   |\n",
       "\n"
      ],
      "text/plain": [
       "   height age Seed\n",
       "1   4.51   3  301 \n",
       "15 10.89   5  301 \n",
       "29 28.72  10  301 \n",
       "43 41.74  15  301 \n",
       "57 52.70  20  301 \n",
       "71 60.92  25  301 "
      ]
     },
     "metadata": {},
     "output_type": "display_data"
    }
   ],
   "source": [
    "summary(Loblolly)\n",
    "unique(Loblolly$Seed)\n",
    "subset(Loblolly, Seed == unique(Loblolly$Seed)[1])"
   ]
  },
  {
   "cell_type": "code",
   "execution_count": 28,
   "metadata": {},
   "outputs": [
    {
     "data": {
      "image/png": "[encoded data removed]",
      "text/plain": [
       "plot without title"
      ]
     },
     "metadata": {},
     "output_type": "display_data"
    }
   ],
   "source": [
    "options(repr.plot.width = 5, repr.plot.height = 5)\n",
    "par(las = 1, ps = 12, mar = c(4, 4, 0.25, 0.25))\n",
    "plot(0, 0, xlim = c(0, 25), ylim = c(0, 75),\n",
    "  xlab = NA, ylab = NA, pch = \"\")\n",
    "for (i in 1:length(unique(Loblolly$Seed))) {\n",
    "  lines(height~age,\n",
    "    data = subset(Loblolly, Seed == unique(Loblolly$Seed)[i]),\n",
    "    col = 8)\n",
    "}\n",
    "par(las = 0)\n",
    "mtext(\"Age [years]\", side = 1, line = 2)\n",
    "mtext(\"Height [ft]\", side = 2, line = 2.5)"
   ]
  },
  {
   "cell_type": "code",
   "execution_count": 30,
   "metadata": {},
   "outputs": [
    {
     "data": {
      "image/png": "[encoded data removed]",
      "text/plain": [
       "plot without title"
      ]
     },
     "metadata": {},
     "output_type": "display_data"
    }
   ],
   "source": [
    "options(repr.plot.width = 5, repr.plot.height = 5)\n",
    "par(las = 1, ps = 12, mar = c(4, 4, 0.25, 0.25))\n",
    "plot(0, 0, xlim = c(0, 25), ylim = c(0, 75),\n",
    "  xlab = NA, ylab = NA, pch = \"\")\n",
    "for (i in 1:length(unique(Loblolly$Seed))) {\n",
    "  lines(height~age,\n",
    "    data = subset(Loblolly, Seed == unique(Loblolly$Seed)[i]),\n",
    "    col = i)\n",
    "}\n",
    "par(las = 0)\n",
    "mtext(\"Age [years]\", side = 1, line = 2)\n",
    "mtext(\"Height [ft]\", side = 2, line = 2.5)"
   ]
  },
  {
   "cell_type": "code",
   "execution_count": 33,
   "metadata": {},
   "outputs": [
    {
     "data": {
      "text/html": [
       "<table>\n",
       "<thead><tr><th scope=col>Group.1</th><th scope=col>x</th></tr></thead>\n",
       "<tbody>\n",
       "\t<tr><td> 3       </td><td> 4.237857</td></tr>\n",
       "\t<tr><td> 5       </td><td>10.205000</td></tr>\n",
       "\t<tr><td>10       </td><td>27.442143</td></tr>\n",
       "\t<tr><td>15       </td><td>40.543571</td></tr>\n",
       "\t<tr><td>20       </td><td>51.468571</td></tr>\n",
       "\t<tr><td>25       </td><td>60.289286</td></tr>\n",
       "</tbody>\n",
       "</table>\n"
      ],
      "text/latex": [
       "\\begin{tabular}{r|ll}\n",
       " Group.1 & x\\\\\n",
       "\\hline\n",
       "\t  3        &  4.237857\\\\\n",
       "\t  5        & 10.205000\\\\\n",
       "\t 10        & 27.442143\\\\\n",
       "\t 15        & 40.543571\\\\\n",
       "\t 20        & 51.468571\\\\\n",
       "\t 25        & 60.289286\\\\\n",
       "\\end{tabular}\n"
      ],
      "text/markdown": [
       "\n",
       "| Group.1 | x |\n",
       "|---|---|\n",
       "|  3        |  4.237857 |\n",
       "|  5        | 10.205000 |\n",
       "| 10        | 27.442143 |\n",
       "| 15        | 40.543571 |\n",
       "| 20        | 51.468571 |\n",
       "| 25        | 60.289286 |\n",
       "\n"
      ],
      "text/plain": [
       "  Group.1 x        \n",
       "1  3       4.237857\n",
       "2  5      10.205000\n",
       "3 10      27.442143\n",
       "4 15      40.543571\n",
       "5 20      51.468571\n",
       "6 25      60.289286"
      ]
     },
     "metadata": {},
     "output_type": "display_data"
    }
   ],
   "source": [
    "mean_height <- aggregate(Loblolly$height, list(Loblolly$age), mean)\n",
    "mean_height"
   ]
  },
  {
   "cell_type": "code",
   "execution_count": 34,
   "metadata": {},
   "outputs": [
    {
     "data": {
      "image/png": "[encoded data removed]",
      "text/plain": [
       "plot without title"
      ]
     },
     "metadata": {},
     "output_type": "display_data"
    }
   ],
   "source": [
    "options(repr.plot.width = 5, repr.plot.height = 5)\n",
    "par(las = 1, ps = 12, mar = c(4, 4, 0.25, 0.25))\n",
    "plot(0, 0, xlim = c(0, 25), ylim = c(0, 75),\n",
    "  xlab = NA, ylab = NA, pch = \"\")\n",
    "for (i in 1:length(unique(Loblolly$Seed))) {\n",
    "  lines(height~age,\n",
    "    data = subset(Loblolly, Seed == unique(Loblolly$Seed)[i]),\n",
    "    col = 8)\n",
    "}\n",
    "lines(mean_height[, 2]~mean_height[, 1], col = 4, type = \"b\", lwd = 3)\n",
    "par(las = 0)\n",
    "mtext(\"Age [years]\", side = 1, line = 2)\n",
    "mtext(\"Height [ft]\", side = 2, line = 2.5)"
   ]
  },
  {
   "cell_type": "code",
   "execution_count": 35,
   "metadata": {},
   "outputs": [
    {
     "data": {
      "text/html": [
       "<table>\n",
       "<thead><tr><th scope=col>Group.1</th><th scope=col>x</th></tr></thead>\n",
       "<tbody>\n",
       "\t<tr><td> 3       </td><td> 1.291699</td></tr>\n",
       "\t<tr><td> 5       </td><td> 3.110484</td></tr>\n",
       "\t<tr><td>10       </td><td> 8.364365</td></tr>\n",
       "\t<tr><td>15       </td><td>12.357681</td></tr>\n",
       "\t<tr><td>20       </td><td>15.687621</td></tr>\n",
       "\t<tr><td>25       </td><td>18.376174</td></tr>\n",
       "</tbody>\n",
       "</table>\n"
      ],
      "text/latex": [
       "\\begin{tabular}{r|ll}\n",
       " Group.1 & x\\\\\n",
       "\\hline\n",
       "\t  3        &  1.291699\\\\\n",
       "\t  5        &  3.110484\\\\\n",
       "\t 10        &  8.364365\\\\\n",
       "\t 15        & 12.357681\\\\\n",
       "\t 20        & 15.687621\\\\\n",
       "\t 25        & 18.376174\\\\\n",
       "\\end{tabular}\n"
      ],
      "text/markdown": [
       "\n",
       "| Group.1 | x |\n",
       "|---|---|\n",
       "|  3        |  1.291699 |\n",
       "|  5        |  3.110484 |\n",
       "| 10        |  8.364365 |\n",
       "| 15        | 12.357681 |\n",
       "| 20        | 15.687621 |\n",
       "| 25        | 18.376174 |\n",
       "\n"
      ],
      "text/plain": [
       "  Group.1 x        \n",
       "1  3       1.291699\n",
       "2  5       3.110484\n",
       "3 10       8.364365\n",
       "4 15      12.357681\n",
       "5 20      15.687621\n",
       "6 25      18.376174"
      ]
     },
     "metadata": {},
     "output_type": "display_data"
    }
   ],
   "source": [
    "Loblolly$height <- Loblolly$height * 0.3048\n",
    "mean_height_m <- aggregate(Loblolly$height, list(Loblolly$age), mean)\n",
    "mean_height_m"
   ]
  },
  {
   "cell_type": "code",
   "execution_count": 44,
   "metadata": {},
   "outputs": [
    {
     "data": {
      "image/png": "[encoded data removed]",
      "text/plain": [
       "plot without title"
      ]
     },
     "metadata": {},
     "output_type": "display_data"
    }
   ],
   "source": [
    "options(repr.plot.width = 5, repr.plot.height = 5)\n",
    "par(las = 1, ps = 12, mar = c(4, 4, 0.25, 0.25))\n",
    "plot(0, 0, xlim = c(0, 25), ylim = c(0, 20),\n",
    "  xlab = NA, ylab = NA, pch = \"\")\n",
    "for (i in 1:length(unique(Loblolly$Seed))) {\n",
    "  lines(height~age,\n",
    "    data = subset(Loblolly, Seed == unique(Loblolly$Seed)[i]),\n",
    "    col = 8)\n",
    "}\n",
    "lines(mean_height_m[, 2]~mean_height_m[,1], col = 4, type = \"b\", lwd = 3)\n",
    "par(las = 0)\n",
    "mtext(\"Age [years]\", side = 1, line = 2)\n",
    "mtext(\"Height [m]\", side = 2, line = 2.5)"
   ]
  },
  {
   "cell_type": "code",
   "execution_count": 39,
   "metadata": {},
   "outputs": [
    {
     "data": {
      "text/html": [
       "<table>\n",
       "<thead><tr><th scope=col>Group.1</th><th scope=col>x</th></tr></thead>\n",
       "<tbody>\n",
       "\t<tr><td> 3       </td><td>0.1230181</td></tr>\n",
       "\t<tr><td> 5       </td><td>0.2485878</td></tr>\n",
       "\t<tr><td>10       </td><td>0.4687478</td></tr>\n",
       "\t<tr><td>15       </td><td>0.5946174</td></tr>\n",
       "\t<tr><td>20       </td><td>0.6741651</td></tr>\n",
       "\t<tr><td>25       </td><td>0.6915406</td></tr>\n",
       "</tbody>\n",
       "</table>\n"
      ],
      "text/latex": [
       "\\begin{tabular}{r|ll}\n",
       " Group.1 & x\\\\\n",
       "\\hline\n",
       "\t  3        & 0.1230181\\\\\n",
       "\t  5        & 0.2485878\\\\\n",
       "\t 10        & 0.4687478\\\\\n",
       "\t 15        & 0.5946174\\\\\n",
       "\t 20        & 0.6741651\\\\\n",
       "\t 25        & 0.6915406\\\\\n",
       "\\end{tabular}\n"
      ],
      "text/markdown": [
       "\n",
       "| Group.1 | x |\n",
       "|---|---|\n",
       "|  3        | 0.1230181 |\n",
       "|  5        | 0.2485878 |\n",
       "| 10        | 0.4687478 |\n",
       "| 15        | 0.5946174 |\n",
       "| 20        | 0.6741651 |\n",
       "| 25        | 0.6915406 |\n",
       "\n"
      ],
      "text/plain": [
       "  Group.1 x        \n",
       "1  3      0.1230181\n",
       "2  5      0.2485878\n",
       "3 10      0.4687478\n",
       "4 15      0.5946174\n",
       "5 20      0.6741651\n",
       "6 25      0.6915406"
      ]
     },
     "metadata": {},
     "output_type": "display_data"
    },
    {
     "data": {
      "text/html": [
       "<table>\n",
       "<thead><tr><th scope=col>Group.1</th><th scope=col>x</th></tr></thead>\n",
       "<tbody>\n",
       "\t<tr><td> 3       </td><td> 1.466088</td></tr>\n",
       "\t<tr><td> 5       </td><td> 3.465576</td></tr>\n",
       "\t<tr><td>10       </td><td> 9.208008</td></tr>\n",
       "\t<tr><td>15       </td><td>13.533120</td></tr>\n",
       "\t<tr><td>20       </td><td>17.013936</td></tr>\n",
       "\t<tr><td>25       </td><td>19.537680</td></tr>\n",
       "</tbody>\n",
       "</table>\n"
      ],
      "text/latex": [
       "\\begin{tabular}{r|ll}\n",
       " Group.1 & x\\\\\n",
       "\\hline\n",
       "\t  3        &  1.466088\\\\\n",
       "\t  5        &  3.465576\\\\\n",
       "\t 10        &  9.208008\\\\\n",
       "\t 15        & 13.533120\\\\\n",
       "\t 20        & 17.013936\\\\\n",
       "\t 25        & 19.537680\\\\\n",
       "\\end{tabular}\n"
      ],
      "text/markdown": [
       "\n",
       "| Group.1 | x |\n",
       "|---|---|\n",
       "|  3        |  1.466088 |\n",
       "|  5        |  3.465576 |\n",
       "| 10        |  9.208008 |\n",
       "| 15        | 13.533120 |\n",
       "| 20        | 17.013936 |\n",
       "| 25        | 19.537680 |\n",
       "\n"
      ],
      "text/plain": [
       "  Group.1 x        \n",
       "1  3       1.466088\n",
       "2  5       3.465576\n",
       "3 10       9.208008\n",
       "4 15      13.533120\n",
       "5 20      17.013936\n",
       "6 25      19.537680"
      ]
     },
     "metadata": {},
     "output_type": "display_data"
    }
   ],
   "source": [
    "sd_height_m <- aggregate(Loblolly$height, list(Loblolly$age), sd)\n",
    "sd_height_m\n",
    "aggregate(Loblolly$height, list(Loblolly$age), max)"
   ]
  },
  {
   "cell_type": "code",
   "execution_count": 43,
   "metadata": {},
   "outputs": [
    {
     "data": {
      "image/png": "[encoded data removed]",
      "text/plain": [
       "plot without title"
      ]
     },
     "metadata": {},
     "output_type": "display_data"
    }
   ],
   "source": [
    "options(repr.plot.width = 5, repr.plot.height = 5)\n",
    "par(las = 1, ps = 12, mar = c(4, 4, 0.25, 0.25))\n",
    "plot(0, 0, xlim = c(0, 25), ylim = c(0, 20),\n",
    "  xlab = NA, ylab = NA, pch = \"\")\n",
    "points(mean_height_m[, 2]~mean_height_m[, 1],\n",
    "    pch = 16, col = 4, cex = 1.5, type = \"b\")\n",
    "par(las = 0)\n",
    "mtext(\"Age [years]\", side = 1, line = 2)\n",
    "mtext(\"Height [m]\", side = 2, line = 2.5)\n",
    "arrows(x0 = mean_height_m[, 1], y0 = mean_height_m[, 2],\n",
    "    x1 = mean_height_m[, 1], y1 = mean_height_m[, 2] + 2 * sd_height_m[, 2],\n",
    "    col = 4, angle = 90, length = 0.1)\n",
    "arrows(x0 = mean_height_m[, 1], y0 = mean_height_m[, 2],\n",
    "    x1 = mean_height_m[, 1], y1 = mean_height_m[, 2] - 2 * sd_height_m[, 2],\n",
    "    col = 4, angle = 90, length = 0.1)"
   ]
  },
  {
   "cell_type": "markdown",
   "metadata": {},
   "source": [
    "<p style=\"font-size: 0.9rem;font-style: italic;\"><img style=\"display: block;\" src=\"https://live.staticflickr.com/3864/14429292919_894304a4b5_w_d.jpg\" alt=\"Iris setosa. Edwards's Botanical Register v.33- t.10 (1847) [S.A. Drake]\"><a href=\"https://www.flickr.com/photos/97123293@N07/14429292919\">\"Iris setosa. Edwards's Botanical Register v.33- t.10 (1847) [S.A. Drake]\"</a><span> by <a href=\"https://www.flickr.com/photos/97123293@N07\">Swallowtail Garden Seeds</a></span> is licensed under <a href=\"https://creativecommons.org/publicdomain/mark/1.0/?ref=ccsearch&atype=html\" style=\"margin-right: 5px;\">CC PDM 1.0</a><a href=\"https://creativecommons.org/publicdomain/mark/1.0/?ref=ccsearch&atype=html\" target=\"_blank\" rel=\"noopener noreferrer\" style=\"display: inline-block;white-space: none;margin-top: 2px;margin-left: 3px;height: 22px !important;\"><img style=\"height: inherit;margin-right: 3px;display: inline-block;\" src=\"https://search.creativecommons.org/static/img/cc_icon.svg?image_id=d199bd54-dea3-40bb-97fe-f2677b328013\" /><img style=\"height: inherit;margin-right: 3px;display: inline-block;\" src=\"https://search.creativecommons.org/static/img/cc-pdm_icon.svg\" /></a></p>"
   ]
  },
  {
   "cell_type": "code",
   "execution_count": 45,
   "metadata": {},
   "outputs": [
    {
     "data": {
      "text/html": [
       "<table>\n",
       "<thead><tr><th scope=col>Sepal.Length</th><th scope=col>Sepal.Width</th><th scope=col>Petal.Length</th><th scope=col>Petal.Width</th><th scope=col>Species</th></tr></thead>\n",
       "<tbody>\n",
       "\t<tr><td>5.1   </td><td>3.5   </td><td>1.4   </td><td>0.2   </td><td>setosa</td></tr>\n",
       "\t<tr><td>4.9   </td><td>3.0   </td><td>1.4   </td><td>0.2   </td><td>setosa</td></tr>\n",
       "\t<tr><td>4.7   </td><td>3.2   </td><td>1.3   </td><td>0.2   </td><td>setosa</td></tr>\n",
       "\t<tr><td>4.6   </td><td>3.1   </td><td>1.5   </td><td>0.2   </td><td>setosa</td></tr>\n",
       "\t<tr><td>5.0   </td><td>3.6   </td><td>1.4   </td><td>0.2   </td><td>setosa</td></tr>\n",
       "\t<tr><td>5.4   </td><td>3.9   </td><td>1.7   </td><td>0.4   </td><td>setosa</td></tr>\n",
       "</tbody>\n",
       "</table>\n"
      ],
      "text/latex": [
       "\\begin{tabular}{r|lllll}\n",
       " Sepal.Length & Sepal.Width & Petal.Length & Petal.Width & Species\\\\\n",
       "\\hline\n",
       "\t 5.1    & 3.5    & 1.4    & 0.2    & setosa\\\\\n",
       "\t 4.9    & 3.0    & 1.4    & 0.2    & setosa\\\\\n",
       "\t 4.7    & 3.2    & 1.3    & 0.2    & setosa\\\\\n",
       "\t 4.6    & 3.1    & 1.5    & 0.2    & setosa\\\\\n",
       "\t 5.0    & 3.6    & 1.4    & 0.2    & setosa\\\\\n",
       "\t 5.4    & 3.9    & 1.7    & 0.4    & setosa\\\\\n",
       "\\end{tabular}\n"
      ],
      "text/markdown": [
       "\n",
       "| Sepal.Length | Sepal.Width | Petal.Length | Petal.Width | Species |\n",
       "|---|---|---|---|---|\n",
       "| 5.1    | 3.5    | 1.4    | 0.2    | setosa |\n",
       "| 4.9    | 3.0    | 1.4    | 0.2    | setosa |\n",
       "| 4.7    | 3.2    | 1.3    | 0.2    | setosa |\n",
       "| 4.6    | 3.1    | 1.5    | 0.2    | setosa |\n",
       "| 5.0    | 3.6    | 1.4    | 0.2    | setosa |\n",
       "| 5.4    | 3.9    | 1.7    | 0.4    | setosa |\n",
       "\n"
      ],
      "text/plain": [
       "  Sepal.Length Sepal.Width Petal.Length Petal.Width Species\n",
       "1 5.1          3.5         1.4          0.2         setosa \n",
       "2 4.9          3.0         1.4          0.2         setosa \n",
       "3 4.7          3.2         1.3          0.2         setosa \n",
       "4 4.6          3.1         1.5          0.2         setosa \n",
       "5 5.0          3.6         1.4          0.2         setosa \n",
       "6 5.4          3.9         1.7          0.4         setosa "
      ]
     },
     "metadata": {},
     "output_type": "display_data"
    }
   ],
   "source": [
    "data(\"iris\")\n",
    "head(iris)"
   ]
  },
  {
   "cell_type": "code",
   "execution_count": 46,
   "metadata": {},
   "outputs": [
    {
     "data": {
      "text/html": [
       "<table>\n",
       "<thead><tr><th></th><th scope=col>Sepal.Length</th><th scope=col>Sepal.Width</th><th scope=col>Petal.Length</th><th scope=col>Petal.Width</th><th scope=col>Species</th></tr></thead>\n",
       "<tbody>\n",
       "\t<tr><th scope=row>51</th><td>7.0       </td><td>3.2       </td><td>4.7       </td><td>1.4       </td><td>versicolor</td></tr>\n",
       "\t<tr><th scope=row>52</th><td>6.4       </td><td>3.2       </td><td>4.5       </td><td>1.5       </td><td>versicolor</td></tr>\n",
       "\t<tr><th scope=row>53</th><td>6.9       </td><td>3.1       </td><td>4.9       </td><td>1.5       </td><td>versicolor</td></tr>\n",
       "\t<tr><th scope=row>54</th><td>5.5       </td><td>2.3       </td><td>4.0       </td><td>1.3       </td><td>versicolor</td></tr>\n",
       "\t<tr><th scope=row>55</th><td>6.5       </td><td>2.8       </td><td>4.6       </td><td>1.5       </td><td>versicolor</td></tr>\n",
       "\t<tr><th scope=row>56</th><td>5.7       </td><td>2.8       </td><td>4.5       </td><td>1.3       </td><td>versicolor</td></tr>\n",
       "\t<tr><th scope=row>57</th><td>6.3       </td><td>3.3       </td><td>4.7       </td><td>1.6       </td><td>versicolor</td></tr>\n",
       "\t<tr><th scope=row>58</th><td>4.9       </td><td>2.4       </td><td>3.3       </td><td>1.0       </td><td>versicolor</td></tr>\n",
       "\t<tr><th scope=row>59</th><td>6.6       </td><td>2.9       </td><td>4.6       </td><td>1.3       </td><td>versicolor</td></tr>\n",
       "\t<tr><th scope=row>60</th><td>5.2       </td><td>2.7       </td><td>3.9       </td><td>1.4       </td><td>versicolor</td></tr>\n",
       "\t<tr><th scope=row>61</th><td>5.0       </td><td>2.0       </td><td>3.5       </td><td>1.0       </td><td>versicolor</td></tr>\n",
       "\t<tr><th scope=row>62</th><td>5.9       </td><td>3.0       </td><td>4.2       </td><td>1.5       </td><td>versicolor</td></tr>\n",
       "\t<tr><th scope=row>63</th><td>6.0       </td><td>2.2       </td><td>4.0       </td><td>1.0       </td><td>versicolor</td></tr>\n",
       "\t<tr><th scope=row>64</th><td>6.1       </td><td>2.9       </td><td>4.7       </td><td>1.4       </td><td>versicolor</td></tr>\n",
       "\t<tr><th scope=row>65</th><td>5.6       </td><td>2.9       </td><td>3.6       </td><td>1.3       </td><td>versicolor</td></tr>\n",
       "\t<tr><th scope=row>66</th><td>6.7       </td><td>3.1       </td><td>4.4       </td><td>1.4       </td><td>versicolor</td></tr>\n",
       "\t<tr><th scope=row>67</th><td>5.6       </td><td>3.0       </td><td>4.5       </td><td>1.5       </td><td>versicolor</td></tr>\n",
       "\t<tr><th scope=row>68</th><td>5.8       </td><td>2.7       </td><td>4.1       </td><td>1.0       </td><td>versicolor</td></tr>\n",
       "\t<tr><th scope=row>69</th><td>6.2       </td><td>2.2       </td><td>4.5       </td><td>1.5       </td><td>versicolor</td></tr>\n",
       "\t<tr><th scope=row>70</th><td>5.6       </td><td>2.5       </td><td>3.9       </td><td>1.1       </td><td>versicolor</td></tr>\n",
       "\t<tr><th scope=row>71</th><td>5.9       </td><td>3.2       </td><td>4.8       </td><td>1.8       </td><td>versicolor</td></tr>\n",
       "\t<tr><th scope=row>72</th><td>6.1       </td><td>2.8       </td><td>4.0       </td><td>1.3       </td><td>versicolor</td></tr>\n",
       "\t<tr><th scope=row>73</th><td>6.3       </td><td>2.5       </td><td>4.9       </td><td>1.5       </td><td>versicolor</td></tr>\n",
       "\t<tr><th scope=row>74</th><td>6.1       </td><td>2.8       </td><td>4.7       </td><td>1.2       </td><td>versicolor</td></tr>\n",
       "\t<tr><th scope=row>75</th><td>6.4       </td><td>2.9       </td><td>4.3       </td><td>1.3       </td><td>versicolor</td></tr>\n",
       "\t<tr><th scope=row>76</th><td>6.6       </td><td>3.0       </td><td>4.4       </td><td>1.4       </td><td>versicolor</td></tr>\n",
       "\t<tr><th scope=row>77</th><td>6.8       </td><td>2.8       </td><td>4.8       </td><td>1.4       </td><td>versicolor</td></tr>\n",
       "\t<tr><th scope=row>78</th><td>6.7       </td><td>3.0       </td><td>5.0       </td><td>1.7       </td><td>versicolor</td></tr>\n",
       "\t<tr><th scope=row>79</th><td>6.0       </td><td>2.9       </td><td>4.5       </td><td>1.5       </td><td>versicolor</td></tr>\n",
       "\t<tr><th scope=row>80</th><td>5.7       </td><td>2.6       </td><td>3.5       </td><td>1.0       </td><td>versicolor</td></tr>\n",
       "\t<tr><th scope=row>81</th><td>5.5       </td><td>2.4       </td><td>3.8       </td><td>1.1       </td><td>versicolor</td></tr>\n",
       "\t<tr><th scope=row>82</th><td>5.5       </td><td>2.4       </td><td>3.7       </td><td>1.0       </td><td>versicolor</td></tr>\n",
       "\t<tr><th scope=row>83</th><td>5.8       </td><td>2.7       </td><td>3.9       </td><td>1.2       </td><td>versicolor</td></tr>\n",
       "\t<tr><th scope=row>84</th><td>6.0       </td><td>2.7       </td><td>5.1       </td><td>1.6       </td><td>versicolor</td></tr>\n",
       "\t<tr><th scope=row>85</th><td>5.4       </td><td>3.0       </td><td>4.5       </td><td>1.5       </td><td>versicolor</td></tr>\n",
       "\t<tr><th scope=row>86</th><td>6.0       </td><td>3.4       </td><td>4.5       </td><td>1.6       </td><td>versicolor</td></tr>\n",
       "\t<tr><th scope=row>87</th><td>6.7       </td><td>3.1       </td><td>4.7       </td><td>1.5       </td><td>versicolor</td></tr>\n",
       "\t<tr><th scope=row>88</th><td>6.3       </td><td>2.3       </td><td>4.4       </td><td>1.3       </td><td>versicolor</td></tr>\n",
       "\t<tr><th scope=row>89</th><td>5.6       </td><td>3.0       </td><td>4.1       </td><td>1.3       </td><td>versicolor</td></tr>\n",
       "\t<tr><th scope=row>90</th><td>5.5       </td><td>2.5       </td><td>4.0       </td><td>1.3       </td><td>versicolor</td></tr>\n",
       "\t<tr><th scope=row>91</th><td>5.5       </td><td>2.6       </td><td>4.4       </td><td>1.2       </td><td>versicolor</td></tr>\n",
       "\t<tr><th scope=row>92</th><td>6.1       </td><td>3.0       </td><td>4.6       </td><td>1.4       </td><td>versicolor</td></tr>\n",
       "\t<tr><th scope=row>93</th><td>5.8       </td><td>2.6       </td><td>4.0       </td><td>1.2       </td><td>versicolor</td></tr>\n",
       "\t<tr><th scope=row>94</th><td>5.0       </td><td>2.3       </td><td>3.3       </td><td>1.0       </td><td>versicolor</td></tr>\n",
       "\t<tr><th scope=row>95</th><td>5.6       </td><td>2.7       </td><td>4.2       </td><td>1.3       </td><td>versicolor</td></tr>\n",
       "\t<tr><th scope=row>96</th><td>5.7       </td><td>3.0       </td><td>4.2       </td><td>1.2       </td><td>versicolor</td></tr>\n",
       "\t<tr><th scope=row>97</th><td>5.7       </td><td>2.9       </td><td>4.2       </td><td>1.3       </td><td>versicolor</td></tr>\n",
       "\t<tr><th scope=row>98</th><td>6.2       </td><td>2.9       </td><td>4.3       </td><td>1.3       </td><td>versicolor</td></tr>\n",
       "\t<tr><th scope=row>99</th><td>5.1       </td><td>2.5       </td><td>3.0       </td><td>1.1       </td><td>versicolor</td></tr>\n",
       "\t<tr><th scope=row>100</th><td>5.7       </td><td>2.8       </td><td>4.1       </td><td>1.3       </td><td>versicolor</td></tr>\n",
       "</tbody>\n",
       "</table>\n"
      ],
      "text/latex": [
       "\\begin{tabular}{r|lllll}\n",
       "  & Sepal.Length & Sepal.Width & Petal.Length & Petal.Width & Species\\\\\n",
       "\\hline\n",
       "\t51 & 7.0        & 3.2        & 4.7        & 1.4        & versicolor\\\\\n",
       "\t52 & 6.4        & 3.2        & 4.5        & 1.5        & versicolor\\\\\n",
       "\t53 & 6.9        & 3.1        & 4.9        & 1.5        & versicolor\\\\\n",
       "\t54 & 5.5        & 2.3        & 4.0        & 1.3        & versicolor\\\\\n",
       "\t55 & 6.5        & 2.8        & 4.6        & 1.5        & versicolor\\\\\n",
       "\t56 & 5.7        & 2.8        & 4.5        & 1.3        & versicolor\\\\\n",
       "\t57 & 6.3        & 3.3        & 4.7        & 1.6        & versicolor\\\\\n",
       "\t58 & 4.9        & 2.4        & 3.3        & 1.0        & versicolor\\\\\n",
       "\t59 & 6.6        & 2.9        & 4.6        & 1.3        & versicolor\\\\\n",
       "\t60 & 5.2        & 2.7        & 3.9        & 1.4        & versicolor\\\\\n",
       "\t61 & 5.0        & 2.0        & 3.5        & 1.0        & versicolor\\\\\n",
       "\t62 & 5.9        & 3.0        & 4.2        & 1.5        & versicolor\\\\\n",
       "\t63 & 6.0        & 2.2        & 4.0        & 1.0        & versicolor\\\\\n",
       "\t64 & 6.1        & 2.9        & 4.7        & 1.4        & versicolor\\\\\n",
       "\t65 & 5.6        & 2.9        & 3.6        & 1.3        & versicolor\\\\\n",
       "\t66 & 6.7        & 3.1        & 4.4        & 1.4        & versicolor\\\\\n",
       "\t67 & 5.6        & 3.0        & 4.5        & 1.5        & versicolor\\\\\n",
       "\t68 & 5.8        & 2.7        & 4.1        & 1.0        & versicolor\\\\\n",
       "\t69 & 6.2        & 2.2        & 4.5        & 1.5        & versicolor\\\\\n",
       "\t70 & 5.6        & 2.5        & 3.9        & 1.1        & versicolor\\\\\n",
       "\t71 & 5.9        & 3.2        & 4.8        & 1.8        & versicolor\\\\\n",
       "\t72 & 6.1        & 2.8        & 4.0        & 1.3        & versicolor\\\\\n",
       "\t73 & 6.3        & 2.5        & 4.9        & 1.5        & versicolor\\\\\n",
       "\t74 & 6.1        & 2.8        & 4.7        & 1.2        & versicolor\\\\\n",
       "\t75 & 6.4        & 2.9        & 4.3        & 1.3        & versicolor\\\\\n",
       "\t76 & 6.6        & 3.0        & 4.4        & 1.4        & versicolor\\\\\n",
       "\t77 & 6.8        & 2.8        & 4.8        & 1.4        & versicolor\\\\\n",
       "\t78 & 6.7        & 3.0        & 5.0        & 1.7        & versicolor\\\\\n",
       "\t79 & 6.0        & 2.9        & 4.5        & 1.5        & versicolor\\\\\n",
       "\t80 & 5.7        & 2.6        & 3.5        & 1.0        & versicolor\\\\\n",
       "\t81 & 5.5        & 2.4        & 3.8        & 1.1        & versicolor\\\\\n",
       "\t82 & 5.5        & 2.4        & 3.7        & 1.0        & versicolor\\\\\n",
       "\t83 & 5.8        & 2.7        & 3.9        & 1.2        & versicolor\\\\\n",
       "\t84 & 6.0        & 2.7        & 5.1        & 1.6        & versicolor\\\\\n",
       "\t85 & 5.4        & 3.0        & 4.5        & 1.5        & versicolor\\\\\n",
       "\t86 & 6.0        & 3.4        & 4.5        & 1.6        & versicolor\\\\\n",
       "\t87 & 6.7        & 3.1        & 4.7        & 1.5        & versicolor\\\\\n",
       "\t88 & 6.3        & 2.3        & 4.4        & 1.3        & versicolor\\\\\n",
       "\t89 & 5.6        & 3.0        & 4.1        & 1.3        & versicolor\\\\\n",
       "\t90 & 5.5        & 2.5        & 4.0        & 1.3        & versicolor\\\\\n",
       "\t91 & 5.5        & 2.6        & 4.4        & 1.2        & versicolor\\\\\n",
       "\t92 & 6.1        & 3.0        & 4.6        & 1.4        & versicolor\\\\\n",
       "\t93 & 5.8        & 2.6        & 4.0        & 1.2        & versicolor\\\\\n",
       "\t94 & 5.0        & 2.3        & 3.3        & 1.0        & versicolor\\\\\n",
       "\t95 & 5.6        & 2.7        & 4.2        & 1.3        & versicolor\\\\\n",
       "\t96 & 5.7        & 3.0        & 4.2        & 1.2        & versicolor\\\\\n",
       "\t97 & 5.7        & 2.9        & 4.2        & 1.3        & versicolor\\\\\n",
       "\t98 & 6.2        & 2.9        & 4.3        & 1.3        & versicolor\\\\\n",
       "\t99 & 5.1        & 2.5        & 3.0        & 1.1        & versicolor\\\\\n",
       "\t100 & 5.7        & 2.8        & 4.1        & 1.3        & versicolor\\\\\n",
       "\\end{tabular}\n"
      ],
      "text/markdown": [
       "\n",
       "| <!--/--> | Sepal.Length | Sepal.Width | Petal.Length | Petal.Width | Species |\n",
       "|---|---|---|---|---|---|\n",
       "| 51 | 7.0        | 3.2        | 4.7        | 1.4        | versicolor |\n",
       "| 52 | 6.4        | 3.2        | 4.5        | 1.5        | versicolor |\n",
       "| 53 | 6.9        | 3.1        | 4.9        | 1.5        | versicolor |\n",
       "| 54 | 5.5        | 2.3        | 4.0        | 1.3        | versicolor |\n",
       "| 55 | 6.5        | 2.8        | 4.6        | 1.5        | versicolor |\n",
       "| 56 | 5.7        | 2.8        | 4.5        | 1.3        | versicolor |\n",
       "| 57 | 6.3        | 3.3        | 4.7        | 1.6        | versicolor |\n",
       "| 58 | 4.9        | 2.4        | 3.3        | 1.0        | versicolor |\n",
       "| 59 | 6.6        | 2.9        | 4.6        | 1.3        | versicolor |\n",
       "| 60 | 5.2        | 2.7        | 3.9        | 1.4        | versicolor |\n",
       "| 61 | 5.0        | 2.0        | 3.5        | 1.0        | versicolor |\n",
       "| 62 | 5.9        | 3.0        | 4.2        | 1.5        | versicolor |\n",
       "| 63 | 6.0        | 2.2        | 4.0        | 1.0        | versicolor |\n",
       "| 64 | 6.1        | 2.9        | 4.7        | 1.4        | versicolor |\n",
       "| 65 | 5.6        | 2.9        | 3.6        | 1.3        | versicolor |\n",
       "| 66 | 6.7        | 3.1        | 4.4        | 1.4        | versicolor |\n",
       "| 67 | 5.6        | 3.0        | 4.5        | 1.5        | versicolor |\n",
       "| 68 | 5.8        | 2.7        | 4.1        | 1.0        | versicolor |\n",
       "| 69 | 6.2        | 2.2        | 4.5        | 1.5        | versicolor |\n",
       "| 70 | 5.6        | 2.5        | 3.9        | 1.1        | versicolor |\n",
       "| 71 | 5.9        | 3.2        | 4.8        | 1.8        | versicolor |\n",
       "| 72 | 6.1        | 2.8        | 4.0        | 1.3        | versicolor |\n",
       "| 73 | 6.3        | 2.5        | 4.9        | 1.5        | versicolor |\n",
       "| 74 | 6.1        | 2.8        | 4.7        | 1.2        | versicolor |\n",
       "| 75 | 6.4        | 2.9        | 4.3        | 1.3        | versicolor |\n",
       "| 76 | 6.6        | 3.0        | 4.4        | 1.4        | versicolor |\n",
       "| 77 | 6.8        | 2.8        | 4.8        | 1.4        | versicolor |\n",
       "| 78 | 6.7        | 3.0        | 5.0        | 1.7        | versicolor |\n",
       "| 79 | 6.0        | 2.9        | 4.5        | 1.5        | versicolor |\n",
       "| 80 | 5.7        | 2.6        | 3.5        | 1.0        | versicolor |\n",
       "| 81 | 5.5        | 2.4        | 3.8        | 1.1        | versicolor |\n",
       "| 82 | 5.5        | 2.4        | 3.7        | 1.0        | versicolor |\n",
       "| 83 | 5.8        | 2.7        | 3.9        | 1.2        | versicolor |\n",
       "| 84 | 6.0        | 2.7        | 5.1        | 1.6        | versicolor |\n",
       "| 85 | 5.4        | 3.0        | 4.5        | 1.5        | versicolor |\n",
       "| 86 | 6.0        | 3.4        | 4.5        | 1.6        | versicolor |\n",
       "| 87 | 6.7        | 3.1        | 4.7        | 1.5        | versicolor |\n",
       "| 88 | 6.3        | 2.3        | 4.4        | 1.3        | versicolor |\n",
       "| 89 | 5.6        | 3.0        | 4.1        | 1.3        | versicolor |\n",
       "| 90 | 5.5        | 2.5        | 4.0        | 1.3        | versicolor |\n",
       "| 91 | 5.5        | 2.6        | 4.4        | 1.2        | versicolor |\n",
       "| 92 | 6.1        | 3.0        | 4.6        | 1.4        | versicolor |\n",
       "| 93 | 5.8        | 2.6        | 4.0        | 1.2        | versicolor |\n",
       "| 94 | 5.0        | 2.3        | 3.3        | 1.0        | versicolor |\n",
       "| 95 | 5.6        | 2.7        | 4.2        | 1.3        | versicolor |\n",
       "| 96 | 5.7        | 3.0        | 4.2        | 1.2        | versicolor |\n",
       "| 97 | 5.7        | 2.9        | 4.2        | 1.3        | versicolor |\n",
       "| 98 | 6.2        | 2.9        | 4.3        | 1.3        | versicolor |\n",
       "| 99 | 5.1        | 2.5        | 3.0        | 1.1        | versicolor |\n",
       "| 100 | 5.7        | 2.8        | 4.1        | 1.3        | versicolor |\n",
       "\n"
      ],
      "text/plain": [
       "    Sepal.Length Sepal.Width Petal.Length Petal.Width Species   \n",
       "51  7.0          3.2         4.7          1.4         versicolor\n",
       "52  6.4          3.2         4.5          1.5         versicolor\n",
       "53  6.9          3.1         4.9          1.5         versicolor\n",
       "54  5.5          2.3         4.0          1.3         versicolor\n",
       "55  6.5          2.8         4.6          1.5         versicolor\n",
       "56  5.7          2.8         4.5          1.3         versicolor\n",
       "57  6.3          3.3         4.7          1.6         versicolor\n",
       "58  4.9          2.4         3.3          1.0         versicolor\n",
       "59  6.6          2.9         4.6          1.3         versicolor\n",
       "60  5.2          2.7         3.9          1.4         versicolor\n",
       "61  5.0          2.0         3.5          1.0         versicolor\n",
       "62  5.9          3.0         4.2          1.5         versicolor\n",
       "63  6.0          2.2         4.0          1.0         versicolor\n",
       "64  6.1          2.9         4.7          1.4         versicolor\n",
       "65  5.6          2.9         3.6          1.3         versicolor\n",
       "66  6.7          3.1         4.4          1.4         versicolor\n",
       "67  5.6          3.0         4.5          1.5         versicolor\n",
       "68  5.8          2.7         4.1          1.0         versicolor\n",
       "69  6.2          2.2         4.5          1.5         versicolor\n",
       "70  5.6          2.5         3.9          1.1         versicolor\n",
       "71  5.9          3.2         4.8          1.8         versicolor\n",
       "72  6.1          2.8         4.0          1.3         versicolor\n",
       "73  6.3          2.5         4.9          1.5         versicolor\n",
       "74  6.1          2.8         4.7          1.2         versicolor\n",
       "75  6.4          2.9         4.3          1.3         versicolor\n",
       "76  6.6          3.0         4.4          1.4         versicolor\n",
       "77  6.8          2.8         4.8          1.4         versicolor\n",
       "78  6.7          3.0         5.0          1.7         versicolor\n",
       "79  6.0          2.9         4.5          1.5         versicolor\n",
       "80  5.7          2.6         3.5          1.0         versicolor\n",
       "81  5.5          2.4         3.8          1.1         versicolor\n",
       "82  5.5          2.4         3.7          1.0         versicolor\n",
       "83  5.8          2.7         3.9          1.2         versicolor\n",
       "84  6.0          2.7         5.1          1.6         versicolor\n",
       "85  5.4          3.0         4.5          1.5         versicolor\n",
       "86  6.0          3.4         4.5          1.6         versicolor\n",
       "87  6.7          3.1         4.7          1.5         versicolor\n",
       "88  6.3          2.3         4.4          1.3         versicolor\n",
       "89  5.6          3.0         4.1          1.3         versicolor\n",
       "90  5.5          2.5         4.0          1.3         versicolor\n",
       "91  5.5          2.6         4.4          1.2         versicolor\n",
       "92  6.1          3.0         4.6          1.4         versicolor\n",
       "93  5.8          2.6         4.0          1.2         versicolor\n",
       "94  5.0          2.3         3.3          1.0         versicolor\n",
       "95  5.6          2.7         4.2          1.3         versicolor\n",
       "96  5.7          3.0         4.2          1.2         versicolor\n",
       "97  5.7          2.9         4.2          1.3         versicolor\n",
       "98  6.2          2.9         4.3          1.3         versicolor\n",
       "99  5.1          2.5         3.0          1.1         versicolor\n",
       "100 5.7          2.8         4.1          1.3         versicolor"
      ]
     },
     "metadata": {},
     "output_type": "display_data"
    }
   ],
   "source": [
    "setosa <- subset(iris, Species == \"setosa\")\n",
    "versicolor <- subset(iris, Species == \"versicolor\")\n",
    "virginica <- subset(iris, Species == \"virginica\")\n",
    "versicolor"
   ]
  },
  {
   "cell_type": "code",
   "execution_count": 49,
   "metadata": {},
   "outputs": [
    {
     "data": {
      "image/png": "[encoded data removed]",
      "text/plain": [
       "plot without title"
      ]
     },
     "metadata": {},
     "output_type": "display_data"
    }
   ],
   "source": [
    "options(repr.plot.width = 20, repr.plot.height = 20)\n",
    "layout(matrix(c(1, 2, 3, 4), ncol = 2, nrow = 2),\n",
    "    widths = c(10, 10), heights = c(10, 10))\n",
    "par(las = 1, ps = 20, pty = \"m\", mar = c(5, 5, 0.25, 0.25))\n",
    "boxplot(setosa$Sepal.Length, versicolor$Sepal.Length, virginica$Sepal.Length,\n",
    "    names = c(\"Setosa\", \"Versicolor\", \"Virginica\"))\n",
    "par(las = 0)\n",
    "mtext(\"Sepal length [cm]\", side = 2, line = 3)\n",
    "par(las = 1, ps = 20, pty = \"m\", mar = c(5, 5, 0.25, 0.25))\n",
    "boxplot(setosa$Sepal.Width, versicolor$Sepal.Width, virginica$Sepal.Width,\n",
    "    names = c(\"Setosa\", \"Versicolor\", \"Virginica\"))\n",
    "par(las = 0)\n",
    "mtext(\"Sepal width [cm]\", side = 2, line = 3)\n",
    "par(las = 1, ps = 20, pty = \"m\", mar = c(5, 5, 0.25, 0.25))\n",
    "boxplot(setosa$Petal.Length, versicolor$Petal.Length, virginica$Petal.Length,\n",
    "    names = c(\"Setosa\", \"Versicolor\", \"Virginica\"))\n",
    "par(las = 0)\n",
    "mtext(\"Petal length [cm]\", side = 2, line = 3)\n",
    "par(las = 1, ps = 20, pty = \"m\", mar = c(5, 5, 0.25, 0.25))\n",
    "boxplot(setosa$Petal.Width, versicolor$Petal.Width, virginica$Petal.Width,\n",
    "    names = c(\"Setosa\", \"Versicolor\", \"Virginica\"))\n",
    "par(las = 0)\n",
    "mtext(\"Petal width [cm]\", side = 2, line = 3)"
   ]
  },
  {
   "cell_type": "code",
   "execution_count": 51,
   "metadata": {},
   "outputs": [
    {
     "data": {
      "text/plain": [
       "\n",
       "\tWelch Two Sample t-test\n",
       "\n",
       "data:  setosa$Sepal.Length and versicolor$Sepal.Length\n",
       "t = -10.521, df = 86.538, p-value < 2.2e-16\n",
       "alternative hypothesis: true difference in means is not equal to 0\n",
       "95 percent confidence interval:\n",
       " -1.1057074 -0.7542926\n",
       "sample estimates:\n",
       "mean of x mean of y \n",
       "    5.006     5.936 \n"
      ]
     },
     "metadata": {},
     "output_type": "display_data"
    }
   ],
   "source": [
    "t.test(setosa$Sepal.Length, versicolor$Sepal.Length)"
   ]
  },
  {
   "cell_type": "code",
   "execution_count": 52,
   "metadata": {},
   "outputs": [
    {
     "data": {
      "text/plain": [
       "\n",
       "\tWelch Two Sample t-test\n",
       "\n",
       "data:  virginica$Sepal.Width and versicolor$Sepal.Width\n",
       "t = 3.2058, df = 97.927, p-value = 0.001819\n",
       "alternative hypothesis: true difference in means is not equal to 0\n",
       "95 percent confidence interval:\n",
       " 0.07771636 0.33028364\n",
       "sample estimates:\n",
       "mean of x mean of y \n",
       "    2.974     2.770 \n"
      ]
     },
     "metadata": {},
     "output_type": "display_data"
    }
   ],
   "source": [
    "t.test(virginica$Sepal.Width,versicolor$Sepal.Width)"
   ]
  },
  {
   "cell_type": "markdown",
   "metadata": {},
   "source": [
    "## Linear regression"
   ]
  },
  {
   "cell_type": "markdown",
   "metadata": {},
   "source": [
    "The simplest form of defining a relationship between two parameters is a linear relationship, we can do that by fitting a linear equation in the form of:\n",
    "<br> $\\hat{y}=ax+b$\n",
    "\n",
    "Our aim is to obtain the fitting parameters *a* and *b* by using <a href=\"https://www.rdocumentation.org/packages/stats/versions/3.6.2/topics/lm\">lm()</a> function."
   ]
  },
  {
   "cell_type": "code",
   "execution_count": 53,
   "metadata": {},
   "outputs": [],
   "source": [
    "meteo_data <- read.csv(\"https://data.ncl.ac.uk/ndownloader/files/24194090\")"
   ]
  },
  {
   "cell_type": "code",
   "execution_count": 54,
   "metadata": {},
   "outputs": [
    {
     "data": {
      "text/plain": [
       "         Time     AirTemp_Mean    AirTemp_Max     AirTemp_Min    \n",
       " 01/06/2019: 1   Min.   : 5.80   Min.   : 8.30   Min.   : 2.400  \n",
       " 01/07/2019: 1   1st Qu.:11.45   1st Qu.:14.90   1st Qu.: 8.200  \n",
       " 02/06/2019: 1   Median :13.50   Median :17.20   Median : 9.700  \n",
       " 02/07/2019: 1   Mean   :13.04   Mean   :16.75   Mean   : 9.664  \n",
       " 03/05/2019: 1   3rd Qu.:15.10   3rd Qu.:18.90   3rd Qu.:12.050  \n",
       " 03/06/2019: 1   Max.   :18.70   Max.   :26.00   Max.   :14.600  \n",
       " (Other)   :70                                                   \n",
       "   Humid_Mean      Humid_Max       Humid_Min       WindSpeed    \n",
       " Min.   :50.60   Min.   :64.60   Min.   :27.30   Min.   :0.970  \n",
       " 1st Qu.:61.40   1st Qu.:79.25   1st Qu.:41.25   1st Qu.:1.380  \n",
       " Median :68.90   Median :83.90   Median :48.20   Median :1.785  \n",
       " Mean   :68.17   Mean   :83.26   Mean   :50.32   Mean   :1.995  \n",
       " 3rd Qu.:73.03   3rd Qu.:88.35   3rd Qu.:55.67   3rd Qu.:2.542  \n",
       " Max.   :89.30   Max.   :91.30   Max.   :84.90   Max.   :4.410  \n",
       "                                                                \n",
       " WindDirection       NetRad            Baro             Rain       \n",
       " Min.   :  0.1   Min.   :-23.20   Min.   : 990.2   Min.   : 0.000  \n",
       " 1st Qu.:209.7   1st Qu.: 21.12   1st Qu.:1002.0   1st Qu.: 0.000  \n",
       " Median :257.1   Median : 49.30   Median :1007.6   Median : 0.100  \n",
       " Mean   :249.3   Mean   : 48.58   Mean   :1007.9   Mean   : 2.918  \n",
       " 3rd Qu.:352.7   3rd Qu.: 79.20   3rd Qu.:1013.5   3rd Qu.: 2.000  \n",
       " Max.   :358.5   Max.   :108.60   Max.   :1029.8   Max.   :45.800  \n",
       "                                                                   "
      ]
     },
     "metadata": {},
     "output_type": "display_data"
    }
   ],
   "source": [
    "summary(meteo_data)"
   ]
  },
  {
   "cell_type": "code",
   "execution_count": 55,
   "metadata": {},
   "outputs": [
    {
     "data": {
      "image/png": "[encoded data removed]",
      "text/plain": [
       "plot without title"
      ]
     },
     "metadata": {},
     "output_type": "display_data"
    }
   ],
   "source": [
    "options(repr.plot.width = 20, repr.plot.height = 20)\n",
    "par(pty = \"s\", ps = 16)\n",
    "plot(meteo_data)"
   ]
  },
  {
   "cell_type": "code",
   "execution_count": 58,
   "metadata": {},
   "outputs": [
    {
     "data": {
      "image/png": "[encoded data removed]",
      "text/plain": [
       "plot without title"
      ]
     },
     "metadata": {},
     "output_type": "display_data"
    }
   ],
   "source": [
    "options(repr.plot.width = 5, repr.plot.height = 5)\n",
    "par(pty = \"s\", ps = 16, mar = c(4, 4, 0.25, 0.25))\n",
    "plot(NetRad~Humid_Mean, meteo_data)"
   ]
  },
  {
   "cell_type": "code",
   "execution_count": 59,
   "metadata": {},
   "outputs": [
    {
     "data": {
      "text/plain": [
       "\n",
       "Call:\n",
       "lm(formula = NetRad ~ Humid_Mean, data = meteo_data)\n",
       "\n",
       "Residuals:\n",
       "    Min      1Q  Median      3Q     Max \n",
       "-41.635 -17.062  -2.265  13.362  66.411 \n",
       "\n",
       "Coefficients:\n",
       "            Estimate Std. Error t value Pr(>|t|)    \n",
       "(Intercept) 218.2498    22.8575   9.548 1.54e-14 ***\n",
       "Humid_Mean   -2.4887     0.3325  -7.485 1.21e-10 ***\n",
       "---\n",
       "Signif. codes:  0 '***' 0.001 '**' 0.01 '*' 0.05 '.' 0.1 ' ' 1\n",
       "\n",
       "Residual standard error: 25.67 on 74 degrees of freedom\n",
       "Multiple R-squared:  0.4309,\tAdjusted R-squared:  0.4232 \n",
       "F-statistic: 56.03 on 1 and 74 DF,  p-value: 1.213e-10\n"
      ]
     },
     "metadata": {},
     "output_type": "display_data"
    }
   ],
   "source": [
    "lin_reg <- lm(NetRad~Humid_Mean, meteo_data)\n",
    "summary(lin_reg)"
   ]
  },
  {
   "cell_type": "code",
   "execution_count": 60,
   "metadata": {},
   "outputs": [
    {
     "data": {
      "text/html": [
       "<dl class=dl-horizontal>\n",
       "\t<dt>(Intercept)</dt>\n",
       "\t\t<dd>218.249767183123</dd>\n",
       "\t<dt>Humid_Mean</dt>\n",
       "\t\t<dd>-2.48874436538202</dd>\n",
       "</dl>\n"
      ],
      "text/latex": [
       "\\begin{description*}\n",
       "\\item[(Intercept)] 218.249767183123\n",
       "\\item[Humid\\textbackslash{}\\_Mean] -2.48874436538202\n",
       "\\end{description*}\n"
      ],
      "text/markdown": [
       "(Intercept)\n",
       ":   218.249767183123Humid_Mean\n",
       ":   -2.48874436538202\n",
       "\n"
      ],
      "text/plain": [
       "(Intercept)  Humid_Mean \n",
       " 218.249767   -2.488744 "
      ]
     },
     "metadata": {},
     "output_type": "display_data"
    }
   ],
   "source": [
    "lin_reg$coefficients\n",
    "r2_lin_reg <- summary(lin_reg)[8]\n"
   ]
  },
  {
   "cell_type": "code",
   "execution_count": 61,
   "metadata": {},
   "outputs": [
    {
     "data": {
      "image/png": "[encoded data removed]",
      "text/plain": [
       "plot without title"
      ]
     },
     "metadata": {},
     "output_type": "display_data"
    }
   ],
   "source": [
    "options(repr.plot.width = 5, repr.plot.height = 5)\n",
    "par(pty = \"s\", ps = 16, las = 1, mar = c(4, 4, 0.25, 0.25))\n",
    "plot(NetRad~Humid_Mean, meteo_data, pch = 16)\n",
    "abline(lin_reg, lwd = 3, col = 2)\n",
    "text(50, -20, \n",
    "    bquote(italic(R)^2 == .(format(r2_lin_reg, digits = 2))),\n",
    "    adj = c(0, 0))"
   ]
  },
  {
   "cell_type": "markdown",
   "metadata": {},
   "source": [
    "## Working with time data"
   ]
  },
  {
   "cell_type": "markdown",
   "metadata": {},
   "source": [
    "<a href=\"https://www.rdocumentation.org/packages/base/versions/3.6.2/topics/Sys.time\">Sys.time()</a> funtion gives us the date and time of the device/server. We see that default format for the date and time is \"*year-month-day hh:mm:sec Timezone*\""
   ]
  },
  {
   "cell_type": "code",
   "execution_count": null,
   "metadata": {},
   "outputs": [
    {
     "data": {
      "text/plain": [
       "[1] \"2021-05-04 13:07:23 UTC\""
      ]
     },
     "metadata": {},
     "output_type": "display_data"
    }
   ],
   "source": [
    "Sys.time()"
   ]
  },
  {
   "cell_type": "code",
   "execution_count": null,
   "metadata": {},
   "outputs": [
    {
     "data": {
      "text/html": [
       "<style>\n",
       ".list-inline {list-style: none; margin:0; padding: 0}\n",
       ".list-inline>li {display: inline-block}\n",
       ".list-inline>li:not(:last-child)::after {content: \"\\00b7\"; padding: 0 .5ex}\n",
       "</style>\n",
       "<ol class=list-inline><li>'POSIXct'</li><li>'POSIXt'</li></ol>\n"
      ],
      "text/latex": [
       "\\begin{enumerate*}\n",
       "\\item 'POSIXct'\n",
       "\\item 'POSIXt'\n",
       "\\end{enumerate*}\n"
      ],
      "text/markdown": [
       "1. 'POSIXct'\n",
       "2. 'POSIXt'\n",
       "\n",
       "\n"
      ],
      "text/plain": [
       "[1] \"POSIXct\" \"POSIXt\" "
      ]
     },
     "metadata": {},
     "output_type": "display_data"
    }
   ],
   "source": [
    "class(Sys.time())"
   ]
  },
  {
   "cell_type": "markdown",
   "metadata": {},
   "source": [
    "POSIXct is the number of seconds since 01.01.1970 in Coordinated Universal Time (UTC). If we remove it from its class, we can see it as a numeric value:"
   ]
  },
  {
   "cell_type": "code",
   "execution_count": null,
   "metadata": {},
   "outputs": [
    {
     "data": {
      "text/html": [
       "1620133643.93054"
      ],
      "text/latex": [
       "1620133643.93054"
      ],
      "text/markdown": [
       "1620133643.93054"
      ],
      "text/plain": [
       "[1] 1620133644"
      ]
     },
     "metadata": {},
     "output_type": "display_data"
    }
   ],
   "source": [
    "unclass(Sys.time())"
   ]
  },
  {
   "cell_type": "code",
   "execution_count": 71,
   "metadata": {},
   "outputs": [
    {
     "data": {
      "text/html": [
       "<ol class=list-inline>\n",
       "\t<li>'2021-12-16 15:46:50'</li>\n",
       "\t<li>'2021-12-16 15:46:40'</li>\n",
       "\t<li>'2021-12-16 15:46:30'</li>\n",
       "\t<li>'2021-12-16 15:46:20'</li>\n",
       "\t<li>'2021-12-16 15:46:10'</li>\n",
       "\t<li>'2021-12-16 15:46:00'</li>\n",
       "</ol>\n"
      ],
      "text/latex": [
       "\\begin{enumerate*}\n",
       "\\item '2021-12-16 15:46:50'\n",
       "\\item '2021-12-16 15:46:40'\n",
       "\\item '2021-12-16 15:46:30'\n",
       "\\item '2021-12-16 15:46:20'\n",
       "\\item '2021-12-16 15:46:10'\n",
       "\\item '2021-12-16 15:46:00'\n",
       "\\end{enumerate*}\n"
      ],
      "text/markdown": [
       "1. '2021-12-16 15:46:50'\n",
       "2. '2021-12-16 15:46:40'\n",
       "3. '2021-12-16 15:46:30'\n",
       "4. '2021-12-16 15:46:20'\n",
       "5. '2021-12-16 15:46:10'\n",
       "6. '2021-12-16 15:46:00'\n",
       "\n",
       "\n"
      ],
      "text/plain": [
       "[1] \"2021-12-16 15:46:50\" \"2021-12-16 15:46:40\" \"2021-12-16 15:46:30\"\n",
       "[4] \"2021-12-16 15:46:20\" \"2021-12-16 15:46:10\" \"2021-12-16 15:46:00\""
      ]
     },
     "metadata": {},
     "output_type": "display_data"
    }
   ],
   "source": [
    "head(raw_data[, 1])"
   ]
  },
  {
   "cell_type": "code",
   "execution_count": 72,
   "metadata": {},
   "outputs": [
    {
     "data": {
      "text/plain": [
       "[1] \"2021-12-16 15:46:50 UTC\" \"2021-12-16 15:46:40 UTC\"\n",
       "[3] \"2021-12-16 15:46:30 UTC\" \"2021-12-16 15:46:20 UTC\"\n",
       "[5] \"2021-12-16 15:46:10 UTC\" \"2021-12-16 15:46:00 UTC\""
      ]
     },
     "metadata": {},
     "output_type": "display_data"
    }
   ],
   "source": [
    "head(as.POSIXct(raw_data[, 1], tz = \"UTC\"))"
   ]
  },
  {
   "cell_type": "code",
   "execution_count": 78,
   "metadata": {},
   "outputs": [
    {
     "data": {
      "text/html": [
       "<table>\n",
       "<thead><tr><th scope=col>Time</th><th scope=col>AirTemp</th></tr></thead>\n",
       "<tbody>\n",
       "\t<tr><td>03/05/2019 00:15</td><td>6.6             </td></tr>\n",
       "\t<tr><td>03/05/2019 00:30</td><td>6.5             </td></tr>\n",
       "\t<tr><td>03/05/2019 00:45</td><td>6.4             </td></tr>\n",
       "\t<tr><td>03/05/2019 01:00</td><td>6.0             </td></tr>\n",
       "\t<tr><td>03/05/2019 01:15</td><td>5.9             </td></tr>\n",
       "\t<tr><td>03/05/2019 01:30</td><td>6.0             </td></tr>\n",
       "</tbody>\n",
       "</table>\n"
      ],
      "text/latex": [
       "\\begin{tabular}{r|ll}\n",
       " Time & AirTemp\\\\\n",
       "\\hline\n",
       "\t 03/05/2019 00:15 & 6.6             \\\\\n",
       "\t 03/05/2019 00:30 & 6.5             \\\\\n",
       "\t 03/05/2019 00:45 & 6.4             \\\\\n",
       "\t 03/05/2019 01:00 & 6.0             \\\\\n",
       "\t 03/05/2019 01:15 & 5.9             \\\\\n",
       "\t 03/05/2019 01:30 & 6.0             \\\\\n",
       "\\end{tabular}\n"
      ],
      "text/markdown": [
       "\n",
       "| Time | AirTemp |\n",
       "|---|---|\n",
       "| 03/05/2019 00:15 | 6.6              |\n",
       "| 03/05/2019 00:30 | 6.5              |\n",
       "| 03/05/2019 00:45 | 6.4              |\n",
       "| 03/05/2019 01:00 | 6.0              |\n",
       "| 03/05/2019 01:15 | 5.9              |\n",
       "| 03/05/2019 01:30 | 6.0              |\n",
       "\n"
      ],
      "text/plain": [
       "  Time             AirTemp\n",
       "1 03/05/2019 00:15 6.6    \n",
       "2 03/05/2019 00:30 6.5    \n",
       "3 03/05/2019 00:45 6.4    \n",
       "4 03/05/2019 01:00 6.0    \n",
       "5 03/05/2019 01:15 5.9    \n",
       "6 03/05/2019 01:30 6.0    "
      ]
     },
     "metadata": {},
     "output_type": "display_data"
    }
   ],
   "source": [
    "airtemp <- read.csv(\"https://data.ncl.ac.uk/ndownloader/files/24194087\",\n",
    "    stringsAsFactors = F)\n",
    "head(airtemp)"
   ]
  },
  {
   "cell_type": "code",
   "execution_count": 79,
   "metadata": {},
   "outputs": [
    {
     "data": {
      "text/plain": [
       "[1] \"2019-05-03 00:15:00 UTC\" \"2019-05-03 00:30:00 UTC\"\n",
       "[3] \"2019-05-03 00:45:00 UTC\" \"2019-05-03 01:00:00 UTC\"\n",
       "[5] \"2019-05-03 01:15:00 UTC\" \"2019-05-03 01:30:00 UTC\""
      ]
     },
     "metadata": {},
     "output_type": "display_data"
    }
   ],
   "source": [
    "date_time <- as.POSIXct(airtemp[, 1], tz = \"UTC\", format = \"%d/%m/%Y %H:%M\")\n",
    "head(date_time)"
   ]
  },
  {
   "cell_type": "code",
   "execution_count": 80,
   "metadata": {},
   "outputs": [
    {
     "data": {
      "text/html": [
       "<ol class=list-inline>\n",
       "\t<li>'03/05/2019 00:15'</li>\n",
       "\t<li>'03/05/2019 00:30'</li>\n",
       "\t<li>'03/05/2019 00:45'</li>\n",
       "\t<li>'03/05/2019 01:00'</li>\n",
       "\t<li>'03/05/2019 01:15'</li>\n",
       "\t<li>'03/05/2019 01:30'</li>\n",
       "</ol>\n"
      ],
      "text/latex": [
       "\\begin{enumerate*}\n",
       "\\item '03/05/2019 00:15'\n",
       "\\item '03/05/2019 00:30'\n",
       "\\item '03/05/2019 00:45'\n",
       "\\item '03/05/2019 01:00'\n",
       "\\item '03/05/2019 01:15'\n",
       "\\item '03/05/2019 01:30'\n",
       "\\end{enumerate*}\n"
      ],
      "text/markdown": [
       "1. '03/05/2019 00:15'\n",
       "2. '03/05/2019 00:30'\n",
       "3. '03/05/2019 00:45'\n",
       "4. '03/05/2019 01:00'\n",
       "5. '03/05/2019 01:15'\n",
       "6. '03/05/2019 01:30'\n",
       "\n",
       "\n"
      ],
      "text/plain": [
       "[1] \"03/05/2019 00:15\" \"03/05/2019 00:30\" \"03/05/2019 00:45\" \"03/05/2019 01:00\"\n",
       "[5] \"03/05/2019 01:15\" \"03/05/2019 01:30\""
      ]
     },
     "metadata": {},
     "output_type": "display_data"
    }
   ],
   "source": [
    "head(airtemp[, 1])"
   ]
  },
  {
   "cell_type": "code",
   "execution_count": 81,
   "metadata": {},
   "outputs": [
    {
     "data": {
      "text/html": [
       "'list'"
      ],
      "text/latex": [
       "'list'"
      ],
      "text/markdown": [
       "'list'"
      ],
      "text/plain": [
       "[1] \"list\""
      ]
     },
     "metadata": {},
     "output_type": "display_data"
    },
    {
     "data": {
      "text/html": [
       "<ol>\n",
       "\t<li><ol class=list-inline>\n",
       "\t<li>'03/05/2019'</li>\n",
       "\t<li>'00:15'</li>\n",
       "</ol>\n",
       "</li>\n",
       "\t<li><ol class=list-inline>\n",
       "\t<li>'03/05/2019'</li>\n",
       "\t<li>'00:30'</li>\n",
       "</ol>\n",
       "</li>\n",
       "\t<li><ol class=list-inline>\n",
       "\t<li>'03/05/2019'</li>\n",
       "\t<li>'00:45'</li>\n",
       "</ol>\n",
       "</li>\n",
       "\t<li><ol class=list-inline>\n",
       "\t<li>'03/05/2019'</li>\n",
       "\t<li>'01:00'</li>\n",
       "</ol>\n",
       "</li>\n",
       "\t<li><ol class=list-inline>\n",
       "\t<li>'03/05/2019'</li>\n",
       "\t<li>'01:15'</li>\n",
       "</ol>\n",
       "</li>\n",
       "\t<li><ol class=list-inline>\n",
       "\t<li>'03/05/2019'</li>\n",
       "\t<li>'01:30'</li>\n",
       "</ol>\n",
       "</li>\n",
       "</ol>\n"
      ],
      "text/latex": [
       "\\begin{enumerate}\n",
       "\\item \\begin{enumerate*}\n",
       "\\item '03/05/2019'\n",
       "\\item '00:15'\n",
       "\\end{enumerate*}\n",
       "\n",
       "\\item \\begin{enumerate*}\n",
       "\\item '03/05/2019'\n",
       "\\item '00:30'\n",
       "\\end{enumerate*}\n",
       "\n",
       "\\item \\begin{enumerate*}\n",
       "\\item '03/05/2019'\n",
       "\\item '00:45'\n",
       "\\end{enumerate*}\n",
       "\n",
       "\\item \\begin{enumerate*}\n",
       "\\item '03/05/2019'\n",
       "\\item '01:00'\n",
       "\\end{enumerate*}\n",
       "\n",
       "\\item \\begin{enumerate*}\n",
       "\\item '03/05/2019'\n",
       "\\item '01:15'\n",
       "\\end{enumerate*}\n",
       "\n",
       "\\item \\begin{enumerate*}\n",
       "\\item '03/05/2019'\n",
       "\\item '01:30'\n",
       "\\end{enumerate*}\n",
       "\n",
       "\\end{enumerate}\n"
      ],
      "text/markdown": [
       "1. 1. '03/05/2019'\n",
       "2. '00:15'\n",
       "\n",
       "\n",
       "\n",
       "2. 1. '03/05/2019'\n",
       "2. '00:30'\n",
       "\n",
       "\n",
       "\n",
       "3. 1. '03/05/2019'\n",
       "2. '00:45'\n",
       "\n",
       "\n",
       "\n",
       "4. 1. '03/05/2019'\n",
       "2. '01:00'\n",
       "\n",
       "\n",
       "\n",
       "5. 1. '03/05/2019'\n",
       "2. '01:15'\n",
       "\n",
       "\n",
       "\n",
       "6. 1. '03/05/2019'\n",
       "2. '01:30'\n",
       "\n",
       "\n",
       "\n",
       "\n",
       "\n"
      ],
      "text/plain": [
       "[[1]]\n",
       "[1] \"03/05/2019\" \"00:15\"     \n",
       "\n",
       "[[2]]\n",
       "[1] \"03/05/2019\" \"00:30\"     \n",
       "\n",
       "[[3]]\n",
       "[1] \"03/05/2019\" \"00:45\"     \n",
       "\n",
       "[[4]]\n",
       "[1] \"03/05/2019\" \"01:00\"     \n",
       "\n",
       "[[5]]\n",
       "[1] \"03/05/2019\" \"01:15\"     \n",
       "\n",
       "[[6]]\n",
       "[1] \"03/05/2019\" \"01:30\"     \n"
      ]
     },
     "metadata": {},
     "output_type": "display_data"
    }
   ],
   "source": [
    "seperated <- strsplit(airtemp[, 1], split = \" \")\n",
    "class(seperated)\n",
    "head(seperated)"
   ]
  },
  {
   "cell_type": "code",
   "execution_count": 82,
   "metadata": {},
   "outputs": [
    {
     "data": {
      "text/html": [
       "'03/05/2019'"
      ],
      "text/latex": [
       "'03/05/2019'"
      ],
      "text/markdown": [
       "'03/05/2019'"
      ],
      "text/plain": [
       "[1] \"03/05/2019\""
      ]
     },
     "metadata": {},
     "output_type": "display_data"
    }
   ],
   "source": [
    "strsplit(airtemp[, 1], split = \" \")[[1]][1]"
   ]
  },
  {
   "cell_type": "code",
   "execution_count": 84,
   "metadata": {},
   "outputs": [
    {
     "data": {
      "text/html": [
       "<ol>\n",
       "\t<li>'03/05/2019'</li>\n",
       "\t<li>'03/05/2019'</li>\n",
       "\t<li>'03/05/2019'</li>\n",
       "\t<li>'03/05/2019'</li>\n",
       "\t<li>'03/05/2019'</li>\n",
       "\t<li>'03/05/2019'</li>\n",
       "</ol>\n"
      ],
      "text/latex": [
       "\\begin{enumerate}\n",
       "\\item '03/05/2019'\n",
       "\\item '03/05/2019'\n",
       "\\item '03/05/2019'\n",
       "\\item '03/05/2019'\n",
       "\\item '03/05/2019'\n",
       "\\item '03/05/2019'\n",
       "\\end{enumerate}\n"
      ],
      "text/markdown": [
       "1. '03/05/2019'\n",
       "2. '03/05/2019'\n",
       "3. '03/05/2019'\n",
       "4. '03/05/2019'\n",
       "5. '03/05/2019'\n",
       "6. '03/05/2019'\n",
       "\n",
       "\n"
      ],
      "text/plain": [
       "[[1]]\n",
       "[1] \"03/05/2019\"\n",
       "\n",
       "[[2]]\n",
       "[1] \"03/05/2019\"\n",
       "\n",
       "[[3]]\n",
       "[1] \"03/05/2019\"\n",
       "\n",
       "[[4]]\n",
       "[1] \"03/05/2019\"\n",
       "\n",
       "[[5]]\n",
       "[1] \"03/05/2019\"\n",
       "\n",
       "[[6]]\n",
       "[1] \"03/05/2019\"\n"
      ]
     },
     "metadata": {},
     "output_type": "display_data"
    },
    {
     "data": {
      "text/html": [
       "<ol class=list-inline>\n",
       "\t<li>'03/05/2019'</li>\n",
       "\t<li>'03/05/2019'</li>\n",
       "\t<li>'03/05/2019'</li>\n",
       "\t<li>'03/05/2019'</li>\n",
       "\t<li>'03/05/2019'</li>\n",
       "\t<li>'03/05/2019'</li>\n",
       "</ol>\n"
      ],
      "text/latex": [
       "\\begin{enumerate*}\n",
       "\\item '03/05/2019'\n",
       "\\item '03/05/2019'\n",
       "\\item '03/05/2019'\n",
       "\\item '03/05/2019'\n",
       "\\item '03/05/2019'\n",
       "\\item '03/05/2019'\n",
       "\\end{enumerate*}\n"
      ],
      "text/markdown": [
       "1. '03/05/2019'\n",
       "2. '03/05/2019'\n",
       "3. '03/05/2019'\n",
       "4. '03/05/2019'\n",
       "5. '03/05/2019'\n",
       "6. '03/05/2019'\n",
       "\n",
       "\n"
      ],
      "text/plain": [
       "[1] \"03/05/2019\" \"03/05/2019\" \"03/05/2019\" \"03/05/2019\" \"03/05/2019\"\n",
       "[6] \"03/05/2019\""
      ]
     },
     "metadata": {},
     "output_type": "display_data"
    }
   ],
   "source": [
    "head(lapply(seperated, function(x) {x[1]}))\n",
    "head(unlist(lapply(seperated, function(x) {x[1]})))"
   ]
  },
  {
   "cell_type": "code",
   "execution_count": 85,
   "metadata": {},
   "outputs": [
    {
     "data": {
      "text/html": [
       "<ol class=list-inline>\n",
       "\t<li>'03/05/2019'</li>\n",
       "\t<li>'03/05/2019'</li>\n",
       "\t<li>'03/05/2019'</li>\n",
       "\t<li>'03/05/2019'</li>\n",
       "\t<li>'03/05/2019'</li>\n",
       "\t<li>'03/05/2019'</li>\n",
       "</ol>\n"
      ],
      "text/latex": [
       "\\begin{enumerate*}\n",
       "\\item '03/05/2019'\n",
       "\\item '03/05/2019'\n",
       "\\item '03/05/2019'\n",
       "\\item '03/05/2019'\n",
       "\\item '03/05/2019'\n",
       "\\item '03/05/2019'\n",
       "\\end{enumerate*}\n"
      ],
      "text/markdown": [
       "1. '03/05/2019'\n",
       "2. '03/05/2019'\n",
       "3. '03/05/2019'\n",
       "4. '03/05/2019'\n",
       "5. '03/05/2019'\n",
       "6. '03/05/2019'\n",
       "\n",
       "\n"
      ],
      "text/plain": [
       "[1] \"03/05/2019\" \"03/05/2019\" \"03/05/2019\" \"03/05/2019\" \"03/05/2019\"\n",
       "[6] \"03/05/2019\""
      ]
     },
     "metadata": {},
     "output_type": "display_data"
    },
    {
     "data": {
      "text/html": [
       "<ol class=list-inline>\n",
       "\t<li>'00:15'</li>\n",
       "\t<li>'00:30'</li>\n",
       "\t<li>'00:45'</li>\n",
       "\t<li>'01:00'</li>\n",
       "\t<li>'01:15'</li>\n",
       "\t<li>'01:30'</li>\n",
       "</ol>\n"
      ],
      "text/latex": [
       "\\begin{enumerate*}\n",
       "\\item '00:15'\n",
       "\\item '00:30'\n",
       "\\item '00:45'\n",
       "\\item '01:00'\n",
       "\\item '01:15'\n",
       "\\item '01:30'\n",
       "\\end{enumerate*}\n"
      ],
      "text/markdown": [
       "1. '00:15'\n",
       "2. '00:30'\n",
       "3. '00:45'\n",
       "4. '01:00'\n",
       "5. '01:15'\n",
       "6. '01:30'\n",
       "\n",
       "\n"
      ],
      "text/plain": [
       "[1] \"00:15\" \"00:30\" \"00:45\" \"01:00\" \"01:15\" \"01:30\""
      ]
     },
     "metadata": {},
     "output_type": "display_data"
    }
   ],
   "source": [
    "date <- unlist(lapply(seperated, function(x) {x[1]}))\n",
    "time <- unlist(lapply(seperated, function(x) {x[2]}))\n",
    "head(date)\n",
    "head(time)"
   ]
  },
  {
   "cell_type": "code",
   "execution_count": 86,
   "metadata": {},
   "outputs": [
    {
     "data": {
      "text/html": [
       "<ol>\n",
       "\t<li><ol class=list-inline>\n",
       "\t<li>'03'</li>\n",
       "\t<li>'05'</li>\n",
       "\t<li>'2019'</li>\n",
       "</ol>\n",
       "</li>\n",
       "\t<li><ol class=list-inline>\n",
       "\t<li>'03'</li>\n",
       "\t<li>'05'</li>\n",
       "\t<li>'2019'</li>\n",
       "</ol>\n",
       "</li>\n",
       "\t<li><ol class=list-inline>\n",
       "\t<li>'03'</li>\n",
       "\t<li>'05'</li>\n",
       "\t<li>'2019'</li>\n",
       "</ol>\n",
       "</li>\n",
       "\t<li><ol class=list-inline>\n",
       "\t<li>'03'</li>\n",
       "\t<li>'05'</li>\n",
       "\t<li>'2019'</li>\n",
       "</ol>\n",
       "</li>\n",
       "\t<li><ol class=list-inline>\n",
       "\t<li>'03'</li>\n",
       "\t<li>'05'</li>\n",
       "\t<li>'2019'</li>\n",
       "</ol>\n",
       "</li>\n",
       "\t<li><ol class=list-inline>\n",
       "\t<li>'03'</li>\n",
       "\t<li>'05'</li>\n",
       "\t<li>'2019'</li>\n",
       "</ol>\n",
       "</li>\n",
       "</ol>\n"
      ],
      "text/latex": [
       "\\begin{enumerate}\n",
       "\\item \\begin{enumerate*}\n",
       "\\item '03'\n",
       "\\item '05'\n",
       "\\item '2019'\n",
       "\\end{enumerate*}\n",
       "\n",
       "\\item \\begin{enumerate*}\n",
       "\\item '03'\n",
       "\\item '05'\n",
       "\\item '2019'\n",
       "\\end{enumerate*}\n",
       "\n",
       "\\item \\begin{enumerate*}\n",
       "\\item '03'\n",
       "\\item '05'\n",
       "\\item '2019'\n",
       "\\end{enumerate*}\n",
       "\n",
       "\\item \\begin{enumerate*}\n",
       "\\item '03'\n",
       "\\item '05'\n",
       "\\item '2019'\n",
       "\\end{enumerate*}\n",
       "\n",
       "\\item \\begin{enumerate*}\n",
       "\\item '03'\n",
       "\\item '05'\n",
       "\\item '2019'\n",
       "\\end{enumerate*}\n",
       "\n",
       "\\item \\begin{enumerate*}\n",
       "\\item '03'\n",
       "\\item '05'\n",
       "\\item '2019'\n",
       "\\end{enumerate*}\n",
       "\n",
       "\\end{enumerate}\n"
      ],
      "text/markdown": [
       "1. 1. '03'\n",
       "2. '05'\n",
       "3. '2019'\n",
       "\n",
       "\n",
       "\n",
       "2. 1. '03'\n",
       "2. '05'\n",
       "3. '2019'\n",
       "\n",
       "\n",
       "\n",
       "3. 1. '03'\n",
       "2. '05'\n",
       "3. '2019'\n",
       "\n",
       "\n",
       "\n",
       "4. 1. '03'\n",
       "2. '05'\n",
       "3. '2019'\n",
       "\n",
       "\n",
       "\n",
       "5. 1. '03'\n",
       "2. '05'\n",
       "3. '2019'\n",
       "\n",
       "\n",
       "\n",
       "6. 1. '03'\n",
       "2. '05'\n",
       "3. '2019'\n",
       "\n",
       "\n",
       "\n",
       "\n",
       "\n"
      ],
      "text/plain": [
       "[[1]]\n",
       "[1] \"03\"   \"05\"   \"2019\"\n",
       "\n",
       "[[2]]\n",
       "[1] \"03\"   \"05\"   \"2019\"\n",
       "\n",
       "[[3]]\n",
       "[1] \"03\"   \"05\"   \"2019\"\n",
       "\n",
       "[[4]]\n",
       "[1] \"03\"   \"05\"   \"2019\"\n",
       "\n",
       "[[5]]\n",
       "[1] \"03\"   \"05\"   \"2019\"\n",
       "\n",
       "[[6]]\n",
       "[1] \"03\"   \"05\"   \"2019\"\n"
      ]
     },
     "metadata": {},
     "output_type": "display_data"
    }
   ],
   "source": [
    "head(strsplit(date, split = \"/\"))"
   ]
  },
  {
   "cell_type": "code",
   "execution_count": 87,
   "metadata": {},
   "outputs": [
    {
     "data": {
      "text/html": [
       "<ol>\n",
       "\t<li>'03'</li>\n",
       "\t<li>'03'</li>\n",
       "\t<li>'03'</li>\n",
       "\t<li>'03'</li>\n",
       "\t<li>'03'</li>\n",
       "\t<li>'03'</li>\n",
       "</ol>\n"
      ],
      "text/latex": [
       "\\begin{enumerate}\n",
       "\\item '03'\n",
       "\\item '03'\n",
       "\\item '03'\n",
       "\\item '03'\n",
       "\\item '03'\n",
       "\\item '03'\n",
       "\\end{enumerate}\n"
      ],
      "text/markdown": [
       "1. '03'\n",
       "2. '03'\n",
       "3. '03'\n",
       "4. '03'\n",
       "5. '03'\n",
       "6. '03'\n",
       "\n",
       "\n"
      ],
      "text/plain": [
       "[[1]]\n",
       "[1] \"03\"\n",
       "\n",
       "[[2]]\n",
       "[1] \"03\"\n",
       "\n",
       "[[3]]\n",
       "[1] \"03\"\n",
       "\n",
       "[[4]]\n",
       "[1] \"03\"\n",
       "\n",
       "[[5]]\n",
       "[1] \"03\"\n",
       "\n",
       "[[6]]\n",
       "[1] \"03\"\n"
      ]
     },
     "metadata": {},
     "output_type": "display_data"
    },
    {
     "data": {
      "text/html": [
       "<ol>\n",
       "\t<li>'05'</li>\n",
       "\t<li>'05'</li>\n",
       "\t<li>'05'</li>\n",
       "\t<li>'05'</li>\n",
       "\t<li>'05'</li>\n",
       "\t<li>'05'</li>\n",
       "</ol>\n"
      ],
      "text/latex": [
       "\\begin{enumerate}\n",
       "\\item '05'\n",
       "\\item '05'\n",
       "\\item '05'\n",
       "\\item '05'\n",
       "\\item '05'\n",
       "\\item '05'\n",
       "\\end{enumerate}\n"
      ],
      "text/markdown": [
       "1. '05'\n",
       "2. '05'\n",
       "3. '05'\n",
       "4. '05'\n",
       "5. '05'\n",
       "6. '05'\n",
       "\n",
       "\n"
      ],
      "text/plain": [
       "[[1]]\n",
       "[1] \"05\"\n",
       "\n",
       "[[2]]\n",
       "[1] \"05\"\n",
       "\n",
       "[[3]]\n",
       "[1] \"05\"\n",
       "\n",
       "[[4]]\n",
       "[1] \"05\"\n",
       "\n",
       "[[5]]\n",
       "[1] \"05\"\n",
       "\n",
       "[[6]]\n",
       "[1] \"05\"\n"
      ]
     },
     "metadata": {},
     "output_type": "display_data"
    },
    {
     "data": {
      "text/html": [
       "<ol>\n",
       "\t<li>'2019'</li>\n",
       "\t<li>'2019'</li>\n",
       "\t<li>'2019'</li>\n",
       "\t<li>'2019'</li>\n",
       "\t<li>'2019'</li>\n",
       "\t<li>'2019'</li>\n",
       "</ol>\n"
      ],
      "text/latex": [
       "\\begin{enumerate}\n",
       "\\item '2019'\n",
       "\\item '2019'\n",
       "\\item '2019'\n",
       "\\item '2019'\n",
       "\\item '2019'\n",
       "\\item '2019'\n",
       "\\end{enumerate}\n"
      ],
      "text/markdown": [
       "1. '2019'\n",
       "2. '2019'\n",
       "3. '2019'\n",
       "4. '2019'\n",
       "5. '2019'\n",
       "6. '2019'\n",
       "\n",
       "\n"
      ],
      "text/plain": [
       "[[1]]\n",
       "[1] \"2019\"\n",
       "\n",
       "[[2]]\n",
       "[1] \"2019\"\n",
       "\n",
       "[[3]]\n",
       "[1] \"2019\"\n",
       "\n",
       "[[4]]\n",
       "[1] \"2019\"\n",
       "\n",
       "[[5]]\n",
       "[1] \"2019\"\n",
       "\n",
       "[[6]]\n",
       "[1] \"2019\"\n"
      ]
     },
     "metadata": {},
     "output_type": "display_data"
    }
   ],
   "source": [
    "day <- lapply(strsplit(date, \"/\"), function(x) {x[1]})\n",
    "month <- lapply(strsplit(date, \"/\"), function(x) {x[2]})\n",
    "year <- lapply(strsplit(date, \"/\"), function(x) {x[3]})\n",
    "head(day)\n",
    "head(month)\n",
    "head(year)"
   ]
  },
  {
   "cell_type": "code",
   "execution_count": 88,
   "metadata": {},
   "outputs": [
    {
     "data": {
      "text/html": [
       "'2019-05-03 00:15'"
      ],
      "text/latex": [
       "'2019-05-03 00:15'"
      ],
      "text/markdown": [
       "'2019-05-03 00:15'"
      ],
      "text/plain": [
       "[1] \"2019-05-03 00:15\""
      ]
     },
     "metadata": {},
     "output_type": "display_data"
    }
   ],
   "source": [
    "paste0(year[1], \"-\", month[1], \"-\", day[1], \" \", time[1])"
   ]
  },
  {
   "cell_type": "code",
   "execution_count": 89,
   "metadata": {},
   "outputs": [
    {
     "data": {
      "text/html": [
       "<ol class=list-inline>\n",
       "\t<li>'2019-05-03 00:15'</li>\n",
       "\t<li>'2019-05-03 00:30'</li>\n",
       "\t<li>'2019-05-03 00:45'</li>\n",
       "\t<li>'2019-05-03 01:00'</li>\n",
       "\t<li>'2019-05-03 01:15'</li>\n",
       "\t<li>'2019-05-03 01:30'</li>\n",
       "</ol>\n"
      ],
      "text/latex": [
       "\\begin{enumerate*}\n",
       "\\item '2019-05-03 00:15'\n",
       "\\item '2019-05-03 00:30'\n",
       "\\item '2019-05-03 00:45'\n",
       "\\item '2019-05-03 01:00'\n",
       "\\item '2019-05-03 01:15'\n",
       "\\item '2019-05-03 01:30'\n",
       "\\end{enumerate*}\n"
      ],
      "text/markdown": [
       "1. '2019-05-03 00:15'\n",
       "2. '2019-05-03 00:30'\n",
       "3. '2019-05-03 00:45'\n",
       "4. '2019-05-03 01:00'\n",
       "5. '2019-05-03 01:15'\n",
       "6. '2019-05-03 01:30'\n",
       "\n",
       "\n"
      ],
      "text/plain": [
       "[1] \"2019-05-03 00:15\" \"2019-05-03 00:30\" \"2019-05-03 00:45\" \"2019-05-03 01:00\"\n",
       "[5] \"2019-05-03 01:15\" \"2019-05-03 01:30\""
      ]
     },
     "metadata": {},
     "output_type": "display_data"
    }
   ],
   "source": [
    "date_time_chr <- paste0(year, \"-\", month, \"-\", day, \" \", time)\n",
    "head(date_time_chr)"
   ]
  },
  {
   "cell_type": "code",
   "execution_count": 90,
   "metadata": {},
   "outputs": [
    {
     "data": {
      "text/plain": [
       "[1] \"2019-05-03 00:15:00 UTC\" \"2019-05-03 00:30:00 UTC\"\n",
       "[3] \"2019-05-03 00:45:00 UTC\" \"2019-05-03 01:00:00 UTC\"\n",
       "[5] \"2019-05-03 01:15:00 UTC\" \"2019-05-03 01:30:00 UTC\""
      ]
     },
     "metadata": {},
     "output_type": "display_data"
    }
   ],
   "source": [
    "date_time_posix <- as.POSIXct(date_time_chr, tz = \"UTC\")\n",
    "head(date_time_posix)"
   ]
  },
  {
   "cell_type": "code",
   "execution_count": 91,
   "metadata": {},
   "outputs": [
    {
     "data": {
      "text/plain": [
       "Time difference of 30 mins"
      ]
     },
     "metadata": {},
     "output_type": "display_data"
    }
   ],
   "source": [
    "date_time_posix[3] - date_time_posix[1]"
   ]
  },
  {
   "cell_type": "code",
   "execution_count": 92,
   "metadata": {},
   "outputs": [
    {
     "data": {
      "image/png": "[encoded data removed]",
      "text/plain": [
       "plot without title"
      ]
     },
     "metadata": {},
     "output_type": "display_data"
    }
   ],
   "source": [
    "options(repr.plot.width = 10, repr.plot.height = 5)\n",
    "par(las = 1, ps = 20)\n",
    "plot(airtemp[, 2]~date_time_posix, type = \"l\")"
   ]
  },
  {
   "cell_type": "markdown",
   "metadata": {},
   "source": [
    "## Temporal averages"
   ]
  },
  {
   "cell_type": "code",
   "execution_count": 93,
   "metadata": {},
   "outputs": [
    {
     "data": {
      "text/html": [
       "<table>\n",
       "<thead><tr><th scope=col>time</th><th scope=col>value</th><th scope=col>duration...observation.window</th></tr></thead>\n",
       "<tbody>\n",
       "\t<tr><td>2021-12-16 15:46:50</td><td>9.5                </td><td>-10.007            </td></tr>\n",
       "\t<tr><td>2021-12-16 15:46:40</td><td>9.5                </td><td> -9.976            </td></tr>\n",
       "\t<tr><td>2021-12-16 15:46:30</td><td>9.5                </td><td>-10.006            </td></tr>\n",
       "\t<tr><td>2021-12-16 15:46:20</td><td>9.5                </td><td> -9.998            </td></tr>\n",
       "\t<tr><td>2021-12-16 15:46:10</td><td>9.5                </td><td>-10.012            </td></tr>\n",
       "\t<tr><td>2021-12-16 15:46:00</td><td>9.5                </td><td> -9.997            </td></tr>\n",
       "</tbody>\n",
       "</table>\n"
      ],
      "text/latex": [
       "\\begin{tabular}{r|lll}\n",
       " time & value & duration...observation.window\\\\\n",
       "\\hline\n",
       "\t 2021-12-16 15:46:50 & 9.5                 & -10.007            \\\\\n",
       "\t 2021-12-16 15:46:40 & 9.5                 &  -9.976            \\\\\n",
       "\t 2021-12-16 15:46:30 & 9.5                 & -10.006            \\\\\n",
       "\t 2021-12-16 15:46:20 & 9.5                 &  -9.998            \\\\\n",
       "\t 2021-12-16 15:46:10 & 9.5                 & -10.012            \\\\\n",
       "\t 2021-12-16 15:46:00 & 9.5                 &  -9.997            \\\\\n",
       "\\end{tabular}\n"
      ],
      "text/markdown": [
       "\n",
       "| time | value | duration...observation.window |\n",
       "|---|---|---|\n",
       "| 2021-12-16 15:46:50 | 9.5                 | -10.007             |\n",
       "| 2021-12-16 15:46:40 | 9.5                 |  -9.976             |\n",
       "| 2021-12-16 15:46:30 | 9.5                 | -10.006             |\n",
       "| 2021-12-16 15:46:20 | 9.5                 |  -9.998             |\n",
       "| 2021-12-16 15:46:10 | 9.5                 | -10.012             |\n",
       "| 2021-12-16 15:46:00 | 9.5                 |  -9.997             |\n",
       "\n"
      ],
      "text/plain": [
       "  time                value duration...observation.window\n",
       "1 2021-12-16 15:46:50 9.5   -10.007                      \n",
       "2 2021-12-16 15:46:40 9.5    -9.976                      \n",
       "3 2021-12-16 15:46:30 9.5   -10.006                      \n",
       "4 2021-12-16 15:46:20 9.5    -9.998                      \n",
       "5 2021-12-16 15:46:10 9.5   -10.012                      \n",
       "6 2021-12-16 15:46:00 9.5    -9.997                      "
      ]
     },
     "metadata": {},
     "output_type": "display_data"
    }
   ],
   "source": [
    "head(raw_data)"
   ]
  },
  {
   "cell_type": "code",
   "execution_count": 94,
   "metadata": {},
   "outputs": [
    {
     "data": {
      "text/html": [
       "<table>\n",
       "<thead><tr><th></th><th scope=col>time</th><th scope=col>value</th><th scope=col>duration...observation.window</th></tr></thead>\n",
       "<tbody>\n",
       "\t<tr><th scope=row>108138</th><td>2021-12-03 13:45:30</td><td>7.7                </td><td> -9.994            </td></tr>\n",
       "\t<tr><th scope=row>108139</th><td>2021-12-03 13:45:20</td><td>7.7                </td><td> -9.985            </td></tr>\n",
       "\t<tr><th scope=row>108140</th><td>2021-12-03 13:45:10</td><td>7.7                </td><td>-10.023            </td></tr>\n",
       "\t<tr><th scope=row>108141</th><td>2021-12-03 13:45:00</td><td>7.7                </td><td>-10.007            </td></tr>\n",
       "\t<tr><th scope=row>108142</th><td>2021-12-03 13:44:50</td><td>7.7                </td><td> -9.998            </td></tr>\n",
       "\t<tr><th scope=row>108143</th><td>2021-12-03 13:44:40</td><td>7.7                </td><td> -9.998            </td></tr>\n",
       "</tbody>\n",
       "</table>\n"
      ],
      "text/latex": [
       "\\begin{tabular}{r|lll}\n",
       "  & time & value & duration...observation.window\\\\\n",
       "\\hline\n",
       "\t108138 & 2021-12-03 13:45:30 & 7.7                 &  -9.994            \\\\\n",
       "\t108139 & 2021-12-03 13:45:20 & 7.7                 &  -9.985            \\\\\n",
       "\t108140 & 2021-12-03 13:45:10 & 7.7                 & -10.023            \\\\\n",
       "\t108141 & 2021-12-03 13:45:00 & 7.7                 & -10.007            \\\\\n",
       "\t108142 & 2021-12-03 13:44:50 & 7.7                 &  -9.998            \\\\\n",
       "\t108143 & 2021-12-03 13:44:40 & 7.7                 &  -9.998            \\\\\n",
       "\\end{tabular}\n"
      ],
      "text/markdown": [
       "\n",
       "| <!--/--> | time | value | duration...observation.window |\n",
       "|---|---|---|---|\n",
       "| 108138 | 2021-12-03 13:45:30 | 7.7                 |  -9.994             |\n",
       "| 108139 | 2021-12-03 13:45:20 | 7.7                 |  -9.985             |\n",
       "| 108140 | 2021-12-03 13:45:10 | 7.7                 | -10.023             |\n",
       "| 108141 | 2021-12-03 13:45:00 | 7.7                 | -10.007             |\n",
       "| 108142 | 2021-12-03 13:44:50 | 7.7                 |  -9.998             |\n",
       "| 108143 | 2021-12-03 13:44:40 | 7.7                 |  -9.998             |\n",
       "\n"
      ],
      "text/plain": [
       "       time                value duration...observation.window\n",
       "108138 2021-12-03 13:45:30 7.7    -9.994                      \n",
       "108139 2021-12-03 13:45:20 7.7    -9.985                      \n",
       "108140 2021-12-03 13:45:10 7.7   -10.023                      \n",
       "108141 2021-12-03 13:45:00 7.7   -10.007                      \n",
       "108142 2021-12-03 13:44:50 7.7    -9.998                      \n",
       "108143 2021-12-03 13:44:40 7.7    -9.998                      "
      ]
     },
     "metadata": {},
     "output_type": "display_data"
    }
   ],
   "source": [
    "tail(raw_data)"
   ]
  },
  {
   "cell_type": "code",
   "execution_count": null,
   "metadata": {},
   "outputs": [],
   "source": [
    "start <- as.POSIXct(\"2019-12-30 00:00:00\",\"UTC\")\n",
    "end <- as.POSIXct(\"2020-01-06 00:00:00\",\"UTC\")\n",
    "time.steps.15min <- seq(start,end,60*15)"
   ]
  },
  {
   "cell_type": "code",
   "execution_count": null,
   "metadata": {},
   "outputs": [],
   "source": [
    "which.step.15min <- findInterval(as.POSIXct(raw.data[,1],tz=\"UTC\"),time.steps.15min)"
   ]
  },
  {
   "cell_type": "code",
   "execution_count": null,
   "metadata": {},
   "outputs": [
    {
     "data": {
      "text/html": [
       "<table>\n",
       "<caption>A data.frame: 6 × 2</caption>\n",
       "<thead>\n",
       "\t<tr><th></th><th scope=col>Group.1</th><th scope=col>x</th></tr>\n",
       "\t<tr><th></th><th scope=col>&lt;dttm&gt;</th><th scope=col>&lt;dbl&gt;</th></tr>\n",
       "</thead>\n",
       "<tbody>\n",
       "\t<tr><th scope=row>1</th><td>2019-12-30 00:00:00</td><td>10.83146</td></tr>\n",
       "\t<tr><th scope=row>2</th><td>2019-12-30 00:15:00</td><td>10.43111</td></tr>\n",
       "\t<tr><th scope=row>3</th><td>2019-12-30 00:30:00</td><td>10.01889</td></tr>\n",
       "\t<tr><th scope=row>4</th><td>2019-12-30 00:45:00</td><td>10.32022</td></tr>\n",
       "\t<tr><th scope=row>5</th><td>2019-12-30 01:00:00</td><td>10.87444</td></tr>\n",
       "\t<tr><th scope=row>6</th><td>2019-12-30 01:15:00</td><td>11.05333</td></tr>\n",
       "</tbody>\n",
       "</table>\n"
      ],
      "text/latex": [
       "A data.frame: 6 × 2\n",
       "\\begin{tabular}{r|ll}\n",
       "  & Group.1 & x\\\\\n",
       "  & <dttm> & <dbl>\\\\\n",
       "\\hline\n",
       "\t1 & 2019-12-30 00:00:00 & 10.83146\\\\\n",
       "\t2 & 2019-12-30 00:15:00 & 10.43111\\\\\n",
       "\t3 & 2019-12-30 00:30:00 & 10.01889\\\\\n",
       "\t4 & 2019-12-30 00:45:00 & 10.32022\\\\\n",
       "\t5 & 2019-12-30 01:00:00 & 10.87444\\\\\n",
       "\t6 & 2019-12-30 01:15:00 & 11.05333\\\\\n",
       "\\end{tabular}\n"
      ],
      "text/markdown": [
       "\n",
       "A data.frame: 6 × 2\n",
       "\n",
       "| <!--/--> | Group.1 &lt;dttm&gt; | x &lt;dbl&gt; |\n",
       "|---|---|---|\n",
       "| 1 | 2019-12-30 00:00:00 | 10.83146 |\n",
       "| 2 | 2019-12-30 00:15:00 | 10.43111 |\n",
       "| 3 | 2019-12-30 00:30:00 | 10.01889 |\n",
       "| 4 | 2019-12-30 00:45:00 | 10.32022 |\n",
       "| 5 | 2019-12-30 01:00:00 | 10.87444 |\n",
       "| 6 | 2019-12-30 01:15:00 | 11.05333 |\n",
       "\n"
      ],
      "text/plain": [
       "  Group.1             x       \n",
       "1 2019-12-30 00:00:00 10.83146\n",
       "2 2019-12-30 00:15:00 10.43111\n",
       "3 2019-12-30 00:30:00 10.01889\n",
       "4 2019-12-30 00:45:00 10.32022\n",
       "5 2019-12-30 01:00:00 10.87444\n",
       "6 2019-12-30 01:15:00 11.05333"
      ]
     },
     "metadata": {},
     "output_type": "display_data"
    }
   ],
   "source": [
    "airtemp.15min <- aggregate(raw.data[,2],list(time.steps.15min[which.step.15min]),mean,na.rm=T)\n",
    "head(airtemp.15min)"
   ]
  },
  {
   "cell_type": "code",
   "execution_count": null,
   "metadata": {},
   "outputs": [
    {
     "data": {
      "text/html": [
       "<table>\n",
       "<caption>A data.frame: 6 × 2</caption>\n",
       "<thead>\n",
       "\t<tr><th></th><th scope=col>Group.1</th><th scope=col>x</th></tr>\n",
       "\t<tr><th></th><th scope=col>&lt;dttm&gt;</th><th scope=col>&lt;dbl&gt;</th></tr>\n",
       "</thead>\n",
       "<tbody>\n",
       "\t<tr><th scope=row>1</th><td>2019-12-30 00:00:00</td><td>10.399441</td></tr>\n",
       "\t<tr><th scope=row>2</th><td>2019-12-30 01:00:00</td><td>11.059722</td></tr>\n",
       "\t<tr><th scope=row>3</th><td>2019-12-30 02:00:00</td><td>10.356267</td></tr>\n",
       "\t<tr><th scope=row>4</th><td>2019-12-30 03:00:00</td><td> 9.726536</td></tr>\n",
       "\t<tr><th scope=row>5</th><td>2019-12-30 04:00:00</td><td> 9.495833</td></tr>\n",
       "\t<tr><th scope=row>6</th><td>2019-12-30 05:00:00</td><td> 9.252793</td></tr>\n",
       "</tbody>\n",
       "</table>\n"
      ],
      "text/latex": [
       "A data.frame: 6 × 2\n",
       "\\begin{tabular}{r|ll}\n",
       "  & Group.1 & x\\\\\n",
       "  & <dttm> & <dbl>\\\\\n",
       "\\hline\n",
       "\t1 & 2019-12-30 00:00:00 & 10.399441\\\\\n",
       "\t2 & 2019-12-30 01:00:00 & 11.059722\\\\\n",
       "\t3 & 2019-12-30 02:00:00 & 10.356267\\\\\n",
       "\t4 & 2019-12-30 03:00:00 &  9.726536\\\\\n",
       "\t5 & 2019-12-30 04:00:00 &  9.495833\\\\\n",
       "\t6 & 2019-12-30 05:00:00 &  9.252793\\\\\n",
       "\\end{tabular}\n"
      ],
      "text/markdown": [
       "\n",
       "A data.frame: 6 × 2\n",
       "\n",
       "| <!--/--> | Group.1 &lt;dttm&gt; | x &lt;dbl&gt; |\n",
       "|---|---|---|\n",
       "| 1 | 2019-12-30 00:00:00 | 10.399441 |\n",
       "| 2 | 2019-12-30 01:00:00 | 11.059722 |\n",
       "| 3 | 2019-12-30 02:00:00 | 10.356267 |\n",
       "| 4 | 2019-12-30 03:00:00 |  9.726536 |\n",
       "| 5 | 2019-12-30 04:00:00 |  9.495833 |\n",
       "| 6 | 2019-12-30 05:00:00 |  9.252793 |\n",
       "\n"
      ],
      "text/plain": [
       "  Group.1             x        \n",
       "1 2019-12-30 00:00:00 10.399441\n",
       "2 2019-12-30 01:00:00 11.059722\n",
       "3 2019-12-30 02:00:00 10.356267\n",
       "4 2019-12-30 03:00:00  9.726536\n",
       "5 2019-12-30 04:00:00  9.495833\n",
       "6 2019-12-30 05:00:00  9.252793"
      ]
     },
     "metadata": {},
     "output_type": "display_data"
    }
   ],
   "source": [
    "time.steps.1h <- seq(start,end,60*60)\n",
    "which.step.1h <- findInterval(as.POSIXct(raw.data[,1],tz=\"UTC\"),time.steps.1h)\n",
    "airtemp.1h <- aggregate(raw.data[,2],list(time.steps.1h[which.step.1h]),mean,na.rm=T)\n",
    "head(airtemp.1h)"
   ]
  },
  {
   "cell_type": "code",
   "execution_count": null,
   "metadata": {},
   "outputs": [
    {
     "data": {
      "text/html": [
       "<table>\n",
       "<caption>A data.frame: 6 × 2</caption>\n",
       "<thead>\n",
       "\t<tr><th></th><th scope=col>Group.1</th><th scope=col>x</th></tr>\n",
       "\t<tr><th></th><th scope=col>&lt;dttm&gt;</th><th scope=col>&lt;dbl&gt;</th></tr>\n",
       "</thead>\n",
       "<tbody>\n",
       "\t<tr><th scope=row>1</th><td>2019-12-30 00:00:00</td><td>10.049001</td></tr>\n",
       "\t<tr><th scope=row>2</th><td>2019-12-30 06:00:00</td><td> 9.425522</td></tr>\n",
       "\t<tr><th scope=row>3</th><td>2019-12-30 12:00:00</td><td>10.097445</td></tr>\n",
       "\t<tr><th scope=row>4</th><td>2019-12-30 18:00:00</td><td> 6.820065</td></tr>\n",
       "\t<tr><th scope=row>5</th><td>2019-12-31 00:00:00</td><td> 3.546818</td></tr>\n",
       "\t<tr><th scope=row>6</th><td>2019-12-31 06:00:00</td><td> 1.459350</td></tr>\n",
       "</tbody>\n",
       "</table>\n"
      ],
      "text/latex": [
       "A data.frame: 6 × 2\n",
       "\\begin{tabular}{r|ll}\n",
       "  & Group.1 & x\\\\\n",
       "  & <dttm> & <dbl>\\\\\n",
       "\\hline\n",
       "\t1 & 2019-12-30 00:00:00 & 10.049001\\\\\n",
       "\t2 & 2019-12-30 06:00:00 &  9.425522\\\\\n",
       "\t3 & 2019-12-30 12:00:00 & 10.097445\\\\\n",
       "\t4 & 2019-12-30 18:00:00 &  6.820065\\\\\n",
       "\t5 & 2019-12-31 00:00:00 &  3.546818\\\\\n",
       "\t6 & 2019-12-31 06:00:00 &  1.459350\\\\\n",
       "\\end{tabular}\n"
      ],
      "text/markdown": [
       "\n",
       "A data.frame: 6 × 2\n",
       "\n",
       "| <!--/--> | Group.1 &lt;dttm&gt; | x &lt;dbl&gt; |\n",
       "|---|---|---|\n",
       "| 1 | 2019-12-30 00:00:00 | 10.049001 |\n",
       "| 2 | 2019-12-30 06:00:00 |  9.425522 |\n",
       "| 3 | 2019-12-30 12:00:00 | 10.097445 |\n",
       "| 4 | 2019-12-30 18:00:00 |  6.820065 |\n",
       "| 5 | 2019-12-31 00:00:00 |  3.546818 |\n",
       "| 6 | 2019-12-31 06:00:00 |  1.459350 |\n",
       "\n"
      ],
      "text/plain": [
       "  Group.1             x        \n",
       "1 2019-12-30 00:00:00 10.049001\n",
       "2 2019-12-30 06:00:00  9.425522\n",
       "3 2019-12-30 12:00:00 10.097445\n",
       "4 2019-12-30 18:00:00  6.820065\n",
       "5 2019-12-31 00:00:00  3.546818\n",
       "6 2019-12-31 06:00:00  1.459350"
      ]
     },
     "metadata": {},
     "output_type": "display_data"
    }
   ],
   "source": [
    "time.steps.6h <- seq(start,end,60*60*6)\n",
    "which.step.6h <- findInterval(as.POSIXct(raw.data[,1],tz=\"UTC\"),time.steps.6h)\n",
    "airtemp.6h <- aggregate(raw.data[,2],list(time.steps.6h[which.step.6h]),mean,na.rm=T)\n",
    "head(airtemp.6h)"
   ]
  },
  {
   "cell_type": "code",
   "execution_count": null,
   "metadata": {},
   "outputs": [
    {
     "data": {
      "text/html": [
       "<table>\n",
       "<caption>A data.frame: 8 × 2</caption>\n",
       "<thead>\n",
       "\t<tr><th scope=col>Group.1</th><th scope=col>x</th></tr>\n",
       "\t<tr><th scope=col>&lt;dttm&gt;</th><th scope=col>&lt;dbl&gt;</th></tr>\n",
       "</thead>\n",
       "<tbody>\n",
       "\t<tr><td>2019-12-30</td><td>9.098085</td></tr>\n",
       "\t<tr><td>2019-12-31</td><td>3.167437</td></tr>\n",
       "\t<tr><td>2020-01-01</td><td>2.330915</td></tr>\n",
       "\t<tr><td>2020-01-02</td><td>7.912883</td></tr>\n",
       "\t<tr><td>2020-01-03</td><td>6.444501</td></tr>\n",
       "\t<tr><td>2020-01-04</td><td>7.857446</td></tr>\n",
       "\t<tr><td>2020-01-05</td><td>9.652444</td></tr>\n",
       "\t<tr><td>2020-01-06</td><td>8.900000</td></tr>\n",
       "</tbody>\n",
       "</table>\n"
      ],
      "text/latex": [
       "A data.frame: 8 × 2\n",
       "\\begin{tabular}{ll}\n",
       " Group.1 & x\\\\\n",
       " <dttm> & <dbl>\\\\\n",
       "\\hline\n",
       "\t 2019-12-30 & 9.098085\\\\\n",
       "\t 2019-12-31 & 3.167437\\\\\n",
       "\t 2020-01-01 & 2.330915\\\\\n",
       "\t 2020-01-02 & 7.912883\\\\\n",
       "\t 2020-01-03 & 6.444501\\\\\n",
       "\t 2020-01-04 & 7.857446\\\\\n",
       "\t 2020-01-05 & 9.652444\\\\\n",
       "\t 2020-01-06 & 8.900000\\\\\n",
       "\\end{tabular}\n"
      ],
      "text/markdown": [
       "\n",
       "A data.frame: 8 × 2\n",
       "\n",
       "| Group.1 &lt;dttm&gt; | x &lt;dbl&gt; |\n",
       "|---|---|\n",
       "| 2019-12-30 | 9.098085 |\n",
       "| 2019-12-31 | 3.167437 |\n",
       "| 2020-01-01 | 2.330915 |\n",
       "| 2020-01-02 | 7.912883 |\n",
       "| 2020-01-03 | 6.444501 |\n",
       "| 2020-01-04 | 7.857446 |\n",
       "| 2020-01-05 | 9.652444 |\n",
       "| 2020-01-06 | 8.900000 |\n",
       "\n"
      ],
      "text/plain": [
       "  Group.1    x       \n",
       "1 2019-12-30 9.098085\n",
       "2 2019-12-31 3.167437\n",
       "3 2020-01-01 2.330915\n",
       "4 2020-01-02 7.912883\n",
       "5 2020-01-03 6.444501\n",
       "6 2020-01-04 7.857446\n",
       "7 2020-01-05 9.652444\n",
       "8 2020-01-06 8.900000"
      ]
     },
     "metadata": {},
     "output_type": "display_data"
    }
   ],
   "source": [
    "time.steps.24h <- seq(start,end,60*60*24)\n",
    "which.step.24h <- findInterval(as.POSIXct(raw.data[,1],tz=\"UTC\"),time.steps.24h)\n",
    "airtemp.24h <- aggregate(raw.data[,2],list(time.steps.24h[which.step.24h]),mean,na.rm=T)\n",
    "airtemp.24h"
   ]
  },
  {
   "cell_type": "markdown",
   "metadata": {},
   "source": [
    "Now we can write a function \"n.hourly.average\", which calculates any temporal average we want."
   ]
  },
  {
   "cell_type": "code",
   "execution_count": null,
   "metadata": {},
   "outputs": [],
   "source": [
    "n.hourly.average <- function(data,n){time.steps <- seq(start,end,60*60*n)\n",
    "which.step <- findInterval(as.POSIXct(data[,1],tz=\"UTC\"),time.steps)\n",
    "mean.data <- aggregate(data[,2],list(time.steps[which.step]),mean,na.rm=T)\n",
    "return(mean.data)}"
   ]
  },
  {
   "cell_type": "code",
   "execution_count": null,
   "metadata": {},
   "outputs": [
    {
     "data": {
      "text/html": [
       "<table>\n",
       "<caption>A data.frame: 15 × 2</caption>\n",
       "<thead>\n",
       "\t<tr><th scope=col>Group.1</th><th scope=col>x</th></tr>\n",
       "\t<tr><th scope=col>&lt;dttm&gt;</th><th scope=col>&lt;dbl&gt;</th></tr>\n",
       "</thead>\n",
       "<tbody>\n",
       "\t<tr><td>2019-12-30 00:00:00</td><td> 9.737117</td></tr>\n",
       "\t<tr><td>2019-12-30 12:00:00</td><td> 8.458755</td></tr>\n",
       "\t<tr><td>2019-12-31 00:00:00</td><td> 2.502600</td></tr>\n",
       "\t<tr><td>2019-12-31 12:00:00</td><td> 3.832582</td></tr>\n",
       "\t<tr><td>2020-01-01 00:00:00</td><td> 1.378031</td></tr>\n",
       "\t<tr><td>2020-01-01 12:00:00</td><td> 3.283357</td></tr>\n",
       "\t<tr><td>2020-01-02 00:00:00</td><td> 5.677350</td></tr>\n",
       "\t<tr><td>2020-01-02 12:00:00</td><td>10.149454</td></tr>\n",
       "\t<tr><td>2020-01-03 00:00:00</td><td> 6.498630</td></tr>\n",
       "\t<tr><td>2020-01-03 12:00:00</td><td> 6.390386</td></tr>\n",
       "\t<tr><td>2020-01-04 00:00:00</td><td> 7.613443</td></tr>\n",
       "\t<tr><td>2020-01-04 12:00:00</td><td> 8.101393</td></tr>\n",
       "\t<tr><td>2020-01-05 00:00:00</td><td> 9.147074</td></tr>\n",
       "\t<tr><td>2020-01-05 12:00:00</td><td>10.157697</td></tr>\n",
       "\t<tr><td>2020-01-06 00:00:00</td><td> 8.900000</td></tr>\n",
       "</tbody>\n",
       "</table>\n"
      ],
      "text/latex": [
       "A data.frame: 15 × 2\n",
       "\\begin{tabular}{ll}\n",
       " Group.1 & x\\\\\n",
       " <dttm> & <dbl>\\\\\n",
       "\\hline\n",
       "\t 2019-12-30 00:00:00 &  9.737117\\\\\n",
       "\t 2019-12-30 12:00:00 &  8.458755\\\\\n",
       "\t 2019-12-31 00:00:00 &  2.502600\\\\\n",
       "\t 2019-12-31 12:00:00 &  3.832582\\\\\n",
       "\t 2020-01-01 00:00:00 &  1.378031\\\\\n",
       "\t 2020-01-01 12:00:00 &  3.283357\\\\\n",
       "\t 2020-01-02 00:00:00 &  5.677350\\\\\n",
       "\t 2020-01-02 12:00:00 & 10.149454\\\\\n",
       "\t 2020-01-03 00:00:00 &  6.498630\\\\\n",
       "\t 2020-01-03 12:00:00 &  6.390386\\\\\n",
       "\t 2020-01-04 00:00:00 &  7.613443\\\\\n",
       "\t 2020-01-04 12:00:00 &  8.101393\\\\\n",
       "\t 2020-01-05 00:00:00 &  9.147074\\\\\n",
       "\t 2020-01-05 12:00:00 & 10.157697\\\\\n",
       "\t 2020-01-06 00:00:00 &  8.900000\\\\\n",
       "\\end{tabular}\n"
      ],
      "text/markdown": [
       "\n",
       "A data.frame: 15 × 2\n",
       "\n",
       "| Group.1 &lt;dttm&gt; | x &lt;dbl&gt; |\n",
       "|---|---|\n",
       "| 2019-12-30 00:00:00 |  9.737117 |\n",
       "| 2019-12-30 12:00:00 |  8.458755 |\n",
       "| 2019-12-31 00:00:00 |  2.502600 |\n",
       "| 2019-12-31 12:00:00 |  3.832582 |\n",
       "| 2020-01-01 00:00:00 |  1.378031 |\n",
       "| 2020-01-01 12:00:00 |  3.283357 |\n",
       "| 2020-01-02 00:00:00 |  5.677350 |\n",
       "| 2020-01-02 12:00:00 | 10.149454 |\n",
       "| 2020-01-03 00:00:00 |  6.498630 |\n",
       "| 2020-01-03 12:00:00 |  6.390386 |\n",
       "| 2020-01-04 00:00:00 |  7.613443 |\n",
       "| 2020-01-04 12:00:00 |  8.101393 |\n",
       "| 2020-01-05 00:00:00 |  9.147074 |\n",
       "| 2020-01-05 12:00:00 | 10.157697 |\n",
       "| 2020-01-06 00:00:00 |  8.900000 |\n",
       "\n"
      ],
      "text/plain": [
       "   Group.1             x        \n",
       "1  2019-12-30 00:00:00  9.737117\n",
       "2  2019-12-30 12:00:00  8.458755\n",
       "3  2019-12-31 00:00:00  2.502600\n",
       "4  2019-12-31 12:00:00  3.832582\n",
       "5  2020-01-01 00:00:00  1.378031\n",
       "6  2020-01-01 12:00:00  3.283357\n",
       "7  2020-01-02 00:00:00  5.677350\n",
       "8  2020-01-02 12:00:00 10.149454\n",
       "9  2020-01-03 00:00:00  6.498630\n",
       "10 2020-01-03 12:00:00  6.390386\n",
       "11 2020-01-04 00:00:00  7.613443\n",
       "12 2020-01-04 12:00:00  8.101393\n",
       "13 2020-01-05 00:00:00  9.147074\n",
       "14 2020-01-05 12:00:00 10.157697\n",
       "15 2020-01-06 00:00:00  8.900000"
      ]
     },
     "metadata": {},
     "output_type": "display_data"
    }
   ],
   "source": [
    "n.hourly.average(raw.data,12)"
   ]
  },
  {
   "cell_type": "code",
   "execution_count": null,
   "metadata": {},
   "outputs": [
    {
     "data": {
      "text/html": [
       "<table>\n",
       "<caption>A data.frame: 6 × 2</caption>\n",
       "<thead>\n",
       "\t<tr><th></th><th scope=col>Time</th><th scope=col>AirTemp</th></tr>\n",
       "\t<tr><th></th><th scope=col>&lt;chr&gt;</th><th scope=col>&lt;dbl&gt;</th></tr>\n",
       "</thead>\n",
       "<tbody>\n",
       "\t<tr><th scope=row>1</th><td>2019-05-03 00:15</td><td>6.6</td></tr>\n",
       "\t<tr><th scope=row>2</th><td>2019-05-03 00:30</td><td>6.5</td></tr>\n",
       "\t<tr><th scope=row>3</th><td>2019-05-03 00:45</td><td>6.4</td></tr>\n",
       "\t<tr><th scope=row>4</th><td>2019-05-03 01:00</td><td>6.0</td></tr>\n",
       "\t<tr><th scope=row>5</th><td>2019-05-03 01:15</td><td>5.9</td></tr>\n",
       "\t<tr><th scope=row>6</th><td>2019-05-03 01:30</td><td>6.0</td></tr>\n",
       "</tbody>\n",
       "</table>\n"
      ],
      "text/latex": [
       "A data.frame: 6 × 2\n",
       "\\begin{tabular}{r|ll}\n",
       "  & Time & AirTemp\\\\\n",
       "  & <chr> & <dbl>\\\\\n",
       "\\hline\n",
       "\t1 & 2019-05-03 00:15 & 6.6\\\\\n",
       "\t2 & 2019-05-03 00:30 & 6.5\\\\\n",
       "\t3 & 2019-05-03 00:45 & 6.4\\\\\n",
       "\t4 & 2019-05-03 01:00 & 6.0\\\\\n",
       "\t5 & 2019-05-03 01:15 & 5.9\\\\\n",
       "\t6 & 2019-05-03 01:30 & 6.0\\\\\n",
       "\\end{tabular}\n"
      ],
      "text/markdown": [
       "\n",
       "A data.frame: 6 × 2\n",
       "\n",
       "| <!--/--> | Time &lt;chr&gt; | AirTemp &lt;dbl&gt; |\n",
       "|---|---|---|\n",
       "| 1 | 2019-05-03 00:15 | 6.6 |\n",
       "| 2 | 2019-05-03 00:30 | 6.5 |\n",
       "| 3 | 2019-05-03 00:45 | 6.4 |\n",
       "| 4 | 2019-05-03 01:00 | 6.0 |\n",
       "| 5 | 2019-05-03 01:15 | 5.9 |\n",
       "| 6 | 2019-05-03 01:30 | 6.0 |\n",
       "\n"
      ],
      "text/plain": [
       "  Time             AirTemp\n",
       "1 2019-05-03 00:15 6.6    \n",
       "2 2019-05-03 00:30 6.5    \n",
       "3 2019-05-03 00:45 6.4    \n",
       "4 2019-05-03 01:00 6.0    \n",
       "5 2019-05-03 01:15 5.9    \n",
       "6 2019-05-03 01:30 6.0    "
      ]
     },
     "metadata": {},
     "output_type": "display_data"
    },
    {
     "data": {
      "text/html": [
       "<table>\n",
       "<caption>A data.frame: 6 × 2</caption>\n",
       "<thead>\n",
       "\t<tr><th></th><th scope=col>Time</th><th scope=col>AirTemp</th></tr>\n",
       "\t<tr><th></th><th scope=col>&lt;chr&gt;</th><th scope=col>&lt;dbl&gt;</th></tr>\n",
       "</thead>\n",
       "<tbody>\n",
       "\t<tr><th scope=row>7290</th><td>2019-07-17 22:30</td><td>15.4</td></tr>\n",
       "\t<tr><th scope=row>7291</th><td>2019-07-17 22:45</td><td>15.3</td></tr>\n",
       "\t<tr><th scope=row>7292</th><td>2019-07-17 23:00</td><td>15.2</td></tr>\n",
       "\t<tr><th scope=row>7293</th><td>2019-07-17 23:15</td><td>15.1</td></tr>\n",
       "\t<tr><th scope=row>7294</th><td>2019-07-17 23:30</td><td>15.1</td></tr>\n",
       "\t<tr><th scope=row>7295</th><td>2019-07-17 23:45</td><td>15.3</td></tr>\n",
       "</tbody>\n",
       "</table>\n"
      ],
      "text/latex": [
       "A data.frame: 6 × 2\n",
       "\\begin{tabular}{r|ll}\n",
       "  & Time & AirTemp\\\\\n",
       "  & <chr> & <dbl>\\\\\n",
       "\\hline\n",
       "\t7290 & 2019-07-17 22:30 & 15.4\\\\\n",
       "\t7291 & 2019-07-17 22:45 & 15.3\\\\\n",
       "\t7292 & 2019-07-17 23:00 & 15.2\\\\\n",
       "\t7293 & 2019-07-17 23:15 & 15.1\\\\\n",
       "\t7294 & 2019-07-17 23:30 & 15.1\\\\\n",
       "\t7295 & 2019-07-17 23:45 & 15.3\\\\\n",
       "\\end{tabular}\n"
      ],
      "text/markdown": [
       "\n",
       "A data.frame: 6 × 2\n",
       "\n",
       "| <!--/--> | Time &lt;chr&gt; | AirTemp &lt;dbl&gt; |\n",
       "|---|---|---|\n",
       "| 7290 | 2019-07-17 22:30 | 15.4 |\n",
       "| 7291 | 2019-07-17 22:45 | 15.3 |\n",
       "| 7292 | 2019-07-17 23:00 | 15.2 |\n",
       "| 7293 | 2019-07-17 23:15 | 15.1 |\n",
       "| 7294 | 2019-07-17 23:30 | 15.1 |\n",
       "| 7295 | 2019-07-17 23:45 | 15.3 |\n",
       "\n"
      ],
      "text/plain": [
       "     Time             AirTemp\n",
       "7290 2019-07-17 22:30 15.4   \n",
       "7291 2019-07-17 22:45 15.3   \n",
       "7292 2019-07-17 23:00 15.2   \n",
       "7293 2019-07-17 23:15 15.1   \n",
       "7294 2019-07-17 23:30 15.1   \n",
       "7295 2019-07-17 23:45 15.3   "
      ]
     },
     "metadata": {},
     "output_type": "display_data"
    }
   ],
   "source": [
    "airtemp[,1] <- date.time.chr\n",
    "head(airtemp)\n",
    "tail(airtemp)"
   ]
  },
  {
   "cell_type": "code",
   "execution_count": null,
   "metadata": {},
   "outputs": [],
   "source": [
    "start <- as.POSIXct(\"2019-05-03 00:00:00\",\"UTC\")\n",
    "end <- as.POSIXct(\"2019-07-17 00:00:00\",\"UTC\")\n",
    "\n",
    "airtemp.30min <- n.hourly.average(airtemp,0.5)\n",
    "airtemp.1h <- n.hourly.average(airtemp,1)\n",
    "airtemp.3h <- n.hourly.average(airtemp,3)\n",
    "airtemp.6h <- n.hourly.average(airtemp,6)\n",
    "airtemp.12h <- n.hourly.average(airtemp,12)\n",
    "airtemp.24h <- n.hourly.average(airtemp,24)"
   ]
  },
  {
   "cell_type": "code",
   "execution_count": null,
   "metadata": {},
   "outputs": [
    {
     "data": {
      "image/png": "[encoded data removed]",
      "text/plain": [
       "plot without title"
      ]
     },
     "metadata": {
      "image/png": {
       "height": 480,
       "width": 960
      }
     },
     "output_type": "display_data"
    }
   ],
   "source": [
    "options(repr.plot.width=16, repr.plot.height=8)\n",
    "par(las=1,ps=20)\n",
    "plot(airtemp.30min[,2]~airtemp.30min[,1],type=\"l\",lwd=5)\n",
    "lines(airtemp.12h[,2]~airtemp.12h[,1],lwd=5,col=4)\n",
    "lines(airtemp.24h[,2]~airtemp.24h[,1],lwd=5,col=2)"
   ]
  },
  {
   "cell_type": "code",
   "execution_count": null,
   "metadata": {},
   "outputs": [
    {
     "data": {
      "text/html": [
       "<table>\n",
       "<caption>A Time Series: 12 × 12</caption>\n",
       "<thead>\n",
       "\t<tr><th></th><th scope=col>Jan</th><th scope=col>Feb</th><th scope=col>Mar</th><th scope=col>Apr</th><th scope=col>May</th><th scope=col>Jun</th><th scope=col>Jul</th><th scope=col>Aug</th><th scope=col>Sep</th><th scope=col>Oct</th><th scope=col>Nov</th><th scope=col>Dec</th></tr>\n",
       "</thead>\n",
       "<tbody>\n",
       "\t<tr><th scope=row>1949</th><td>112</td><td>118</td><td>132</td><td>129</td><td>121</td><td>135</td><td>148</td><td>148</td><td>136</td><td>119</td><td>104</td><td>118</td></tr>\n",
       "\t<tr><th scope=row>1950</th><td>115</td><td>126</td><td>141</td><td>135</td><td>125</td><td>149</td><td>170</td><td>170</td><td>158</td><td>133</td><td>114</td><td>140</td></tr>\n",
       "\t<tr><th scope=row>1951</th><td>145</td><td>150</td><td>178</td><td>163</td><td>172</td><td>178</td><td>199</td><td>199</td><td>184</td><td>162</td><td>146</td><td>166</td></tr>\n",
       "\t<tr><th scope=row>1952</th><td>171</td><td>180</td><td>193</td><td>181</td><td>183</td><td>218</td><td>230</td><td>242</td><td>209</td><td>191</td><td>172</td><td>194</td></tr>\n",
       "\t<tr><th scope=row>1953</th><td>196</td><td>196</td><td>236</td><td>235</td><td>229</td><td>243</td><td>264</td><td>272</td><td>237</td><td>211</td><td>180</td><td>201</td></tr>\n",
       "\t<tr><th scope=row>1954</th><td>204</td><td>188</td><td>235</td><td>227</td><td>234</td><td>264</td><td>302</td><td>293</td><td>259</td><td>229</td><td>203</td><td>229</td></tr>\n",
       "\t<tr><th scope=row>1955</th><td>242</td><td>233</td><td>267</td><td>269</td><td>270</td><td>315</td><td>364</td><td>347</td><td>312</td><td>274</td><td>237</td><td>278</td></tr>\n",
       "\t<tr><th scope=row>1956</th><td>284</td><td>277</td><td>317</td><td>313</td><td>318</td><td>374</td><td>413</td><td>405</td><td>355</td><td>306</td><td>271</td><td>306</td></tr>\n",
       "\t<tr><th scope=row>1957</th><td>315</td><td>301</td><td>356</td><td>348</td><td>355</td><td>422</td><td>465</td><td>467</td><td>404</td><td>347</td><td>305</td><td>336</td></tr>\n",
       "\t<tr><th scope=row>1958</th><td>340</td><td>318</td><td>362</td><td>348</td><td>363</td><td>435</td><td>491</td><td>505</td><td>404</td><td>359</td><td>310</td><td>337</td></tr>\n",
       "\t<tr><th scope=row>1959</th><td>360</td><td>342</td><td>406</td><td>396</td><td>420</td><td>472</td><td>548</td><td>559</td><td>463</td><td>407</td><td>362</td><td>405</td></tr>\n",
       "\t<tr><th scope=row>1960</th><td>417</td><td>391</td><td>419</td><td>461</td><td>472</td><td>535</td><td>622</td><td>606</td><td>508</td><td>461</td><td>390</td><td>432</td></tr>\n",
       "</tbody>\n",
       "</table>\n"
      ],
      "text/latex": [
       "A Time Series: 12 × 12\n",
       "\\begin{tabular}{r|llllllllllll}\n",
       "  & Jan & Feb & Mar & Apr & May & Jun & Jul & Aug & Sep & Oct & Nov & Dec\\\\\n",
       "\\hline\n",
       "\t1949 & 112 & 118 & 132 & 129 & 121 & 135 & 148 & 148 & 136 & 119 & 104 & 118\\\\\n",
       "\t1950 & 115 & 126 & 141 & 135 & 125 & 149 & 170 & 170 & 158 & 133 & 114 & 140\\\\\n",
       "\t1951 & 145 & 150 & 178 & 163 & 172 & 178 & 199 & 199 & 184 & 162 & 146 & 166\\\\\n",
       "\t1952 & 171 & 180 & 193 & 181 & 183 & 218 & 230 & 242 & 209 & 191 & 172 & 194\\\\\n",
       "\t1953 & 196 & 196 & 236 & 235 & 229 & 243 & 264 & 272 & 237 & 211 & 180 & 201\\\\\n",
       "\t1954 & 204 & 188 & 235 & 227 & 234 & 264 & 302 & 293 & 259 & 229 & 203 & 229\\\\\n",
       "\t1955 & 242 & 233 & 267 & 269 & 270 & 315 & 364 & 347 & 312 & 274 & 237 & 278\\\\\n",
       "\t1956 & 284 & 277 & 317 & 313 & 318 & 374 & 413 & 405 & 355 & 306 & 271 & 306\\\\\n",
       "\t1957 & 315 & 301 & 356 & 348 & 355 & 422 & 465 & 467 & 404 & 347 & 305 & 336\\\\\n",
       "\t1958 & 340 & 318 & 362 & 348 & 363 & 435 & 491 & 505 & 404 & 359 & 310 & 337\\\\\n",
       "\t1959 & 360 & 342 & 406 & 396 & 420 & 472 & 548 & 559 & 463 & 407 & 362 & 405\\\\\n",
       "\t1960 & 417 & 391 & 419 & 461 & 472 & 535 & 622 & 606 & 508 & 461 & 390 & 432\\\\\n",
       "\\end{tabular}\n"
      ],
      "text/markdown": [
       "\n",
       "A Time Series: 12 × 12\n",
       "\n",
       "| <!--/--> | Jan | Feb | Mar | Apr | May | Jun | Jul | Aug | Sep | Oct | Nov | Dec |\n",
       "|---|---|---|---|---|---|---|---|---|---|---|---|---|\n",
       "| 1949 | 112 | 118 | 132 | 129 | 121 | 135 | 148 | 148 | 136 | 119 | 104 | 118 |\n",
       "| 1950 | 115 | 126 | 141 | 135 | 125 | 149 | 170 | 170 | 158 | 133 | 114 | 140 |\n",
       "| 1951 | 145 | 150 | 178 | 163 | 172 | 178 | 199 | 199 | 184 | 162 | 146 | 166 |\n",
       "| 1952 | 171 | 180 | 193 | 181 | 183 | 218 | 230 | 242 | 209 | 191 | 172 | 194 |\n",
       "| 1953 | 196 | 196 | 236 | 235 | 229 | 243 | 264 | 272 | 237 | 211 | 180 | 201 |\n",
       "| 1954 | 204 | 188 | 235 | 227 | 234 | 264 | 302 | 293 | 259 | 229 | 203 | 229 |\n",
       "| 1955 | 242 | 233 | 267 | 269 | 270 | 315 | 364 | 347 | 312 | 274 | 237 | 278 |\n",
       "| 1956 | 284 | 277 | 317 | 313 | 318 | 374 | 413 | 405 | 355 | 306 | 271 | 306 |\n",
       "| 1957 | 315 | 301 | 356 | 348 | 355 | 422 | 465 | 467 | 404 | 347 | 305 | 336 |\n",
       "| 1958 | 340 | 318 | 362 | 348 | 363 | 435 | 491 | 505 | 404 | 359 | 310 | 337 |\n",
       "| 1959 | 360 | 342 | 406 | 396 | 420 | 472 | 548 | 559 | 463 | 407 | 362 | 405 |\n",
       "| 1960 | 417 | 391 | 419 | 461 | 472 | 535 | 622 | 606 | 508 | 461 | 390 | 432 |\n",
       "\n"
      ],
      "text/plain": [
       "     Jan Feb Mar Apr May Jun Jul Aug Sep Oct Nov Dec\n",
       "1949 112 118 132 129 121 135 148 148 136 119 104 118\n",
       "1950 115 126 141 135 125 149 170 170 158 133 114 140\n",
       "1951 145 150 178 163 172 178 199 199 184 162 146 166\n",
       "1952 171 180 193 181 183 218 230 242 209 191 172 194\n",
       "1953 196 196 236 235 229 243 264 272 237 211 180 201\n",
       "1954 204 188 235 227 234 264 302 293 259 229 203 229\n",
       "1955 242 233 267 269 270 315 364 347 312 274 237 278\n",
       "1956 284 277 317 313 318 374 413 405 355 306 271 306\n",
       "1957 315 301 356 348 355 422 465 467 404 347 305 336\n",
       "1958 340 318 362 348 363 435 491 505 404 359 310 337\n",
       "1959 360 342 406 396 420 472 548 559 463 407 362 405\n",
       "1960 417 391 419 461 472 535 622 606 508 461 390 432"
      ]
     },
     "metadata": {},
     "output_type": "display_data"
    }
   ],
   "source": [
    "AirPassengers"
   ]
  },
  {
   "cell_type": "code",
   "execution_count": null,
   "metadata": {},
   "outputs": [
    {
     "data": {
      "image/png": "[encoded data removed]",
      "text/plain": [
       "plot without title"
      ]
     },
     "metadata": {
      "image/png": {
       "height": 600,
       "width": 600
      }
     },
     "output_type": "display_data"
    }
   ],
   "source": [
    "options(repr.plot.width=10, repr.plot.height=10)\n",
    "par(las=1,ps=20)\n",
    "plot(AirPassengers)"
   ]
  },
  {
   "cell_type": "markdown",
   "metadata": {},
   "source": [
    "**Further links**"
   ]
  },
  {
   "cell_type": "markdown",
   "metadata": {},
   "source": [
    "- <a href=\"http://www.r-tutor.com/elementary-statistics\">Elementary statistics with R</a> by Chi Yau\n",
    "- <a href=\"https://magesblog.com/post/2011-12-01-fitting-distributions-with-r/\">Fitting distributions with R</a> by Markus Gesmann\n",
    "- <a href=\"https://geocompr.robinlovelace.net/\">Geocomputation with R</a> by Robin Lovelace, Jakub Nowosad, Jannes Muenchow\n",
    "- <a href=\"https://rspatial.org/raster/index.html\">Spatial Data Science with R</a> by Robert J. Hijmans\n",
    "- <a href=\"https://www.maths.lancs.ac.uk/~rowlings/Teaching/UseR2012/index.html\">Geospatial data in R and beyond</a> by Barry Rowlingson\n",
    "- <a href=\"https://www.r-bloggers.com/2014/09/in-depth-introduction-to-machine-learning-in-15-hours-of-expert-videos/\">In-depth introduction to machine learning</a> by Kevin Markham"
   ]
  }
 ],
 "metadata": {
  "kernelspec": {
   "display_name": "R",
   "language": "R",
   "name": "python3812jvsc74a57bd057140132a535f65c36ce285e6cb03a019289c035496a81c0cac22869405fa368"
  },
  "language_info": {
   "codemirror_mode": "r",
   "file_extension": ".r",
   "mimetype": "text/x-r-source",
   "name": "R",
   "pygments_lexer": "r",
   "version": "3.6.1"
  }
 },
 "nbformat": 4,
 "nbformat_minor": 4
}
