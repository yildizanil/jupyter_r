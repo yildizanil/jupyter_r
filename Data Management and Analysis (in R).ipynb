{
 "cells": [
  {
   "cell_type": "markdown",
   "metadata": {},
   "source": [
    "# Data Management and Analysis (in R)"
   ]
  },
  {
   "cell_type": "markdown",
   "metadata": {
    "slideshow": {
     "slide_type": "slide"
    }
   },
   "source": [
    "**M.Geo.336e: Digital Geoscience Seminar***\n",
    "\n",
    "Anil Yildiz, Dr. sc.\n",
    "\n",
    "E-mail: [yildiz@mbd.rwth-aachen.de](mailto:yildiz@mbd.rwth-aachen.de)\n",
    "Personal homepage: [www.anilyildiz.info](https://www.anilyildiz.info)\n",
    "\n",
    "\\* *This Jupyter notebook was initially used in the Digital Geoscience Seminar at the University of Göttingen.*"
   ]
  },
  {
   "cell_type": "markdown",
   "metadata": {},
   "source": [
    "## Introduction\n",
    "\n",
    "[Download R](https://cran.r-project.org/)\n",
    "\n",
    "[Download R Studio](https://www.rstudio.com/products/rstudio/download/#download)"
   ]
  },
  {
   "cell_type": "markdown",
   "metadata": {},
   "source": [
    "## Basics\n",
    "\n",
    "### Data structures"
   ]
  },
  {
   "cell_type": "markdown",
   "metadata": {},
   "source": [
    " <img src=\"https://ndownloader.figshare.com/files/27853281?private_link=56d4dd6c725ef9fcb979\" alt=\"Data formats in R\" width=\"600\" height=\"440\"> "
   ]
  },
  {
   "cell_type": "markdown",
   "metadata": {},
   "source": [
    "A *variable* contains one element. You can use the assign operator \"<-\" or equal sign \"=\" to assign an element to a variable."
   ]
  },
  {
   "cell_type": "code",
   "execution_count": 58,
   "metadata": {},
   "outputs": [
    {
     "data": {
      "text/html": [
       "1"
      ],
      "text/latex": [
       "1"
      ],
      "text/markdown": [
       "1"
      ],
      "text/plain": [
       "[1] 1"
      ]
     },
     "metadata": {},
     "output_type": "display_data"
    },
    {
     "data": {
      "text/html": [
       "'a'"
      ],
      "text/latex": [
       "'a'"
      ],
      "text/markdown": [
       "'a'"
      ],
      "text/plain": [
       "[1] \"a\""
      ]
     },
     "metadata": {},
     "output_type": "display_data"
    },
    {
     "data": {
      "text/html": [
       "TRUE"
      ],
      "text/latex": [
       "TRUE"
      ],
      "text/markdown": [
       "TRUE"
      ],
      "text/plain": [
       "[1] TRUE"
      ]
     },
     "metadata": {},
     "output_type": "display_data"
    }
   ],
   "source": [
    "var1 <- 1\n",
    "var2 = \"a\"\n",
    "var3 <- T\n",
    "var1\n",
    "var2\n",
    "var3"
   ]
  },
  {
   "cell_type": "markdown",
   "metadata": {},
   "source": [
    "A *vector* contains multiple elements in a single dimension. "
   ]
  },
  {
   "cell_type": "code",
   "execution_count": 59,
   "metadata": {},
   "outputs": [
    {
     "data": {
      "text/html": [
       "<ol class=list-inline>\n",
       "\t<li>'1'</li>\n",
       "\t<li>'a'</li>\n",
       "\t<li>'TRUE'</li>\n",
       "</ol>\n"
      ],
      "text/latex": [
       "\\begin{enumerate*}\n",
       "\\item '1'\n",
       "\\item 'a'\n",
       "\\item 'TRUE'\n",
       "\\end{enumerate*}\n"
      ],
      "text/markdown": [
       "1. '1'\n",
       "2. 'a'\n",
       "3. 'TRUE'\n",
       "\n",
       "\n"
      ],
      "text/plain": [
       "[1] \"1\"    \"a\"    \"TRUE\""
      ]
     },
     "metadata": {},
     "output_type": "display_data"
    },
    {
     "data": {
      "text/html": [
       "<ol class=list-inline>\n",
       "\t<li>1</li>\n",
       "\t<li>2</li>\n",
       "\t<li>3</li>\n",
       "</ol>\n"
      ],
      "text/latex": [
       "\\begin{enumerate*}\n",
       "\\item 1\n",
       "\\item 2\n",
       "\\item 3\n",
       "\\end{enumerate*}\n"
      ],
      "text/markdown": [
       "1. 1\n",
       "2. 2\n",
       "3. 3\n",
       "\n",
       "\n"
      ],
      "text/plain": [
       "[1] 1 2 3"
      ]
     },
     "metadata": {},
     "output_type": "display_data"
    }
   ],
   "source": [
    "vec1 <- c(var1,var2,var3)\n",
    "vec1\n",
    "vec2 <- c(1,2,3)\n",
    "vec2"
   ]
  },
  {
   "cell_type": "markdown",
   "metadata": {},
   "source": [
    "A *matrix* is a 2-dimensional data structure that contains multiple elements of a single type."
   ]
  },
  {
   "cell_type": "code",
   "execution_count": 60,
   "metadata": {},
   "outputs": [
    {
     "data": {
      "text/html": [
       "<table>\n",
       "<tbody>\n",
       "\t<tr><td>1</td><td>2</td><td>3</td></tr>\n",
       "\t<tr><td>4</td><td>5</td><td>6</td></tr>\n",
       "\t<tr><td>7</td><td>8</td><td>9</td></tr>\n",
       "</tbody>\n",
       "</table>\n"
      ],
      "text/latex": [
       "\\begin{tabular}{lll}\n",
       "\t 1 & 2 & 3\\\\\n",
       "\t 4 & 5 & 6\\\\\n",
       "\t 7 & 8 & 9\\\\\n",
       "\\end{tabular}\n"
      ],
      "text/markdown": [
       "\n",
       "| 1 | 2 | 3 |\n",
       "| 4 | 5 | 6 |\n",
       "| 7 | 8 | 9 |\n",
       "\n"
      ],
      "text/plain": [
       "     [,1] [,2] [,3]\n",
       "[1,] 1    2    3   \n",
       "[2,] 4    5    6   \n",
       "[3,] 7    8    9   "
      ]
     },
     "metadata": {},
     "output_type": "display_data"
    },
    {
     "data": {
      "text/html": [
       "<table>\n",
       "<tbody>\n",
       "\t<tr><td>a</td><td>b</td><td>c</td></tr>\n",
       "\t<tr><td>d</td><td>e</td><td>f</td></tr>\n",
       "\t<tr><td>g</td><td>h</td><td>i</td></tr>\n",
       "</tbody>\n",
       "</table>\n"
      ],
      "text/latex": [
       "\\begin{tabular}{lll}\n",
       "\t a & b & c\\\\\n",
       "\t d & e & f\\\\\n",
       "\t g & h & i\\\\\n",
       "\\end{tabular}\n"
      ],
      "text/markdown": [
       "\n",
       "| a | b | c |\n",
       "| d | e | f |\n",
       "| g | h | i |\n",
       "\n"
      ],
      "text/plain": [
       "     [,1] [,2] [,3]\n",
       "[1,] a    b    c   \n",
       "[2,] d    e    f   \n",
       "[3,] g    h    i   "
      ]
     },
     "metadata": {},
     "output_type": "display_data"
    }
   ],
   "source": [
    "mat1 <- matrix(seq(1,9,1),nrow=3,ncol=3,byrow=T)\n",
    "mat1\n",
    "mat2 <- matrix(letters[seq(1,9,1)],nrow=3,ncol=3,byrow=T)\n",
    "mat2"
   ]
  },
  {
   "cell_type": "markdown",
   "metadata": {},
   "source": [
    "A *data frame* is a 2-dimensional data structure that can contain multiple elements of various types."
   ]
  },
  {
   "cell_type": "code",
   "execution_count": 61,
   "metadata": {},
   "outputs": [
    {
     "data": {
      "text/html": [
       "<table>\n",
       "<thead><tr><th scope=col>col1</th><th scope=col>col2</th><th scope=col>col3</th></tr></thead>\n",
       "<tbody>\n",
       "\t<tr><td>1    </td><td>a    </td><td> TRUE</td></tr>\n",
       "\t<tr><td>4    </td><td>b    </td><td> TRUE</td></tr>\n",
       "\t<tr><td>7    </td><td>c    </td><td>FALSE</td></tr>\n",
       "</tbody>\n",
       "</table>\n"
      ],
      "text/latex": [
       "\\begin{tabular}{r|lll}\n",
       " col1 & col2 & col3\\\\\n",
       "\\hline\n",
       "\t 1     & a     &  TRUE\\\\\n",
       "\t 4     & b     &  TRUE\\\\\n",
       "\t 7     & c     & FALSE\\\\\n",
       "\\end{tabular}\n"
      ],
      "text/markdown": [
       "\n",
       "| col1 | col2 | col3 |\n",
       "|---|---|---|\n",
       "| 1     | a     |  TRUE |\n",
       "| 4     | b     |  TRUE |\n",
       "| 7     | c     | FALSE |\n",
       "\n"
      ],
      "text/plain": [
       "  col1 col2 col3 \n",
       "1 1    a     TRUE\n",
       "2 4    b     TRUE\n",
       "3 7    c    FALSE"
      ]
     },
     "metadata": {},
     "output_type": "display_data"
    },
    {
     "data": {
      "text/html": [
       "'numeric'"
      ],
      "text/latex": [
       "'numeric'"
      ],
      "text/markdown": [
       "'numeric'"
      ],
      "text/plain": [
       "[1] \"numeric\""
      ]
     },
     "metadata": {},
     "output_type": "display_data"
    },
    {
     "data": {
      "text/html": [
       "'factor'"
      ],
      "text/latex": [
       "'factor'"
      ],
      "text/markdown": [
       "'factor'"
      ],
      "text/plain": [
       "[1] \"factor\""
      ]
     },
     "metadata": {},
     "output_type": "display_data"
    },
    {
     "data": {
      "text/html": [
       "'logical'"
      ],
      "text/latex": [
       "'logical'"
      ],
      "text/markdown": [
       "'logical'"
      ],
      "text/plain": [
       "[1] \"logical\""
      ]
     },
     "metadata": {},
     "output_type": "display_data"
    }
   ],
   "source": [
    "df1 <- data.frame(col1=c(1,4,7),col2=c(\"a\",\"b\",\"c\"),col3=c(T,T,F))\n",
    "df1\n",
    "class(df1[,1])\n",
    "class(df1[,2])\n",
    "class(df1[,3])"
   ]
  },
  {
   "cell_type": "markdown",
   "metadata": {},
   "source": [
    "A *list* is a multi-dimensional data structure that can contain multiple structures of various types."
   ]
  },
  {
   "cell_type": "code",
   "execution_count": 62,
   "metadata": {},
   "outputs": [
    {
     "data": {
      "text/html": [
       "<dl>\n",
       "\t<dt>$l1</dt>\n",
       "\t\t<dd>1</dd>\n",
       "\t<dt>$l2</dt>\n",
       "\t\t<dd><ol class=list-inline>\n",
       "\t<li>'1'</li>\n",
       "\t<li>'a'</li>\n",
       "\t<li>'TRUE'</li>\n",
       "</ol>\n",
       "</dd>\n",
       "\t<dt>$l3</dt>\n",
       "\t\t<dd><table>\n",
       "<tbody>\n",
       "\t<tr><td>1</td><td>2</td><td>3</td></tr>\n",
       "\t<tr><td>4</td><td>5</td><td>6</td></tr>\n",
       "\t<tr><td>7</td><td>8</td><td>9</td></tr>\n",
       "</tbody>\n",
       "</table>\n",
       "</dd>\n",
       "\t<dt>$l4</dt>\n",
       "\t\t<dd><table>\n",
       "<thead><tr><th scope=col>col1</th><th scope=col>col2</th><th scope=col>col3</th></tr></thead>\n",
       "<tbody>\n",
       "\t<tr><td>1    </td><td>a    </td><td> TRUE</td></tr>\n",
       "\t<tr><td>4    </td><td>b    </td><td> TRUE</td></tr>\n",
       "\t<tr><td>7    </td><td>c    </td><td>FALSE</td></tr>\n",
       "</tbody>\n",
       "</table>\n",
       "</dd>\n",
       "</dl>\n"
      ],
      "text/latex": [
       "\\begin{description}\n",
       "\\item[\\$l1] 1\n",
       "\\item[\\$l2] \\begin{enumerate*}\n",
       "\\item '1'\n",
       "\\item 'a'\n",
       "\\item 'TRUE'\n",
       "\\end{enumerate*}\n",
       "\n",
       "\\item[\\$l3] \\begin{tabular}{lll}\n",
       "\t 1 & 2 & 3\\\\\n",
       "\t 4 & 5 & 6\\\\\n",
       "\t 7 & 8 & 9\\\\\n",
       "\\end{tabular}\n",
       "\n",
       "\\item[\\$l4] \\begin{tabular}{r|lll}\n",
       " col1 & col2 & col3\\\\\n",
       "\\hline\n",
       "\t 1     & a     &  TRUE\\\\\n",
       "\t 4     & b     &  TRUE\\\\\n",
       "\t 7     & c     & FALSE\\\\\n",
       "\\end{tabular}\n",
       "\n",
       "\\end{description}\n"
      ],
      "text/markdown": [
       "$l1\n",
       ":   1\n",
       "$l2\n",
       ":   1. '1'\n",
       "2. 'a'\n",
       "3. 'TRUE'\n",
       "\n",
       "\n",
       "\n",
       "$l3\n",
       ":   \n",
       "| 1 | 2 | 3 |\n",
       "| 4 | 5 | 6 |\n",
       "| 7 | 8 | 9 |\n",
       "\n",
       "\n",
       "$l4\n",
       ":   \n",
       "| col1 | col2 | col3 |\n",
       "|---|---|---|\n",
       "| 1     | a     |  TRUE |\n",
       "| 4     | b     |  TRUE |\n",
       "| 7     | c     | FALSE |\n",
       "\n",
       "\n",
       "\n",
       "\n"
      ],
      "text/plain": [
       "$l1\n",
       "[1] 1\n",
       "\n",
       "$l2\n",
       "[1] \"1\"    \"a\"    \"TRUE\"\n",
       "\n",
       "$l3\n",
       "     [,1] [,2] [,3]\n",
       "[1,]    1    2    3\n",
       "[2,]    4    5    6\n",
       "[3,]    7    8    9\n",
       "\n",
       "$l4\n",
       "  col1 col2  col3\n",
       "1    1    a  TRUE\n",
       "2    4    b  TRUE\n",
       "3    7    c FALSE\n"
      ]
     },
     "metadata": {},
     "output_type": "display_data"
    }
   ],
   "source": [
    "list1 <- list(l1=var1,l2=vec1,l3=mat1,l4=df1)\n",
    "list1"
   ]
  },
  {
   "cell_type": "markdown",
   "metadata": {},
   "source": [
    "## Importing data"
   ]
  },
  {
   "cell_type": "markdown",
   "metadata": {},
   "source": [
    "We will access raw data of air temperature (in °C) from Newcastle upon Tyne, UK over the API of [National Green Infrastructure Facility](https://www.twitter.com/ngif_uk). Let's have a look at a generic download link:\n",
    "\n",
    "https://api.ngif.urbanobservatory.ac.uk/api/v2/sensors/timeseries/54780465-b11a-4d6c-8465-d82db47d69df/historic?startTime=2021-12-01T00:00:00.000Z&endTime=2021-12-17T00:00:00.000Z&outputAs=csv\n",
    "\n",
    "Wee see that the first part of the link with a unique identifer (54780465-b11a-4d6c-8465-d82db47d69df) provides data from one sensor (air temperature):\n",
    "\n",
    "https://api.ngif.urbanobservatory.ac.uk/api/v2/sensors/timeseries/54780465-b11a-4d6c-8465-d82db47d69df/\n",
    "\n",
    "We have then the starting time and end time in the following format: \n",
    "\n",
    "2021-12-01T00:00:00.000Z\n",
    "\n",
    "2021-12-17T00:00:00.000Z\n",
    "\n",
    "We see that we can reconstruct the download link for this particular sensor in any time frame. We will write a code snippet that will provide us the air temperature at Newcastle upon Tyne up to 1 week before the execution of the code. We write a function to construct a download link using a start time and end time."
   ]
  },
  {
   "cell_type": "code",
   "execution_count": 92,
   "metadata": {},
   "outputs": [],
   "source": [
    "construct_link <- function(start,end) {\n",
    "    link_part1 <- \"https://api.ngif.urbanobservatory.ac.uk/api/v2/sensors/timeseries/\"\n",
    "    link_part2 <- \"54780465-b11a-4d6c-8465-d82db47d69df/\"\n",
    "    link_part3 <- \"historic?startTime=\"\n",
    "    link_part4 <- paste0(start,\"T00:00:00.000Z&\")\n",
    "    link_part5 <- paste0(\"endTime=\",end,\"T00:00:00.000Z&outputAs=csv\")\n",
    "    link <- paste0(link_part1, link_part2, link_part3, link_part4, link_part5)\n",
    "    return(link)\n",
    "    }"
   ]
  },
  {
   "cell_type": "code",
   "execution_count": 96,
   "metadata": {},
   "outputs": [
    {
     "data": {
      "text/html": [
       "<time datetime=\"2021-12-17\">2021-12-17</time>"
      ],
      "text/latex": [
       "2021-12-17"
      ],
      "text/markdown": [
       "2021-12-17"
      ],
      "text/plain": [
       "[1] \"2021-12-17\""
      ]
     },
     "metadata": {},
     "output_type": "display_data"
    },
    {
     "data": {
      "text/html": [
       "'2021-12-17'"
      ],
      "text/latex": [
       "'2021-12-17'"
      ],
      "text/markdown": [
       "'2021-12-17'"
      ],
      "text/plain": [
       "[1] \"2021-12-17\""
      ]
     },
     "metadata": {},
     "output_type": "display_data"
    }
   ],
   "source": [
    "# getting the system date at the point of code execution\n",
    "Sys.Date()\n",
    "# turning the Sys.time() into a character\n",
    "end <- as.character(Sys.Date())\n",
    "end"
   ]
  },
  {
   "cell_type": "code",
   "execution_count": 98,
   "metadata": {},
   "outputs": [
    {
     "data": {
      "text/html": [
       "<time datetime=\"2021-12-10\">2021-12-10</time>"
      ],
      "text/latex": [
       "2021-12-10"
      ],
      "text/markdown": [
       "2021-12-10"
      ],
      "text/plain": [
       "[1] \"2021-12-10\""
      ]
     },
     "metadata": {},
     "output_type": "display_data"
    },
    {
     "data": {
      "text/html": [
       "'2021-12-10'"
      ],
      "text/latex": [
       "'2021-12-10'"
      ],
      "text/markdown": [
       "'2021-12-10'"
      ],
      "text/plain": [
       "[1] \"2021-12-10\""
      ]
     },
     "metadata": {},
     "output_type": "display_data"
    }
   ],
   "source": [
    "# getting the time 7 days before the system time\n",
    "time_1w <- Sys.Date() - 7 \n",
    "time_1w\n",
    "# converting time_1mo to character\n",
    "start <- as.character(time_1w)\n",
    "start"
   ]
  },
  {
   "cell_type": "code",
   "execution_count": 99,
   "metadata": {},
   "outputs": [
    {
     "data": {
      "text/html": [
       "'https://api.ngif.urbanobservatory.ac.uk/api/v2/sensors/timeseries/54780465-b11a-4d6c-8465-d82db47d69df/historic?startTime=2021-12-10T00:00:00.000Z&amp;endTime=2021-12-17T00:00:00.000Z&amp;outputAs=csv'"
      ],
      "text/latex": [
       "'https://api.ngif.urbanobservatory.ac.uk/api/v2/sensors/timeseries/54780465-b11a-4d6c-8465-d82db47d69df/historic?startTime=2021-12-10T00:00:00.000Z\\&endTime=2021-12-17T00:00:00.000Z\\&outputAs=csv'"
      ],
      "text/markdown": [
       "'https://api.ngif.urbanobservatory.ac.uk/api/v2/sensors/timeseries/54780465-b11a-4d6c-8465-d82db47d69df/historic?startTime=2021-12-10T00:00:00.000Z&amp;endTime=2021-12-17T00:00:00.000Z&amp;outputAs=csv'"
      ],
      "text/plain": [
       "[1] \"https://api.ngif.urbanobservatory.ac.uk/api/v2/sensors/timeseries/54780465-b11a-4d6c-8465-d82db47d69df/historic?startTime=2021-12-10T00:00:00.000Z&endTime=2021-12-17T00:00:00.000Z&outputAs=csv\""
      ]
     },
     "metadata": {},
     "output_type": "display_data"
    }
   ],
   "source": [
    "# reconstructing the download link\n",
    "download_link <- construct_link(start,end)\n",
    "download_link"
   ]
  },
  {
   "cell_type": "markdown",
   "metadata": {},
   "source": [
    "Raw data is stored in a csv file. We realise that the first 9 rows of the file contains metadata. The tenth row contains the headers. Please check the documentation for the details of <a href=\"https://www.rdocumentation.org/packages/utils/versions/3.6.2/topics/read.table\">read.csv()</a> function. "
   ]
  },
  {
   "cell_type": "code",
   "execution_count": 100,
   "metadata": {},
   "outputs": [],
   "source": [
    "raw_data <- read.csv(download_link, skip = 9, header = T,\n",
    "    sep = \",\", stringsAsFactors = F)"
   ]
  },
  {
   "cell_type": "markdown",
   "metadata": {},
   "source": [
    "We can summarise the data to have a quick grasp of the parameters."
   ]
  },
  {
   "cell_type": "code",
   "execution_count": 101,
   "metadata": {},
   "outputs": [
    {
     "data": {
      "text/plain": [
       "     time               value        duration...observation.window\n",
       " Length:55919       Min.   : 2.600   Min.   :-20.930              \n",
       " Class :character   1st Qu.: 6.200   1st Qu.:-10.009              \n",
       " Mode  :character   Median : 8.100   Median :-10.000              \n",
       "                    Mean   : 8.002   Mean   :-10.061              \n",
       "                    3rd Qu.: 9.900   3rd Qu.: -9.992              \n",
       "                    Max.   :13.200   Max.   : -8.007              "
      ]
     },
     "metadata": {},
     "output_type": "display_data"
    }
   ],
   "source": [
    "summary(raw_data)"
   ]
  },
  {
   "cell_type": "markdown",
   "metadata": {},
   "source": [
    "If we want to see the beginning and the end of the dataset, we can use <a href=\"https://www.rdocumentation.org/packages/utils/versions/3.6.2/topics/head\">head()</a> or <a href=\"https://www.rdocumentation.org/packages/rotations/versions/1.6.1/topics/tail\">tail()</a> functions. These functions show either the first or the last 6 rows of the dataset.\n",
    "\n"
   ]
  },
  {
   "cell_type": "code",
   "execution_count": 102,
   "metadata": {},
   "outputs": [
    {
     "data": {
      "text/html": [
       "<table>\n",
       "<thead><tr><th scope=col>time</th><th scope=col>value</th><th scope=col>duration...observation.window</th></tr></thead>\n",
       "<tbody>\n",
       "\t<tr><td>2021-12-17 00:00:00</td><td>4.3                </td><td> -9.997            </td></tr>\n",
       "\t<tr><td>2021-12-16 23:59:50</td><td>4.3                </td><td>-10.006            </td></tr>\n",
       "\t<tr><td>2021-12-16 23:59:40</td><td>4.3                </td><td> -9.997            </td></tr>\n",
       "\t<tr><td>2021-12-16 23:59:30</td><td>4.4                </td><td> -9.992            </td></tr>\n",
       "\t<tr><td>2021-12-16 23:59:20</td><td>4.4                </td><td>-10.001            </td></tr>\n",
       "\t<tr><td>2021-12-16 23:59:10</td><td>4.4                </td><td>-10.012            </td></tr>\n",
       "</tbody>\n",
       "</table>\n"
      ],
      "text/latex": [
       "\\begin{tabular}{r|lll}\n",
       " time & value & duration...observation.window\\\\\n",
       "\\hline\n",
       "\t 2021-12-17 00:00:00 & 4.3                 &  -9.997            \\\\\n",
       "\t 2021-12-16 23:59:50 & 4.3                 & -10.006            \\\\\n",
       "\t 2021-12-16 23:59:40 & 4.3                 &  -9.997            \\\\\n",
       "\t 2021-12-16 23:59:30 & 4.4                 &  -9.992            \\\\\n",
       "\t 2021-12-16 23:59:20 & 4.4                 & -10.001            \\\\\n",
       "\t 2021-12-16 23:59:10 & 4.4                 & -10.012            \\\\\n",
       "\\end{tabular}\n"
      ],
      "text/markdown": [
       "\n",
       "| time | value | duration...observation.window |\n",
       "|---|---|---|\n",
       "| 2021-12-17 00:00:00 | 4.3                 |  -9.997             |\n",
       "| 2021-12-16 23:59:50 | 4.3                 | -10.006             |\n",
       "| 2021-12-16 23:59:40 | 4.3                 |  -9.997             |\n",
       "| 2021-12-16 23:59:30 | 4.4                 |  -9.992             |\n",
       "| 2021-12-16 23:59:20 | 4.4                 | -10.001             |\n",
       "| 2021-12-16 23:59:10 | 4.4                 | -10.012             |\n",
       "\n"
      ],
      "text/plain": [
       "  time                value duration...observation.window\n",
       "1 2021-12-17 00:00:00 4.3    -9.997                      \n",
       "2 2021-12-16 23:59:50 4.3   -10.006                      \n",
       "3 2021-12-16 23:59:40 4.3    -9.997                      \n",
       "4 2021-12-16 23:59:30 4.4    -9.992                      \n",
       "5 2021-12-16 23:59:20 4.4   -10.001                      \n",
       "6 2021-12-16 23:59:10 4.4   -10.012                      "
      ]
     },
     "metadata": {},
     "output_type": "display_data"
    }
   ],
   "source": [
    "head(raw_data)"
   ]
  },
  {
   "cell_type": "code",
   "execution_count": 103,
   "metadata": {},
   "outputs": [
    {
     "data": {
      "text/html": [
       "<table>\n",
       "<thead><tr><th></th><th scope=col>time</th><th scope=col>value</th><th scope=col>duration...observation.window</th></tr></thead>\n",
       "<tbody>\n",
       "\t<tr><th scope=row>55914</th><td>2021-12-10 00:00:50</td><td>5.9                </td><td> -9.995            </td></tr>\n",
       "\t<tr><th scope=row>55915</th><td>2021-12-10 00:00:40</td><td>5.9                </td><td>-10.006            </td></tr>\n",
       "\t<tr><th scope=row>55916</th><td>2021-12-10 00:00:30</td><td>5.9                </td><td>-10.000            </td></tr>\n",
       "\t<tr><th scope=row>55917</th><td>2021-12-10 00:00:20</td><td>5.9                </td><td> -9.961            </td></tr>\n",
       "\t<tr><th scope=row>55918</th><td>2021-12-10 00:00:10</td><td>5.9                </td><td>-10.024            </td></tr>\n",
       "\t<tr><th scope=row>55919</th><td>2021-12-10 00:00:00</td><td>5.9                </td><td>-10.004            </td></tr>\n",
       "</tbody>\n",
       "</table>\n"
      ],
      "text/latex": [
       "\\begin{tabular}{r|lll}\n",
       "  & time & value & duration...observation.window\\\\\n",
       "\\hline\n",
       "\t55914 & 2021-12-10 00:00:50 & 5.9                 &  -9.995            \\\\\n",
       "\t55915 & 2021-12-10 00:00:40 & 5.9                 & -10.006            \\\\\n",
       "\t55916 & 2021-12-10 00:00:30 & 5.9                 & -10.000            \\\\\n",
       "\t55917 & 2021-12-10 00:00:20 & 5.9                 &  -9.961            \\\\\n",
       "\t55918 & 2021-12-10 00:00:10 & 5.9                 & -10.024            \\\\\n",
       "\t55919 & 2021-12-10 00:00:00 & 5.9                 & -10.004            \\\\\n",
       "\\end{tabular}\n"
      ],
      "text/markdown": [
       "\n",
       "| <!--/--> | time | value | duration...observation.window |\n",
       "|---|---|---|---|\n",
       "| 55914 | 2021-12-10 00:00:50 | 5.9                 |  -9.995             |\n",
       "| 55915 | 2021-12-10 00:00:40 | 5.9                 | -10.006             |\n",
       "| 55916 | 2021-12-10 00:00:30 | 5.9                 | -10.000             |\n",
       "| 55917 | 2021-12-10 00:00:20 | 5.9                 |  -9.961             |\n",
       "| 55918 | 2021-12-10 00:00:10 | 5.9                 | -10.024             |\n",
       "| 55919 | 2021-12-10 00:00:00 | 5.9                 | -10.004             |\n",
       "\n"
      ],
      "text/plain": [
       "      time                value duration...observation.window\n",
       "55914 2021-12-10 00:00:50 5.9    -9.995                      \n",
       "55915 2021-12-10 00:00:40 5.9   -10.006                      \n",
       "55916 2021-12-10 00:00:30 5.9   -10.000                      \n",
       "55917 2021-12-10 00:00:20 5.9    -9.961                      \n",
       "55918 2021-12-10 00:00:10 5.9   -10.024                      \n",
       "55919 2021-12-10 00:00:00 5.9   -10.004                      "
      ]
     },
     "metadata": {},
     "output_type": "display_data"
    }
   ],
   "source": [
    "tail(raw_data)"
   ]
  },
  {
   "cell_type": "markdown",
   "metadata": {},
   "source": [
    "You can choose the number of entries you would like to see by specifying it in the function."
   ]
  },
  {
   "cell_type": "code",
   "execution_count": 104,
   "metadata": {},
   "outputs": [
    {
     "data": {
      "text/html": [
       "<table>\n",
       "<thead><tr><th scope=col>time</th><th scope=col>value</th><th scope=col>duration...observation.window</th></tr></thead>\n",
       "<tbody>\n",
       "\t<tr><td>2021-12-17 00:00:00</td><td>4.3                </td><td>-9.997             </td></tr>\n",
       "</tbody>\n",
       "</table>\n"
      ],
      "text/latex": [
       "\\begin{tabular}{r|lll}\n",
       " time & value & duration...observation.window\\\\\n",
       "\\hline\n",
       "\t 2021-12-17 00:00:00 & 4.3                 & -9.997             \\\\\n",
       "\\end{tabular}\n"
      ],
      "text/markdown": [
       "\n",
       "| time | value | duration...observation.window |\n",
       "|---|---|---|\n",
       "| 2021-12-17 00:00:00 | 4.3                 | -9.997              |\n",
       "\n"
      ],
      "text/plain": [
       "  time                value duration...observation.window\n",
       "1 2021-12-17 00:00:00 4.3   -9.997                       "
      ]
     },
     "metadata": {},
     "output_type": "display_data"
    },
    {
     "data": {
      "text/html": [
       "<table>\n",
       "<thead><tr><th></th><th scope=col>time</th><th scope=col>value</th><th scope=col>duration...observation.window</th></tr></thead>\n",
       "<tbody>\n",
       "\t<tr><th scope=row>55919</th><td>2021-12-10 00:00:00</td><td>5.9                </td><td>-10.004            </td></tr>\n",
       "</tbody>\n",
       "</table>\n"
      ],
      "text/latex": [
       "\\begin{tabular}{r|lll}\n",
       "  & time & value & duration...observation.window\\\\\n",
       "\\hline\n",
       "\t55919 & 2021-12-10 00:00:00 & 5.9                 & -10.004            \\\\\n",
       "\\end{tabular}\n"
      ],
      "text/markdown": [
       "\n",
       "| <!--/--> | time | value | duration...observation.window |\n",
       "|---|---|---|---|\n",
       "| 55919 | 2021-12-10 00:00:00 | 5.9                 | -10.004             |\n",
       "\n"
      ],
      "text/plain": [
       "      time                value duration...observation.window\n",
       "55919 2021-12-10 00:00:00 5.9   -10.004                      "
      ]
     },
     "metadata": {},
     "output_type": "display_data"
    }
   ],
   "source": [
    "head(raw_data, 1)\n",
    "tail(raw_data, 1)"
   ]
  },
  {
   "cell_type": "markdown",
   "metadata": {},
   "source": [
    "You can also reach to the first or last entry simply by using the following code:"
   ]
  },
  {
   "cell_type": "code",
   "execution_count": 105,
   "metadata": {},
   "outputs": [
    {
     "data": {
      "text/html": [
       "<table>\n",
       "<thead><tr><th scope=col>time</th><th scope=col>value</th><th scope=col>duration...observation.window</th></tr></thead>\n",
       "<tbody>\n",
       "\t<tr><td>2021-12-17 00:00:00</td><td>4.3                </td><td>-9.997             </td></tr>\n",
       "</tbody>\n",
       "</table>\n"
      ],
      "text/latex": [
       "\\begin{tabular}{r|lll}\n",
       " time & value & duration...observation.window\\\\\n",
       "\\hline\n",
       "\t 2021-12-17 00:00:00 & 4.3                 & -9.997             \\\\\n",
       "\\end{tabular}\n"
      ],
      "text/markdown": [
       "\n",
       "| time | value | duration...observation.window |\n",
       "|---|---|---|\n",
       "| 2021-12-17 00:00:00 | 4.3                 | -9.997              |\n",
       "\n"
      ],
      "text/plain": [
       "  time                value duration...observation.window\n",
       "1 2021-12-17 00:00:00 4.3   -9.997                       "
      ]
     },
     "metadata": {},
     "output_type": "display_data"
    }
   ],
   "source": [
    "raw_data[1, ]"
   ]
  },
  {
   "cell_type": "code",
   "execution_count": 106,
   "metadata": {},
   "outputs": [
    {
     "data": {
      "text/html": [
       "55919"
      ],
      "text/latex": [
       "55919"
      ],
      "text/markdown": [
       "55919"
      ],
      "text/plain": [
       "[1] 55919"
      ]
     },
     "metadata": {},
     "output_type": "display_data"
    },
    {
     "data": {
      "text/html": [
       "<table>\n",
       "<thead><tr><th></th><th scope=col>time</th><th scope=col>value</th><th scope=col>duration...observation.window</th></tr></thead>\n",
       "<tbody>\n",
       "\t<tr><th scope=row>55919</th><td>2021-12-10 00:00:00</td><td>5.9                </td><td>-10.004            </td></tr>\n",
       "</tbody>\n",
       "</table>\n"
      ],
      "text/latex": [
       "\\begin{tabular}{r|lll}\n",
       "  & time & value & duration...observation.window\\\\\n",
       "\\hline\n",
       "\t55919 & 2021-12-10 00:00:00 & 5.9                 & -10.004            \\\\\n",
       "\\end{tabular}\n"
      ],
      "text/markdown": [
       "\n",
       "| <!--/--> | time | value | duration...observation.window |\n",
       "|---|---|---|---|\n",
       "| 55919 | 2021-12-10 00:00:00 | 5.9                 | -10.004             |\n",
       "\n"
      ],
      "text/plain": [
       "      time                value duration...observation.window\n",
       "55919 2021-12-10 00:00:00 5.9   -10.004                      "
      ]
     },
     "metadata": {},
     "output_type": "display_data"
    }
   ],
   "source": [
    "nrow(raw_data)\n",
    "raw_data[nrow(raw_data), ]"
   ]
  },
  {
   "cell_type": "markdown",
   "metadata": {},
   "source": [
    "Some other useful packages and functions to import data are <a href=\"https://www.rdocumentation.org/packages/base/versions/3.6.2/topics/list.files\">list.files()</a>, <a href=\"https://www.rdocumentation.org/packages/utils/versions/3.6.2/topics/choose.files\">choose.files()</a>, <a href=\"https://www.rdocumentation.org/packages/utils/versions/3.6.2/topics/read.table\">read.table()</a>, and <a href=\"https://www.rdocumentation.org/packages/xlsx/versions/0.6.5/topics/xlsx-package\">xlsx</a>.\n",
    "\n",
    "\n",
    "\n",
    "\n",
    "\n",
    "\n",
    "\n"
   ]
  },
  {
   "cell_type": "markdown",
   "metadata": {},
   "source": [
    "## Subsetting data"
   ]
  },
  {
   "cell_type": "markdown",
   "metadata": {},
   "source": [
    "<p style=\"font-size: 0.9rem;font-style: italic;\"><img style=\"display: block;\" src=\"https://live.staticflickr.com/5138/5416400167_8ef995cec3_w_d.jpg\" alt=\"Loblolly Pine\"><a href=\"https://www.flickr.com/photos/59160873@N08/5416400167\">\"Loblolly Pine\"</a><span> by <a href=\"https://www.flickr.com/photos/59160873@N08\">the-specious</a></span> is licensed under <a href=\"https://creativecommons.org/licenses/by/2.0/?ref=ccsearch&atype=html\" style=\"margin-right: 5px;\">CC BY 2.0</a><a href=\"https://creativecommons.org/licenses/by/2.0/?ref=ccsearch&atype=html\" target=\"_blank\" rel=\"noopener noreferrer\" style=\"display: inline-block;white-space: none;margin-top: 2px;margin-left: 3px;height: 22px !important;\"><img style=\"height: inherit;margin-right: 3px;display: inline-block;\" src=\"https://search.creativecommons.org/static/img/cc_icon.svg?image_id=ab2c4f3c-1481-4b1b-9574-72aaeee900d4\" /><img style=\"height: inherit;margin-right: 3px;display: inline-block;\" src=\"https://search.creativecommons.org/static/img/cc-by_icon.svg\" /></a></p>"
   ]
  },
  {
   "cell_type": "markdown",
   "metadata": {},
   "source": [
    "The following function displays the built-in datasets in R."
   ]
  },
  {
   "cell_type": "code",
   "execution_count": 107,
   "metadata": {},
   "outputs": [],
   "source": [
    "data()"
   ]
  },
  {
   "cell_type": "code",
   "execution_count": 108,
   "metadata": {},
   "outputs": [],
   "source": [
    "data(\"Loblolly\")"
   ]
  },
  {
   "cell_type": "code",
   "execution_count": 109,
   "metadata": {},
   "outputs": [
    {
     "data": {
      "text/html": [
       "<table>\n",
       "<thead><tr><th></th><th scope=col>height</th><th scope=col>age</th><th scope=col>Seed</th></tr></thead>\n",
       "<tbody>\n",
       "\t<tr><th scope=row>1</th><td> 4.51</td><td> 3   </td><td>301  </td></tr>\n",
       "\t<tr><th scope=row>15</th><td>10.89</td><td> 5   </td><td>301  </td></tr>\n",
       "\t<tr><th scope=row>29</th><td>28.72</td><td>10   </td><td>301  </td></tr>\n",
       "\t<tr><th scope=row>43</th><td>41.74</td><td>15   </td><td>301  </td></tr>\n",
       "\t<tr><th scope=row>57</th><td>52.70</td><td>20   </td><td>301  </td></tr>\n",
       "\t<tr><th scope=row>71</th><td>60.92</td><td>25   </td><td>301  </td></tr>\n",
       "</tbody>\n",
       "</table>\n"
      ],
      "text/latex": [
       "\\begin{tabular}{r|lll}\n",
       "  & height & age & Seed\\\\\n",
       "\\hline\n",
       "\t1 &  4.51 &  3    & 301  \\\\\n",
       "\t15 & 10.89 &  5    & 301  \\\\\n",
       "\t29 & 28.72 & 10    & 301  \\\\\n",
       "\t43 & 41.74 & 15    & 301  \\\\\n",
       "\t57 & 52.70 & 20    & 301  \\\\\n",
       "\t71 & 60.92 & 25    & 301  \\\\\n",
       "\\end{tabular}\n"
      ],
      "text/markdown": [
       "\n",
       "| <!--/--> | height | age | Seed |\n",
       "|---|---|---|---|\n",
       "| 1 |  4.51 |  3    | 301   |\n",
       "| 15 | 10.89 |  5    | 301   |\n",
       "| 29 | 28.72 | 10    | 301   |\n",
       "| 43 | 41.74 | 15    | 301   |\n",
       "| 57 | 52.70 | 20    | 301   |\n",
       "| 71 | 60.92 | 25    | 301   |\n",
       "\n"
      ],
      "text/plain": [
       "   height age Seed\n",
       "1   4.51   3  301 \n",
       "15 10.89   5  301 \n",
       "29 28.72  10  301 \n",
       "43 41.74  15  301 \n",
       "57 52.70  20  301 \n",
       "71 60.92  25  301 "
      ]
     },
     "metadata": {},
     "output_type": "display_data"
    }
   ],
   "source": [
    "head(Loblolly)"
   ]
  },
  {
   "cell_type": "code",
   "execution_count": 110,
   "metadata": {},
   "outputs": [
    {
     "data": {
      "text/plain": [
       "     height           age            Seed   \n",
       " Min.   : 3.46   Min.   : 3.0   329    : 6  \n",
       " 1st Qu.:10.47   1st Qu.: 5.0   327    : 6  \n",
       " Median :34.00   Median :12.5   325    : 6  \n",
       " Mean   :32.36   Mean   :13.0   307    : 6  \n",
       " 3rd Qu.:51.36   3rd Qu.:20.0   331    : 6  \n",
       " Max.   :64.10   Max.   :25.0   311    : 6  \n",
       "                                (Other):48  "
      ]
     },
     "metadata": {},
     "output_type": "display_data"
    },
    {
     "data": {
      "text/html": [
       "<ol class=list-inline>\n",
       "\t<li>301</li>\n",
       "\t<li>303</li>\n",
       "\t<li>305</li>\n",
       "\t<li>307</li>\n",
       "\t<li>309</li>\n",
       "\t<li>311</li>\n",
       "\t<li>315</li>\n",
       "\t<li>319</li>\n",
       "\t<li>321</li>\n",
       "\t<li>323</li>\n",
       "\t<li>325</li>\n",
       "\t<li>327</li>\n",
       "\t<li>329</li>\n",
       "\t<li>331</li>\n",
       "</ol>\n",
       "\n",
       "<details>\n",
       "\t<summary style=display:list-item;cursor:pointer>\n",
       "\t\t<strong>Levels</strong>:\n",
       "\t</summary>\n",
       "\t<ol class=list-inline>\n",
       "\t\t<li>'329'</li>\n",
       "\t\t<li>'327'</li>\n",
       "\t\t<li>'325'</li>\n",
       "\t\t<li>'307'</li>\n",
       "\t\t<li>'331'</li>\n",
       "\t\t<li>'311'</li>\n",
       "\t\t<li>'315'</li>\n",
       "\t\t<li>'321'</li>\n",
       "\t\t<li>'319'</li>\n",
       "\t\t<li>'301'</li>\n",
       "\t\t<li>'323'</li>\n",
       "\t\t<li>'309'</li>\n",
       "\t\t<li>'303'</li>\n",
       "\t\t<li>'305'</li>\n",
       "\t</ol>\n",
       "</details>"
      ],
      "text/latex": [
       "\\begin{enumerate*}\n",
       "\\item 301\n",
       "\\item 303\n",
       "\\item 305\n",
       "\\item 307\n",
       "\\item 309\n",
       "\\item 311\n",
       "\\item 315\n",
       "\\item 319\n",
       "\\item 321\n",
       "\\item 323\n",
       "\\item 325\n",
       "\\item 327\n",
       "\\item 329\n",
       "\\item 331\n",
       "\\end{enumerate*}\n",
       "\n",
       "\\emph{Levels}: \\begin{enumerate*}\n",
       "\\item '329'\n",
       "\\item '327'\n",
       "\\item '325'\n",
       "\\item '307'\n",
       "\\item '331'\n",
       "\\item '311'\n",
       "\\item '315'\n",
       "\\item '321'\n",
       "\\item '319'\n",
       "\\item '301'\n",
       "\\item '323'\n",
       "\\item '309'\n",
       "\\item '303'\n",
       "\\item '305'\n",
       "\\end{enumerate*}\n"
      ],
      "text/markdown": [
       "1. 301\n",
       "2. 303\n",
       "3. 305\n",
       "4. 307\n",
       "5. 309\n",
       "6. 311\n",
       "7. 315\n",
       "8. 319\n",
       "9. 321\n",
       "10. 323\n",
       "11. 325\n",
       "12. 327\n",
       "13. 329\n",
       "14. 331\n",
       "\n",
       "\n",
       "\n",
       "**Levels**: 1. '329'\n",
       "2. '327'\n",
       "3. '325'\n",
       "4. '307'\n",
       "5. '331'\n",
       "6. '311'\n",
       "7. '315'\n",
       "8. '321'\n",
       "9. '319'\n",
       "10. '301'\n",
       "11. '323'\n",
       "12. '309'\n",
       "13. '303'\n",
       "14. '305'\n",
       "\n",
       "\n"
      ],
      "text/plain": [
       " [1] 301 303 305 307 309 311 315 319 321 323 325 327 329 331\n",
       "14 Levels: 329 < 327 < 325 < 307 < 331 < 311 < 315 < 321 < 319 < ... < 305"
      ]
     },
     "metadata": {},
     "output_type": "display_data"
    },
    {
     "data": {
      "text/html": [
       "<table>\n",
       "<thead><tr><th></th><th scope=col>height</th><th scope=col>age</th><th scope=col>Seed</th></tr></thead>\n",
       "<tbody>\n",
       "\t<tr><th scope=row>1</th><td> 4.51</td><td> 3   </td><td>301  </td></tr>\n",
       "\t<tr><th scope=row>15</th><td>10.89</td><td> 5   </td><td>301  </td></tr>\n",
       "\t<tr><th scope=row>29</th><td>28.72</td><td>10   </td><td>301  </td></tr>\n",
       "\t<tr><th scope=row>43</th><td>41.74</td><td>15   </td><td>301  </td></tr>\n",
       "\t<tr><th scope=row>57</th><td>52.70</td><td>20   </td><td>301  </td></tr>\n",
       "\t<tr><th scope=row>71</th><td>60.92</td><td>25   </td><td>301  </td></tr>\n",
       "</tbody>\n",
       "</table>\n"
      ],
      "text/latex": [
       "\\begin{tabular}{r|lll}\n",
       "  & height & age & Seed\\\\\n",
       "\\hline\n",
       "\t1 &  4.51 &  3    & 301  \\\\\n",
       "\t15 & 10.89 &  5    & 301  \\\\\n",
       "\t29 & 28.72 & 10    & 301  \\\\\n",
       "\t43 & 41.74 & 15    & 301  \\\\\n",
       "\t57 & 52.70 & 20    & 301  \\\\\n",
       "\t71 & 60.92 & 25    & 301  \\\\\n",
       "\\end{tabular}\n"
      ],
      "text/markdown": [
       "\n",
       "| <!--/--> | height | age | Seed |\n",
       "|---|---|---|---|\n",
       "| 1 |  4.51 |  3    | 301   |\n",
       "| 15 | 10.89 |  5    | 301   |\n",
       "| 29 | 28.72 | 10    | 301   |\n",
       "| 43 | 41.74 | 15    | 301   |\n",
       "| 57 | 52.70 | 20    | 301   |\n",
       "| 71 | 60.92 | 25    | 301   |\n",
       "\n"
      ],
      "text/plain": [
       "   height age Seed\n",
       "1   4.51   3  301 \n",
       "15 10.89   5  301 \n",
       "29 28.72  10  301 \n",
       "43 41.74  15  301 \n",
       "57 52.70  20  301 \n",
       "71 60.92  25  301 "
      ]
     },
     "metadata": {},
     "output_type": "display_data"
    }
   ],
   "source": [
    "summary(Loblolly)\n",
    "unique(Loblolly$Seed)\n",
    "subset(Loblolly, Seed == unique(Loblolly$Seed)[1])"
   ]
  },
  {
   "cell_type": "code",
   "execution_count": 111,
   "metadata": {},
   "outputs": [
    {
     "data": {
      "image/png": "[encoded data removed]",
      "text/plain": [
       "plot without title"
      ]
     },
     "metadata": {},
     "output_type": "display_data"
    }
   ],
   "source": [
    "options(repr.plot.width = 5, repr.plot.height = 5)\n",
    "par(las = 1, ps = 12, mar = c(4, 4, 0.25, 0.25))\n",
    "plot(0, 0, xlim = c(0, 25), ylim = c(0, 75),\n",
    "  xlab = NA, ylab = NA, pch = \"\")\n",
    "for (i in 1:length(unique(Loblolly$Seed))) {\n",
    "  lines(height~age,\n",
    "    data = subset(Loblolly, Seed == unique(Loblolly$Seed)[i]),\n",
    "    col = 8)\n",
    "}\n",
    "par(las = 0)\n",
    "mtext(\"Age [years]\", side = 1, line = 2)\n",
    "mtext(\"Height [ft]\", side = 2, line = 2.5)"
   ]
  },
  {
   "cell_type": "code",
   "execution_count": 112,
   "metadata": {},
   "outputs": [
    {
     "data": {
      "image/png": "[encoded data removed]",
      "text/plain": [
       "plot without title"
      ]
     },
     "metadata": {},
     "output_type": "display_data"
    }
   ],
   "source": [
    "options(repr.plot.width = 5, repr.plot.height = 5)\n",
    "par(las = 1, ps = 12, mar = c(4, 4, 0.25, 0.25))\n",
    "plot(0, 0, xlim = c(0, 25), ylim = c(0, 75),\n",
    "  xlab = NA, ylab = NA, pch = \"\")\n",
    "for (i in 1:length(unique(Loblolly$Seed))) {\n",
    "  lines(height~age,\n",
    "    data = subset(Loblolly, Seed == unique(Loblolly$Seed)[i]),\n",
    "    col = i)\n",
    "}\n",
    "par(las = 0)\n",
    "mtext(\"Age [years]\", side = 1, line = 2)\n",
    "mtext(\"Height [ft]\", side = 2, line = 2.5)"
   ]
  },
  {
   "cell_type": "code",
   "execution_count": 113,
   "metadata": {},
   "outputs": [
    {
     "data": {
      "text/html": [
       "<table>\n",
       "<thead><tr><th scope=col>Group.1</th><th scope=col>x</th></tr></thead>\n",
       "<tbody>\n",
       "\t<tr><td> 3       </td><td> 4.237857</td></tr>\n",
       "\t<tr><td> 5       </td><td>10.205000</td></tr>\n",
       "\t<tr><td>10       </td><td>27.442143</td></tr>\n",
       "\t<tr><td>15       </td><td>40.543571</td></tr>\n",
       "\t<tr><td>20       </td><td>51.468571</td></tr>\n",
       "\t<tr><td>25       </td><td>60.289286</td></tr>\n",
       "</tbody>\n",
       "</table>\n"
      ],
      "text/latex": [
       "\\begin{tabular}{r|ll}\n",
       " Group.1 & x\\\\\n",
       "\\hline\n",
       "\t  3        &  4.237857\\\\\n",
       "\t  5        & 10.205000\\\\\n",
       "\t 10        & 27.442143\\\\\n",
       "\t 15        & 40.543571\\\\\n",
       "\t 20        & 51.468571\\\\\n",
       "\t 25        & 60.289286\\\\\n",
       "\\end{tabular}\n"
      ],
      "text/markdown": [
       "\n",
       "| Group.1 | x |\n",
       "|---|---|\n",
       "|  3        |  4.237857 |\n",
       "|  5        | 10.205000 |\n",
       "| 10        | 27.442143 |\n",
       "| 15        | 40.543571 |\n",
       "| 20        | 51.468571 |\n",
       "| 25        | 60.289286 |\n",
       "\n"
      ],
      "text/plain": [
       "  Group.1 x        \n",
       "1  3       4.237857\n",
       "2  5      10.205000\n",
       "3 10      27.442143\n",
       "4 15      40.543571\n",
       "5 20      51.468571\n",
       "6 25      60.289286"
      ]
     },
     "metadata": {},
     "output_type": "display_data"
    }
   ],
   "source": [
    "mean_height <- aggregate(Loblolly$height, list(Loblolly$age), mean)\n",
    "mean_height"
   ]
  },
  {
   "cell_type": "code",
   "execution_count": 114,
   "metadata": {},
   "outputs": [
    {
     "data": {
      "image/png": "[encoded data removed]",
      "text/plain": [
       "plot without title"
      ]
     },
     "metadata": {},
     "output_type": "display_data"
    }
   ],
   "source": [
    "options(repr.plot.width = 5, repr.plot.height = 5)\n",
    "par(las = 1, ps = 12, mar = c(4, 4, 0.25, 0.25))\n",
    "plot(0, 0, xlim = c(0, 25), ylim = c(0, 75),\n",
    "  xlab = NA, ylab = NA, pch = \"\")\n",
    "for (i in 1:length(unique(Loblolly$Seed))) {\n",
    "  lines(height~age,\n",
    "    data = subset(Loblolly, Seed == unique(Loblolly$Seed)[i]),\n",
    "    col = 8)\n",
    "}\n",
    "lines(mean_height[, 2]~mean_height[, 1], col = 4, type = \"b\", lwd = 3)\n",
    "par(las = 0)\n",
    "mtext(\"Age [years]\", side = 1, line = 2)\n",
    "mtext(\"Height [ft]\", side = 2, line = 2.5)"
   ]
  },
  {
   "cell_type": "code",
   "execution_count": 115,
   "metadata": {},
   "outputs": [
    {
     "data": {
      "text/html": [
       "<table>\n",
       "<thead><tr><th scope=col>Group.1</th><th scope=col>x</th></tr></thead>\n",
       "<tbody>\n",
       "\t<tr><td> 3       </td><td> 1.291699</td></tr>\n",
       "\t<tr><td> 5       </td><td> 3.110484</td></tr>\n",
       "\t<tr><td>10       </td><td> 8.364365</td></tr>\n",
       "\t<tr><td>15       </td><td>12.357681</td></tr>\n",
       "\t<tr><td>20       </td><td>15.687621</td></tr>\n",
       "\t<tr><td>25       </td><td>18.376174</td></tr>\n",
       "</tbody>\n",
       "</table>\n"
      ],
      "text/latex": [
       "\\begin{tabular}{r|ll}\n",
       " Group.1 & x\\\\\n",
       "\\hline\n",
       "\t  3        &  1.291699\\\\\n",
       "\t  5        &  3.110484\\\\\n",
       "\t 10        &  8.364365\\\\\n",
       "\t 15        & 12.357681\\\\\n",
       "\t 20        & 15.687621\\\\\n",
       "\t 25        & 18.376174\\\\\n",
       "\\end{tabular}\n"
      ],
      "text/markdown": [
       "\n",
       "| Group.1 | x |\n",
       "|---|---|\n",
       "|  3        |  1.291699 |\n",
       "|  5        |  3.110484 |\n",
       "| 10        |  8.364365 |\n",
       "| 15        | 12.357681 |\n",
       "| 20        | 15.687621 |\n",
       "| 25        | 18.376174 |\n",
       "\n"
      ],
      "text/plain": [
       "  Group.1 x        \n",
       "1  3       1.291699\n",
       "2  5       3.110484\n",
       "3 10       8.364365\n",
       "4 15      12.357681\n",
       "5 20      15.687621\n",
       "6 25      18.376174"
      ]
     },
     "metadata": {},
     "output_type": "display_data"
    }
   ],
   "source": [
    "Loblolly$height <- Loblolly$height * 0.3048\n",
    "mean_height_m <- aggregate(Loblolly$height, list(Loblolly$age), mean)\n",
    "mean_height_m"
   ]
  },
  {
   "cell_type": "code",
   "execution_count": 116,
   "metadata": {},
   "outputs": [
    {
     "data": {
      "image/png": "[encoded data removed]",
      "text/plain": [
       "plot without title"
      ]
     },
     "metadata": {},
     "output_type": "display_data"
    }
   ],
   "source": [
    "options(repr.plot.width = 5, repr.plot.height = 5)\n",
    "par(las = 1, ps = 12, mar = c(4, 4, 0.25, 0.25))\n",
    "plot(0, 0, xlim = c(0, 25), ylim = c(0, 20),\n",
    "  xlab = NA, ylab = NA, pch = \"\")\n",
    "for (i in 1:length(unique(Loblolly$Seed))) {\n",
    "  lines(height~age,\n",
    "    data = subset(Loblolly, Seed == unique(Loblolly$Seed)[i]),\n",
    "    col = 8)\n",
    "}\n",
    "lines(mean_height_m[, 2]~mean_height_m[,1], col = 4, type = \"b\", lwd = 3)\n",
    "par(las = 0)\n",
    "mtext(\"Age [years]\", side = 1, line = 2)\n",
    "mtext(\"Height [m]\", side = 2, line = 2.5)"
   ]
  },
  {
   "cell_type": "code",
   "execution_count": 117,
   "metadata": {},
   "outputs": [
    {
     "data": {
      "text/html": [
       "<table>\n",
       "<thead><tr><th scope=col>Group.1</th><th scope=col>x</th></tr></thead>\n",
       "<tbody>\n",
       "\t<tr><td> 3       </td><td>0.1230181</td></tr>\n",
       "\t<tr><td> 5       </td><td>0.2485878</td></tr>\n",
       "\t<tr><td>10       </td><td>0.4687478</td></tr>\n",
       "\t<tr><td>15       </td><td>0.5946174</td></tr>\n",
       "\t<tr><td>20       </td><td>0.6741651</td></tr>\n",
       "\t<tr><td>25       </td><td>0.6915406</td></tr>\n",
       "</tbody>\n",
       "</table>\n"
      ],
      "text/latex": [
       "\\begin{tabular}{r|ll}\n",
       " Group.1 & x\\\\\n",
       "\\hline\n",
       "\t  3        & 0.1230181\\\\\n",
       "\t  5        & 0.2485878\\\\\n",
       "\t 10        & 0.4687478\\\\\n",
       "\t 15        & 0.5946174\\\\\n",
       "\t 20        & 0.6741651\\\\\n",
       "\t 25        & 0.6915406\\\\\n",
       "\\end{tabular}\n"
      ],
      "text/markdown": [
       "\n",
       "| Group.1 | x |\n",
       "|---|---|\n",
       "|  3        | 0.1230181 |\n",
       "|  5        | 0.2485878 |\n",
       "| 10        | 0.4687478 |\n",
       "| 15        | 0.5946174 |\n",
       "| 20        | 0.6741651 |\n",
       "| 25        | 0.6915406 |\n",
       "\n"
      ],
      "text/plain": [
       "  Group.1 x        \n",
       "1  3      0.1230181\n",
       "2  5      0.2485878\n",
       "3 10      0.4687478\n",
       "4 15      0.5946174\n",
       "5 20      0.6741651\n",
       "6 25      0.6915406"
      ]
     },
     "metadata": {},
     "output_type": "display_data"
    },
    {
     "data": {
      "text/html": [
       "<table>\n",
       "<thead><tr><th scope=col>Group.1</th><th scope=col>x</th></tr></thead>\n",
       "<tbody>\n",
       "\t<tr><td> 3       </td><td> 1.466088</td></tr>\n",
       "\t<tr><td> 5       </td><td> 3.465576</td></tr>\n",
       "\t<tr><td>10       </td><td> 9.208008</td></tr>\n",
       "\t<tr><td>15       </td><td>13.533120</td></tr>\n",
       "\t<tr><td>20       </td><td>17.013936</td></tr>\n",
       "\t<tr><td>25       </td><td>19.537680</td></tr>\n",
       "</tbody>\n",
       "</table>\n"
      ],
      "text/latex": [
       "\\begin{tabular}{r|ll}\n",
       " Group.1 & x\\\\\n",
       "\\hline\n",
       "\t  3        &  1.466088\\\\\n",
       "\t  5        &  3.465576\\\\\n",
       "\t 10        &  9.208008\\\\\n",
       "\t 15        & 13.533120\\\\\n",
       "\t 20        & 17.013936\\\\\n",
       "\t 25        & 19.537680\\\\\n",
       "\\end{tabular}\n"
      ],
      "text/markdown": [
       "\n",
       "| Group.1 | x |\n",
       "|---|---|\n",
       "|  3        |  1.466088 |\n",
       "|  5        |  3.465576 |\n",
       "| 10        |  9.208008 |\n",
       "| 15        | 13.533120 |\n",
       "| 20        | 17.013936 |\n",
       "| 25        | 19.537680 |\n",
       "\n"
      ],
      "text/plain": [
       "  Group.1 x        \n",
       "1  3       1.466088\n",
       "2  5       3.465576\n",
       "3 10       9.208008\n",
       "4 15      13.533120\n",
       "5 20      17.013936\n",
       "6 25      19.537680"
      ]
     },
     "metadata": {},
     "output_type": "display_data"
    }
   ],
   "source": [
    "sd_height_m <- aggregate(Loblolly$height, list(Loblolly$age), sd)\n",
    "sd_height_m\n",
    "aggregate(Loblolly$height, list(Loblolly$age), max)"
   ]
  },
  {
   "cell_type": "code",
   "execution_count": 118,
   "metadata": {},
   "outputs": [
    {
     "data": {
      "image/png": "[encoded data removed]",
      "text/plain": [
       "plot without title"
      ]
     },
     "metadata": {},
     "output_type": "display_data"
    }
   ],
   "source": [
    "options(repr.plot.width = 5, repr.plot.height = 5)\n",
    "par(las = 1, ps = 12, mar = c(4, 4, 0.25, 0.25))\n",
    "plot(0, 0, xlim = c(0, 25), ylim = c(0, 20),\n",
    "  xlab = NA, ylab = NA, pch = \"\")\n",
    "points(mean_height_m[, 2]~mean_height_m[, 1],\n",
    "    pch = 16, col = 4, cex = 1.5, type = \"b\")\n",
    "par(las = 0)\n",
    "mtext(\"Age [years]\", side = 1, line = 2)\n",
    "mtext(\"Height [m]\", side = 2, line = 2.5)\n",
    "arrows(x0 = mean_height_m[, 1], y0 = mean_height_m[, 2],\n",
    "    x1 = mean_height_m[, 1], y1 = mean_height_m[, 2] + 2 * sd_height_m[, 2],\n",
    "    col = 4, angle = 90, length = 0.1)\n",
    "arrows(x0 = mean_height_m[, 1], y0 = mean_height_m[, 2],\n",
    "    x1 = mean_height_m[, 1], y1 = mean_height_m[, 2] - 2 * sd_height_m[, 2],\n",
    "    col = 4, angle = 90, length = 0.1)"
   ]
  },
  {
   "cell_type": "markdown",
   "metadata": {},
   "source": [
    "<p style=\"font-size: 0.9rem;font-style: italic;\"><img style=\"display: block;\" src=\"https://live.staticflickr.com/3864/14429292919_894304a4b5_w_d.jpg\" alt=\"Iris setosa. Edwards's Botanical Register v.33- t.10 (1847) [S.A. Drake]\"><a href=\"https://www.flickr.com/photos/97123293@N07/14429292919\">\"Iris setosa. Edwards's Botanical Register v.33- t.10 (1847) [S.A. Drake]\"</a><span> by <a href=\"https://www.flickr.com/photos/97123293@N07\">Swallowtail Garden Seeds</a></span> is licensed under <a href=\"https://creativecommons.org/publicdomain/mark/1.0/?ref=ccsearch&atype=html\" style=\"margin-right: 5px;\">CC PDM 1.0</a><a href=\"https://creativecommons.org/publicdomain/mark/1.0/?ref=ccsearch&atype=html\" target=\"_blank\" rel=\"noopener noreferrer\" style=\"display: inline-block;white-space: none;margin-top: 2px;margin-left: 3px;height: 22px !important;\"><img style=\"height: inherit;margin-right: 3px;display: inline-block;\" src=\"https://search.creativecommons.org/static/img/cc_icon.svg?image_id=d199bd54-dea3-40bb-97fe-f2677b328013\" /><img style=\"height: inherit;margin-right: 3px;display: inline-block;\" src=\"https://search.creativecommons.org/static/img/cc-pdm_icon.svg\" /></a></p>"
   ]
  },
  {
   "cell_type": "code",
   "execution_count": 119,
   "metadata": {},
   "outputs": [
    {
     "data": {
      "text/html": [
       "<table>\n",
       "<thead><tr><th scope=col>Sepal.Length</th><th scope=col>Sepal.Width</th><th scope=col>Petal.Length</th><th scope=col>Petal.Width</th><th scope=col>Species</th></tr></thead>\n",
       "<tbody>\n",
       "\t<tr><td>5.1   </td><td>3.5   </td><td>1.4   </td><td>0.2   </td><td>setosa</td></tr>\n",
       "\t<tr><td>4.9   </td><td>3.0   </td><td>1.4   </td><td>0.2   </td><td>setosa</td></tr>\n",
       "\t<tr><td>4.7   </td><td>3.2   </td><td>1.3   </td><td>0.2   </td><td>setosa</td></tr>\n",
       "\t<tr><td>4.6   </td><td>3.1   </td><td>1.5   </td><td>0.2   </td><td>setosa</td></tr>\n",
       "\t<tr><td>5.0   </td><td>3.6   </td><td>1.4   </td><td>0.2   </td><td>setosa</td></tr>\n",
       "\t<tr><td>5.4   </td><td>3.9   </td><td>1.7   </td><td>0.4   </td><td>setosa</td></tr>\n",
       "</tbody>\n",
       "</table>\n"
      ],
      "text/latex": [
       "\\begin{tabular}{r|lllll}\n",
       " Sepal.Length & Sepal.Width & Petal.Length & Petal.Width & Species\\\\\n",
       "\\hline\n",
       "\t 5.1    & 3.5    & 1.4    & 0.2    & setosa\\\\\n",
       "\t 4.9    & 3.0    & 1.4    & 0.2    & setosa\\\\\n",
       "\t 4.7    & 3.2    & 1.3    & 0.2    & setosa\\\\\n",
       "\t 4.6    & 3.1    & 1.5    & 0.2    & setosa\\\\\n",
       "\t 5.0    & 3.6    & 1.4    & 0.2    & setosa\\\\\n",
       "\t 5.4    & 3.9    & 1.7    & 0.4    & setosa\\\\\n",
       "\\end{tabular}\n"
      ],
      "text/markdown": [
       "\n",
       "| Sepal.Length | Sepal.Width | Petal.Length | Petal.Width | Species |\n",
       "|---|---|---|---|---|\n",
       "| 5.1    | 3.5    | 1.4    | 0.2    | setosa |\n",
       "| 4.9    | 3.0    | 1.4    | 0.2    | setosa |\n",
       "| 4.7    | 3.2    | 1.3    | 0.2    | setosa |\n",
       "| 4.6    | 3.1    | 1.5    | 0.2    | setosa |\n",
       "| 5.0    | 3.6    | 1.4    | 0.2    | setosa |\n",
       "| 5.4    | 3.9    | 1.7    | 0.4    | setosa |\n",
       "\n"
      ],
      "text/plain": [
       "  Sepal.Length Sepal.Width Petal.Length Petal.Width Species\n",
       "1 5.1          3.5         1.4          0.2         setosa \n",
       "2 4.9          3.0         1.4          0.2         setosa \n",
       "3 4.7          3.2         1.3          0.2         setosa \n",
       "4 4.6          3.1         1.5          0.2         setosa \n",
       "5 5.0          3.6         1.4          0.2         setosa \n",
       "6 5.4          3.9         1.7          0.4         setosa "
      ]
     },
     "metadata": {},
     "output_type": "display_data"
    }
   ],
   "source": [
    "data(\"iris\")\n",
    "head(iris)"
   ]
  },
  {
   "cell_type": "code",
   "execution_count": 120,
   "metadata": {},
   "outputs": [
    {
     "data": {
      "text/html": [
       "<table>\n",
       "<thead><tr><th></th><th scope=col>Sepal.Length</th><th scope=col>Sepal.Width</th><th scope=col>Petal.Length</th><th scope=col>Petal.Width</th><th scope=col>Species</th></tr></thead>\n",
       "<tbody>\n",
       "\t<tr><th scope=row>51</th><td>7.0       </td><td>3.2       </td><td>4.7       </td><td>1.4       </td><td>versicolor</td></tr>\n",
       "\t<tr><th scope=row>52</th><td>6.4       </td><td>3.2       </td><td>4.5       </td><td>1.5       </td><td>versicolor</td></tr>\n",
       "\t<tr><th scope=row>53</th><td>6.9       </td><td>3.1       </td><td>4.9       </td><td>1.5       </td><td>versicolor</td></tr>\n",
       "\t<tr><th scope=row>54</th><td>5.5       </td><td>2.3       </td><td>4.0       </td><td>1.3       </td><td>versicolor</td></tr>\n",
       "\t<tr><th scope=row>55</th><td>6.5       </td><td>2.8       </td><td>4.6       </td><td>1.5       </td><td>versicolor</td></tr>\n",
       "\t<tr><th scope=row>56</th><td>5.7       </td><td>2.8       </td><td>4.5       </td><td>1.3       </td><td>versicolor</td></tr>\n",
       "\t<tr><th scope=row>57</th><td>6.3       </td><td>3.3       </td><td>4.7       </td><td>1.6       </td><td>versicolor</td></tr>\n",
       "\t<tr><th scope=row>58</th><td>4.9       </td><td>2.4       </td><td>3.3       </td><td>1.0       </td><td>versicolor</td></tr>\n",
       "\t<tr><th scope=row>59</th><td>6.6       </td><td>2.9       </td><td>4.6       </td><td>1.3       </td><td>versicolor</td></tr>\n",
       "\t<tr><th scope=row>60</th><td>5.2       </td><td>2.7       </td><td>3.9       </td><td>1.4       </td><td>versicolor</td></tr>\n",
       "\t<tr><th scope=row>61</th><td>5.0       </td><td>2.0       </td><td>3.5       </td><td>1.0       </td><td>versicolor</td></tr>\n",
       "\t<tr><th scope=row>62</th><td>5.9       </td><td>3.0       </td><td>4.2       </td><td>1.5       </td><td>versicolor</td></tr>\n",
       "\t<tr><th scope=row>63</th><td>6.0       </td><td>2.2       </td><td>4.0       </td><td>1.0       </td><td>versicolor</td></tr>\n",
       "\t<tr><th scope=row>64</th><td>6.1       </td><td>2.9       </td><td>4.7       </td><td>1.4       </td><td>versicolor</td></tr>\n",
       "\t<tr><th scope=row>65</th><td>5.6       </td><td>2.9       </td><td>3.6       </td><td>1.3       </td><td>versicolor</td></tr>\n",
       "\t<tr><th scope=row>66</th><td>6.7       </td><td>3.1       </td><td>4.4       </td><td>1.4       </td><td>versicolor</td></tr>\n",
       "\t<tr><th scope=row>67</th><td>5.6       </td><td>3.0       </td><td>4.5       </td><td>1.5       </td><td>versicolor</td></tr>\n",
       "\t<tr><th scope=row>68</th><td>5.8       </td><td>2.7       </td><td>4.1       </td><td>1.0       </td><td>versicolor</td></tr>\n",
       "\t<tr><th scope=row>69</th><td>6.2       </td><td>2.2       </td><td>4.5       </td><td>1.5       </td><td>versicolor</td></tr>\n",
       "\t<tr><th scope=row>70</th><td>5.6       </td><td>2.5       </td><td>3.9       </td><td>1.1       </td><td>versicolor</td></tr>\n",
       "\t<tr><th scope=row>71</th><td>5.9       </td><td>3.2       </td><td>4.8       </td><td>1.8       </td><td>versicolor</td></tr>\n",
       "\t<tr><th scope=row>72</th><td>6.1       </td><td>2.8       </td><td>4.0       </td><td>1.3       </td><td>versicolor</td></tr>\n",
       "\t<tr><th scope=row>73</th><td>6.3       </td><td>2.5       </td><td>4.9       </td><td>1.5       </td><td>versicolor</td></tr>\n",
       "\t<tr><th scope=row>74</th><td>6.1       </td><td>2.8       </td><td>4.7       </td><td>1.2       </td><td>versicolor</td></tr>\n",
       "\t<tr><th scope=row>75</th><td>6.4       </td><td>2.9       </td><td>4.3       </td><td>1.3       </td><td>versicolor</td></tr>\n",
       "\t<tr><th scope=row>76</th><td>6.6       </td><td>3.0       </td><td>4.4       </td><td>1.4       </td><td>versicolor</td></tr>\n",
       "\t<tr><th scope=row>77</th><td>6.8       </td><td>2.8       </td><td>4.8       </td><td>1.4       </td><td>versicolor</td></tr>\n",
       "\t<tr><th scope=row>78</th><td>6.7       </td><td>3.0       </td><td>5.0       </td><td>1.7       </td><td>versicolor</td></tr>\n",
       "\t<tr><th scope=row>79</th><td>6.0       </td><td>2.9       </td><td>4.5       </td><td>1.5       </td><td>versicolor</td></tr>\n",
       "\t<tr><th scope=row>80</th><td>5.7       </td><td>2.6       </td><td>3.5       </td><td>1.0       </td><td>versicolor</td></tr>\n",
       "\t<tr><th scope=row>81</th><td>5.5       </td><td>2.4       </td><td>3.8       </td><td>1.1       </td><td>versicolor</td></tr>\n",
       "\t<tr><th scope=row>82</th><td>5.5       </td><td>2.4       </td><td>3.7       </td><td>1.0       </td><td>versicolor</td></tr>\n",
       "\t<tr><th scope=row>83</th><td>5.8       </td><td>2.7       </td><td>3.9       </td><td>1.2       </td><td>versicolor</td></tr>\n",
       "\t<tr><th scope=row>84</th><td>6.0       </td><td>2.7       </td><td>5.1       </td><td>1.6       </td><td>versicolor</td></tr>\n",
       "\t<tr><th scope=row>85</th><td>5.4       </td><td>3.0       </td><td>4.5       </td><td>1.5       </td><td>versicolor</td></tr>\n",
       "\t<tr><th scope=row>86</th><td>6.0       </td><td>3.4       </td><td>4.5       </td><td>1.6       </td><td>versicolor</td></tr>\n",
       "\t<tr><th scope=row>87</th><td>6.7       </td><td>3.1       </td><td>4.7       </td><td>1.5       </td><td>versicolor</td></tr>\n",
       "\t<tr><th scope=row>88</th><td>6.3       </td><td>2.3       </td><td>4.4       </td><td>1.3       </td><td>versicolor</td></tr>\n",
       "\t<tr><th scope=row>89</th><td>5.6       </td><td>3.0       </td><td>4.1       </td><td>1.3       </td><td>versicolor</td></tr>\n",
       "\t<tr><th scope=row>90</th><td>5.5       </td><td>2.5       </td><td>4.0       </td><td>1.3       </td><td>versicolor</td></tr>\n",
       "\t<tr><th scope=row>91</th><td>5.5       </td><td>2.6       </td><td>4.4       </td><td>1.2       </td><td>versicolor</td></tr>\n",
       "\t<tr><th scope=row>92</th><td>6.1       </td><td>3.0       </td><td>4.6       </td><td>1.4       </td><td>versicolor</td></tr>\n",
       "\t<tr><th scope=row>93</th><td>5.8       </td><td>2.6       </td><td>4.0       </td><td>1.2       </td><td>versicolor</td></tr>\n",
       "\t<tr><th scope=row>94</th><td>5.0       </td><td>2.3       </td><td>3.3       </td><td>1.0       </td><td>versicolor</td></tr>\n",
       "\t<tr><th scope=row>95</th><td>5.6       </td><td>2.7       </td><td>4.2       </td><td>1.3       </td><td>versicolor</td></tr>\n",
       "\t<tr><th scope=row>96</th><td>5.7       </td><td>3.0       </td><td>4.2       </td><td>1.2       </td><td>versicolor</td></tr>\n",
       "\t<tr><th scope=row>97</th><td>5.7       </td><td>2.9       </td><td>4.2       </td><td>1.3       </td><td>versicolor</td></tr>\n",
       "\t<tr><th scope=row>98</th><td>6.2       </td><td>2.9       </td><td>4.3       </td><td>1.3       </td><td>versicolor</td></tr>\n",
       "\t<tr><th scope=row>99</th><td>5.1       </td><td>2.5       </td><td>3.0       </td><td>1.1       </td><td>versicolor</td></tr>\n",
       "\t<tr><th scope=row>100</th><td>5.7       </td><td>2.8       </td><td>4.1       </td><td>1.3       </td><td>versicolor</td></tr>\n",
       "</tbody>\n",
       "</table>\n"
      ],
      "text/latex": [
       "\\begin{tabular}{r|lllll}\n",
       "  & Sepal.Length & Sepal.Width & Petal.Length & Petal.Width & Species\\\\\n",
       "\\hline\n",
       "\t51 & 7.0        & 3.2        & 4.7        & 1.4        & versicolor\\\\\n",
       "\t52 & 6.4        & 3.2        & 4.5        & 1.5        & versicolor\\\\\n",
       "\t53 & 6.9        & 3.1        & 4.9        & 1.5        & versicolor\\\\\n",
       "\t54 & 5.5        & 2.3        & 4.0        & 1.3        & versicolor\\\\\n",
       "\t55 & 6.5        & 2.8        & 4.6        & 1.5        & versicolor\\\\\n",
       "\t56 & 5.7        & 2.8        & 4.5        & 1.3        & versicolor\\\\\n",
       "\t57 & 6.3        & 3.3        & 4.7        & 1.6        & versicolor\\\\\n",
       "\t58 & 4.9        & 2.4        & 3.3        & 1.0        & versicolor\\\\\n",
       "\t59 & 6.6        & 2.9        & 4.6        & 1.3        & versicolor\\\\\n",
       "\t60 & 5.2        & 2.7        & 3.9        & 1.4        & versicolor\\\\\n",
       "\t61 & 5.0        & 2.0        & 3.5        & 1.0        & versicolor\\\\\n",
       "\t62 & 5.9        & 3.0        & 4.2        & 1.5        & versicolor\\\\\n",
       "\t63 & 6.0        & 2.2        & 4.0        & 1.0        & versicolor\\\\\n",
       "\t64 & 6.1        & 2.9        & 4.7        & 1.4        & versicolor\\\\\n",
       "\t65 & 5.6        & 2.9        & 3.6        & 1.3        & versicolor\\\\\n",
       "\t66 & 6.7        & 3.1        & 4.4        & 1.4        & versicolor\\\\\n",
       "\t67 & 5.6        & 3.0        & 4.5        & 1.5        & versicolor\\\\\n",
       "\t68 & 5.8        & 2.7        & 4.1        & 1.0        & versicolor\\\\\n",
       "\t69 & 6.2        & 2.2        & 4.5        & 1.5        & versicolor\\\\\n",
       "\t70 & 5.6        & 2.5        & 3.9        & 1.1        & versicolor\\\\\n",
       "\t71 & 5.9        & 3.2        & 4.8        & 1.8        & versicolor\\\\\n",
       "\t72 & 6.1        & 2.8        & 4.0        & 1.3        & versicolor\\\\\n",
       "\t73 & 6.3        & 2.5        & 4.9        & 1.5        & versicolor\\\\\n",
       "\t74 & 6.1        & 2.8        & 4.7        & 1.2        & versicolor\\\\\n",
       "\t75 & 6.4        & 2.9        & 4.3        & 1.3        & versicolor\\\\\n",
       "\t76 & 6.6        & 3.0        & 4.4        & 1.4        & versicolor\\\\\n",
       "\t77 & 6.8        & 2.8        & 4.8        & 1.4        & versicolor\\\\\n",
       "\t78 & 6.7        & 3.0        & 5.0        & 1.7        & versicolor\\\\\n",
       "\t79 & 6.0        & 2.9        & 4.5        & 1.5        & versicolor\\\\\n",
       "\t80 & 5.7        & 2.6        & 3.5        & 1.0        & versicolor\\\\\n",
       "\t81 & 5.5        & 2.4        & 3.8        & 1.1        & versicolor\\\\\n",
       "\t82 & 5.5        & 2.4        & 3.7        & 1.0        & versicolor\\\\\n",
       "\t83 & 5.8        & 2.7        & 3.9        & 1.2        & versicolor\\\\\n",
       "\t84 & 6.0        & 2.7        & 5.1        & 1.6        & versicolor\\\\\n",
       "\t85 & 5.4        & 3.0        & 4.5        & 1.5        & versicolor\\\\\n",
       "\t86 & 6.0        & 3.4        & 4.5        & 1.6        & versicolor\\\\\n",
       "\t87 & 6.7        & 3.1        & 4.7        & 1.5        & versicolor\\\\\n",
       "\t88 & 6.3        & 2.3        & 4.4        & 1.3        & versicolor\\\\\n",
       "\t89 & 5.6        & 3.0        & 4.1        & 1.3        & versicolor\\\\\n",
       "\t90 & 5.5        & 2.5        & 4.0        & 1.3        & versicolor\\\\\n",
       "\t91 & 5.5        & 2.6        & 4.4        & 1.2        & versicolor\\\\\n",
       "\t92 & 6.1        & 3.0        & 4.6        & 1.4        & versicolor\\\\\n",
       "\t93 & 5.8        & 2.6        & 4.0        & 1.2        & versicolor\\\\\n",
       "\t94 & 5.0        & 2.3        & 3.3        & 1.0        & versicolor\\\\\n",
       "\t95 & 5.6        & 2.7        & 4.2        & 1.3        & versicolor\\\\\n",
       "\t96 & 5.7        & 3.0        & 4.2        & 1.2        & versicolor\\\\\n",
       "\t97 & 5.7        & 2.9        & 4.2        & 1.3        & versicolor\\\\\n",
       "\t98 & 6.2        & 2.9        & 4.3        & 1.3        & versicolor\\\\\n",
       "\t99 & 5.1        & 2.5        & 3.0        & 1.1        & versicolor\\\\\n",
       "\t100 & 5.7        & 2.8        & 4.1        & 1.3        & versicolor\\\\\n",
       "\\end{tabular}\n"
      ],
      "text/markdown": [
       "\n",
       "| <!--/--> | Sepal.Length | Sepal.Width | Petal.Length | Petal.Width | Species |\n",
       "|---|---|---|---|---|---|\n",
       "| 51 | 7.0        | 3.2        | 4.7        | 1.4        | versicolor |\n",
       "| 52 | 6.4        | 3.2        | 4.5        | 1.5        | versicolor |\n",
       "| 53 | 6.9        | 3.1        | 4.9        | 1.5        | versicolor |\n",
       "| 54 | 5.5        | 2.3        | 4.0        | 1.3        | versicolor |\n",
       "| 55 | 6.5        | 2.8        | 4.6        | 1.5        | versicolor |\n",
       "| 56 | 5.7        | 2.8        | 4.5        | 1.3        | versicolor |\n",
       "| 57 | 6.3        | 3.3        | 4.7        | 1.6        | versicolor |\n",
       "| 58 | 4.9        | 2.4        | 3.3        | 1.0        | versicolor |\n",
       "| 59 | 6.6        | 2.9        | 4.6        | 1.3        | versicolor |\n",
       "| 60 | 5.2        | 2.7        | 3.9        | 1.4        | versicolor |\n",
       "| 61 | 5.0        | 2.0        | 3.5        | 1.0        | versicolor |\n",
       "| 62 | 5.9        | 3.0        | 4.2        | 1.5        | versicolor |\n",
       "| 63 | 6.0        | 2.2        | 4.0        | 1.0        | versicolor |\n",
       "| 64 | 6.1        | 2.9        | 4.7        | 1.4        | versicolor |\n",
       "| 65 | 5.6        | 2.9        | 3.6        | 1.3        | versicolor |\n",
       "| 66 | 6.7        | 3.1        | 4.4        | 1.4        | versicolor |\n",
       "| 67 | 5.6        | 3.0        | 4.5        | 1.5        | versicolor |\n",
       "| 68 | 5.8        | 2.7        | 4.1        | 1.0        | versicolor |\n",
       "| 69 | 6.2        | 2.2        | 4.5        | 1.5        | versicolor |\n",
       "| 70 | 5.6        | 2.5        | 3.9        | 1.1        | versicolor |\n",
       "| 71 | 5.9        | 3.2        | 4.8        | 1.8        | versicolor |\n",
       "| 72 | 6.1        | 2.8        | 4.0        | 1.3        | versicolor |\n",
       "| 73 | 6.3        | 2.5        | 4.9        | 1.5        | versicolor |\n",
       "| 74 | 6.1        | 2.8        | 4.7        | 1.2        | versicolor |\n",
       "| 75 | 6.4        | 2.9        | 4.3        | 1.3        | versicolor |\n",
       "| 76 | 6.6        | 3.0        | 4.4        | 1.4        | versicolor |\n",
       "| 77 | 6.8        | 2.8        | 4.8        | 1.4        | versicolor |\n",
       "| 78 | 6.7        | 3.0        | 5.0        | 1.7        | versicolor |\n",
       "| 79 | 6.0        | 2.9        | 4.5        | 1.5        | versicolor |\n",
       "| 80 | 5.7        | 2.6        | 3.5        | 1.0        | versicolor |\n",
       "| 81 | 5.5        | 2.4        | 3.8        | 1.1        | versicolor |\n",
       "| 82 | 5.5        | 2.4        | 3.7        | 1.0        | versicolor |\n",
       "| 83 | 5.8        | 2.7        | 3.9        | 1.2        | versicolor |\n",
       "| 84 | 6.0        | 2.7        | 5.1        | 1.6        | versicolor |\n",
       "| 85 | 5.4        | 3.0        | 4.5        | 1.5        | versicolor |\n",
       "| 86 | 6.0        | 3.4        | 4.5        | 1.6        | versicolor |\n",
       "| 87 | 6.7        | 3.1        | 4.7        | 1.5        | versicolor |\n",
       "| 88 | 6.3        | 2.3        | 4.4        | 1.3        | versicolor |\n",
       "| 89 | 5.6        | 3.0        | 4.1        | 1.3        | versicolor |\n",
       "| 90 | 5.5        | 2.5        | 4.0        | 1.3        | versicolor |\n",
       "| 91 | 5.5        | 2.6        | 4.4        | 1.2        | versicolor |\n",
       "| 92 | 6.1        | 3.0        | 4.6        | 1.4        | versicolor |\n",
       "| 93 | 5.8        | 2.6        | 4.0        | 1.2        | versicolor |\n",
       "| 94 | 5.0        | 2.3        | 3.3        | 1.0        | versicolor |\n",
       "| 95 | 5.6        | 2.7        | 4.2        | 1.3        | versicolor |\n",
       "| 96 | 5.7        | 3.0        | 4.2        | 1.2        | versicolor |\n",
       "| 97 | 5.7        | 2.9        | 4.2        | 1.3        | versicolor |\n",
       "| 98 | 6.2        | 2.9        | 4.3        | 1.3        | versicolor |\n",
       "| 99 | 5.1        | 2.5        | 3.0        | 1.1        | versicolor |\n",
       "| 100 | 5.7        | 2.8        | 4.1        | 1.3        | versicolor |\n",
       "\n"
      ],
      "text/plain": [
       "    Sepal.Length Sepal.Width Petal.Length Petal.Width Species   \n",
       "51  7.0          3.2         4.7          1.4         versicolor\n",
       "52  6.4          3.2         4.5          1.5         versicolor\n",
       "53  6.9          3.1         4.9          1.5         versicolor\n",
       "54  5.5          2.3         4.0          1.3         versicolor\n",
       "55  6.5          2.8         4.6          1.5         versicolor\n",
       "56  5.7          2.8         4.5          1.3         versicolor\n",
       "57  6.3          3.3         4.7          1.6         versicolor\n",
       "58  4.9          2.4         3.3          1.0         versicolor\n",
       "59  6.6          2.9         4.6          1.3         versicolor\n",
       "60  5.2          2.7         3.9          1.4         versicolor\n",
       "61  5.0          2.0         3.5          1.0         versicolor\n",
       "62  5.9          3.0         4.2          1.5         versicolor\n",
       "63  6.0          2.2         4.0          1.0         versicolor\n",
       "64  6.1          2.9         4.7          1.4         versicolor\n",
       "65  5.6          2.9         3.6          1.3         versicolor\n",
       "66  6.7          3.1         4.4          1.4         versicolor\n",
       "67  5.6          3.0         4.5          1.5         versicolor\n",
       "68  5.8          2.7         4.1          1.0         versicolor\n",
       "69  6.2          2.2         4.5          1.5         versicolor\n",
       "70  5.6          2.5         3.9          1.1         versicolor\n",
       "71  5.9          3.2         4.8          1.8         versicolor\n",
       "72  6.1          2.8         4.0          1.3         versicolor\n",
       "73  6.3          2.5         4.9          1.5         versicolor\n",
       "74  6.1          2.8         4.7          1.2         versicolor\n",
       "75  6.4          2.9         4.3          1.3         versicolor\n",
       "76  6.6          3.0         4.4          1.4         versicolor\n",
       "77  6.8          2.8         4.8          1.4         versicolor\n",
       "78  6.7          3.0         5.0          1.7         versicolor\n",
       "79  6.0          2.9         4.5          1.5         versicolor\n",
       "80  5.7          2.6         3.5          1.0         versicolor\n",
       "81  5.5          2.4         3.8          1.1         versicolor\n",
       "82  5.5          2.4         3.7          1.0         versicolor\n",
       "83  5.8          2.7         3.9          1.2         versicolor\n",
       "84  6.0          2.7         5.1          1.6         versicolor\n",
       "85  5.4          3.0         4.5          1.5         versicolor\n",
       "86  6.0          3.4         4.5          1.6         versicolor\n",
       "87  6.7          3.1         4.7          1.5         versicolor\n",
       "88  6.3          2.3         4.4          1.3         versicolor\n",
       "89  5.6          3.0         4.1          1.3         versicolor\n",
       "90  5.5          2.5         4.0          1.3         versicolor\n",
       "91  5.5          2.6         4.4          1.2         versicolor\n",
       "92  6.1          3.0         4.6          1.4         versicolor\n",
       "93  5.8          2.6         4.0          1.2         versicolor\n",
       "94  5.0          2.3         3.3          1.0         versicolor\n",
       "95  5.6          2.7         4.2          1.3         versicolor\n",
       "96  5.7          3.0         4.2          1.2         versicolor\n",
       "97  5.7          2.9         4.2          1.3         versicolor\n",
       "98  6.2          2.9         4.3          1.3         versicolor\n",
       "99  5.1          2.5         3.0          1.1         versicolor\n",
       "100 5.7          2.8         4.1          1.3         versicolor"
      ]
     },
     "metadata": {},
     "output_type": "display_data"
    }
   ],
   "source": [
    "setosa <- subset(iris, Species == \"setosa\")\n",
    "versicolor <- subset(iris, Species == \"versicolor\")\n",
    "virginica <- subset(iris, Species == \"virginica\")\n",
    "versicolor"
   ]
  },
  {
   "cell_type": "code",
   "execution_count": 121,
   "metadata": {},
   "outputs": [
    {
     "data": {
      "image/png": "[encoded data removed]",
      "text/plain": [
       "plot without title"
      ]
     },
     "metadata": {},
     "output_type": "display_data"
    }
   ],
   "source": [
    "options(repr.plot.width = 20, repr.plot.height = 20)\n",
    "layout(matrix(c(1, 2, 3, 4), ncol = 2, nrow = 2),\n",
    "    widths = c(10, 10), heights = c(10, 10))\n",
    "par(las = 1, ps = 20, pty = \"m\", mar = c(5, 5, 0.25, 0.25))\n",
    "boxplot(setosa$Sepal.Length, versicolor$Sepal.Length, virginica$Sepal.Length,\n",
    "    names = c(\"Setosa\", \"Versicolor\", \"Virginica\"))\n",
    "par(las = 0)\n",
    "mtext(\"Sepal length [cm]\", side = 2, line = 3)\n",
    "par(las = 1, ps = 20, pty = \"m\", mar = c(5, 5, 0.25, 0.25))\n",
    "boxplot(setosa$Sepal.Width, versicolor$Sepal.Width, virginica$Sepal.Width,\n",
    "    names = c(\"Setosa\", \"Versicolor\", \"Virginica\"))\n",
    "par(las = 0)\n",
    "mtext(\"Sepal width [cm]\", side = 2, line = 3)\n",
    "par(las = 1, ps = 20, pty = \"m\", mar = c(5, 5, 0.25, 0.25))\n",
    "boxplot(setosa$Petal.Length, versicolor$Petal.Length, virginica$Petal.Length,\n",
    "    names = c(\"Setosa\", \"Versicolor\", \"Virginica\"))\n",
    "par(las = 0)\n",
    "mtext(\"Petal length [cm]\", side = 2, line = 3)\n",
    "par(las = 1, ps = 20, pty = \"m\", mar = c(5, 5, 0.25, 0.25))\n",
    "boxplot(setosa$Petal.Width, versicolor$Petal.Width, virginica$Petal.Width,\n",
    "    names = c(\"Setosa\", \"Versicolor\", \"Virginica\"))\n",
    "par(las = 0)\n",
    "mtext(\"Petal width [cm]\", side = 2, line = 3)"
   ]
  },
  {
   "cell_type": "code",
   "execution_count": 122,
   "metadata": {},
   "outputs": [
    {
     "data": {
      "text/plain": [
       "\n",
       "\tWelch Two Sample t-test\n",
       "\n",
       "data:  setosa$Sepal.Length and versicolor$Sepal.Length\n",
       "t = -10.521, df = 86.538, p-value < 2.2e-16\n",
       "alternative hypothesis: true difference in means is not equal to 0\n",
       "95 percent confidence interval:\n",
       " -1.1057074 -0.7542926\n",
       "sample estimates:\n",
       "mean of x mean of y \n",
       "    5.006     5.936 \n"
      ]
     },
     "metadata": {},
     "output_type": "display_data"
    }
   ],
   "source": [
    "t.test(setosa$Sepal.Length, versicolor$Sepal.Length)"
   ]
  },
  {
   "cell_type": "code",
   "execution_count": 123,
   "metadata": {},
   "outputs": [
    {
     "data": {
      "text/plain": [
       "\n",
       "\tWelch Two Sample t-test\n",
       "\n",
       "data:  virginica$Sepal.Width and versicolor$Sepal.Width\n",
       "t = 3.2058, df = 97.927, p-value = 0.001819\n",
       "alternative hypothesis: true difference in means is not equal to 0\n",
       "95 percent confidence interval:\n",
       " 0.07771636 0.33028364\n",
       "sample estimates:\n",
       "mean of x mean of y \n",
       "    2.974     2.770 \n"
      ]
     },
     "metadata": {},
     "output_type": "display_data"
    }
   ],
   "source": [
    "t.test(virginica$Sepal.Width,versicolor$Sepal.Width)"
   ]
  },
  {
   "cell_type": "markdown",
   "metadata": {},
   "source": [
    "## Linear regression"
   ]
  },
  {
   "cell_type": "markdown",
   "metadata": {},
   "source": [
    "The simplest form of defining a relationship between two parameters is a linear relationship, we can do that by fitting a linear equation in the form of:\n",
    "<br> $\\hat{y}=ax+b$\n",
    "\n",
    "Our aim is to obtain the fitting parameters *a* and *b* by using <a href=\"https://www.rdocumentation.org/packages/stats/versions/3.6.2/topics/lm\">lm()</a> function."
   ]
  },
  {
   "cell_type": "code",
   "execution_count": 124,
   "metadata": {},
   "outputs": [],
   "source": [
    "meteo_data <- read.csv(\"https://data.ncl.ac.uk/ndownloader/files/24194090\")"
   ]
  },
  {
   "cell_type": "code",
   "execution_count": 125,
   "metadata": {},
   "outputs": [
    {
     "data": {
      "text/plain": [
       "         Time     AirTemp_Mean    AirTemp_Max     AirTemp_Min    \n",
       " 01/06/2019: 1   Min.   : 5.80   Min.   : 8.30   Min.   : 2.400  \n",
       " 01/07/2019: 1   1st Qu.:11.45   1st Qu.:14.90   1st Qu.: 8.200  \n",
       " 02/06/2019: 1   Median :13.50   Median :17.20   Median : 9.700  \n",
       " 02/07/2019: 1   Mean   :13.04   Mean   :16.75   Mean   : 9.664  \n",
       " 03/05/2019: 1   3rd Qu.:15.10   3rd Qu.:18.90   3rd Qu.:12.050  \n",
       " 03/06/2019: 1   Max.   :18.70   Max.   :26.00   Max.   :14.600  \n",
       " (Other)   :70                                                   \n",
       "   Humid_Mean      Humid_Max       Humid_Min       WindSpeed    \n",
       " Min.   :50.60   Min.   :64.60   Min.   :27.30   Min.   :0.970  \n",
       " 1st Qu.:61.40   1st Qu.:79.25   1st Qu.:41.25   1st Qu.:1.380  \n",
       " Median :68.90   Median :83.90   Median :48.20   Median :1.785  \n",
       " Mean   :68.17   Mean   :83.26   Mean   :50.32   Mean   :1.995  \n",
       " 3rd Qu.:73.03   3rd Qu.:88.35   3rd Qu.:55.67   3rd Qu.:2.542  \n",
       " Max.   :89.30   Max.   :91.30   Max.   :84.90   Max.   :4.410  \n",
       "                                                                \n",
       " WindDirection       NetRad            Baro             Rain       \n",
       " Min.   :  0.1   Min.   :-23.20   Min.   : 990.2   Min.   : 0.000  \n",
       " 1st Qu.:209.7   1st Qu.: 21.12   1st Qu.:1002.0   1st Qu.: 0.000  \n",
       " Median :257.1   Median : 49.30   Median :1007.6   Median : 0.100  \n",
       " Mean   :249.3   Mean   : 48.58   Mean   :1007.9   Mean   : 2.918  \n",
       " 3rd Qu.:352.7   3rd Qu.: 79.20   3rd Qu.:1013.5   3rd Qu.: 2.000  \n",
       " Max.   :358.5   Max.   :108.60   Max.   :1029.8   Max.   :45.800  \n",
       "                                                                   "
      ]
     },
     "metadata": {},
     "output_type": "display_data"
    }
   ],
   "source": [
    "summary(meteo_data)"
   ]
  },
  {
   "cell_type": "code",
   "execution_count": 126,
   "metadata": {},
   "outputs": [
    {
     "data": {
      "image/png": "[encoded data removed]",
      "text/plain": [
       "plot without title"
      ]
     },
     "metadata": {},
     "output_type": "display_data"
    }
   ],
   "source": [
    "options(repr.plot.width = 20, repr.plot.height = 20)\n",
    "par(pty = \"s\", ps = 16)\n",
    "plot(meteo_data)"
   ]
  },
  {
   "cell_type": "code",
   "execution_count": 127,
   "metadata": {},
   "outputs": [
    {
     "data": {
      "image/png": "[encoded data removed]",
      "text/plain": [
       "plot without title"
      ]
     },
     "metadata": {},
     "output_type": "display_data"
    }
   ],
   "source": [
    "options(repr.plot.width = 5, repr.plot.height = 5)\n",
    "par(pty = \"s\", ps = 16, mar = c(4, 4, 0.25, 0.25))\n",
    "plot(NetRad~Humid_Mean, meteo_data)"
   ]
  },
  {
   "cell_type": "code",
   "execution_count": 128,
   "metadata": {},
   "outputs": [
    {
     "data": {
      "text/plain": [
       "\n",
       "Call:\n",
       "lm(formula = NetRad ~ Humid_Mean, data = meteo_data)\n",
       "\n",
       "Residuals:\n",
       "    Min      1Q  Median      3Q     Max \n",
       "-41.635 -17.062  -2.265  13.362  66.411 \n",
       "\n",
       "Coefficients:\n",
       "            Estimate Std. Error t value Pr(>|t|)    \n",
       "(Intercept) 218.2498    22.8575   9.548 1.54e-14 ***\n",
       "Humid_Mean   -2.4887     0.3325  -7.485 1.21e-10 ***\n",
       "---\n",
       "Signif. codes:  0 '***' 0.001 '**' 0.01 '*' 0.05 '.' 0.1 ' ' 1\n",
       "\n",
       "Residual standard error: 25.67 on 74 degrees of freedom\n",
       "Multiple R-squared:  0.4309,\tAdjusted R-squared:  0.4232 \n",
       "F-statistic: 56.03 on 1 and 74 DF,  p-value: 1.213e-10\n"
      ]
     },
     "metadata": {},
     "output_type": "display_data"
    }
   ],
   "source": [
    "lin_reg <- lm(NetRad~Humid_Mean, meteo_data)\n",
    "summary(lin_reg)"
   ]
  },
  {
   "cell_type": "code",
   "execution_count": 129,
   "metadata": {},
   "outputs": [
    {
     "data": {
      "text/html": [
       "<dl class=dl-horizontal>\n",
       "\t<dt>(Intercept)</dt>\n",
       "\t\t<dd>218.249767183123</dd>\n",
       "\t<dt>Humid_Mean</dt>\n",
       "\t\t<dd>-2.48874436538202</dd>\n",
       "</dl>\n"
      ],
      "text/latex": [
       "\\begin{description*}\n",
       "\\item[(Intercept)] 218.249767183123\n",
       "\\item[Humid\\textbackslash{}\\_Mean] -2.48874436538202\n",
       "\\end{description*}\n"
      ],
      "text/markdown": [
       "(Intercept)\n",
       ":   218.249767183123Humid_Mean\n",
       ":   -2.48874436538202\n",
       "\n"
      ],
      "text/plain": [
       "(Intercept)  Humid_Mean \n",
       " 218.249767   -2.488744 "
      ]
     },
     "metadata": {},
     "output_type": "display_data"
    }
   ],
   "source": [
    "lin_reg$coefficients\n",
    "r2_lin_reg <- summary(lin_reg)[8]\n"
   ]
  },
  {
   "cell_type": "code",
   "execution_count": 130,
   "metadata": {},
   "outputs": [
    {
     "data": {
      "image/png": "[encoded data removed]",
      "text/plain": [
       "plot without title"
      ]
     },
     "metadata": {},
     "output_type": "display_data"
    }
   ],
   "source": [
    "options(repr.plot.width = 5, repr.plot.height = 5)\n",
    "par(pty = \"s\", ps = 16, las = 1, mar = c(4, 4, 0.25, 0.25))\n",
    "plot(NetRad~Humid_Mean, meteo_data, pch = 16)\n",
    "abline(lin_reg, lwd = 3, col = 2)\n",
    "text(50, -20, \n",
    "    bquote(italic(R)^2 == .(format(r2_lin_reg, digits = 2))),\n",
    "    adj = c(0, 0))"
   ]
  },
  {
   "cell_type": "markdown",
   "metadata": {},
   "source": [
    "## Working with time data"
   ]
  },
  {
   "cell_type": "markdown",
   "metadata": {},
   "source": [
    "<a href=\"https://www.rdocumentation.org/packages/base/versions/3.6.2/topics/Sys.time\">Sys.time()</a> funtion gives us the date and time of the device/server. We see that default format for the date and time is \"*year-month-day hh:mm:sec Timezone*\""
   ]
  },
  {
   "cell_type": "code",
   "execution_count": 131,
   "metadata": {},
   "outputs": [
    {
     "data": {
      "text/plain": [
       "[1] \"2021-12-17 14:57:30 CET\""
      ]
     },
     "metadata": {},
     "output_type": "display_data"
    }
   ],
   "source": [
    "Sys.time()"
   ]
  },
  {
   "cell_type": "code",
   "execution_count": 132,
   "metadata": {},
   "outputs": [
    {
     "data": {
      "text/html": [
       "<ol class=list-inline>\n",
       "\t<li>'POSIXct'</li>\n",
       "\t<li>'POSIXt'</li>\n",
       "</ol>\n"
      ],
      "text/latex": [
       "\\begin{enumerate*}\n",
       "\\item 'POSIXct'\n",
       "\\item 'POSIXt'\n",
       "\\end{enumerate*}\n"
      ],
      "text/markdown": [
       "1. 'POSIXct'\n",
       "2. 'POSIXt'\n",
       "\n",
       "\n"
      ],
      "text/plain": [
       "[1] \"POSIXct\" \"POSIXt\" "
      ]
     },
     "metadata": {},
     "output_type": "display_data"
    }
   ],
   "source": [
    "class(Sys.time())"
   ]
  },
  {
   "cell_type": "markdown",
   "metadata": {},
   "source": [
    "POSIXct is the number of seconds since 01.01.1970 in Coordinated Universal Time (UTC). If we remove it from its class, we can see it as a numeric value:"
   ]
  },
  {
   "cell_type": "code",
   "execution_count": 133,
   "metadata": {},
   "outputs": [
    {
     "data": {
      "text/html": [
       "1639749451.13497"
      ],
      "text/latex": [
       "1639749451.13497"
      ],
      "text/markdown": [
       "1639749451.13497"
      ],
      "text/plain": [
       "[1] 1639749451"
      ]
     },
     "metadata": {},
     "output_type": "display_data"
    }
   ],
   "source": [
    "unclass(Sys.time())"
   ]
  },
  {
   "cell_type": "code",
   "execution_count": 134,
   "metadata": {},
   "outputs": [
    {
     "data": {
      "text/html": [
       "<ol class=list-inline>\n",
       "\t<li>'2021-12-17 00:00:00'</li>\n",
       "\t<li>'2021-12-16 23:59:50'</li>\n",
       "\t<li>'2021-12-16 23:59:40'</li>\n",
       "\t<li>'2021-12-16 23:59:30'</li>\n",
       "\t<li>'2021-12-16 23:59:20'</li>\n",
       "\t<li>'2021-12-16 23:59:10'</li>\n",
       "</ol>\n"
      ],
      "text/latex": [
       "\\begin{enumerate*}\n",
       "\\item '2021-12-17 00:00:00'\n",
       "\\item '2021-12-16 23:59:50'\n",
       "\\item '2021-12-16 23:59:40'\n",
       "\\item '2021-12-16 23:59:30'\n",
       "\\item '2021-12-16 23:59:20'\n",
       "\\item '2021-12-16 23:59:10'\n",
       "\\end{enumerate*}\n"
      ],
      "text/markdown": [
       "1. '2021-12-17 00:00:00'\n",
       "2. '2021-12-16 23:59:50'\n",
       "3. '2021-12-16 23:59:40'\n",
       "4. '2021-12-16 23:59:30'\n",
       "5. '2021-12-16 23:59:20'\n",
       "6. '2021-12-16 23:59:10'\n",
       "\n",
       "\n"
      ],
      "text/plain": [
       "[1] \"2021-12-17 00:00:00\" \"2021-12-16 23:59:50\" \"2021-12-16 23:59:40\"\n",
       "[4] \"2021-12-16 23:59:30\" \"2021-12-16 23:59:20\" \"2021-12-16 23:59:10\""
      ]
     },
     "metadata": {},
     "output_type": "display_data"
    }
   ],
   "source": [
    "head(raw_data[, 1])"
   ]
  },
  {
   "cell_type": "code",
   "execution_count": 135,
   "metadata": {},
   "outputs": [
    {
     "data": {
      "text/plain": [
       "[1] \"2021-12-17 00:00:00 UTC\" \"2021-12-16 23:59:50 UTC\"\n",
       "[3] \"2021-12-16 23:59:40 UTC\" \"2021-12-16 23:59:30 UTC\"\n",
       "[5] \"2021-12-16 23:59:20 UTC\" \"2021-12-16 23:59:10 UTC\""
      ]
     },
     "metadata": {},
     "output_type": "display_data"
    }
   ],
   "source": [
    "head(as.POSIXct(raw_data[, 1], tz = \"UTC\"))"
   ]
  },
  {
   "cell_type": "code",
   "execution_count": 136,
   "metadata": {},
   "outputs": [
    {
     "data": {
      "text/html": [
       "<table>\n",
       "<thead><tr><th scope=col>Time</th><th scope=col>AirTemp</th></tr></thead>\n",
       "<tbody>\n",
       "\t<tr><td>03/05/2019 00:15</td><td>6.6             </td></tr>\n",
       "\t<tr><td>03/05/2019 00:30</td><td>6.5             </td></tr>\n",
       "\t<tr><td>03/05/2019 00:45</td><td>6.4             </td></tr>\n",
       "\t<tr><td>03/05/2019 01:00</td><td>6.0             </td></tr>\n",
       "\t<tr><td>03/05/2019 01:15</td><td>5.9             </td></tr>\n",
       "\t<tr><td>03/05/2019 01:30</td><td>6.0             </td></tr>\n",
       "</tbody>\n",
       "</table>\n"
      ],
      "text/latex": [
       "\\begin{tabular}{r|ll}\n",
       " Time & AirTemp\\\\\n",
       "\\hline\n",
       "\t 03/05/2019 00:15 & 6.6             \\\\\n",
       "\t 03/05/2019 00:30 & 6.5             \\\\\n",
       "\t 03/05/2019 00:45 & 6.4             \\\\\n",
       "\t 03/05/2019 01:00 & 6.0             \\\\\n",
       "\t 03/05/2019 01:15 & 5.9             \\\\\n",
       "\t 03/05/2019 01:30 & 6.0             \\\\\n",
       "\\end{tabular}\n"
      ],
      "text/markdown": [
       "\n",
       "| Time | AirTemp |\n",
       "|---|---|\n",
       "| 03/05/2019 00:15 | 6.6              |\n",
       "| 03/05/2019 00:30 | 6.5              |\n",
       "| 03/05/2019 00:45 | 6.4              |\n",
       "| 03/05/2019 01:00 | 6.0              |\n",
       "| 03/05/2019 01:15 | 5.9              |\n",
       "| 03/05/2019 01:30 | 6.0              |\n",
       "\n"
      ],
      "text/plain": [
       "  Time             AirTemp\n",
       "1 03/05/2019 00:15 6.6    \n",
       "2 03/05/2019 00:30 6.5    \n",
       "3 03/05/2019 00:45 6.4    \n",
       "4 03/05/2019 01:00 6.0    \n",
       "5 03/05/2019 01:15 5.9    \n",
       "6 03/05/2019 01:30 6.0    "
      ]
     },
     "metadata": {},
     "output_type": "display_data"
    }
   ],
   "source": [
    "airtemp <- read.csv(\"https://data.ncl.ac.uk/ndownloader/files/24194087\",\n",
    "    stringsAsFactors = F)\n",
    "head(airtemp)"
   ]
  },
  {
   "cell_type": "code",
   "execution_count": 79,
   "metadata": {},
   "outputs": [
    {
     "data": {
      "text/plain": [
       "[1] \"2019-05-03 00:15:00 UTC\" \"2019-05-03 00:30:00 UTC\"\n",
       "[3] \"2019-05-03 00:45:00 UTC\" \"2019-05-03 01:00:00 UTC\"\n",
       "[5] \"2019-05-03 01:15:00 UTC\" \"2019-05-03 01:30:00 UTC\""
      ]
     },
     "metadata": {},
     "output_type": "display_data"
    }
   ],
   "source": [
    "date_time <- as.POSIXct(airtemp[, 1], tz = \"UTC\", format = \"%d/%m/%Y %H:%M\")\n",
    "head(date_time)"
   ]
  },
  {
   "cell_type": "code",
   "execution_count": 80,
   "metadata": {},
   "outputs": [
    {
     "data": {
      "text/html": [
       "<ol class=list-inline>\n",
       "\t<li>'03/05/2019 00:15'</li>\n",
       "\t<li>'03/05/2019 00:30'</li>\n",
       "\t<li>'03/05/2019 00:45'</li>\n",
       "\t<li>'03/05/2019 01:00'</li>\n",
       "\t<li>'03/05/2019 01:15'</li>\n",
       "\t<li>'03/05/2019 01:30'</li>\n",
       "</ol>\n"
      ],
      "text/latex": [
       "\\begin{enumerate*}\n",
       "\\item '03/05/2019 00:15'\n",
       "\\item '03/05/2019 00:30'\n",
       "\\item '03/05/2019 00:45'\n",
       "\\item '03/05/2019 01:00'\n",
       "\\item '03/05/2019 01:15'\n",
       "\\item '03/05/2019 01:30'\n",
       "\\end{enumerate*}\n"
      ],
      "text/markdown": [
       "1. '03/05/2019 00:15'\n",
       "2. '03/05/2019 00:30'\n",
       "3. '03/05/2019 00:45'\n",
       "4. '03/05/2019 01:00'\n",
       "5. '03/05/2019 01:15'\n",
       "6. '03/05/2019 01:30'\n",
       "\n",
       "\n"
      ],
      "text/plain": [
       "[1] \"03/05/2019 00:15\" \"03/05/2019 00:30\" \"03/05/2019 00:45\" \"03/05/2019 01:00\"\n",
       "[5] \"03/05/2019 01:15\" \"03/05/2019 01:30\""
      ]
     },
     "metadata": {},
     "output_type": "display_data"
    }
   ],
   "source": [
    "head(airtemp[, 1])"
   ]
  },
  {
   "cell_type": "code",
   "execution_count": 81,
   "metadata": {},
   "outputs": [
    {
     "data": {
      "text/html": [
       "'list'"
      ],
      "text/latex": [
       "'list'"
      ],
      "text/markdown": [
       "'list'"
      ],
      "text/plain": [
       "[1] \"list\""
      ]
     },
     "metadata": {},
     "output_type": "display_data"
    },
    {
     "data": {
      "text/html": [
       "<ol>\n",
       "\t<li><ol class=list-inline>\n",
       "\t<li>'03/05/2019'</li>\n",
       "\t<li>'00:15'</li>\n",
       "</ol>\n",
       "</li>\n",
       "\t<li><ol class=list-inline>\n",
       "\t<li>'03/05/2019'</li>\n",
       "\t<li>'00:30'</li>\n",
       "</ol>\n",
       "</li>\n",
       "\t<li><ol class=list-inline>\n",
       "\t<li>'03/05/2019'</li>\n",
       "\t<li>'00:45'</li>\n",
       "</ol>\n",
       "</li>\n",
       "\t<li><ol class=list-inline>\n",
       "\t<li>'03/05/2019'</li>\n",
       "\t<li>'01:00'</li>\n",
       "</ol>\n",
       "</li>\n",
       "\t<li><ol class=list-inline>\n",
       "\t<li>'03/05/2019'</li>\n",
       "\t<li>'01:15'</li>\n",
       "</ol>\n",
       "</li>\n",
       "\t<li><ol class=list-inline>\n",
       "\t<li>'03/05/2019'</li>\n",
       "\t<li>'01:30'</li>\n",
       "</ol>\n",
       "</li>\n",
       "</ol>\n"
      ],
      "text/latex": [
       "\\begin{enumerate}\n",
       "\\item \\begin{enumerate*}\n",
       "\\item '03/05/2019'\n",
       "\\item '00:15'\n",
       "\\end{enumerate*}\n",
       "\n",
       "\\item \\begin{enumerate*}\n",
       "\\item '03/05/2019'\n",
       "\\item '00:30'\n",
       "\\end{enumerate*}\n",
       "\n",
       "\\item \\begin{enumerate*}\n",
       "\\item '03/05/2019'\n",
       "\\item '00:45'\n",
       "\\end{enumerate*}\n",
       "\n",
       "\\item \\begin{enumerate*}\n",
       "\\item '03/05/2019'\n",
       "\\item '01:00'\n",
       "\\end{enumerate*}\n",
       "\n",
       "\\item \\begin{enumerate*}\n",
       "\\item '03/05/2019'\n",
       "\\item '01:15'\n",
       "\\end{enumerate*}\n",
       "\n",
       "\\item \\begin{enumerate*}\n",
       "\\item '03/05/2019'\n",
       "\\item '01:30'\n",
       "\\end{enumerate*}\n",
       "\n",
       "\\end{enumerate}\n"
      ],
      "text/markdown": [
       "1. 1. '03/05/2019'\n",
       "2. '00:15'\n",
       "\n",
       "\n",
       "\n",
       "2. 1. '03/05/2019'\n",
       "2. '00:30'\n",
       "\n",
       "\n",
       "\n",
       "3. 1. '03/05/2019'\n",
       "2. '00:45'\n",
       "\n",
       "\n",
       "\n",
       "4. 1. '03/05/2019'\n",
       "2. '01:00'\n",
       "\n",
       "\n",
       "\n",
       "5. 1. '03/05/2019'\n",
       "2. '01:15'\n",
       "\n",
       "\n",
       "\n",
       "6. 1. '03/05/2019'\n",
       "2. '01:30'\n",
       "\n",
       "\n",
       "\n",
       "\n",
       "\n"
      ],
      "text/plain": [
       "[[1]]\n",
       "[1] \"03/05/2019\" \"00:15\"     \n",
       "\n",
       "[[2]]\n",
       "[1] \"03/05/2019\" \"00:30\"     \n",
       "\n",
       "[[3]]\n",
       "[1] \"03/05/2019\" \"00:45\"     \n",
       "\n",
       "[[4]]\n",
       "[1] \"03/05/2019\" \"01:00\"     \n",
       "\n",
       "[[5]]\n",
       "[1] \"03/05/2019\" \"01:15\"     \n",
       "\n",
       "[[6]]\n",
       "[1] \"03/05/2019\" \"01:30\"     \n"
      ]
     },
     "metadata": {},
     "output_type": "display_data"
    }
   ],
   "source": [
    "seperated <- strsplit(airtemp[, 1], split = \" \")\n",
    "class(seperated)\n",
    "head(seperated)"
   ]
  },
  {
   "cell_type": "code",
   "execution_count": 82,
   "metadata": {},
   "outputs": [
    {
     "data": {
      "text/html": [
       "'03/05/2019'"
      ],
      "text/latex": [
       "'03/05/2019'"
      ],
      "text/markdown": [
       "'03/05/2019'"
      ],
      "text/plain": [
       "[1] \"03/05/2019\""
      ]
     },
     "metadata": {},
     "output_type": "display_data"
    }
   ],
   "source": [
    "strsplit(airtemp[, 1], split = \" \")[[1]][1]"
   ]
  },
  {
   "cell_type": "code",
   "execution_count": 84,
   "metadata": {},
   "outputs": [
    {
     "data": {
      "text/html": [
       "<ol>\n",
       "\t<li>'03/05/2019'</li>\n",
       "\t<li>'03/05/2019'</li>\n",
       "\t<li>'03/05/2019'</li>\n",
       "\t<li>'03/05/2019'</li>\n",
       "\t<li>'03/05/2019'</li>\n",
       "\t<li>'03/05/2019'</li>\n",
       "</ol>\n"
      ],
      "text/latex": [
       "\\begin{enumerate}\n",
       "\\item '03/05/2019'\n",
       "\\item '03/05/2019'\n",
       "\\item '03/05/2019'\n",
       "\\item '03/05/2019'\n",
       "\\item '03/05/2019'\n",
       "\\item '03/05/2019'\n",
       "\\end{enumerate}\n"
      ],
      "text/markdown": [
       "1. '03/05/2019'\n",
       "2. '03/05/2019'\n",
       "3. '03/05/2019'\n",
       "4. '03/05/2019'\n",
       "5. '03/05/2019'\n",
       "6. '03/05/2019'\n",
       "\n",
       "\n"
      ],
      "text/plain": [
       "[[1]]\n",
       "[1] \"03/05/2019\"\n",
       "\n",
       "[[2]]\n",
       "[1] \"03/05/2019\"\n",
       "\n",
       "[[3]]\n",
       "[1] \"03/05/2019\"\n",
       "\n",
       "[[4]]\n",
       "[1] \"03/05/2019\"\n",
       "\n",
       "[[5]]\n",
       "[1] \"03/05/2019\"\n",
       "\n",
       "[[6]]\n",
       "[1] \"03/05/2019\"\n"
      ]
     },
     "metadata": {},
     "output_type": "display_data"
    },
    {
     "data": {
      "text/html": [
       "<ol class=list-inline>\n",
       "\t<li>'03/05/2019'</li>\n",
       "\t<li>'03/05/2019'</li>\n",
       "\t<li>'03/05/2019'</li>\n",
       "\t<li>'03/05/2019'</li>\n",
       "\t<li>'03/05/2019'</li>\n",
       "\t<li>'03/05/2019'</li>\n",
       "</ol>\n"
      ],
      "text/latex": [
       "\\begin{enumerate*}\n",
       "\\item '03/05/2019'\n",
       "\\item '03/05/2019'\n",
       "\\item '03/05/2019'\n",
       "\\item '03/05/2019'\n",
       "\\item '03/05/2019'\n",
       "\\item '03/05/2019'\n",
       "\\end{enumerate*}\n"
      ],
      "text/markdown": [
       "1. '03/05/2019'\n",
       "2. '03/05/2019'\n",
       "3. '03/05/2019'\n",
       "4. '03/05/2019'\n",
       "5. '03/05/2019'\n",
       "6. '03/05/2019'\n",
       "\n",
       "\n"
      ],
      "text/plain": [
       "[1] \"03/05/2019\" \"03/05/2019\" \"03/05/2019\" \"03/05/2019\" \"03/05/2019\"\n",
       "[6] \"03/05/2019\""
      ]
     },
     "metadata": {},
     "output_type": "display_data"
    }
   ],
   "source": [
    "head(lapply(seperated, function(x) {x[1]}))\n",
    "head(unlist(lapply(seperated, function(x) {x[1]})))"
   ]
  },
  {
   "cell_type": "code",
   "execution_count": 85,
   "metadata": {},
   "outputs": [
    {
     "data": {
      "text/html": [
       "<ol class=list-inline>\n",
       "\t<li>'03/05/2019'</li>\n",
       "\t<li>'03/05/2019'</li>\n",
       "\t<li>'03/05/2019'</li>\n",
       "\t<li>'03/05/2019'</li>\n",
       "\t<li>'03/05/2019'</li>\n",
       "\t<li>'03/05/2019'</li>\n",
       "</ol>\n"
      ],
      "text/latex": [
       "\\begin{enumerate*}\n",
       "\\item '03/05/2019'\n",
       "\\item '03/05/2019'\n",
       "\\item '03/05/2019'\n",
       "\\item '03/05/2019'\n",
       "\\item '03/05/2019'\n",
       "\\item '03/05/2019'\n",
       "\\end{enumerate*}\n"
      ],
      "text/markdown": [
       "1. '03/05/2019'\n",
       "2. '03/05/2019'\n",
       "3. '03/05/2019'\n",
       "4. '03/05/2019'\n",
       "5. '03/05/2019'\n",
       "6. '03/05/2019'\n",
       "\n",
       "\n"
      ],
      "text/plain": [
       "[1] \"03/05/2019\" \"03/05/2019\" \"03/05/2019\" \"03/05/2019\" \"03/05/2019\"\n",
       "[6] \"03/05/2019\""
      ]
     },
     "metadata": {},
     "output_type": "display_data"
    },
    {
     "data": {
      "text/html": [
       "<ol class=list-inline>\n",
       "\t<li>'00:15'</li>\n",
       "\t<li>'00:30'</li>\n",
       "\t<li>'00:45'</li>\n",
       "\t<li>'01:00'</li>\n",
       "\t<li>'01:15'</li>\n",
       "\t<li>'01:30'</li>\n",
       "</ol>\n"
      ],
      "text/latex": [
       "\\begin{enumerate*}\n",
       "\\item '00:15'\n",
       "\\item '00:30'\n",
       "\\item '00:45'\n",
       "\\item '01:00'\n",
       "\\item '01:15'\n",
       "\\item '01:30'\n",
       "\\end{enumerate*}\n"
      ],
      "text/markdown": [
       "1. '00:15'\n",
       "2. '00:30'\n",
       "3. '00:45'\n",
       "4. '01:00'\n",
       "5. '01:15'\n",
       "6. '01:30'\n",
       "\n",
       "\n"
      ],
      "text/plain": [
       "[1] \"00:15\" \"00:30\" \"00:45\" \"01:00\" \"01:15\" \"01:30\""
      ]
     },
     "metadata": {},
     "output_type": "display_data"
    }
   ],
   "source": [
    "date <- unlist(lapply(seperated, function(x) {x[1]}))\n",
    "time <- unlist(lapply(seperated, function(x) {x[2]}))\n",
    "head(date)\n",
    "head(time)"
   ]
  },
  {
   "cell_type": "code",
   "execution_count": 86,
   "metadata": {},
   "outputs": [
    {
     "data": {
      "text/html": [
       "<ol>\n",
       "\t<li><ol class=list-inline>\n",
       "\t<li>'03'</li>\n",
       "\t<li>'05'</li>\n",
       "\t<li>'2019'</li>\n",
       "</ol>\n",
       "</li>\n",
       "\t<li><ol class=list-inline>\n",
       "\t<li>'03'</li>\n",
       "\t<li>'05'</li>\n",
       "\t<li>'2019'</li>\n",
       "</ol>\n",
       "</li>\n",
       "\t<li><ol class=list-inline>\n",
       "\t<li>'03'</li>\n",
       "\t<li>'05'</li>\n",
       "\t<li>'2019'</li>\n",
       "</ol>\n",
       "</li>\n",
       "\t<li><ol class=list-inline>\n",
       "\t<li>'03'</li>\n",
       "\t<li>'05'</li>\n",
       "\t<li>'2019'</li>\n",
       "</ol>\n",
       "</li>\n",
       "\t<li><ol class=list-inline>\n",
       "\t<li>'03'</li>\n",
       "\t<li>'05'</li>\n",
       "\t<li>'2019'</li>\n",
       "</ol>\n",
       "</li>\n",
       "\t<li><ol class=list-inline>\n",
       "\t<li>'03'</li>\n",
       "\t<li>'05'</li>\n",
       "\t<li>'2019'</li>\n",
       "</ol>\n",
       "</li>\n",
       "</ol>\n"
      ],
      "text/latex": [
       "\\begin{enumerate}\n",
       "\\item \\begin{enumerate*}\n",
       "\\item '03'\n",
       "\\item '05'\n",
       "\\item '2019'\n",
       "\\end{enumerate*}\n",
       "\n",
       "\\item \\begin{enumerate*}\n",
       "\\item '03'\n",
       "\\item '05'\n",
       "\\item '2019'\n",
       "\\end{enumerate*}\n",
       "\n",
       "\\item \\begin{enumerate*}\n",
       "\\item '03'\n",
       "\\item '05'\n",
       "\\item '2019'\n",
       "\\end{enumerate*}\n",
       "\n",
       "\\item \\begin{enumerate*}\n",
       "\\item '03'\n",
       "\\item '05'\n",
       "\\item '2019'\n",
       "\\end{enumerate*}\n",
       "\n",
       "\\item \\begin{enumerate*}\n",
       "\\item '03'\n",
       "\\item '05'\n",
       "\\item '2019'\n",
       "\\end{enumerate*}\n",
       "\n",
       "\\item \\begin{enumerate*}\n",
       "\\item '03'\n",
       "\\item '05'\n",
       "\\item '2019'\n",
       "\\end{enumerate*}\n",
       "\n",
       "\\end{enumerate}\n"
      ],
      "text/markdown": [
       "1. 1. '03'\n",
       "2. '05'\n",
       "3. '2019'\n",
       "\n",
       "\n",
       "\n",
       "2. 1. '03'\n",
       "2. '05'\n",
       "3. '2019'\n",
       "\n",
       "\n",
       "\n",
       "3. 1. '03'\n",
       "2. '05'\n",
       "3. '2019'\n",
       "\n",
       "\n",
       "\n",
       "4. 1. '03'\n",
       "2. '05'\n",
       "3. '2019'\n",
       "\n",
       "\n",
       "\n",
       "5. 1. '03'\n",
       "2. '05'\n",
       "3. '2019'\n",
       "\n",
       "\n",
       "\n",
       "6. 1. '03'\n",
       "2. '05'\n",
       "3. '2019'\n",
       "\n",
       "\n",
       "\n",
       "\n",
       "\n"
      ],
      "text/plain": [
       "[[1]]\n",
       "[1] \"03\"   \"05\"   \"2019\"\n",
       "\n",
       "[[2]]\n",
       "[1] \"03\"   \"05\"   \"2019\"\n",
       "\n",
       "[[3]]\n",
       "[1] \"03\"   \"05\"   \"2019\"\n",
       "\n",
       "[[4]]\n",
       "[1] \"03\"   \"05\"   \"2019\"\n",
       "\n",
       "[[5]]\n",
       "[1] \"03\"   \"05\"   \"2019\"\n",
       "\n",
       "[[6]]\n",
       "[1] \"03\"   \"05\"   \"2019\"\n"
      ]
     },
     "metadata": {},
     "output_type": "display_data"
    }
   ],
   "source": [
    "head(strsplit(date, split = \"/\"))"
   ]
  },
  {
   "cell_type": "code",
   "execution_count": 87,
   "metadata": {},
   "outputs": [
    {
     "data": {
      "text/html": [
       "<ol>\n",
       "\t<li>'03'</li>\n",
       "\t<li>'03'</li>\n",
       "\t<li>'03'</li>\n",
       "\t<li>'03'</li>\n",
       "\t<li>'03'</li>\n",
       "\t<li>'03'</li>\n",
       "</ol>\n"
      ],
      "text/latex": [
       "\\begin{enumerate}\n",
       "\\item '03'\n",
       "\\item '03'\n",
       "\\item '03'\n",
       "\\item '03'\n",
       "\\item '03'\n",
       "\\item '03'\n",
       "\\end{enumerate}\n"
      ],
      "text/markdown": [
       "1. '03'\n",
       "2. '03'\n",
       "3. '03'\n",
       "4. '03'\n",
       "5. '03'\n",
       "6. '03'\n",
       "\n",
       "\n"
      ],
      "text/plain": [
       "[[1]]\n",
       "[1] \"03\"\n",
       "\n",
       "[[2]]\n",
       "[1] \"03\"\n",
       "\n",
       "[[3]]\n",
       "[1] \"03\"\n",
       "\n",
       "[[4]]\n",
       "[1] \"03\"\n",
       "\n",
       "[[5]]\n",
       "[1] \"03\"\n",
       "\n",
       "[[6]]\n",
       "[1] \"03\"\n"
      ]
     },
     "metadata": {},
     "output_type": "display_data"
    },
    {
     "data": {
      "text/html": [
       "<ol>\n",
       "\t<li>'05'</li>\n",
       "\t<li>'05'</li>\n",
       "\t<li>'05'</li>\n",
       "\t<li>'05'</li>\n",
       "\t<li>'05'</li>\n",
       "\t<li>'05'</li>\n",
       "</ol>\n"
      ],
      "text/latex": [
       "\\begin{enumerate}\n",
       "\\item '05'\n",
       "\\item '05'\n",
       "\\item '05'\n",
       "\\item '05'\n",
       "\\item '05'\n",
       "\\item '05'\n",
       "\\end{enumerate}\n"
      ],
      "text/markdown": [
       "1. '05'\n",
       "2. '05'\n",
       "3. '05'\n",
       "4. '05'\n",
       "5. '05'\n",
       "6. '05'\n",
       "\n",
       "\n"
      ],
      "text/plain": [
       "[[1]]\n",
       "[1] \"05\"\n",
       "\n",
       "[[2]]\n",
       "[1] \"05\"\n",
       "\n",
       "[[3]]\n",
       "[1] \"05\"\n",
       "\n",
       "[[4]]\n",
       "[1] \"05\"\n",
       "\n",
       "[[5]]\n",
       "[1] \"05\"\n",
       "\n",
       "[[6]]\n",
       "[1] \"05\"\n"
      ]
     },
     "metadata": {},
     "output_type": "display_data"
    },
    {
     "data": {
      "text/html": [
       "<ol>\n",
       "\t<li>'2019'</li>\n",
       "\t<li>'2019'</li>\n",
       "\t<li>'2019'</li>\n",
       "\t<li>'2019'</li>\n",
       "\t<li>'2019'</li>\n",
       "\t<li>'2019'</li>\n",
       "</ol>\n"
      ],
      "text/latex": [
       "\\begin{enumerate}\n",
       "\\item '2019'\n",
       "\\item '2019'\n",
       "\\item '2019'\n",
       "\\item '2019'\n",
       "\\item '2019'\n",
       "\\item '2019'\n",
       "\\end{enumerate}\n"
      ],
      "text/markdown": [
       "1. '2019'\n",
       "2. '2019'\n",
       "3. '2019'\n",
       "4. '2019'\n",
       "5. '2019'\n",
       "6. '2019'\n",
       "\n",
       "\n"
      ],
      "text/plain": [
       "[[1]]\n",
       "[1] \"2019\"\n",
       "\n",
       "[[2]]\n",
       "[1] \"2019\"\n",
       "\n",
       "[[3]]\n",
       "[1] \"2019\"\n",
       "\n",
       "[[4]]\n",
       "[1] \"2019\"\n",
       "\n",
       "[[5]]\n",
       "[1] \"2019\"\n",
       "\n",
       "[[6]]\n",
       "[1] \"2019\"\n"
      ]
     },
     "metadata": {},
     "output_type": "display_data"
    }
   ],
   "source": [
    "day <- lapply(strsplit(date, \"/\"), function(x) {x[1]})\n",
    "month <- lapply(strsplit(date, \"/\"), function(x) {x[2]})\n",
    "year <- lapply(strsplit(date, \"/\"), function(x) {x[3]})\n",
    "head(day)\n",
    "head(month)\n",
    "head(year)"
   ]
  },
  {
   "cell_type": "code",
   "execution_count": 88,
   "metadata": {},
   "outputs": [
    {
     "data": {
      "text/html": [
       "'2019-05-03 00:15'"
      ],
      "text/latex": [
       "'2019-05-03 00:15'"
      ],
      "text/markdown": [
       "'2019-05-03 00:15'"
      ],
      "text/plain": [
       "[1] \"2019-05-03 00:15\""
      ]
     },
     "metadata": {},
     "output_type": "display_data"
    }
   ],
   "source": [
    "paste0(year[1], \"-\", month[1], \"-\", day[1], \" \", time[1])"
   ]
  },
  {
   "cell_type": "code",
   "execution_count": 89,
   "metadata": {},
   "outputs": [
    {
     "data": {
      "text/html": [
       "<ol class=list-inline>\n",
       "\t<li>'2019-05-03 00:15'</li>\n",
       "\t<li>'2019-05-03 00:30'</li>\n",
       "\t<li>'2019-05-03 00:45'</li>\n",
       "\t<li>'2019-05-03 01:00'</li>\n",
       "\t<li>'2019-05-03 01:15'</li>\n",
       "\t<li>'2019-05-03 01:30'</li>\n",
       "</ol>\n"
      ],
      "text/latex": [
       "\\begin{enumerate*}\n",
       "\\item '2019-05-03 00:15'\n",
       "\\item '2019-05-03 00:30'\n",
       "\\item '2019-05-03 00:45'\n",
       "\\item '2019-05-03 01:00'\n",
       "\\item '2019-05-03 01:15'\n",
       "\\item '2019-05-03 01:30'\n",
       "\\end{enumerate*}\n"
      ],
      "text/markdown": [
       "1. '2019-05-03 00:15'\n",
       "2. '2019-05-03 00:30'\n",
       "3. '2019-05-03 00:45'\n",
       "4. '2019-05-03 01:00'\n",
       "5. '2019-05-03 01:15'\n",
       "6. '2019-05-03 01:30'\n",
       "\n",
       "\n"
      ],
      "text/plain": [
       "[1] \"2019-05-03 00:15\" \"2019-05-03 00:30\" \"2019-05-03 00:45\" \"2019-05-03 01:00\"\n",
       "[5] \"2019-05-03 01:15\" \"2019-05-03 01:30\""
      ]
     },
     "metadata": {},
     "output_type": "display_data"
    }
   ],
   "source": [
    "date_time_chr <- paste0(year, \"-\", month, \"-\", day, \" \", time)\n",
    "head(date_time_chr)"
   ]
  },
  {
   "cell_type": "code",
   "execution_count": 90,
   "metadata": {},
   "outputs": [
    {
     "data": {
      "text/plain": [
       "[1] \"2019-05-03 00:15:00 UTC\" \"2019-05-03 00:30:00 UTC\"\n",
       "[3] \"2019-05-03 00:45:00 UTC\" \"2019-05-03 01:00:00 UTC\"\n",
       "[5] \"2019-05-03 01:15:00 UTC\" \"2019-05-03 01:30:00 UTC\""
      ]
     },
     "metadata": {},
     "output_type": "display_data"
    }
   ],
   "source": [
    "date_time_posix <- as.POSIXct(date_time_chr, tz = \"UTC\")\n",
    "head(date_time_posix)"
   ]
  },
  {
   "cell_type": "code",
   "execution_count": 91,
   "metadata": {},
   "outputs": [
    {
     "data": {
      "text/plain": [
       "Time difference of 30 mins"
      ]
     },
     "metadata": {},
     "output_type": "display_data"
    }
   ],
   "source": [
    "date_time_posix[3] - date_time_posix[1]"
   ]
  },
  {
   "cell_type": "code",
   "execution_count": 92,
   "metadata": {},
   "outputs": [
    {
     "data": {
      "image/png": "[encoded data removed]",
      "text/plain": [
       "plot without title"
      ]
     },
     "metadata": {},
     "output_type": "display_data"
    }
   ],
   "source": [
    "options(repr.plot.width = 10, repr.plot.height = 5)\n",
    "par(las = 1, ps = 20)\n",
    "plot(airtemp[, 2]~date_time_posix, type = \"l\")"
   ]
  },
  {
   "cell_type": "markdown",
   "metadata": {},
   "source": [
    "## Temporal averages"
   ]
  },
  {
   "cell_type": "code",
   "execution_count": 137,
   "metadata": {},
   "outputs": [
    {
     "data": {
      "text/html": [
       "<table>\n",
       "<thead><tr><th scope=col>time</th><th scope=col>value</th><th scope=col>duration...observation.window</th></tr></thead>\n",
       "<tbody>\n",
       "\t<tr><td>2021-12-17 00:00:00</td><td>4.3                </td><td> -9.997            </td></tr>\n",
       "\t<tr><td>2021-12-16 23:59:50</td><td>4.3                </td><td>-10.006            </td></tr>\n",
       "\t<tr><td>2021-12-16 23:59:40</td><td>4.3                </td><td> -9.997            </td></tr>\n",
       "\t<tr><td>2021-12-16 23:59:30</td><td>4.4                </td><td> -9.992            </td></tr>\n",
       "\t<tr><td>2021-12-16 23:59:20</td><td>4.4                </td><td>-10.001            </td></tr>\n",
       "\t<tr><td>2021-12-16 23:59:10</td><td>4.4                </td><td>-10.012            </td></tr>\n",
       "</tbody>\n",
       "</table>\n"
      ],
      "text/latex": [
       "\\begin{tabular}{r|lll}\n",
       " time & value & duration...observation.window\\\\\n",
       "\\hline\n",
       "\t 2021-12-17 00:00:00 & 4.3                 &  -9.997            \\\\\n",
       "\t 2021-12-16 23:59:50 & 4.3                 & -10.006            \\\\\n",
       "\t 2021-12-16 23:59:40 & 4.3                 &  -9.997            \\\\\n",
       "\t 2021-12-16 23:59:30 & 4.4                 &  -9.992            \\\\\n",
       "\t 2021-12-16 23:59:20 & 4.4                 & -10.001            \\\\\n",
       "\t 2021-12-16 23:59:10 & 4.4                 & -10.012            \\\\\n",
       "\\end{tabular}\n"
      ],
      "text/markdown": [
       "\n",
       "| time | value | duration...observation.window |\n",
       "|---|---|---|\n",
       "| 2021-12-17 00:00:00 | 4.3                 |  -9.997             |\n",
       "| 2021-12-16 23:59:50 | 4.3                 | -10.006             |\n",
       "| 2021-12-16 23:59:40 | 4.3                 |  -9.997             |\n",
       "| 2021-12-16 23:59:30 | 4.4                 |  -9.992             |\n",
       "| 2021-12-16 23:59:20 | 4.4                 | -10.001             |\n",
       "| 2021-12-16 23:59:10 | 4.4                 | -10.012             |\n",
       "\n"
      ],
      "text/plain": [
       "  time                value duration...observation.window\n",
       "1 2021-12-17 00:00:00 4.3    -9.997                      \n",
       "2 2021-12-16 23:59:50 4.3   -10.006                      \n",
       "3 2021-12-16 23:59:40 4.3    -9.997                      \n",
       "4 2021-12-16 23:59:30 4.4    -9.992                      \n",
       "5 2021-12-16 23:59:20 4.4   -10.001                      \n",
       "6 2021-12-16 23:59:10 4.4   -10.012                      "
      ]
     },
     "metadata": {},
     "output_type": "display_data"
    }
   ],
   "source": [
    "head(raw_data)"
   ]
  },
  {
   "cell_type": "code",
   "execution_count": 138,
   "metadata": {},
   "outputs": [
    {
     "data": {
      "text/html": [
       "<table>\n",
       "<thead><tr><th></th><th scope=col>time</th><th scope=col>value</th><th scope=col>duration...observation.window</th></tr></thead>\n",
       "<tbody>\n",
       "\t<tr><th scope=row>55914</th><td>2021-12-10 00:00:50</td><td>5.9                </td><td> -9.995            </td></tr>\n",
       "\t<tr><th scope=row>55915</th><td>2021-12-10 00:00:40</td><td>5.9                </td><td>-10.006            </td></tr>\n",
       "\t<tr><th scope=row>55916</th><td>2021-12-10 00:00:30</td><td>5.9                </td><td>-10.000            </td></tr>\n",
       "\t<tr><th scope=row>55917</th><td>2021-12-10 00:00:20</td><td>5.9                </td><td> -9.961            </td></tr>\n",
       "\t<tr><th scope=row>55918</th><td>2021-12-10 00:00:10</td><td>5.9                </td><td>-10.024            </td></tr>\n",
       "\t<tr><th scope=row>55919</th><td>2021-12-10 00:00:00</td><td>5.9                </td><td>-10.004            </td></tr>\n",
       "</tbody>\n",
       "</table>\n"
      ],
      "text/latex": [
       "\\begin{tabular}{r|lll}\n",
       "  & time & value & duration...observation.window\\\\\n",
       "\\hline\n",
       "\t55914 & 2021-12-10 00:00:50 & 5.9                 &  -9.995            \\\\\n",
       "\t55915 & 2021-12-10 00:00:40 & 5.9                 & -10.006            \\\\\n",
       "\t55916 & 2021-12-10 00:00:30 & 5.9                 & -10.000            \\\\\n",
       "\t55917 & 2021-12-10 00:00:20 & 5.9                 &  -9.961            \\\\\n",
       "\t55918 & 2021-12-10 00:00:10 & 5.9                 & -10.024            \\\\\n",
       "\t55919 & 2021-12-10 00:00:00 & 5.9                 & -10.004            \\\\\n",
       "\\end{tabular}\n"
      ],
      "text/markdown": [
       "\n",
       "| <!--/--> | time | value | duration...observation.window |\n",
       "|---|---|---|---|\n",
       "| 55914 | 2021-12-10 00:00:50 | 5.9                 |  -9.995             |\n",
       "| 55915 | 2021-12-10 00:00:40 | 5.9                 | -10.006             |\n",
       "| 55916 | 2021-12-10 00:00:30 | 5.9                 | -10.000             |\n",
       "| 55917 | 2021-12-10 00:00:20 | 5.9                 |  -9.961             |\n",
       "| 55918 | 2021-12-10 00:00:10 | 5.9                 | -10.024             |\n",
       "| 55919 | 2021-12-10 00:00:00 | 5.9                 | -10.004             |\n",
       "\n"
      ],
      "text/plain": [
       "      time                value duration...observation.window\n",
       "55914 2021-12-10 00:00:50 5.9    -9.995                      \n",
       "55915 2021-12-10 00:00:40 5.9   -10.006                      \n",
       "55916 2021-12-10 00:00:30 5.9   -10.000                      \n",
       "55917 2021-12-10 00:00:20 5.9    -9.961                      \n",
       "55918 2021-12-10 00:00:10 5.9   -10.024                      \n",
       "55919 2021-12-10 00:00:00 5.9   -10.004                      "
      ]
     },
     "metadata": {},
     "output_type": "display_data"
    }
   ],
   "source": [
    "tail(raw_data)"
   ]
  },
  {
   "cell_type": "code",
   "execution_count": 144,
   "metadata": {},
   "outputs": [
    {
     "data": {
      "text/plain": [
       "  [1] \"2021-12-10 01:00:00 CET\" \"2021-12-10 01:15:00 CET\"\n",
       "  [3] \"2021-12-10 01:30:00 CET\" \"2021-12-10 01:45:00 CET\"\n",
       "  [5] \"2021-12-10 02:00:00 CET\" \"2021-12-10 02:15:00 CET\"\n",
       "  [7] \"2021-12-10 02:30:00 CET\" \"2021-12-10 02:45:00 CET\"\n",
       "  [9] \"2021-12-10 03:00:00 CET\" \"2021-12-10 03:15:00 CET\"\n",
       " [11] \"2021-12-10 03:30:00 CET\" \"2021-12-10 03:45:00 CET\"\n",
       " [13] \"2021-12-10 04:00:00 CET\" \"2021-12-10 04:15:00 CET\"\n",
       " [15] \"2021-12-10 04:30:00 CET\" \"2021-12-10 04:45:00 CET\"\n",
       " [17] \"2021-12-10 05:00:00 CET\" \"2021-12-10 05:15:00 CET\"\n",
       " [19] \"2021-12-10 05:30:00 CET\" \"2021-12-10 05:45:00 CET\"\n",
       " [21] \"2021-12-10 06:00:00 CET\" \"2021-12-10 06:15:00 CET\"\n",
       " [23] \"2021-12-10 06:30:00 CET\" \"2021-12-10 06:45:00 CET\"\n",
       " [25] \"2021-12-10 07:00:00 CET\" \"2021-12-10 07:15:00 CET\"\n",
       " [27] \"2021-12-10 07:30:00 CET\" \"2021-12-10 07:45:00 CET\"\n",
       " [29] \"2021-12-10 08:00:00 CET\" \"2021-12-10 08:15:00 CET\"\n",
       " [31] \"2021-12-10 08:30:00 CET\" \"2021-12-10 08:45:00 CET\"\n",
       " [33] \"2021-12-10 09:00:00 CET\" \"2021-12-10 09:15:00 CET\"\n",
       " [35] \"2021-12-10 09:30:00 CET\" \"2021-12-10 09:45:00 CET\"\n",
       " [37] \"2021-12-10 10:00:00 CET\" \"2021-12-10 10:15:00 CET\"\n",
       " [39] \"2021-12-10 10:30:00 CET\" \"2021-12-10 10:45:00 CET\"\n",
       " [41] \"2021-12-10 11:00:00 CET\" \"2021-12-10 11:15:00 CET\"\n",
       " [43] \"2021-12-10 11:30:00 CET\" \"2021-12-10 11:45:00 CET\"\n",
       " [45] \"2021-12-10 12:00:00 CET\" \"2021-12-10 12:15:00 CET\"\n",
       " [47] \"2021-12-10 12:30:00 CET\" \"2021-12-10 12:45:00 CET\"\n",
       " [49] \"2021-12-10 13:00:00 CET\" \"2021-12-10 13:15:00 CET\"\n",
       " [51] \"2021-12-10 13:30:00 CET\" \"2021-12-10 13:45:00 CET\"\n",
       " [53] \"2021-12-10 14:00:00 CET\" \"2021-12-10 14:15:00 CET\"\n",
       " [55] \"2021-12-10 14:30:00 CET\" \"2021-12-10 14:45:00 CET\"\n",
       " [57] \"2021-12-10 15:00:00 CET\" \"2021-12-10 15:15:00 CET\"\n",
       " [59] \"2021-12-10 15:30:00 CET\" \"2021-12-10 15:45:00 CET\"\n",
       " [61] \"2021-12-10 16:00:00 CET\" \"2021-12-10 16:15:00 CET\"\n",
       " [63] \"2021-12-10 16:30:00 CET\" \"2021-12-10 16:45:00 CET\"\n",
       " [65] \"2021-12-10 17:00:00 CET\" \"2021-12-10 17:15:00 CET\"\n",
       " [67] \"2021-12-10 17:30:00 CET\" \"2021-12-10 17:45:00 CET\"\n",
       " [69] \"2021-12-10 18:00:00 CET\" \"2021-12-10 18:15:00 CET\"\n",
       " [71] \"2021-12-10 18:30:00 CET\" \"2021-12-10 18:45:00 CET\"\n",
       " [73] \"2021-12-10 19:00:00 CET\" \"2021-12-10 19:15:00 CET\"\n",
       " [75] \"2021-12-10 19:30:00 CET\" \"2021-12-10 19:45:00 CET\"\n",
       " [77] \"2021-12-10 20:00:00 CET\" \"2021-12-10 20:15:00 CET\"\n",
       " [79] \"2021-12-10 20:30:00 CET\" \"2021-12-10 20:45:00 CET\"\n",
       " [81] \"2021-12-10 21:00:00 CET\" \"2021-12-10 21:15:00 CET\"\n",
       " [83] \"2021-12-10 21:30:00 CET\" \"2021-12-10 21:45:00 CET\"\n",
       " [85] \"2021-12-10 22:00:00 CET\" \"2021-12-10 22:15:00 CET\"\n",
       " [87] \"2021-12-10 22:30:00 CET\" \"2021-12-10 22:45:00 CET\"\n",
       " [89] \"2021-12-10 23:00:00 CET\" \"2021-12-10 23:15:00 CET\"\n",
       " [91] \"2021-12-10 23:30:00 CET\" \"2021-12-10 23:45:00 CET\"\n",
       " [93] \"2021-12-11 00:00:00 CET\" \"2021-12-11 00:15:00 CET\"\n",
       " [95] \"2021-12-11 00:30:00 CET\" \"2021-12-11 00:45:00 CET\"\n",
       " [97] \"2021-12-11 01:00:00 CET\" \"2021-12-11 01:15:00 CET\"\n",
       " [99] \"2021-12-11 01:30:00 CET\" \"2021-12-11 01:45:00 CET\"\n",
       "[101] \"2021-12-11 02:00:00 CET\" \"2021-12-11 02:15:00 CET\"\n",
       "[103] \"2021-12-11 02:30:00 CET\" \"2021-12-11 02:45:00 CET\"\n",
       "[105] \"2021-12-11 03:00:00 CET\" \"2021-12-11 03:15:00 CET\"\n",
       "[107] \"2021-12-11 03:30:00 CET\" \"2021-12-11 03:45:00 CET\"\n",
       "[109] \"2021-12-11 04:00:00 CET\" \"2021-12-11 04:15:00 CET\"\n",
       "[111] \"2021-12-11 04:30:00 CET\" \"2021-12-11 04:45:00 CET\"\n",
       "[113] \"2021-12-11 05:00:00 CET\" \"2021-12-11 05:15:00 CET\"\n",
       "[115] \"2021-12-11 05:30:00 CET\" \"2021-12-11 05:45:00 CET\"\n",
       "[117] \"2021-12-11 06:00:00 CET\" \"2021-12-11 06:15:00 CET\"\n",
       "[119] \"2021-12-11 06:30:00 CET\" \"2021-12-11 06:45:00 CET\"\n",
       "[121] \"2021-12-11 07:00:00 CET\" \"2021-12-11 07:15:00 CET\"\n",
       "[123] \"2021-12-11 07:30:00 CET\" \"2021-12-11 07:45:00 CET\"\n",
       "[125] \"2021-12-11 08:00:00 CET\" \"2021-12-11 08:15:00 CET\"\n",
       "[127] \"2021-12-11 08:30:00 CET\" \"2021-12-11 08:45:00 CET\"\n",
       "[129] \"2021-12-11 09:00:00 CET\" \"2021-12-11 09:15:00 CET\"\n",
       "[131] \"2021-12-11 09:30:00 CET\" \"2021-12-11 09:45:00 CET\"\n",
       "[133] \"2021-12-11 10:00:00 CET\" \"2021-12-11 10:15:00 CET\"\n",
       "[135] \"2021-12-11 10:30:00 CET\" \"2021-12-11 10:45:00 CET\"\n",
       "[137] \"2021-12-11 11:00:00 CET\" \"2021-12-11 11:15:00 CET\"\n",
       "[139] \"2021-12-11 11:30:00 CET\" \"2021-12-11 11:45:00 CET\"\n",
       "[141] \"2021-12-11 12:00:00 CET\" \"2021-12-11 12:15:00 CET\"\n",
       "[143] \"2021-12-11 12:30:00 CET\" \"2021-12-11 12:45:00 CET\"\n",
       "[145] \"2021-12-11 13:00:00 CET\" \"2021-12-11 13:15:00 CET\"\n",
       "[147] \"2021-12-11 13:30:00 CET\" \"2021-12-11 13:45:00 CET\"\n",
       "[149] \"2021-12-11 14:00:00 CET\" \"2021-12-11 14:15:00 CET\"\n",
       "[151] \"2021-12-11 14:30:00 CET\" \"2021-12-11 14:45:00 CET\"\n",
       "[153] \"2021-12-11 15:00:00 CET\" \"2021-12-11 15:15:00 CET\"\n",
       "[155] \"2021-12-11 15:30:00 CET\" \"2021-12-11 15:45:00 CET\"\n",
       "[157] \"2021-12-11 16:00:00 CET\" \"2021-12-11 16:15:00 CET\"\n",
       "[159] \"2021-12-11 16:30:00 CET\" \"2021-12-11 16:45:00 CET\"\n",
       "[161] \"2021-12-11 17:00:00 CET\" \"2021-12-11 17:15:00 CET\"\n",
       "[163] \"2021-12-11 17:30:00 CET\" \"2021-12-11 17:45:00 CET\"\n",
       "[165] \"2021-12-11 18:00:00 CET\" \"2021-12-11 18:15:00 CET\"\n",
       "[167] \"2021-12-11 18:30:00 CET\" \"2021-12-11 18:45:00 CET\"\n",
       "[169] \"2021-12-11 19:00:00 CET\" \"2021-12-11 19:15:00 CET\"\n",
       "[171] \"2021-12-11 19:30:00 CET\" \"2021-12-11 19:45:00 CET\"\n",
       "[173] \"2021-12-11 20:00:00 CET\" \"2021-12-11 20:15:00 CET\"\n",
       "[175] \"2021-12-11 20:30:00 CET\" \"2021-12-11 20:45:00 CET\"\n",
       "[177] \"2021-12-11 21:00:00 CET\" \"2021-12-11 21:15:00 CET\"\n",
       "[179] \"2021-12-11 21:30:00 CET\" \"2021-12-11 21:45:00 CET\"\n",
       "[181] \"2021-12-11 22:00:00 CET\" \"2021-12-11 22:15:00 CET\"\n",
       "[183] \"2021-12-11 22:30:00 CET\" \"2021-12-11 22:45:00 CET\"\n",
       "[185] \"2021-12-11 23:00:00 CET\" \"2021-12-11 23:15:00 CET\"\n",
       "[187] \"2021-12-11 23:30:00 CET\" \"2021-12-11 23:45:00 CET\"\n",
       "[189] \"2021-12-12 00:00:00 CET\" \"2021-12-12 00:15:00 CET\"\n",
       "[191] \"2021-12-12 00:30:00 CET\" \"2021-12-12 00:45:00 CET\"\n",
       "[193] \"2021-12-12 01:00:00 CET\" \"2021-12-12 01:15:00 CET\"\n",
       "[195] \"2021-12-12 01:30:00 CET\" \"2021-12-12 01:45:00 CET\"\n",
       "[197] \"2021-12-12 02:00:00 CET\" \"2021-12-12 02:15:00 CET\"\n",
       "[199] \"2021-12-12 02:30:00 CET\" \"2021-12-12 02:45:00 CET\"\n",
       "[201] \"2021-12-12 03:00:00 CET\" \"2021-12-12 03:15:00 CET\"\n",
       "[203] \"2021-12-12 03:30:00 CET\" \"2021-12-12 03:45:00 CET\"\n",
       "[205] \"2021-12-12 04:00:00 CET\" \"2021-12-12 04:15:00 CET\"\n",
       "[207] \"2021-12-12 04:30:00 CET\" \"2021-12-12 04:45:00 CET\"\n",
       "[209] \"2021-12-12 05:00:00 CET\" \"2021-12-12 05:15:00 CET\"\n",
       "[211] \"2021-12-12 05:30:00 CET\" \"2021-12-12 05:45:00 CET\"\n",
       "[213] \"2021-12-12 06:00:00 CET\" \"2021-12-12 06:15:00 CET\"\n",
       "[215] \"2021-12-12 06:30:00 CET\" \"2021-12-12 06:45:00 CET\"\n",
       "[217] \"2021-12-12 07:00:00 CET\" \"2021-12-12 07:15:00 CET\"\n",
       "[219] \"2021-12-12 07:30:00 CET\" \"2021-12-12 07:45:00 CET\"\n",
       "[221] \"2021-12-12 08:00:00 CET\" \"2021-12-12 08:15:00 CET\"\n",
       "[223] \"2021-12-12 08:30:00 CET\" \"2021-12-12 08:45:00 CET\"\n",
       "[225] \"2021-12-12 09:00:00 CET\" \"2021-12-12 09:15:00 CET\"\n",
       "[227] \"2021-12-12 09:30:00 CET\" \"2021-12-12 09:45:00 CET\"\n",
       "[229] \"2021-12-12 10:00:00 CET\" \"2021-12-12 10:15:00 CET\"\n",
       "[231] \"2021-12-12 10:30:00 CET\" \"2021-12-12 10:45:00 CET\"\n",
       "[233] \"2021-12-12 11:00:00 CET\" \"2021-12-12 11:15:00 CET\"\n",
       "[235] \"2021-12-12 11:30:00 CET\" \"2021-12-12 11:45:00 CET\"\n",
       "[237] \"2021-12-12 12:00:00 CET\" \"2021-12-12 12:15:00 CET\"\n",
       "[239] \"2021-12-12 12:30:00 CET\" \"2021-12-12 12:45:00 CET\"\n",
       "[241] \"2021-12-12 13:00:00 CET\" \"2021-12-12 13:15:00 CET\"\n",
       "[243] \"2021-12-12 13:30:00 CET\" \"2021-12-12 13:45:00 CET\"\n",
       "[245] \"2021-12-12 14:00:00 CET\" \"2021-12-12 14:15:00 CET\"\n",
       "[247] \"2021-12-12 14:30:00 CET\" \"2021-12-12 14:45:00 CET\"\n",
       "[249] \"2021-12-12 15:00:00 CET\" \"2021-12-12 15:15:00 CET\"\n",
       "[251] \"2021-12-12 15:30:00 CET\" \"2021-12-12 15:45:00 CET\"\n",
       "[253] \"2021-12-12 16:00:00 CET\" \"2021-12-12 16:15:00 CET\"\n",
       "[255] \"2021-12-12 16:30:00 CET\" \"2021-12-12 16:45:00 CET\"\n",
       "[257] \"2021-12-12 17:00:00 CET\" \"2021-12-12 17:15:00 CET\"\n",
       "[259] \"2021-12-12 17:30:00 CET\" \"2021-12-12 17:45:00 CET\"\n",
       "[261] \"2021-12-12 18:00:00 CET\" \"2021-12-12 18:15:00 CET\"\n",
       "[263] \"2021-12-12 18:30:00 CET\" \"2021-12-12 18:45:00 CET\"\n",
       "[265] \"2021-12-12 19:00:00 CET\" \"2021-12-12 19:15:00 CET\"\n",
       "[267] \"2021-12-12 19:30:00 CET\" \"2021-12-12 19:45:00 CET\"\n",
       "[269] \"2021-12-12 20:00:00 CET\" \"2021-12-12 20:15:00 CET\"\n",
       "[271] \"2021-12-12 20:30:00 CET\" \"2021-12-12 20:45:00 CET\"\n",
       "[273] \"2021-12-12 21:00:00 CET\" \"2021-12-12 21:15:00 CET\"\n",
       "[275] \"2021-12-12 21:30:00 CET\" \"2021-12-12 21:45:00 CET\"\n",
       "[277] \"2021-12-12 22:00:00 CET\" \"2021-12-12 22:15:00 CET\"\n",
       "[279] \"2021-12-12 22:30:00 CET\" \"2021-12-12 22:45:00 CET\"\n",
       "[281] \"2021-12-12 23:00:00 CET\" \"2021-12-12 23:15:00 CET\"\n",
       "[283] \"2021-12-12 23:30:00 CET\" \"2021-12-12 23:45:00 CET\"\n",
       "[285] \"2021-12-13 00:00:00 CET\" \"2021-12-13 00:15:00 CET\"\n",
       "[287] \"2021-12-13 00:30:00 CET\" \"2021-12-13 00:45:00 CET\"\n",
       "[289] \"2021-12-13 01:00:00 CET\" \"2021-12-13 01:15:00 CET\"\n",
       "[291] \"2021-12-13 01:30:00 CET\" \"2021-12-13 01:45:00 CET\"\n",
       "[293] \"2021-12-13 02:00:00 CET\" \"2021-12-13 02:15:00 CET\"\n",
       "[295] \"2021-12-13 02:30:00 CET\" \"2021-12-13 02:45:00 CET\"\n",
       "[297] \"2021-12-13 03:00:00 CET\" \"2021-12-13 03:15:00 CET\"\n",
       "[299] \"2021-12-13 03:30:00 CET\" \"2021-12-13 03:45:00 CET\"\n",
       "[301] \"2021-12-13 04:00:00 CET\" \"2021-12-13 04:15:00 CET\"\n",
       "[303] \"2021-12-13 04:30:00 CET\" \"2021-12-13 04:45:00 CET\"\n",
       "[305] \"2021-12-13 05:00:00 CET\" \"2021-12-13 05:15:00 CET\"\n",
       "[307] \"2021-12-13 05:30:00 CET\" \"2021-12-13 05:45:00 CET\"\n",
       "[309] \"2021-12-13 06:00:00 CET\" \"2021-12-13 06:15:00 CET\"\n",
       "[311] \"2021-12-13 06:30:00 CET\" \"2021-12-13 06:45:00 CET\"\n",
       "[313] \"2021-12-13 07:00:00 CET\" \"2021-12-13 07:15:00 CET\"\n",
       "[315] \"2021-12-13 07:30:00 CET\" \"2021-12-13 07:45:00 CET\"\n",
       "[317] \"2021-12-13 08:00:00 CET\" \"2021-12-13 08:15:00 CET\"\n",
       "[319] \"2021-12-13 08:30:00 CET\" \"2021-12-13 08:45:00 CET\"\n",
       "[321] \"2021-12-13 09:00:00 CET\" \"2021-12-13 09:15:00 CET\"\n",
       "[323] \"2021-12-13 09:30:00 CET\" \"2021-12-13 09:45:00 CET\"\n",
       "[325] \"2021-12-13 10:00:00 CET\" \"2021-12-13 10:15:00 CET\"\n",
       "[327] \"2021-12-13 10:30:00 CET\" \"2021-12-13 10:45:00 CET\"\n",
       "[329] \"2021-12-13 11:00:00 CET\" \"2021-12-13 11:15:00 CET\"\n",
       "[331] \"2021-12-13 11:30:00 CET\" \"2021-12-13 11:45:00 CET\"\n",
       "[333] \"2021-12-13 12:00:00 CET\" \"2021-12-13 12:15:00 CET\"\n",
       "[335] \"2021-12-13 12:30:00 CET\" \"2021-12-13 12:45:00 CET\"\n",
       "[337] \"2021-12-13 13:00:00 CET\" \"2021-12-13 13:15:00 CET\"\n",
       "[339] \"2021-12-13 13:30:00 CET\" \"2021-12-13 13:45:00 CET\"\n",
       "[341] \"2021-12-13 14:00:00 CET\" \"2021-12-13 14:15:00 CET\"\n",
       "[343] \"2021-12-13 14:30:00 CET\" \"2021-12-13 14:45:00 CET\"\n",
       "[345] \"2021-12-13 15:00:00 CET\" \"2021-12-13 15:15:00 CET\"\n",
       "[347] \"2021-12-13 15:30:00 CET\" \"2021-12-13 15:45:00 CET\"\n",
       "[349] \"2021-12-13 16:00:00 CET\" \"2021-12-13 16:15:00 CET\"\n",
       "[351] \"2021-12-13 16:30:00 CET\" \"2021-12-13 16:45:00 CET\"\n",
       "[353] \"2021-12-13 17:00:00 CET\" \"2021-12-13 17:15:00 CET\"\n",
       "[355] \"2021-12-13 17:30:00 CET\" \"2021-12-13 17:45:00 CET\"\n",
       "[357] \"2021-12-13 18:00:00 CET\" \"2021-12-13 18:15:00 CET\"\n",
       "[359] \"2021-12-13 18:30:00 CET\" \"2021-12-13 18:45:00 CET\"\n",
       "[361] \"2021-12-13 19:00:00 CET\" \"2021-12-13 19:15:00 CET\"\n",
       "[363] \"2021-12-13 19:30:00 CET\" \"2021-12-13 19:45:00 CET\"\n",
       "[365] \"2021-12-13 20:00:00 CET\" \"2021-12-13 20:15:00 CET\"\n",
       "[367] \"2021-12-13 20:30:00 CET\" \"2021-12-13 20:45:00 CET\"\n",
       "[369] \"2021-12-13 21:00:00 CET\" \"2021-12-13 21:15:00 CET\"\n",
       "[371] \"2021-12-13 21:30:00 CET\" \"2021-12-13 21:45:00 CET\"\n",
       "[373] \"2021-12-13 22:00:00 CET\" \"2021-12-13 22:15:00 CET\"\n",
       "[375] \"2021-12-13 22:30:00 CET\" \"2021-12-13 22:45:00 CET\"\n",
       "[377] \"2021-12-13 23:00:00 CET\" \"2021-12-13 23:15:00 CET\"\n",
       "[379] \"2021-12-13 23:30:00 CET\" \"2021-12-13 23:45:00 CET\"\n",
       "[381] \"2021-12-14 00:00:00 CET\" \"2021-12-14 00:15:00 CET\"\n",
       "[383] \"2021-12-14 00:30:00 CET\" \"2021-12-14 00:45:00 CET\"\n",
       "[385] \"2021-12-14 01:00:00 CET\" \"2021-12-14 01:15:00 CET\"\n",
       "[387] \"2021-12-14 01:30:00 CET\" \"2021-12-14 01:45:00 CET\"\n",
       "[389] \"2021-12-14 02:00:00 CET\" \"2021-12-14 02:15:00 CET\"\n",
       "[391] \"2021-12-14 02:30:00 CET\" \"2021-12-14 02:45:00 CET\"\n",
       "[393] \"2021-12-14 03:00:00 CET\" \"2021-12-14 03:15:00 CET\"\n",
       "[395] \"2021-12-14 03:30:00 CET\" \"2021-12-14 03:45:00 CET\"\n",
       "[397] \"2021-12-14 04:00:00 CET\" \"2021-12-14 04:15:00 CET\"\n",
       "[399] \"2021-12-14 04:30:00 CET\" \"2021-12-14 04:45:00 CET\"\n",
       "[401] \"2021-12-14 05:00:00 CET\" \"2021-12-14 05:15:00 CET\"\n",
       "[403] \"2021-12-14 05:30:00 CET\" \"2021-12-14 05:45:00 CET\"\n",
       "[405] \"2021-12-14 06:00:00 CET\" \"2021-12-14 06:15:00 CET\"\n",
       "[407] \"2021-12-14 06:30:00 CET\" \"2021-12-14 06:45:00 CET\"\n",
       "[409] \"2021-12-14 07:00:00 CET\" \"2021-12-14 07:15:00 CET\"\n",
       "[411] \"2021-12-14 07:30:00 CET\" \"2021-12-14 07:45:00 CET\"\n",
       "[413] \"2021-12-14 08:00:00 CET\" \"2021-12-14 08:15:00 CET\"\n",
       "[415] \"2021-12-14 08:30:00 CET\" \"2021-12-14 08:45:00 CET\"\n",
       "[417] \"2021-12-14 09:00:00 CET\" \"2021-12-14 09:15:00 CET\"\n",
       "[419] \"2021-12-14 09:30:00 CET\" \"2021-12-14 09:45:00 CET\"\n",
       "[421] \"2021-12-14 10:00:00 CET\" \"2021-12-14 10:15:00 CET\"\n",
       "[423] \"2021-12-14 10:30:00 CET\" \"2021-12-14 10:45:00 CET\"\n",
       "[425] \"2021-12-14 11:00:00 CET\" \"2021-12-14 11:15:00 CET\"\n",
       "[427] \"2021-12-14 11:30:00 CET\" \"2021-12-14 11:45:00 CET\"\n",
       "[429] \"2021-12-14 12:00:00 CET\" \"2021-12-14 12:15:00 CET\"\n",
       "[431] \"2021-12-14 12:30:00 CET\" \"2021-12-14 12:45:00 CET\"\n",
       "[433] \"2021-12-14 13:00:00 CET\" \"2021-12-14 13:15:00 CET\"\n",
       "[435] \"2021-12-14 13:30:00 CET\" \"2021-12-14 13:45:00 CET\"\n",
       "[437] \"2021-12-14 14:00:00 CET\" \"2021-12-14 14:15:00 CET\"\n",
       "[439] \"2021-12-14 14:30:00 CET\" \"2021-12-14 14:45:00 CET\"\n",
       "[441] \"2021-12-14 15:00:00 CET\" \"2021-12-14 15:15:00 CET\"\n",
       "[443] \"2021-12-14 15:30:00 CET\" \"2021-12-14 15:45:00 CET\"\n",
       "[445] \"2021-12-14 16:00:00 CET\" \"2021-12-14 16:15:00 CET\"\n",
       "[447] \"2021-12-14 16:30:00 CET\" \"2021-12-14 16:45:00 CET\"\n",
       "[449] \"2021-12-14 17:00:00 CET\" \"2021-12-14 17:15:00 CET\"\n",
       "[451] \"2021-12-14 17:30:00 CET\" \"2021-12-14 17:45:00 CET\"\n",
       "[453] \"2021-12-14 18:00:00 CET\" \"2021-12-14 18:15:00 CET\"\n",
       "[455] \"2021-12-14 18:30:00 CET\" \"2021-12-14 18:45:00 CET\"\n",
       "[457] \"2021-12-14 19:00:00 CET\" \"2021-12-14 19:15:00 CET\"\n",
       "[459] \"2021-12-14 19:30:00 CET\" \"2021-12-14 19:45:00 CET\"\n",
       "[461] \"2021-12-14 20:00:00 CET\" \"2021-12-14 20:15:00 CET\"\n",
       "[463] \"2021-12-14 20:30:00 CET\" \"2021-12-14 20:45:00 CET\"\n",
       "[465] \"2021-12-14 21:00:00 CET\" \"2021-12-14 21:15:00 CET\"\n",
       "[467] \"2021-12-14 21:30:00 CET\" \"2021-12-14 21:45:00 CET\"\n",
       "[469] \"2021-12-14 22:00:00 CET\" \"2021-12-14 22:15:00 CET\"\n",
       "[471] \"2021-12-14 22:30:00 CET\" \"2021-12-14 22:45:00 CET\"\n",
       "[473] \"2021-12-14 23:00:00 CET\" \"2021-12-14 23:15:00 CET\"\n",
       "[475] \"2021-12-14 23:30:00 CET\" \"2021-12-14 23:45:00 CET\"\n",
       "[477] \"2021-12-15 00:00:00 CET\" \"2021-12-15 00:15:00 CET\"\n",
       "[479] \"2021-12-15 00:30:00 CET\" \"2021-12-15 00:45:00 CET\"\n",
       "[481] \"2021-12-15 01:00:00 CET\" \"2021-12-15 01:15:00 CET\"\n",
       "[483] \"2021-12-15 01:30:00 CET\" \"2021-12-15 01:45:00 CET\"\n",
       "[485] \"2021-12-15 02:00:00 CET\" \"2021-12-15 02:15:00 CET\"\n",
       "[487] \"2021-12-15 02:30:00 CET\" \"2021-12-15 02:45:00 CET\"\n",
       "[489] \"2021-12-15 03:00:00 CET\" \"2021-12-15 03:15:00 CET\"\n",
       "[491] \"2021-12-15 03:30:00 CET\" \"2021-12-15 03:45:00 CET\"\n",
       "[493] \"2021-12-15 04:00:00 CET\" \"2021-12-15 04:15:00 CET\"\n",
       "[495] \"2021-12-15 04:30:00 CET\" \"2021-12-15 04:45:00 CET\"\n",
       "[497] \"2021-12-15 05:00:00 CET\" \"2021-12-15 05:15:00 CET\"\n",
       "[499] \"2021-12-15 05:30:00 CET\" \"2021-12-15 05:45:00 CET\"\n",
       "[501] \"2021-12-15 06:00:00 CET\" \"2021-12-15 06:15:00 CET\"\n",
       "[503] \"2021-12-15 06:30:00 CET\" \"2021-12-15 06:45:00 CET\"\n",
       "[505] \"2021-12-15 07:00:00 CET\" \"2021-12-15 07:15:00 CET\"\n",
       "[507] \"2021-12-15 07:30:00 CET\" \"2021-12-15 07:45:00 CET\"\n",
       "[509] \"2021-12-15 08:00:00 CET\" \"2021-12-15 08:15:00 CET\"\n",
       "[511] \"2021-12-15 08:30:00 CET\" \"2021-12-15 08:45:00 CET\"\n",
       "[513] \"2021-12-15 09:00:00 CET\" \"2021-12-15 09:15:00 CET\"\n",
       "[515] \"2021-12-15 09:30:00 CET\" \"2021-12-15 09:45:00 CET\"\n",
       "[517] \"2021-12-15 10:00:00 CET\" \"2021-12-15 10:15:00 CET\"\n",
       "[519] \"2021-12-15 10:30:00 CET\" \"2021-12-15 10:45:00 CET\"\n",
       "[521] \"2021-12-15 11:00:00 CET\" \"2021-12-15 11:15:00 CET\"\n",
       "[523] \"2021-12-15 11:30:00 CET\" \"2021-12-15 11:45:00 CET\"\n",
       "[525] \"2021-12-15 12:00:00 CET\" \"2021-12-15 12:15:00 CET\"\n",
       "[527] \"2021-12-15 12:30:00 CET\" \"2021-12-15 12:45:00 CET\"\n",
       "[529] \"2021-12-15 13:00:00 CET\" \"2021-12-15 13:15:00 CET\"\n",
       "[531] \"2021-12-15 13:30:00 CET\" \"2021-12-15 13:45:00 CET\"\n",
       "[533] \"2021-12-15 14:00:00 CET\" \"2021-12-15 14:15:00 CET\"\n",
       "[535] \"2021-12-15 14:30:00 CET\" \"2021-12-15 14:45:00 CET\"\n",
       "[537] \"2021-12-15 15:00:00 CET\" \"2021-12-15 15:15:00 CET\"\n",
       "[539] \"2021-12-15 15:30:00 CET\" \"2021-12-15 15:45:00 CET\"\n",
       "[541] \"2021-12-15 16:00:00 CET\" \"2021-12-15 16:15:00 CET\"\n",
       "[543] \"2021-12-15 16:30:00 CET\" \"2021-12-15 16:45:00 CET\"\n",
       "[545] \"2021-12-15 17:00:00 CET\" \"2021-12-15 17:15:00 CET\"\n",
       "[547] \"2021-12-15 17:30:00 CET\" \"2021-12-15 17:45:00 CET\"\n",
       "[549] \"2021-12-15 18:00:00 CET\" \"2021-12-15 18:15:00 CET\"\n",
       "[551] \"2021-12-15 18:30:00 CET\" \"2021-12-15 18:45:00 CET\"\n",
       "[553] \"2021-12-15 19:00:00 CET\" \"2021-12-15 19:15:00 CET\"\n",
       "[555] \"2021-12-15 19:30:00 CET\" \"2021-12-15 19:45:00 CET\"\n",
       "[557] \"2021-12-15 20:00:00 CET\" \"2021-12-15 20:15:00 CET\"\n",
       "[559] \"2021-12-15 20:30:00 CET\" \"2021-12-15 20:45:00 CET\"\n",
       "[561] \"2021-12-15 21:00:00 CET\" \"2021-12-15 21:15:00 CET\"\n",
       "[563] \"2021-12-15 21:30:00 CET\" \"2021-12-15 21:45:00 CET\"\n",
       "[565] \"2021-12-15 22:00:00 CET\" \"2021-12-15 22:15:00 CET\"\n",
       "[567] \"2021-12-15 22:30:00 CET\" \"2021-12-15 22:45:00 CET\"\n",
       "[569] \"2021-12-15 23:00:00 CET\" \"2021-12-15 23:15:00 CET\"\n",
       "[571] \"2021-12-15 23:30:00 CET\" \"2021-12-15 23:45:00 CET\"\n",
       "[573] \"2021-12-16 00:00:00 CET\" \"2021-12-16 00:15:00 CET\"\n",
       "[575] \"2021-12-16 00:30:00 CET\" \"2021-12-16 00:45:00 CET\"\n",
       "[577] \"2021-12-16 01:00:00 CET\" \"2021-12-16 01:15:00 CET\"\n",
       "[579] \"2021-12-16 01:30:00 CET\" \"2021-12-16 01:45:00 CET\"\n",
       "[581] \"2021-12-16 02:00:00 CET\" \"2021-12-16 02:15:00 CET\"\n",
       "[583] \"2021-12-16 02:30:00 CET\" \"2021-12-16 02:45:00 CET\"\n",
       "[585] \"2021-12-16 03:00:00 CET\" \"2021-12-16 03:15:00 CET\"\n",
       "[587] \"2021-12-16 03:30:00 CET\" \"2021-12-16 03:45:00 CET\"\n",
       "[589] \"2021-12-16 04:00:00 CET\" \"2021-12-16 04:15:00 CET\"\n",
       "[591] \"2021-12-16 04:30:00 CET\" \"2021-12-16 04:45:00 CET\"\n",
       "[593] \"2021-12-16 05:00:00 CET\" \"2021-12-16 05:15:00 CET\"\n",
       "[595] \"2021-12-16 05:30:00 CET\" \"2021-12-16 05:45:00 CET\"\n",
       "[597] \"2021-12-16 06:00:00 CET\" \"2021-12-16 06:15:00 CET\"\n",
       "[599] \"2021-12-16 06:30:00 CET\" \"2021-12-16 06:45:00 CET\"\n",
       "[601] \"2021-12-16 07:00:00 CET\" \"2021-12-16 07:15:00 CET\"\n",
       "[603] \"2021-12-16 07:30:00 CET\" \"2021-12-16 07:45:00 CET\"\n",
       "[605] \"2021-12-16 08:00:00 CET\" \"2021-12-16 08:15:00 CET\"\n",
       "[607] \"2021-12-16 08:30:00 CET\" \"2021-12-16 08:45:00 CET\"\n",
       "[609] \"2021-12-16 09:00:00 CET\" \"2021-12-16 09:15:00 CET\"\n",
       "[611] \"2021-12-16 09:30:00 CET\" \"2021-12-16 09:45:00 CET\"\n",
       "[613] \"2021-12-16 10:00:00 CET\" \"2021-12-16 10:15:00 CET\"\n",
       "[615] \"2021-12-16 10:30:00 CET\" \"2021-12-16 10:45:00 CET\"\n",
       "[617] \"2021-12-16 11:00:00 CET\" \"2021-12-16 11:15:00 CET\"\n",
       "[619] \"2021-12-16 11:30:00 CET\" \"2021-12-16 11:45:00 CET\"\n",
       "[621] \"2021-12-16 12:00:00 CET\" \"2021-12-16 12:15:00 CET\"\n",
       "[623] \"2021-12-16 12:30:00 CET\" \"2021-12-16 12:45:00 CET\"\n",
       "[625] \"2021-12-16 13:00:00 CET\" \"2021-12-16 13:15:00 CET\"\n",
       "[627] \"2021-12-16 13:30:00 CET\" \"2021-12-16 13:45:00 CET\"\n",
       "[629] \"2021-12-16 14:00:00 CET\" \"2021-12-16 14:15:00 CET\"\n",
       "[631] \"2021-12-16 14:30:00 CET\" \"2021-12-16 14:45:00 CET\"\n",
       "[633] \"2021-12-16 15:00:00 CET\" \"2021-12-16 15:15:00 CET\"\n",
       "[635] \"2021-12-16 15:30:00 CET\" \"2021-12-16 15:45:00 CET\"\n",
       "[637] \"2021-12-16 16:00:00 CET\" \"2021-12-16 16:15:00 CET\"\n",
       "[639] \"2021-12-16 16:30:00 CET\" \"2021-12-16 16:45:00 CET\"\n",
       "[641] \"2021-12-16 17:00:00 CET\" \"2021-12-16 17:15:00 CET\"\n",
       "[643] \"2021-12-16 17:30:00 CET\" \"2021-12-16 17:45:00 CET\"\n",
       "[645] \"2021-12-16 18:00:00 CET\" \"2021-12-16 18:15:00 CET\"\n",
       "[647] \"2021-12-16 18:30:00 CET\" \"2021-12-16 18:45:00 CET\"\n",
       "[649] \"2021-12-16 19:00:00 CET\" \"2021-12-16 19:15:00 CET\"\n",
       "[651] \"2021-12-16 19:30:00 CET\" \"2021-12-16 19:45:00 CET\"\n",
       "[653] \"2021-12-16 20:00:00 CET\" \"2021-12-16 20:15:00 CET\"\n",
       "[655] \"2021-12-16 20:30:00 CET\" \"2021-12-16 20:45:00 CET\"\n",
       "[657] \"2021-12-16 21:00:00 CET\" \"2021-12-16 21:15:00 CET\"\n",
       "[659] \"2021-12-16 21:30:00 CET\" \"2021-12-16 21:45:00 CET\"\n",
       "[661] \"2021-12-16 22:00:00 CET\" \"2021-12-16 22:15:00 CET\"\n",
       "[663] \"2021-12-16 22:30:00 CET\" \"2021-12-16 22:45:00 CET\"\n",
       "[665] \"2021-12-16 23:00:00 CET\" \"2021-12-16 23:15:00 CET\"\n",
       "[667] \"2021-12-16 23:30:00 CET\" \"2021-12-16 23:45:00 CET\"\n",
       "[669] \"2021-12-17 00:00:00 CET\" \"2021-12-17 00:15:00 CET\"\n",
       "[671] \"2021-12-17 00:30:00 CET\" \"2021-12-17 00:45:00 CET\"\n",
       "[673] \"2021-12-17 01:00:00 CET\""
      ]
     },
     "metadata": {},
     "output_type": "display_data"
    }
   ],
   "source": [
    "start <- as.POSIXct(Sys.Date() - 7)\n",
    "end <- as.POSIXct(Sys.Date())\n",
    "time_steps_15min <- seq(start, end, 60 * 15)\n",
    "time_steps_15min"
   ]
  },
  {
   "cell_type": "code",
   "execution_count": 145,
   "metadata": {},
   "outputs": [],
   "source": [
    "which_step_15min <- findInterval(as.POSIXct(raw_data[, 1], tz = \"UTC\"), time_steps_15min)"
   ]
  },
  {
   "cell_type": "code",
   "execution_count": 146,
   "metadata": {},
   "outputs": [
    {
     "data": {
      "text/html": [
       "<table>\n",
       "<thead><tr><th scope=col>Group.1</th><th scope=col>x</th></tr></thead>\n",
       "<tbody>\n",
       "\t<tr><td>2021-12-10 01:00:00</td><td>5.900000           </td></tr>\n",
       "\t<tr><td>2021-12-10 01:15:00</td><td>5.920000           </td></tr>\n",
       "\t<tr><td>2021-12-10 01:30:00</td><td>5.943820           </td></tr>\n",
       "\t<tr><td>2021-12-10 01:45:00</td><td>5.918889           </td></tr>\n",
       "\t<tr><td>2021-12-10 02:00:00</td><td>5.900000           </td></tr>\n",
       "\t<tr><td>2021-12-10 02:15:00</td><td>5.765556           </td></tr>\n",
       "</tbody>\n",
       "</table>\n"
      ],
      "text/latex": [
       "\\begin{tabular}{r|ll}\n",
       " Group.1 & x\\\\\n",
       "\\hline\n",
       "\t 2021-12-10 01:00:00 & 5.900000           \\\\\n",
       "\t 2021-12-10 01:15:00 & 5.920000           \\\\\n",
       "\t 2021-12-10 01:30:00 & 5.943820           \\\\\n",
       "\t 2021-12-10 01:45:00 & 5.918889           \\\\\n",
       "\t 2021-12-10 02:00:00 & 5.900000           \\\\\n",
       "\t 2021-12-10 02:15:00 & 5.765556           \\\\\n",
       "\\end{tabular}\n"
      ],
      "text/markdown": [
       "\n",
       "| Group.1 | x |\n",
       "|---|---|\n",
       "| 2021-12-10 01:00:00 | 5.900000            |\n",
       "| 2021-12-10 01:15:00 | 5.920000            |\n",
       "| 2021-12-10 01:30:00 | 5.943820            |\n",
       "| 2021-12-10 01:45:00 | 5.918889            |\n",
       "| 2021-12-10 02:00:00 | 5.900000            |\n",
       "| 2021-12-10 02:15:00 | 5.765556            |\n",
       "\n"
      ],
      "text/plain": [
       "  Group.1             x       \n",
       "1 2021-12-10 01:00:00 5.900000\n",
       "2 2021-12-10 01:15:00 5.920000\n",
       "3 2021-12-10 01:30:00 5.943820\n",
       "4 2021-12-10 01:45:00 5.918889\n",
       "5 2021-12-10 02:00:00 5.900000\n",
       "6 2021-12-10 02:15:00 5.765556"
      ]
     },
     "metadata": {},
     "output_type": "display_data"
    }
   ],
   "source": [
    "airtemp_15min <- aggregate(raw_data[, 2],\n",
    "                           list(time_steps_15min[which_step_15min]),\n",
    "                           mean, na.rm = T)\n",
    "head(airtemp_15min)"
   ]
  },
  {
   "cell_type": "code",
   "execution_count": 147,
   "metadata": {},
   "outputs": [
    {
     "data": {
      "text/html": [
       "<table>\n",
       "<thead><tr><th scope=col>Group.1</th><th scope=col>x</th></tr></thead>\n",
       "<tbody>\n",
       "\t<tr><td>2021-12-10 01:00:00</td><td>5.920613           </td></tr>\n",
       "\t<tr><td>2021-12-10 02:00:00</td><td>5.581742           </td></tr>\n",
       "\t<tr><td>2021-12-10 03:00:00</td><td>4.711978           </td></tr>\n",
       "\t<tr><td>2021-12-10 04:00:00</td><td>4.006685           </td></tr>\n",
       "\t<tr><td>2021-12-10 05:00:00</td><td>3.396657           </td></tr>\n",
       "\t<tr><td>2021-12-10 06:00:00</td><td>2.983133           </td></tr>\n",
       "</tbody>\n",
       "</table>\n"
      ],
      "text/latex": [
       "\\begin{tabular}{r|ll}\n",
       " Group.1 & x\\\\\n",
       "\\hline\n",
       "\t 2021-12-10 01:00:00 & 5.920613           \\\\\n",
       "\t 2021-12-10 02:00:00 & 5.581742           \\\\\n",
       "\t 2021-12-10 03:00:00 & 4.711978           \\\\\n",
       "\t 2021-12-10 04:00:00 & 4.006685           \\\\\n",
       "\t 2021-12-10 05:00:00 & 3.396657           \\\\\n",
       "\t 2021-12-10 06:00:00 & 2.983133           \\\\\n",
       "\\end{tabular}\n"
      ],
      "text/markdown": [
       "\n",
       "| Group.1 | x |\n",
       "|---|---|\n",
       "| 2021-12-10 01:00:00 | 5.920613            |\n",
       "| 2021-12-10 02:00:00 | 5.581742            |\n",
       "| 2021-12-10 03:00:00 | 4.711978            |\n",
       "| 2021-12-10 04:00:00 | 4.006685            |\n",
       "| 2021-12-10 05:00:00 | 3.396657            |\n",
       "| 2021-12-10 06:00:00 | 2.983133            |\n",
       "\n"
      ],
      "text/plain": [
       "  Group.1             x       \n",
       "1 2021-12-10 01:00:00 5.920613\n",
       "2 2021-12-10 02:00:00 5.581742\n",
       "3 2021-12-10 03:00:00 4.711978\n",
       "4 2021-12-10 04:00:00 4.006685\n",
       "5 2021-12-10 05:00:00 3.396657\n",
       "6 2021-12-10 06:00:00 2.983133"
      ]
     },
     "metadata": {},
     "output_type": "display_data"
    }
   ],
   "source": [
    "time_steps_1h <- seq(start, end, 60 * 60)\n",
    "which_step_1h <- findInterval(as.POSIXct(raw_data[, 1], tz = \"UTC\"), time_steps_1h)\n",
    "airtemp_1h <- aggregate(raw_data[, 2],\n",
    "                        list(time_steps_1h[which_step_1h]),\n",
    "                        mean, na.rm = T)\n",
    "head(airtemp_1h)"
   ]
  },
  {
   "cell_type": "code",
   "execution_count": 148,
   "metadata": {},
   "outputs": [
    {
     "data": {
      "text/html": [
       "<table>\n",
       "<thead><tr><th scope=col>Group.1</th><th scope=col>x</th></tr></thead>\n",
       "<tbody>\n",
       "\t<tr><td>2021-12-10 01:00:00</td><td>4.450282           </td></tr>\n",
       "\t<tr><td>2021-12-10 07:00:00</td><td>3.408716           </td></tr>\n",
       "\t<tr><td>2021-12-10 13:00:00</td><td>5.793362           </td></tr>\n",
       "\t<tr><td>2021-12-11 01:00:00</td><td>3.393994           </td></tr>\n",
       "\t<tr><td>2021-12-11 07:00:00</td><td>4.551306           </td></tr>\n",
       "\t<tr><td>2021-12-11 13:00:00</td><td>6.288677           </td></tr>\n",
       "</tbody>\n",
       "</table>\n"
      ],
      "text/latex": [
       "\\begin{tabular}{r|ll}\n",
       " Group.1 & x\\\\\n",
       "\\hline\n",
       "\t 2021-12-10 01:00:00 & 4.450282           \\\\\n",
       "\t 2021-12-10 07:00:00 & 3.408716           \\\\\n",
       "\t 2021-12-10 13:00:00 & 5.793362           \\\\\n",
       "\t 2021-12-11 01:00:00 & 3.393994           \\\\\n",
       "\t 2021-12-11 07:00:00 & 4.551306           \\\\\n",
       "\t 2021-12-11 13:00:00 & 6.288677           \\\\\n",
       "\\end{tabular}\n"
      ],
      "text/markdown": [
       "\n",
       "| Group.1 | x |\n",
       "|---|---|\n",
       "| 2021-12-10 01:00:00 | 4.450282            |\n",
       "| 2021-12-10 07:00:00 | 3.408716            |\n",
       "| 2021-12-10 13:00:00 | 5.793362            |\n",
       "| 2021-12-11 01:00:00 | 3.393994            |\n",
       "| 2021-12-11 07:00:00 | 4.551306            |\n",
       "| 2021-12-11 13:00:00 | 6.288677            |\n",
       "\n"
      ],
      "text/plain": [
       "  Group.1             x       \n",
       "1 2021-12-10 01:00:00 4.450282\n",
       "2 2021-12-10 07:00:00 3.408716\n",
       "3 2021-12-10 13:00:00 5.793362\n",
       "4 2021-12-11 01:00:00 3.393994\n",
       "5 2021-12-11 07:00:00 4.551306\n",
       "6 2021-12-11 13:00:00 6.288677"
      ]
     },
     "metadata": {},
     "output_type": "display_data"
    }
   ],
   "source": [
    "time_steps_6h <- seq(start, end, 60 * 60 * 6)\n",
    "which_step_6h <- findInterval(as.POSIXct(raw_data[, 1], tz = \"UTC\"), time_steps_6h)\n",
    "airtemp_6h <- aggregate(raw_data[, 2],\n",
    "                        list(time_steps_6h[which_step_6h]),#\n",
    "                        mean, na.rm = T)\n",
    "head(airtemp_6h)"
   ]
  },
  {
   "cell_type": "code",
   "execution_count": 149,
   "metadata": {},
   "outputs": [
    {
     "data": {
      "text/html": [
       "<table>\n",
       "<thead><tr><th scope=col>Group.1</th><th scope=col>x</th></tr></thead>\n",
       "<tbody>\n",
       "\t<tr><td>2021-12-10 01:00:00</td><td> 4.185726          </td></tr>\n",
       "\t<tr><td>2021-12-11 01:00:00</td><td> 5.955944          </td></tr>\n",
       "\t<tr><td>2021-12-12 01:00:00</td><td>10.011591          </td></tr>\n",
       "\t<tr><td>2021-12-13 01:00:00</td><td> 8.071844          </td></tr>\n",
       "\t<tr><td>2021-12-14 01:00:00</td><td> 7.487305          </td></tr>\n",
       "\t<tr><td>2021-12-15 01:00:00</td><td>10.159539          </td></tr>\n",
       "\t<tr><td>2021-12-16 01:00:00</td><td> 8.400082          </td></tr>\n",
       "\t<tr><td>2021-12-17 01:00:00</td><td> 4.300000          </td></tr>\n",
       "</tbody>\n",
       "</table>\n"
      ],
      "text/latex": [
       "\\begin{tabular}{r|ll}\n",
       " Group.1 & x\\\\\n",
       "\\hline\n",
       "\t 2021-12-10 01:00:00 &  4.185726          \\\\\n",
       "\t 2021-12-11 01:00:00 &  5.955944          \\\\\n",
       "\t 2021-12-12 01:00:00 & 10.011591          \\\\\n",
       "\t 2021-12-13 01:00:00 &  8.071844          \\\\\n",
       "\t 2021-12-14 01:00:00 &  7.487305          \\\\\n",
       "\t 2021-12-15 01:00:00 & 10.159539          \\\\\n",
       "\t 2021-12-16 01:00:00 &  8.400082          \\\\\n",
       "\t 2021-12-17 01:00:00 &  4.300000          \\\\\n",
       "\\end{tabular}\n"
      ],
      "text/markdown": [
       "\n",
       "| Group.1 | x |\n",
       "|---|---|\n",
       "| 2021-12-10 01:00:00 |  4.185726           |\n",
       "| 2021-12-11 01:00:00 |  5.955944           |\n",
       "| 2021-12-12 01:00:00 | 10.011591           |\n",
       "| 2021-12-13 01:00:00 |  8.071844           |\n",
       "| 2021-12-14 01:00:00 |  7.487305           |\n",
       "| 2021-12-15 01:00:00 | 10.159539           |\n",
       "| 2021-12-16 01:00:00 |  8.400082           |\n",
       "| 2021-12-17 01:00:00 |  4.300000           |\n",
       "\n"
      ],
      "text/plain": [
       "  Group.1             x        \n",
       "1 2021-12-10 01:00:00  4.185726\n",
       "2 2021-12-11 01:00:00  5.955944\n",
       "3 2021-12-12 01:00:00 10.011591\n",
       "4 2021-12-13 01:00:00  8.071844\n",
       "5 2021-12-14 01:00:00  7.487305\n",
       "6 2021-12-15 01:00:00 10.159539\n",
       "7 2021-12-16 01:00:00  8.400082\n",
       "8 2021-12-17 01:00:00  4.300000"
      ]
     },
     "metadata": {},
     "output_type": "display_data"
    }
   ],
   "source": [
    "time_steps_24h <- seq(start, end, 60 * 60 * 24)\n",
    "which_step_24h <- findInterval(as.POSIXct(raw_data[, 1], tz = \"UTC\"), time_steps_24h)\n",
    "airtemp_24h <- aggregate(raw_data[, 2],\n",
    "                         list(time_steps_24h[which_step_24h]),\n",
    "                         mean, na.rm = T)\n",
    "airtemp_24h"
   ]
  },
  {
   "cell_type": "markdown",
   "metadata": {},
   "source": [
    "Now we can write a function \"n.hourly.average\", which calculates any temporal average we want."
   ]
  },
  {
   "cell_type": "code",
   "execution_count": 150,
   "metadata": {},
   "outputs": [],
   "source": [
    "n.hourly.average <- function(data, n) {\n",
    "    time_steps <- seq(start, end, 60 * 60 * n)\n",
    "    which_step <- findInterval(as.POSIXct(data[, 1], tz = \"UTC\"), time_steps)\n",
    "    mean_data <- aggregate(data[, 2],\n",
    "                           list(time_steps[which_step]),\n",
    "                           mean, na.rm = T)\n",
    "    return(mean_data)\n",
    "}"
   ]
  },
  {
   "cell_type": "code",
   "execution_count": 151,
   "metadata": {},
   "outputs": [
    {
     "data": {
      "text/html": [
       "<table>\n",
       "<thead><tr><th scope=col>Group.1</th><th scope=col>x</th></tr></thead>\n",
       "<tbody>\n",
       "\t<tr><td>2021-12-10 01:00:00</td><td> 3.925485          </td></tr>\n",
       "\t<tr><td>2021-12-10 13:00:00</td><td> 5.793362          </td></tr>\n",
       "\t<tr><td>2021-12-11 01:00:00</td><td> 4.062982          </td></tr>\n",
       "\t<tr><td>2021-12-11 13:00:00</td><td> 7.585701          </td></tr>\n",
       "\t<tr><td>2021-12-12 01:00:00</td><td> 8.369923          </td></tr>\n",
       "\t<tr><td>2021-12-12 13:00:00</td><td>11.639940          </td></tr>\n",
       "\t<tr><td>2021-12-13 01:00:00</td><td> 9.023808          </td></tr>\n",
       "\t<tr><td>2021-12-13 13:00:00</td><td> 7.126068          </td></tr>\n",
       "\t<tr><td>2021-12-14 01:00:00</td><td> 5.714489          </td></tr>\n",
       "\t<tr><td>2021-12-14 13:00:00</td><td> 9.248595          </td></tr>\n",
       "\t<tr><td>2021-12-15 01:00:00</td><td> 9.765645          </td></tr>\n",
       "\t<tr><td>2021-12-15 13:00:00</td><td>10.550232          </td></tr>\n",
       "\t<tr><td>2021-12-16 01:00:00</td><td> 8.152189          </td></tr>\n",
       "\t<tr><td>2021-12-16 13:00:00</td><td> 8.645845          </td></tr>\n",
       "\t<tr><td>2021-12-17 01:00:00</td><td> 4.300000          </td></tr>\n",
       "</tbody>\n",
       "</table>\n"
      ],
      "text/latex": [
       "\\begin{tabular}{r|ll}\n",
       " Group.1 & x\\\\\n",
       "\\hline\n",
       "\t 2021-12-10 01:00:00 &  3.925485          \\\\\n",
       "\t 2021-12-10 13:00:00 &  5.793362          \\\\\n",
       "\t 2021-12-11 01:00:00 &  4.062982          \\\\\n",
       "\t 2021-12-11 13:00:00 &  7.585701          \\\\\n",
       "\t 2021-12-12 01:00:00 &  8.369923          \\\\\n",
       "\t 2021-12-12 13:00:00 & 11.639940          \\\\\n",
       "\t 2021-12-13 01:00:00 &  9.023808          \\\\\n",
       "\t 2021-12-13 13:00:00 &  7.126068          \\\\\n",
       "\t 2021-12-14 01:00:00 &  5.714489          \\\\\n",
       "\t 2021-12-14 13:00:00 &  9.248595          \\\\\n",
       "\t 2021-12-15 01:00:00 &  9.765645          \\\\\n",
       "\t 2021-12-15 13:00:00 & 10.550232          \\\\\n",
       "\t 2021-12-16 01:00:00 &  8.152189          \\\\\n",
       "\t 2021-12-16 13:00:00 &  8.645845          \\\\\n",
       "\t 2021-12-17 01:00:00 &  4.300000          \\\\\n",
       "\\end{tabular}\n"
      ],
      "text/markdown": [
       "\n",
       "| Group.1 | x |\n",
       "|---|---|\n",
       "| 2021-12-10 01:00:00 |  3.925485           |\n",
       "| 2021-12-10 13:00:00 |  5.793362           |\n",
       "| 2021-12-11 01:00:00 |  4.062982           |\n",
       "| 2021-12-11 13:00:00 |  7.585701           |\n",
       "| 2021-12-12 01:00:00 |  8.369923           |\n",
       "| 2021-12-12 13:00:00 | 11.639940           |\n",
       "| 2021-12-13 01:00:00 |  9.023808           |\n",
       "| 2021-12-13 13:00:00 |  7.126068           |\n",
       "| 2021-12-14 01:00:00 |  5.714489           |\n",
       "| 2021-12-14 13:00:00 |  9.248595           |\n",
       "| 2021-12-15 01:00:00 |  9.765645           |\n",
       "| 2021-12-15 13:00:00 | 10.550232           |\n",
       "| 2021-12-16 01:00:00 |  8.152189           |\n",
       "| 2021-12-16 13:00:00 |  8.645845           |\n",
       "| 2021-12-17 01:00:00 |  4.300000           |\n",
       "\n"
      ],
      "text/plain": [
       "   Group.1             x        \n",
       "1  2021-12-10 01:00:00  3.925485\n",
       "2  2021-12-10 13:00:00  5.793362\n",
       "3  2021-12-11 01:00:00  4.062982\n",
       "4  2021-12-11 13:00:00  7.585701\n",
       "5  2021-12-12 01:00:00  8.369923\n",
       "6  2021-12-12 13:00:00 11.639940\n",
       "7  2021-12-13 01:00:00  9.023808\n",
       "8  2021-12-13 13:00:00  7.126068\n",
       "9  2021-12-14 01:00:00  5.714489\n",
       "10 2021-12-14 13:00:00  9.248595\n",
       "11 2021-12-15 01:00:00  9.765645\n",
       "12 2021-12-15 13:00:00 10.550232\n",
       "13 2021-12-16 01:00:00  8.152189\n",
       "14 2021-12-16 13:00:00  8.645845\n",
       "15 2021-12-17 01:00:00  4.300000"
      ]
     },
     "metadata": {},
     "output_type": "display_data"
    }
   ],
   "source": [
    "n.hourly.average(raw_data, 12)"
   ]
  },
  {
   "cell_type": "code",
   "execution_count": 152,
   "metadata": {},
   "outputs": [],
   "source": [
    "airtemp_30min <- n.hourly.average(raw_data, 0.5)\n",
    "airtemp_1h <- n.hourly.average(raw_data, 1)\n",
    "airtemp_3h <- n.hourly.average(raw_data, 3)\n",
    "airtemp_6h <- n.hourly.average(raw_data, 6)\n",
    "airtemp_12h <- n.hourly.average(raw_data, 12)\n",
    "airtemp_24h <- n.hourly.average(raw_data, 24)"
   ]
  },
  {
   "cell_type": "code",
   "execution_count": 161,
   "metadata": {},
   "outputs": [
    {
     "data": {
      "image/png": "[encoded data removed]",
      "text/plain": [
       "plot without title"
      ]
     },
     "metadata": {},
     "output_type": "display_data"
    }
   ],
   "source": [
    "options(repr.plot.width = 10, repr.plot.height = 5)\n",
    "par(las = 1,ps = 12)\n",
    "plot(raw_data[, 2]~as.POSIXct(raw_data[, 1]), type = \"l\", lwd = 3)\n",
    "lines(airtemp_1h[, 2]~airtemp_1h[, 1], type = \"l\", lwd = 3, col = 2)\n",
    "lines(airtemp_12h[, 2]~airtemp_12h[, 1], lwd = 5, col = 4)\n",
    "points(airtemp_24h[, 2]~airtemp_24h[, 1], lwd = 5, col = 5)"
   ]
  },
  {
   "cell_type": "code",
   "execution_count": null,
   "metadata": {},
   "outputs": [
    {
     "data": {
      "text/html": [
       "<table>\n",
       "<caption>A Time Series: 12 × 12</caption>\n",
       "<thead>\n",
       "\t<tr><th></th><th scope=col>Jan</th><th scope=col>Feb</th><th scope=col>Mar</th><th scope=col>Apr</th><th scope=col>May</th><th scope=col>Jun</th><th scope=col>Jul</th><th scope=col>Aug</th><th scope=col>Sep</th><th scope=col>Oct</th><th scope=col>Nov</th><th scope=col>Dec</th></tr>\n",
       "</thead>\n",
       "<tbody>\n",
       "\t<tr><th scope=row>1949</th><td>112</td><td>118</td><td>132</td><td>129</td><td>121</td><td>135</td><td>148</td><td>148</td><td>136</td><td>119</td><td>104</td><td>118</td></tr>\n",
       "\t<tr><th scope=row>1950</th><td>115</td><td>126</td><td>141</td><td>135</td><td>125</td><td>149</td><td>170</td><td>170</td><td>158</td><td>133</td><td>114</td><td>140</td></tr>\n",
       "\t<tr><th scope=row>1951</th><td>145</td><td>150</td><td>178</td><td>163</td><td>172</td><td>178</td><td>199</td><td>199</td><td>184</td><td>162</td><td>146</td><td>166</td></tr>\n",
       "\t<tr><th scope=row>1952</th><td>171</td><td>180</td><td>193</td><td>181</td><td>183</td><td>218</td><td>230</td><td>242</td><td>209</td><td>191</td><td>172</td><td>194</td></tr>\n",
       "\t<tr><th scope=row>1953</th><td>196</td><td>196</td><td>236</td><td>235</td><td>229</td><td>243</td><td>264</td><td>272</td><td>237</td><td>211</td><td>180</td><td>201</td></tr>\n",
       "\t<tr><th scope=row>1954</th><td>204</td><td>188</td><td>235</td><td>227</td><td>234</td><td>264</td><td>302</td><td>293</td><td>259</td><td>229</td><td>203</td><td>229</td></tr>\n",
       "\t<tr><th scope=row>1955</th><td>242</td><td>233</td><td>267</td><td>269</td><td>270</td><td>315</td><td>364</td><td>347</td><td>312</td><td>274</td><td>237</td><td>278</td></tr>\n",
       "\t<tr><th scope=row>1956</th><td>284</td><td>277</td><td>317</td><td>313</td><td>318</td><td>374</td><td>413</td><td>405</td><td>355</td><td>306</td><td>271</td><td>306</td></tr>\n",
       "\t<tr><th scope=row>1957</th><td>315</td><td>301</td><td>356</td><td>348</td><td>355</td><td>422</td><td>465</td><td>467</td><td>404</td><td>347</td><td>305</td><td>336</td></tr>\n",
       "\t<tr><th scope=row>1958</th><td>340</td><td>318</td><td>362</td><td>348</td><td>363</td><td>435</td><td>491</td><td>505</td><td>404</td><td>359</td><td>310</td><td>337</td></tr>\n",
       "\t<tr><th scope=row>1959</th><td>360</td><td>342</td><td>406</td><td>396</td><td>420</td><td>472</td><td>548</td><td>559</td><td>463</td><td>407</td><td>362</td><td>405</td></tr>\n",
       "\t<tr><th scope=row>1960</th><td>417</td><td>391</td><td>419</td><td>461</td><td>472</td><td>535</td><td>622</td><td>606</td><td>508</td><td>461</td><td>390</td><td>432</td></tr>\n",
       "</tbody>\n",
       "</table>\n"
      ],
      "text/latex": [
       "A Time Series: 12 × 12\n",
       "\\begin{tabular}{r|llllllllllll}\n",
       "  & Jan & Feb & Mar & Apr & May & Jun & Jul & Aug & Sep & Oct & Nov & Dec\\\\\n",
       "\\hline\n",
       "\t1949 & 112 & 118 & 132 & 129 & 121 & 135 & 148 & 148 & 136 & 119 & 104 & 118\\\\\n",
       "\t1950 & 115 & 126 & 141 & 135 & 125 & 149 & 170 & 170 & 158 & 133 & 114 & 140\\\\\n",
       "\t1951 & 145 & 150 & 178 & 163 & 172 & 178 & 199 & 199 & 184 & 162 & 146 & 166\\\\\n",
       "\t1952 & 171 & 180 & 193 & 181 & 183 & 218 & 230 & 242 & 209 & 191 & 172 & 194\\\\\n",
       "\t1953 & 196 & 196 & 236 & 235 & 229 & 243 & 264 & 272 & 237 & 211 & 180 & 201\\\\\n",
       "\t1954 & 204 & 188 & 235 & 227 & 234 & 264 & 302 & 293 & 259 & 229 & 203 & 229\\\\\n",
       "\t1955 & 242 & 233 & 267 & 269 & 270 & 315 & 364 & 347 & 312 & 274 & 237 & 278\\\\\n",
       "\t1956 & 284 & 277 & 317 & 313 & 318 & 374 & 413 & 405 & 355 & 306 & 271 & 306\\\\\n",
       "\t1957 & 315 & 301 & 356 & 348 & 355 & 422 & 465 & 467 & 404 & 347 & 305 & 336\\\\\n",
       "\t1958 & 340 & 318 & 362 & 348 & 363 & 435 & 491 & 505 & 404 & 359 & 310 & 337\\\\\n",
       "\t1959 & 360 & 342 & 406 & 396 & 420 & 472 & 548 & 559 & 463 & 407 & 362 & 405\\\\\n",
       "\t1960 & 417 & 391 & 419 & 461 & 472 & 535 & 622 & 606 & 508 & 461 & 390 & 432\\\\\n",
       "\\end{tabular}\n"
      ],
      "text/markdown": [
       "\n",
       "A Time Series: 12 × 12\n",
       "\n",
       "| <!--/--> | Jan | Feb | Mar | Apr | May | Jun | Jul | Aug | Sep | Oct | Nov | Dec |\n",
       "|---|---|---|---|---|---|---|---|---|---|---|---|---|\n",
       "| 1949 | 112 | 118 | 132 | 129 | 121 | 135 | 148 | 148 | 136 | 119 | 104 | 118 |\n",
       "| 1950 | 115 | 126 | 141 | 135 | 125 | 149 | 170 | 170 | 158 | 133 | 114 | 140 |\n",
       "| 1951 | 145 | 150 | 178 | 163 | 172 | 178 | 199 | 199 | 184 | 162 | 146 | 166 |\n",
       "| 1952 | 171 | 180 | 193 | 181 | 183 | 218 | 230 | 242 | 209 | 191 | 172 | 194 |\n",
       "| 1953 | 196 | 196 | 236 | 235 | 229 | 243 | 264 | 272 | 237 | 211 | 180 | 201 |\n",
       "| 1954 | 204 | 188 | 235 | 227 | 234 | 264 | 302 | 293 | 259 | 229 | 203 | 229 |\n",
       "| 1955 | 242 | 233 | 267 | 269 | 270 | 315 | 364 | 347 | 312 | 274 | 237 | 278 |\n",
       "| 1956 | 284 | 277 | 317 | 313 | 318 | 374 | 413 | 405 | 355 | 306 | 271 | 306 |\n",
       "| 1957 | 315 | 301 | 356 | 348 | 355 | 422 | 465 | 467 | 404 | 347 | 305 | 336 |\n",
       "| 1958 | 340 | 318 | 362 | 348 | 363 | 435 | 491 | 505 | 404 | 359 | 310 | 337 |\n",
       "| 1959 | 360 | 342 | 406 | 396 | 420 | 472 | 548 | 559 | 463 | 407 | 362 | 405 |\n",
       "| 1960 | 417 | 391 | 419 | 461 | 472 | 535 | 622 | 606 | 508 | 461 | 390 | 432 |\n",
       "\n"
      ],
      "text/plain": [
       "     Jan Feb Mar Apr May Jun Jul Aug Sep Oct Nov Dec\n",
       "1949 112 118 132 129 121 135 148 148 136 119 104 118\n",
       "1950 115 126 141 135 125 149 170 170 158 133 114 140\n",
       "1951 145 150 178 163 172 178 199 199 184 162 146 166\n",
       "1952 171 180 193 181 183 218 230 242 209 191 172 194\n",
       "1953 196 196 236 235 229 243 264 272 237 211 180 201\n",
       "1954 204 188 235 227 234 264 302 293 259 229 203 229\n",
       "1955 242 233 267 269 270 315 364 347 312 274 237 278\n",
       "1956 284 277 317 313 318 374 413 405 355 306 271 306\n",
       "1957 315 301 356 348 355 422 465 467 404 347 305 336\n",
       "1958 340 318 362 348 363 435 491 505 404 359 310 337\n",
       "1959 360 342 406 396 420 472 548 559 463 407 362 405\n",
       "1960 417 391 419 461 472 535 622 606 508 461 390 432"
      ]
     },
     "metadata": {},
     "output_type": "display_data"
    }
   ],
   "source": [
    "AirPassengers"
   ]
  },
  {
   "cell_type": "code",
   "execution_count": 45,
   "metadata": {},
   "outputs": [
    {
     "data": {
      "image/png": "[encoded data removed]",
      "text/plain": [
       "plot without title"
      ]
     },
     "metadata": {},
     "output_type": "display_data"
    }
   ],
   "source": [
    "options(repr.plot.width = 5, repr.plot.height = 5)\n",
    "par(las = 1, ps = 12)\n",
    "plot(AirPassengers)"
   ]
  },
  {
   "cell_type": "markdown",
   "metadata": {},
   "source": [
    "**Further links**"
   ]
  },
  {
   "cell_type": "markdown",
   "metadata": {},
   "source": [
    "- <a href=\"http://www.r-tutor.com/elementary-statistics\">Elementary statistics with R</a> by Chi Yau\n",
    "- <a href=\"https://magesblog.com/post/2011-12-01-fitting-distributions-with-r/\">Fitting distributions with R</a> by Markus Gesmann\n",
    "- <a href=\"https://geocompr.robinlovelace.net/\">Geocomputation with R</a> by Robin Lovelace, Jakub Nowosad, Jannes Muenchow\n",
    "- <a href=\"https://rspatial.org/raster/index.html\">Spatial Data Science with R</a> by Robert J. Hijmans\n",
    "- <a href=\"https://www.maths.lancs.ac.uk/~rowlings/Teaching/UseR2012/index.html\">Geospatial data in R and beyond</a> by Barry Rowlingson\n",
    "- <a href=\"https://www.r-bloggers.com/2014/09/in-depth-introduction-to-machine-learning-in-15-hours-of-expert-videos/\">In-depth introduction to machine learning</a> by Kevin Markham"
   ]
  }
 ],
 "metadata": {
  "kernelspec": {
   "display_name": "R",
   "language": "R",
   "name": "ir"
  },
  "language_info": {
   "codemirror_mode": "r",
   "file_extension": ".r",
   "mimetype": "text/x-r-source",
   "name": "R",
   "pygments_lexer": "r",
   "version": "3.6.1"
  }
 },
 "nbformat": 4,
 "nbformat_minor": 4
}
