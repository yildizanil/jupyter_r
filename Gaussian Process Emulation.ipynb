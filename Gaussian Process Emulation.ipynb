{
 "cells": [
  {
   "cell_type": "markdown",
   "metadata": {},
   "source": [
    "## Gaussian Process Emulation"
   ]
  },
  {
   "cell_type": "markdown",
   "metadata": {},
   "source": [
    "Gaussian process emulation has been in use since 1980s as a well-known non-parametric Bayesian method. It builds *cheap-to-run* emulators for *expensive-to-run* simulation models (referred to as simulators) so as to enable analyses requiring a large number of simulation runs.\n",
    "\n",
    "We will have a look at the [RobustGaSP](https://cran.r-project.org/web/packages/RobustGaSP/RobustGaSP.pdf) package maintained by [Mengyang Gu](mailto:mengyang@pstat.ucsb.edu) on how to perform predictions."
   ]
  },
  {
   "cell_type": "code",
   "execution_count": 69,
   "metadata": {},
   "outputs": [],
   "source": [
    "if (require(\"RobustGaSP\") != T) {\n",
    "    install.packages(\"RobustGaSP\")\n",
    "} else {\n",
    "    library(\"RobustGaSP\")\n",
    "}"
   ]
  },
  {
   "cell_type": "markdown",
   "metadata": {},
   "source": [
    "We wil use the borehole function, which models the water flow through a borehole, to generate output data, i.e. water flow rate in m<sup>3</sup>/year.\n",
    "\n",
    "$$\n",
    "f \\left ( x \\right ) = \\frac{2\\pi T_{u}\\left ( H_{u} - H_{l} \\right )}{\\ln{\\left (r/r_w  \\right )}\\left ( 1 + \\frac{2LT_u}{\\ln{\\left (r/r_w  \\right )r_{w}^{2}K_w}}+\\frac{T_u}{T_l} \\right )}\n",
    "$$\n",
    "\n",
    "We define the equation as a function named ```borehole_flowrate```"
   ]
  },
  {
   "cell_type": "code",
   "execution_count": 70,
   "metadata": {},
   "outputs": [],
   "source": [
    "borehole_flowrate <- function(r_w, r, t_u, h_u, t_l, h_l, l, k_w) {\n",
    "    nominator <- 2 * pi * t_u * (h_u - h_l)\n",
    "    ln_term <- log(r / r_w)\n",
    "    term1 <- (2 * l * t_u) / (ln_term * (r_w^2) * k_w)\n",
    "    term2 <- t_u / t_l\n",
    "    denominator <- ln_term * (1 + term1 + term2)\n",
    "    result <- nominator / denominator\n",
    "    return(result)\n",
    "}"
   ]
  },
  {
   "cell_type": "markdown",
   "metadata": {},
   "source": [
    "Input variables and ranges are taken from the [Virtual Library of Simulation Experiments](https://www.sfu.ca/~ssurjano/index.html).\n",
    "\n",
    "| Parameter | Symbol | Unit | Range |\n",
    "|----|----|----|----|\n",
    "| Radius of borehole | r<sub>w</sub> | m | 0.05 - 0.15 |\n",
    "| Radius of influence | r | m | 100 - 50000 |\n",
    "| Transmissivity of upper aquifer | T<sub>u</sub> | m<sup>2</sup>/year | 63070 - 115600 |\n",
    "| Potentiometric head of upper aquifer | H<sub>u</sub> | m | 990 - 1110 |\n",
    "| Transmissivity of lower aquifer | T<sub>l</sub> | m<sup>2</sup>/year | 63.1 - 116 |\n",
    "| Potentiometric head of lower aquifer | H<sub>l</sub> | m | 700 - 820 |\n",
    "| Length of borehole | L | m | 1120 - 1680 |\n",
    "| Hydraulic conductivity of borehole | K<sub>w</sub> | m<sup></sup>/year | 9855 - 12045 |\n",
    "\n",
    "For the sake of simplicity, we assume that all parameters are uniformly distributed within their own ranges."
   ]
  },
  {
   "cell_type": "code",
   "execution_count": 71,
   "metadata": {
    "scrolled": false
   },
   "outputs": [
    {
     "data": {
      "text/html": [
       "<table>\n",
       "<thead><tr><th scope=col>radius_borehole</th><th scope=col>radius_influence</th><th scope=col>trans_upper</th><th scope=col>pot_upper</th><th scope=col>trans_lower</th><th scope=col>pot_lower</th><th scope=col>length_borehole</th><th scope=col>cond_borehole</th></tr></thead>\n",
       "<tbody>\n",
       "\t<tr><td>0.05730065</td><td>30692.09  </td><td> 86665.54 </td><td>1030.243  </td><td>93.04129  </td><td>742.9214  </td><td>1202.862  </td><td>11522.26  </td></tr>\n",
       "\t<tr><td>0.05982286</td><td>30243.08  </td><td> 90700.64 </td><td>1005.567  </td><td>71.34334  </td><td>704.6135  </td><td>1460.921  </td><td>11975.19  </td></tr>\n",
       "\t<tr><td>0.10904169</td><td>22774.27  </td><td>105790.61 </td><td>1084.775  </td><td>63.11312  </td><td>778.1944  </td><td>1184.830  </td><td>10683.12  </td></tr>\n",
       "\t<tr><td>0.12259225</td><td>38570.35  </td><td> 89636.09 </td><td>1032.354  </td><td>73.35173  </td><td>779.5573  </td><td>1314.999  </td><td>10107.98  </td></tr>\n",
       "\t<tr><td>0.09892334</td><td>14140.92  </td><td> 88795.93 </td><td>1004.661  </td><td>88.97351  </td><td>808.4966  </td><td>1649.408  </td><td>10164.48  </td></tr>\n",
       "\t<tr><td>0.09388682</td><td>23783.56  </td><td>101881.61 </td><td>1072.717  </td><td>86.33371  </td><td>773.8186  </td><td>1169.384  </td><td>10859.68  </td></tr>\n",
       "</tbody>\n",
       "</table>\n"
      ],
      "text/latex": [
       "\\begin{tabular}{llllllll}\n",
       " radius\\_borehole & radius\\_influence & trans\\_upper & pot\\_upper & trans\\_lower & pot\\_lower & length\\_borehole & cond\\_borehole\\\\\n",
       "\\hline\n",
       "\t 0.05730065 & 30692.09   &  86665.54  & 1030.243   & 93.04129   & 742.9214   & 1202.862   & 11522.26  \\\\\n",
       "\t 0.05982286 & 30243.08   &  90700.64  & 1005.567   & 71.34334   & 704.6135   & 1460.921   & 11975.19  \\\\\n",
       "\t 0.10904169 & 22774.27   & 105790.61  & 1084.775   & 63.11312   & 778.1944   & 1184.830   & 10683.12  \\\\\n",
       "\t 0.12259225 & 38570.35   &  89636.09  & 1032.354   & 73.35173   & 779.5573   & 1314.999   & 10107.98  \\\\\n",
       "\t 0.09892334 & 14140.92   &  88795.93  & 1004.661   & 88.97351   & 808.4966   & 1649.408   & 10164.48  \\\\\n",
       "\t 0.09388682 & 23783.56   & 101881.61  & 1072.717   & 86.33371   & 773.8186   & 1169.384   & 10859.68  \\\\\n",
       "\\end{tabular}\n"
      ],
      "text/markdown": [
       "\n",
       "| radius_borehole | radius_influence | trans_upper | pot_upper | trans_lower | pot_lower | length_borehole | cond_borehole |\n",
       "|---|---|---|---|---|---|---|---|\n",
       "| 0.05730065 | 30692.09   |  86665.54  | 1030.243   | 93.04129   | 742.9214   | 1202.862   | 11522.26   |\n",
       "| 0.05982286 | 30243.08   |  90700.64  | 1005.567   | 71.34334   | 704.6135   | 1460.921   | 11975.19   |\n",
       "| 0.10904169 | 22774.27   | 105790.61  | 1084.775   | 63.11312   | 778.1944   | 1184.830   | 10683.12   |\n",
       "| 0.12259225 | 38570.35   |  89636.09  | 1032.354   | 73.35173   | 779.5573   | 1314.999   | 10107.98   |\n",
       "| 0.09892334 | 14140.92   |  88795.93  | 1004.661   | 88.97351   | 808.4966   | 1649.408   | 10164.48   |\n",
       "| 0.09388682 | 23783.56   | 101881.61  | 1072.717   | 86.33371   | 773.8186   | 1169.384   | 10859.68   |\n",
       "\n"
      ],
      "text/plain": [
       "     radius_borehole radius_influence trans_upper pot_upper trans_lower\n",
       "[1,] 0.05730065      30692.09          86665.54   1030.243  93.04129   \n",
       "[2,] 0.05982286      30243.08          90700.64   1005.567  71.34334   \n",
       "[3,] 0.10904169      22774.27         105790.61   1084.775  63.11312   \n",
       "[4,] 0.12259225      38570.35          89636.09   1032.354  73.35173   \n",
       "[5,] 0.09892334      14140.92          88795.93   1004.661  88.97351   \n",
       "[6,] 0.09388682      23783.56         101881.61   1072.717  86.33371   \n",
       "     pot_lower length_borehole cond_borehole\n",
       "[1,] 742.9214  1202.862        11522.26     \n",
       "[2,] 704.6135  1460.921        11975.19     \n",
       "[3,] 778.1944  1184.830        10683.12     \n",
       "[4,] 779.5573  1314.999        10107.98     \n",
       "[5,] 808.4966  1649.408        10164.48     \n",
       "[6,] 773.8186  1169.384        10859.68     "
      ]
     },
     "metadata": {},
     "output_type": "display_data"
    }
   ],
   "source": [
    "borehole_input <- function(number_of_runs) {\n",
    "    radius_borehole <- runif(n = number_of_runs, min = 0.05, max = 0.15)\n",
    "    radius_influence <- runif(n = number_of_runs, min = 100, max = 50000)\n",
    "    trans_upper <- runif(n = number_of_runs, min = 63070, max = 115600)\n",
    "    pot_upper <- runif(n = number_of_runs, min = 990, max = 1110)\n",
    "    trans_lower <- runif(n = number_of_runs, min = 63.1, max = 116)\n",
    "    pot_lower <- runif(n = number_of_runs, min = 700, max = 820)\n",
    "    length_borehole <- runif(n = number_of_runs, min = 1120, max = 1680)\n",
    "    cond_borehole <- runif(n = number_of_runs, min = 9855, max = 12045)\n",
    "    data <- cbind(radius_borehole, radius_influence, trans_upper,\n",
    "              pot_upper, trans_lower, pot_lower,\n",
    "              length_borehole, cond_borehole)\n",
    "    return(data)\n",
    "}\n",
    "input <- borehole_input(50)\n",
    "head(input)"
   ]
  },
  {
   "cell_type": "markdown",
   "metadata": {},
   "source": [
    "We now create the output vector with the randomly generated 50 parameter configurations."
   ]
  },
  {
   "cell_type": "code",
   "execution_count": 72,
   "metadata": {},
   "outputs": [
    {
     "data": {
      "text/plain": [
       "   Min. 1st Qu.  Median    Mean 3rd Qu.    Max. \n",
       "  10.67   40.35   67.36   72.34   95.09  188.60 "
      ]
     },
     "metadata": {},
     "output_type": "display_data"
    }
   ],
   "source": [
    "output <- borehole_flowrate(r_w = input[, 1], r = input[, 2], t_u = input[, 3], h_u = input[, 4],\n",
    "                  t_l = input[, 5], h_l = input[, 6],\n",
    "                  l = input[, 7], k_w = input[, 8])\n",
    "summary(output)"
   ]
  },
  {
   "cell_type": "markdown",
   "metadata": {},
   "source": [
    "We can build a model with the input parametes as ```design``` and output as ```response```. We use the ```rgasp``` function for this."
   ]
  },
  {
   "cell_type": "code",
   "execution_count": 80,
   "metadata": {
    "scrolled": true
   },
   "outputs": [
    {
     "name": "stdout",
     "output_type": "stream",
     "text": [
      "The upper bounds of the range parameters are Inf Inf Inf Inf Inf Inf Inf Inf \n",
      "The initial values of range parameters are 0.0009800987 0.01999987 0.01999988 0.019951 0.01989054 0.01995001 0.01998869 0.01999729 \n",
      "Start of the optimization  1  : \n",
      "The number of iterations is  28 \n",
      " The value of the  marginal posterior  function is  -355.7989 \n",
      " Optimized range parameters are 2.507378e+127 Inf Inf Inf Inf Inf Inf Inf \n",
      " Optimized nugget parameter is 0 \n",
      " Convergence:  FALSE \n",
      "The initial values of range parameters are 0.574243 272413.1 285875.4 706.0604 315.5762 691.9524 3061.147 12788.42 \n",
      "Start of the optimization  2  : \n",
      "The number of iterations is  50 \n",
      " The value of the  marginal posterior  function is  -140.7124 \n",
      " Optimized range parameters are 0.2476948 2.121347e+14 8.908589e+13 1076.889 34201620445 1120.5 2702.82 22788.22 \n",
      " Optimized nugget parameter is 0 \n",
      " Convergence:  TRUE \n"
     ]
    }
   ],
   "source": [
    "model <- rgasp(design = input, response = output, lower_bound=FALSE)"
   ]
  },
  {
   "cell_type": "markdown",
   "metadata": {},
   "source": [
    "We can perform a prediction with the ```leave_one_out_rgasp``` function:"
   ]
  },
  {
   "cell_type": "code",
   "execution_count": 81,
   "metadata": {},
   "outputs": [
    {
     "data": {
      "image/png": "[encoded data removed]",
      "text/plain": [
       "plot without title"
      ]
     },
     "metadata": {},
     "output_type": "display_data"
    }
   ],
   "source": [
    "predicted <- leave_one_out_rgasp(model)\n",
    "options(repr.plot.width=6, repr.plot.height=6)\n",
    "par(pty = \"s\")\n",
    "plot(predicted$mean~output, pch = 16, col = 4,\n",
    "     xlab = \"Calculated flow rate [m^3/year]\", ylab = \"Predicted flow rate [m^3/year]\")\n",
    "abline(0, 1)"
   ]
  },
  {
   "cell_type": "markdown",
   "metadata": {},
   "source": [
    "You can watch an example of how to use Gaussian Process Emulation in emulating the output of landslide run-out simulations."
   ]
  },
  {
   "cell_type": "markdown",
   "metadata": {},
   "source": [
    "<div align=\"center\">\n",
    "  <a href=\"https://www.youtube.com/watch?v=BLdE9f5XOVM\"><img src=\"https://img.youtube.com/vi/BLdE9f5XOVM/0.jpg\" alt=\"IMAGE ALT TEXT\"></a>\n",
    "</div>"
   ]
  }
 ],
 "metadata": {
  "interpreter": {
   "hash": "80075ba2c5a16f292b1e32f3bef2800cd4060376ce6505b255826a9aa090387d"
  },
  "kernelspec": {
   "display_name": "R",
   "language": "R",
   "name": "ir"
  },
  "language_info": {
   "codemirror_mode": "r",
   "file_extension": ".r",
   "mimetype": "text/x-r-source",
   "name": "R",
   "pygments_lexer": "r",
   "version": "3.6.1"
  }
 },
 "nbformat": 4,
 "nbformat_minor": 2
}
